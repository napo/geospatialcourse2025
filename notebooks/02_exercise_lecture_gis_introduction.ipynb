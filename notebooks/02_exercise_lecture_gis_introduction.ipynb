{
  "cells": [
    {
      "cell_type": "markdown",
      "metadata": {
        "id": "T6-YLqx4OCrj"
      },
      "source": [
        "# Setup"
      ]
    },
    {
      "cell_type": "code",
      "execution_count": 66,
      "metadata": {
        "colab": {
          "base_uri": "https://localhost:8080/"
        },
        "id": "hlP03EfNHGeb",
        "outputId": "8ff72bcf-d602-4f01-9512-7bc48bd5d343"
      },
      "outputs": [
        {
          "output_type": "stream",
          "name": "stdout",
          "text": [
            "Requirement already satisfied: geopandas==1.1.0 in /usr/local/lib/python3.12/dist-packages (from -r https://napo.github.io/geospatialcourse2025/requirements.txt (line 1)) (1.1.0)\n",
            "Requirement already satisfied: mapclassify==2.9.0 in /usr/local/lib/python3.12/dist-packages (from -r https://napo.github.io/geospatialcourse2025/requirements.txt (line 2)) (2.9.0)\n",
            "Requirement already satisfied: matplotlib==3.10.1 in /usr/local/lib/python3.12/dist-packages (from -r https://napo.github.io/geospatialcourse2025/requirements.txt (line 3)) (3.10.1)\n",
            "Requirement already satisfied: requests==2.32.3 in /usr/local/lib/python3.12/dist-packages (from -r https://napo.github.io/geospatialcourse2025/requirements.txt (line 4)) (2.32.3)\n",
            "Requirement already satisfied: numpy>=1.24 in /usr/local/lib/python3.12/dist-packages (from geopandas==1.1.0->-r https://napo.github.io/geospatialcourse2025/requirements.txt (line 1)) (2.0.2)\n",
            "Requirement already satisfied: pyogrio>=0.7.2 in /usr/local/lib/python3.12/dist-packages (from geopandas==1.1.0->-r https://napo.github.io/geospatialcourse2025/requirements.txt (line 1)) (0.11.1)\n",
            "Requirement already satisfied: packaging in /usr/local/lib/python3.12/dist-packages (from geopandas==1.1.0->-r https://napo.github.io/geospatialcourse2025/requirements.txt (line 1)) (25.0)\n",
            "Requirement already satisfied: pandas>=2.0.0 in /usr/local/lib/python3.12/dist-packages (from geopandas==1.1.0->-r https://napo.github.io/geospatialcourse2025/requirements.txt (line 1)) (2.2.2)\n",
            "Requirement already satisfied: pyproj>=3.5.0 in /usr/local/lib/python3.12/dist-packages (from geopandas==1.1.0->-r https://napo.github.io/geospatialcourse2025/requirements.txt (line 1)) (3.7.2)\n",
            "Requirement already satisfied: shapely>=2.0.0 in /usr/local/lib/python3.12/dist-packages (from geopandas==1.1.0->-r https://napo.github.io/geospatialcourse2025/requirements.txt (line 1)) (2.1.2)\n",
            "Requirement already satisfied: networkx>=3.2 in /usr/local/lib/python3.12/dist-packages (from mapclassify==2.9.0->-r https://napo.github.io/geospatialcourse2025/requirements.txt (line 2)) (3.5)\n",
            "Requirement already satisfied: scikit-learn>=1.4 in /usr/local/lib/python3.12/dist-packages (from mapclassify==2.9.0->-r https://napo.github.io/geospatialcourse2025/requirements.txt (line 2)) (1.6.1)\n",
            "Requirement already satisfied: scipy>=1.12 in /usr/local/lib/python3.12/dist-packages (from mapclassify==2.9.0->-r https://napo.github.io/geospatialcourse2025/requirements.txt (line 2)) (1.16.3)\n",
            "Requirement already satisfied: contourpy>=1.0.1 in /usr/local/lib/python3.12/dist-packages (from matplotlib==3.10.1->-r https://napo.github.io/geospatialcourse2025/requirements.txt (line 3)) (1.3.3)\n",
            "Requirement already satisfied: cycler>=0.10 in /usr/local/lib/python3.12/dist-packages (from matplotlib==3.10.1->-r https://napo.github.io/geospatialcourse2025/requirements.txt (line 3)) (0.12.1)\n",
            "Requirement already satisfied: fonttools>=4.22.0 in /usr/local/lib/python3.12/dist-packages (from matplotlib==3.10.1->-r https://napo.github.io/geospatialcourse2025/requirements.txt (line 3)) (4.60.1)\n",
            "Requirement already satisfied: kiwisolver>=1.3.1 in /usr/local/lib/python3.12/dist-packages (from matplotlib==3.10.1->-r https://napo.github.io/geospatialcourse2025/requirements.txt (line 3)) (1.4.9)\n",
            "Requirement already satisfied: pillow>=8 in /usr/local/lib/python3.12/dist-packages (from matplotlib==3.10.1->-r https://napo.github.io/geospatialcourse2025/requirements.txt (line 3)) (11.3.0)\n",
            "Requirement already satisfied: pyparsing>=2.3.1 in /usr/local/lib/python3.12/dist-packages (from matplotlib==3.10.1->-r https://napo.github.io/geospatialcourse2025/requirements.txt (line 3)) (3.2.5)\n",
            "Requirement already satisfied: python-dateutil>=2.7 in /usr/local/lib/python3.12/dist-packages (from matplotlib==3.10.1->-r https://napo.github.io/geospatialcourse2025/requirements.txt (line 3)) (2.9.0.post0)\n",
            "Requirement already satisfied: charset-normalizer<4,>=2 in /usr/local/lib/python3.12/dist-packages (from requests==2.32.3->-r https://napo.github.io/geospatialcourse2025/requirements.txt (line 4)) (3.4.4)\n",
            "Requirement already satisfied: idna<4,>=2.5 in /usr/local/lib/python3.12/dist-packages (from requests==2.32.3->-r https://napo.github.io/geospatialcourse2025/requirements.txt (line 4)) (3.11)\n",
            "Requirement already satisfied: urllib3<3,>=1.21.1 in /usr/local/lib/python3.12/dist-packages (from requests==2.32.3->-r https://napo.github.io/geospatialcourse2025/requirements.txt (line 4)) (2.5.0)\n",
            "Requirement already satisfied: certifi>=2017.4.17 in /usr/local/lib/python3.12/dist-packages (from requests==2.32.3->-r https://napo.github.io/geospatialcourse2025/requirements.txt (line 4)) (2025.10.5)\n",
            "Requirement already satisfied: pytz>=2020.1 in /usr/local/lib/python3.12/dist-packages (from pandas>=2.0.0->geopandas==1.1.0->-r https://napo.github.io/geospatialcourse2025/requirements.txt (line 1)) (2025.2)\n",
            "Requirement already satisfied: tzdata>=2022.7 in /usr/local/lib/python3.12/dist-packages (from pandas>=2.0.0->geopandas==1.1.0->-r https://napo.github.io/geospatialcourse2025/requirements.txt (line 1)) (2025.2)\n",
            "Requirement already satisfied: six>=1.5 in /usr/local/lib/python3.12/dist-packages (from python-dateutil>=2.7->matplotlib==3.10.1->-r https://napo.github.io/geospatialcourse2025/requirements.txt (line 3)) (1.17.0)\n",
            "Requirement already satisfied: joblib>=1.2.0 in /usr/local/lib/python3.12/dist-packages (from scikit-learn>=1.4->mapclassify==2.9.0->-r https://napo.github.io/geospatialcourse2025/requirements.txt (line 2)) (1.5.2)\n",
            "Requirement already satisfied: threadpoolctl>=3.1.0 in /usr/local/lib/python3.12/dist-packages (from scikit-learn>=1.4->mapclassify==2.9.0->-r https://napo.github.io/geospatialcourse2025/requirements.txt (line 2)) (3.6.0)\n"
          ]
        }
      ],
      "source": [
        "pip install -r https://napo.github.io/geospatialcourse2025/requirements.txt --break-system-packages"
      ]
    },
    {
      "cell_type": "markdown",
      "metadata": {
        "id": "9T1Sft2nHpK8"
      },
      "source": [
        "# Exercise\n",
        "1. load the shapefile of ISTAT with the information of the provinces\n",
        "    - filter it for an italian provice at your choice (eg. Trento)\n",
        "    - plot it\n",
        "2. load the shapefile of ISTAT with the informations of the muncipalities\n",
        "    - identify the cities of the province selected with the biggest and smallest area\n",
        "    - extract all the centroids of the areas expressed in WGS84\n",
        "    - select all the muncipalities of the Province of Trento\n",
        "    - extract a representative point for the area of each municipality converted in WGS84\n",
        "    - suggestion: .representative_point()\n",
        "    - save the points in a GeoJSON file\n",
        "    - calculate the distance on the geodentic between the municipality with the big area and smallest area by using the centroid\n",
        "3.  download the shapefile of the [lakes and bodies of water of Trentino](https://github.com/napo/geospatialcourse2025/raw/refs/heads/main/data/lakes_bodies_of_water_trentino.zip) - projection Monte Mario zone 1\n",
        "    - convert in WGS84 and create a geojson\n",
        "\n",
        "\n",
        "---"
      ]
    },
    {
      "cell_type": "markdown",
      "metadata": {
        "id": "r2J9dbENPJND"
      },
      "source": [
        "# Solutions\n",
        "\n",
        "## learning objectives\n",
        "* repeat the concepts on the previous lesson\n",
        "* introduce geopackage\n",
        "* centroid vs representative point"
      ]
    },
    {
      "cell_type": "markdown",
      "metadata": {
        "id": "3fk_8ro1RUbo"
      },
      "source": [
        "---\n",
        "\n",
        "### Import of the packages"
      ]
    },
    {
      "cell_type": "code",
      "execution_count": 67,
      "metadata": {
        "id": "bFmuagH7H4lZ"
      },
      "outputs": [],
      "source": [
        "import geopandas as gpd\n",
        "import pandas as pd\n",
        "import os\n",
        "import urllib\n",
        "from matplotlib import pyplot as plt  #to avoid the warning message by plotting the geometries\n",
        "import warnings\n",
        "warnings.simplefilter(\"ignore\")"
      ]
    },
    {
      "cell_type": "markdown",
      "metadata": {
        "id": "kP_05UmNVWWj"
      },
      "source": [
        "## 1. load the shapefile of ISTAT with the information of the provinces\n",
        "\n",
        "### This request is replaced with the use of geopackage\n",
        "\n",
        "In the course material a geopackage file is available with all the shapefiles of the administrative limits of ISTAT (2025) with generalized geometries\n",
        "\n",
        "[download](https://github.com/napo/geospatialcourse2025/raw/refs/heads/main/data/istat_administrative_units_generalized_2025.gpkg) the file *istat_administrative_units_generalized_2025.gpkg* from the repository from\n",
        "directory \"data\""
      ]
    },
    {
      "cell_type": "code",
      "execution_count": 68,
      "metadata": {
        "id": "RWje98iX3dTo"
      },
      "outputs": [],
      "source": [
        "url = 'https://github.com/napo/geospatialcourse2025/raw/refs/heads/main/data/istat_administrative_units_generalized_2025.gpkg'"
      ]
    },
    {
      "cell_type": "code",
      "execution_count": 69,
      "metadata": {
        "colab": {
          "base_uri": "https://localhost:8080/"
        },
        "id": "cdHsCvOThs8P",
        "outputId": "b725e92d-4f41-4006-aa42-d860b2f28562"
      },
      "outputs": [
        {
          "output_type": "execute_result",
          "data": {
            "text/plain": [
              "('istat_administrative_units_generalized_2025.gpkg',\n",
              " <http.client.HTTPMessage at 0x7de32a5735f0>)"
            ]
          },
          "metadata": {},
          "execution_count": 69
        }
      ],
      "source": [
        "urllib.request.urlretrieve(url ,\"istat_administrative_units_generalized_2025.gpkg\")"
      ]
    },
    {
      "cell_type": "markdown",
      "metadata": {
        "id": "gNWFco5RSlpo"
      },
      "source": [
        "### Geopackage\n",
        "![](https://www.ogc.org/pub/www/files/blog/Geopackage_layers.png)\n",
        "\n",
        "[GeoPackage](http://opengeospatial.github.io/e-learning/geopackage/text/basic-index.html) is used for storing and accessing:\n",
        "* Vector feature data\n",
        "* Imagery tile matrix sets\n",
        "* Raster map tile matrix sets\n",
        "* non-spatial tabular data\n",
        "* Metadata that describes other stored data\n",
        "\n",
        "\n",
        "![](https://napo.github.io/geospatial_unitn_2025/images/gpkg.png)\n",
        "\n",
        "To have a look at the structure of the files, download the files and open them using the basic SQLite3 command-line utility.\n",
        "\n",
        "```\n",
        "sqlite3 istat_administrative_units_generalized_2025.gpkg\n",
        "```\n",
        "```\n",
        "SQLite version 3.46.1 2024-08-13 09:16:08\n",
        "Enter \".help\" for usage hints.\n",
        "sqlite>.table\n",
        "```\n",
        "```\n",
        "gpkg_contents                     rtree_macroregions_geom_parent  \n",
        "gpkg_extensions                   rtree_macroregions_geom_rowid   \n",
        "gpkg_geometry_columns             rtree_municipalities_geom       \n",
        "gpkg_metadata                     rtree_municipalities_geom_node  \n",
        "gpkg_metadata_reference           rtree_municipalities_geom_parent\n",
        "gpkg_ogr_contents                 rtree_municipalities_geom_rowid\n",
        "gpkg_spatial_ref_sys              rtree_provincies_geom           \n",
        "gpkg_tile_matrix                  rtree_provincies_geom_node      \n",
        "gpkg_tile_matrix_set              rtree_provincies_geom_parent    \n",
        "macroregions                      rtree_provincies_geom_rowid     \n",
        "municipalities                    rtree_regions_geom              \n",
        "provincies                        rtree_regions_geom_node         \n",
        "regions                           rtree_regions_geom_parent       \n",
        "rtree_macroregions_geom           rtree_regions_geom_rowid        \n",
        "rtree_macroregions_geom_node     \n",
        "```\n",
        "```\n",
        "sqlite> .header on\n",
        "```\n",
        "\n",
        "\n",
        "```\n",
        "sqlite> select * from macroregions;\n",
        "```\n",
        "```\n",
        "fid|geom|COD_RIP|DEN_RIP\n",
        "1|GP|1|Nord-ovest\n",
        "2|GP|2|Nord-est\n",
        "3|GP|3|Centro\n",
        "4|GP|4|Sud\n",
        "5|GP|5|Isole\n",
        "```\n",
        "```\n",
        "sqlite> .q\n",
        "```"
      ]
    },
    {
      "cell_type": "markdown",
      "metadata": {
        "id": "gTbuN8zPT7KU"
      },
      "source": [
        "Geopandas can manage geopackage by using [pyogrio](https://pyogrio.readthedocs.io/en/latest/)"
      ]
    },
    {
      "cell_type": "code",
      "execution_count": 70,
      "metadata": {
        "id": "Cf37VTckXGso"
      },
      "outputs": [],
      "source": [
        "from pyogrio import list_drivers\n"
      ]
    },
    {
      "cell_type": "code",
      "execution_count": 71,
      "metadata": {
        "colab": {
          "base_uri": "https://localhost:8080/"
        },
        "id": "igu8jGNSURc8",
        "outputId": "3b4a7903-a253-4357-ec16-78788fba44e6"
      },
      "outputs": [
        {
          "output_type": "execute_result",
          "data": {
            "text/plain": [
              "{'PCIDSK': 'rw',\n",
              " 'PDS4': 'rw',\n",
              " 'VICAR': 'rw',\n",
              " 'PDF': 'rw',\n",
              " 'MBTiles': 'rw',\n",
              " 'EEDA': 'r',\n",
              " 'OGCAPI': 'r',\n",
              " 'ESRI Shapefile': 'rw',\n",
              " 'MapInfo File': 'rw',\n",
              " 'UK .NTF': 'r',\n",
              " 'LVBAG': 'r',\n",
              " 'OGR_SDTS': 'r',\n",
              " 'S57': 'rw',\n",
              " 'DGN': 'rw',\n",
              " 'OGR_VRT': 'r',\n",
              " 'Memory': 'rw',\n",
              " 'CSV': 'rw',\n",
              " 'GML': 'rw',\n",
              " 'GPX': 'rw',\n",
              " 'KML': 'rw',\n",
              " 'GeoJSON': 'rw',\n",
              " 'GeoJSONSeq': 'rw',\n",
              " 'ESRIJSON': 'r',\n",
              " 'TopoJSON': 'r',\n",
              " 'OGR_GMT': 'rw',\n",
              " 'GPKG': 'rw',\n",
              " 'SQLite': 'rw',\n",
              " 'WAsP': 'rw',\n",
              " 'OpenFileGDB': 'rw',\n",
              " 'DXF': 'rw',\n",
              " 'FlatGeobuf': 'rw',\n",
              " 'Geoconcept': 'rw',\n",
              " 'GeoRSS': 'rw',\n",
              " 'VFK': 'r',\n",
              " 'PGDUMP': 'rw',\n",
              " 'OSM': 'r',\n",
              " 'GPSBabel': 'rw',\n",
              " 'OGR_PDS': 'r',\n",
              " 'WFS': 'r',\n",
              " 'OAPIF': 'r',\n",
              " 'EDIGEO': 'r',\n",
              " 'SVG': 'r',\n",
              " 'Idrisi': 'r',\n",
              " 'ODS': 'rw',\n",
              " 'XLSX': 'rw',\n",
              " 'Elasticsearch': 'rw',\n",
              " 'Carto': 'rw',\n",
              " 'AmigoCloud': 'rw',\n",
              " 'SXF': 'r',\n",
              " 'Selafin': 'rw',\n",
              " 'JML': 'rw',\n",
              " 'PLSCENES': 'r',\n",
              " 'CSW': 'r',\n",
              " 'VDV': 'rw',\n",
              " 'MVT': 'rw',\n",
              " 'NGW': 'rw',\n",
              " 'MapML': 'rw',\n",
              " 'GTFS': 'r',\n",
              " 'PMTiles': 'rw',\n",
              " 'JSONFG': 'rw',\n",
              " 'MiraMonVector': 'rw',\n",
              " 'TIGER': 'r',\n",
              " 'AVCBin': 'r',\n",
              " 'AVCE00': 'r',\n",
              " 'HTTP': 'r'}"
            ]
          },
          "metadata": {},
          "execution_count": 71
        }
      ],
      "source": [
        "list_drivers()\n"
      ]
    },
    {
      "cell_type": "markdown",
      "metadata": {
        "id": "zmEbOUq1UXVS"
      },
      "source": [
        "```\n",
        "'GPKG': 'rw',\n",
        "```\n",
        "**rw** => **r**ead **w**rite\n",
        "\n",
        "geopandas can:\n",
        "* **r**ead *geopackage* files\n",
        "* **w**rite data to a *geopackage* file"
      ]
    },
    {
      "cell_type": "markdown",
      "metadata": {
        "id": "NYsMWOMmVM03"
      },
      "source": [
        "geopackage can store more layers, so we have to investigate the contents"
      ]
    },
    {
      "cell_type": "code",
      "execution_count": 72,
      "metadata": {
        "id": "HQ7pIKajtL3D"
      },
      "outputs": [],
      "source": [
        "from pyogrio import list_layers\n"
      ]
    },
    {
      "cell_type": "code",
      "execution_count": 73,
      "metadata": {
        "colab": {
          "base_uri": "https://localhost:8080/"
        },
        "id": "wpSZ5tBIXB47",
        "outputId": "92255e8f-6e19-4897-8ce9-b47deefb94fb"
      },
      "outputs": [
        {
          "output_type": "execute_result",
          "data": {
            "text/plain": [
              "array([['municipalities', 'MultiPolygon'],\n",
              "       ['provinces', 'MultiPolygon'],\n",
              "       ['regions', 'MultiPolygon'],\n",
              "       ['macroregions', 'MultiPolygon']], dtype=object)"
            ]
          },
          "metadata": {},
          "execution_count": 73
        }
      ],
      "source": [
        "list_layers('istat_administrative_units_generalized_2025.gpkg')"
      ]
    },
    {
      "cell_type": "code",
      "execution_count": 74,
      "metadata": {
        "id": "a3qnyANlWbyD"
      },
      "outputs": [],
      "source": [
        "provinces = gpd.read_file(\"istat_administrative_units_generalized_2025.gpkg\",layer=\"provinces\")"
      ]
    },
    {
      "cell_type": "markdown",
      "metadata": {
        "id": "oAK_mXvi_4oP"
      },
      "source": [
        "*TIP*: you can also download the file directly from geopandas with this function"
      ]
    },
    {
      "cell_type": "code",
      "execution_count": 75,
      "metadata": {
        "id": "lobH1r9w_tk0"
      },
      "outputs": [],
      "source": [
        "provinces = gpd.read_file(url,layer=\"provinces\")"
      ]
    },
    {
      "cell_type": "code",
      "execution_count": 76,
      "metadata": {
        "colab": {
          "base_uri": "https://localhost:8080/",
          "height": 300
        },
        "id": "gcHUE-7VWqaY",
        "outputId": "964a85bf-958b-4bae-9de2-da6ccaabe582"
      },
      "outputs": [
        {
          "output_type": "execute_result",
          "data": {
            "text/plain": [
              "   COD_RIP  COD_REG  COD_PROV  COD_CM  COD_UTS  DEN_PROV  DEN_CM   DEN_UTS  \\\n",
              "0        1        1         1     201      201         -  Torino    Torino   \n",
              "1        1        1         2       0        2  Vercelli       -  Vercelli   \n",
              "2        1        1         3       0        3    Novara       -    Novara   \n",
              "\n",
              "  SIGLA             TIPO_UTS  \\\n",
              "0    TO  Città metropolitana   \n",
              "1    VC            Provincia   \n",
              "2    NO            Provincia   \n",
              "\n",
              "                                            geometry  \n",
              "0  MULTIPOLYGON (((411579.252 5050002.233, 411904...  \n",
              "1  MULTIPOLYGON (((437947.102 5088766.026, 438463...  \n",
              "2  MULTIPOLYGON (((459113.048 5079262.983, 459111...  "
            ],
            "text/html": [
              "\n",
              "  <div id=\"df-97b54e9b-9802-4acb-ae76-5311e1bec80c\" class=\"colab-df-container\">\n",
              "    <div>\n",
              "<style scoped>\n",
              "    .dataframe tbody tr th:only-of-type {\n",
              "        vertical-align: middle;\n",
              "    }\n",
              "\n",
              "    .dataframe tbody tr th {\n",
              "        vertical-align: top;\n",
              "    }\n",
              "\n",
              "    .dataframe thead th {\n",
              "        text-align: right;\n",
              "    }\n",
              "</style>\n",
              "<table border=\"1\" class=\"dataframe\">\n",
              "  <thead>\n",
              "    <tr style=\"text-align: right;\">\n",
              "      <th></th>\n",
              "      <th>COD_RIP</th>\n",
              "      <th>COD_REG</th>\n",
              "      <th>COD_PROV</th>\n",
              "      <th>COD_CM</th>\n",
              "      <th>COD_UTS</th>\n",
              "      <th>DEN_PROV</th>\n",
              "      <th>DEN_CM</th>\n",
              "      <th>DEN_UTS</th>\n",
              "      <th>SIGLA</th>\n",
              "      <th>TIPO_UTS</th>\n",
              "      <th>geometry</th>\n",
              "    </tr>\n",
              "  </thead>\n",
              "  <tbody>\n",
              "    <tr>\n",
              "      <th>0</th>\n",
              "      <td>1</td>\n",
              "      <td>1</td>\n",
              "      <td>1</td>\n",
              "      <td>201</td>\n",
              "      <td>201</td>\n",
              "      <td>-</td>\n",
              "      <td>Torino</td>\n",
              "      <td>Torino</td>\n",
              "      <td>TO</td>\n",
              "      <td>Città metropolitana</td>\n",
              "      <td>MULTIPOLYGON (((411579.252 5050002.233, 411904...</td>\n",
              "    </tr>\n",
              "    <tr>\n",
              "      <th>1</th>\n",
              "      <td>1</td>\n",
              "      <td>1</td>\n",
              "      <td>2</td>\n",
              "      <td>0</td>\n",
              "      <td>2</td>\n",
              "      <td>Vercelli</td>\n",
              "      <td>-</td>\n",
              "      <td>Vercelli</td>\n",
              "      <td>VC</td>\n",
              "      <td>Provincia</td>\n",
              "      <td>MULTIPOLYGON (((437947.102 5088766.026, 438463...</td>\n",
              "    </tr>\n",
              "    <tr>\n",
              "      <th>2</th>\n",
              "      <td>1</td>\n",
              "      <td>1</td>\n",
              "      <td>3</td>\n",
              "      <td>0</td>\n",
              "      <td>3</td>\n",
              "      <td>Novara</td>\n",
              "      <td>-</td>\n",
              "      <td>Novara</td>\n",
              "      <td>NO</td>\n",
              "      <td>Provincia</td>\n",
              "      <td>MULTIPOLYGON (((459113.048 5079262.983, 459111...</td>\n",
              "    </tr>\n",
              "  </tbody>\n",
              "</table>\n",
              "</div>\n",
              "    <div class=\"colab-df-buttons\">\n",
              "\n",
              "  <div class=\"colab-df-container\">\n",
              "    <button class=\"colab-df-convert\" onclick=\"convertToInteractive('df-97b54e9b-9802-4acb-ae76-5311e1bec80c')\"\n",
              "            title=\"Convert this dataframe to an interactive table.\"\n",
              "            style=\"display:none;\">\n",
              "\n",
              "  <svg xmlns=\"http://www.w3.org/2000/svg\" height=\"24px\" viewBox=\"0 -960 960 960\">\n",
              "    <path d=\"M120-120v-720h720v720H120Zm60-500h600v-160H180v160Zm220 220h160v-160H400v160Zm0 220h160v-160H400v160ZM180-400h160v-160H180v160Zm440 0h160v-160H620v160ZM180-180h160v-160H180v160Zm440 0h160v-160H620v160Z\"/>\n",
              "  </svg>\n",
              "    </button>\n",
              "\n",
              "  <style>\n",
              "    .colab-df-container {\n",
              "      display:flex;\n",
              "      gap: 12px;\n",
              "    }\n",
              "\n",
              "    .colab-df-convert {\n",
              "      background-color: #E8F0FE;\n",
              "      border: none;\n",
              "      border-radius: 50%;\n",
              "      cursor: pointer;\n",
              "      display: none;\n",
              "      fill: #1967D2;\n",
              "      height: 32px;\n",
              "      padding: 0 0 0 0;\n",
              "      width: 32px;\n",
              "    }\n",
              "\n",
              "    .colab-df-convert:hover {\n",
              "      background-color: #E2EBFA;\n",
              "      box-shadow: 0px 1px 2px rgba(60, 64, 67, 0.3), 0px 1px 3px 1px rgba(60, 64, 67, 0.15);\n",
              "      fill: #174EA6;\n",
              "    }\n",
              "\n",
              "    .colab-df-buttons div {\n",
              "      margin-bottom: 4px;\n",
              "    }\n",
              "\n",
              "    [theme=dark] .colab-df-convert {\n",
              "      background-color: #3B4455;\n",
              "      fill: #D2E3FC;\n",
              "    }\n",
              "\n",
              "    [theme=dark] .colab-df-convert:hover {\n",
              "      background-color: #434B5C;\n",
              "      box-shadow: 0px 1px 3px 1px rgba(0, 0, 0, 0.15);\n",
              "      filter: drop-shadow(0px 1px 2px rgba(0, 0, 0, 0.3));\n",
              "      fill: #FFFFFF;\n",
              "    }\n",
              "  </style>\n",
              "\n",
              "    <script>\n",
              "      const buttonEl =\n",
              "        document.querySelector('#df-97b54e9b-9802-4acb-ae76-5311e1bec80c button.colab-df-convert');\n",
              "      buttonEl.style.display =\n",
              "        google.colab.kernel.accessAllowed ? 'block' : 'none';\n",
              "\n",
              "      async function convertToInteractive(key) {\n",
              "        const element = document.querySelector('#df-97b54e9b-9802-4acb-ae76-5311e1bec80c');\n",
              "        const dataTable =\n",
              "          await google.colab.kernel.invokeFunction('convertToInteractive',\n",
              "                                                    [key], {});\n",
              "        if (!dataTable) return;\n",
              "\n",
              "        const docLinkHtml = 'Like what you see? Visit the ' +\n",
              "          '<a target=\"_blank\" href=https://colab.research.google.com/notebooks/data_table.ipynb>data table notebook</a>'\n",
              "          + ' to learn more about interactive tables.';\n",
              "        element.innerHTML = '';\n",
              "        dataTable['output_type'] = 'display_data';\n",
              "        await google.colab.output.renderOutput(dataTable, element);\n",
              "        const docLink = document.createElement('div');\n",
              "        docLink.innerHTML = docLinkHtml;\n",
              "        element.appendChild(docLink);\n",
              "      }\n",
              "    </script>\n",
              "  </div>\n",
              "\n",
              "\n",
              "    <div id=\"df-f7165caf-f791-4e50-8afb-ecfe4a144590\">\n",
              "      <button class=\"colab-df-quickchart\" onclick=\"quickchart('df-f7165caf-f791-4e50-8afb-ecfe4a144590')\"\n",
              "                title=\"Suggest charts\"\n",
              "                style=\"display:none;\">\n",
              "\n",
              "<svg xmlns=\"http://www.w3.org/2000/svg\" height=\"24px\"viewBox=\"0 0 24 24\"\n",
              "     width=\"24px\">\n",
              "    <g>\n",
              "        <path d=\"M19 3H5c-1.1 0-2 .9-2 2v14c0 1.1.9 2 2 2h14c1.1 0 2-.9 2-2V5c0-1.1-.9-2-2-2zM9 17H7v-7h2v7zm4 0h-2V7h2v10zm4 0h-2v-4h2v4z\"/>\n",
              "    </g>\n",
              "</svg>\n",
              "      </button>\n",
              "\n",
              "<style>\n",
              "  .colab-df-quickchart {\n",
              "      --bg-color: #E8F0FE;\n",
              "      --fill-color: #1967D2;\n",
              "      --hover-bg-color: #E2EBFA;\n",
              "      --hover-fill-color: #174EA6;\n",
              "      --disabled-fill-color: #AAA;\n",
              "      --disabled-bg-color: #DDD;\n",
              "  }\n",
              "\n",
              "  [theme=dark] .colab-df-quickchart {\n",
              "      --bg-color: #3B4455;\n",
              "      --fill-color: #D2E3FC;\n",
              "      --hover-bg-color: #434B5C;\n",
              "      --hover-fill-color: #FFFFFF;\n",
              "      --disabled-bg-color: #3B4455;\n",
              "      --disabled-fill-color: #666;\n",
              "  }\n",
              "\n",
              "  .colab-df-quickchart {\n",
              "    background-color: var(--bg-color);\n",
              "    border: none;\n",
              "    border-radius: 50%;\n",
              "    cursor: pointer;\n",
              "    display: none;\n",
              "    fill: var(--fill-color);\n",
              "    height: 32px;\n",
              "    padding: 0;\n",
              "    width: 32px;\n",
              "  }\n",
              "\n",
              "  .colab-df-quickchart:hover {\n",
              "    background-color: var(--hover-bg-color);\n",
              "    box-shadow: 0 1px 2px rgba(60, 64, 67, 0.3), 0 1px 3px 1px rgba(60, 64, 67, 0.15);\n",
              "    fill: var(--button-hover-fill-color);\n",
              "  }\n",
              "\n",
              "  .colab-df-quickchart-complete:disabled,\n",
              "  .colab-df-quickchart-complete:disabled:hover {\n",
              "    background-color: var(--disabled-bg-color);\n",
              "    fill: var(--disabled-fill-color);\n",
              "    box-shadow: none;\n",
              "  }\n",
              "\n",
              "  .colab-df-spinner {\n",
              "    border: 2px solid var(--fill-color);\n",
              "    border-color: transparent;\n",
              "    border-bottom-color: var(--fill-color);\n",
              "    animation:\n",
              "      spin 1s steps(1) infinite;\n",
              "  }\n",
              "\n",
              "  @keyframes spin {\n",
              "    0% {\n",
              "      border-color: transparent;\n",
              "      border-bottom-color: var(--fill-color);\n",
              "      border-left-color: var(--fill-color);\n",
              "    }\n",
              "    20% {\n",
              "      border-color: transparent;\n",
              "      border-left-color: var(--fill-color);\n",
              "      border-top-color: var(--fill-color);\n",
              "    }\n",
              "    30% {\n",
              "      border-color: transparent;\n",
              "      border-left-color: var(--fill-color);\n",
              "      border-top-color: var(--fill-color);\n",
              "      border-right-color: var(--fill-color);\n",
              "    }\n",
              "    40% {\n",
              "      border-color: transparent;\n",
              "      border-right-color: var(--fill-color);\n",
              "      border-top-color: var(--fill-color);\n",
              "    }\n",
              "    60% {\n",
              "      border-color: transparent;\n",
              "      border-right-color: var(--fill-color);\n",
              "    }\n",
              "    80% {\n",
              "      border-color: transparent;\n",
              "      border-right-color: var(--fill-color);\n",
              "      border-bottom-color: var(--fill-color);\n",
              "    }\n",
              "    90% {\n",
              "      border-color: transparent;\n",
              "      border-bottom-color: var(--fill-color);\n",
              "    }\n",
              "  }\n",
              "</style>\n",
              "\n",
              "      <script>\n",
              "        async function quickchart(key) {\n",
              "          const quickchartButtonEl =\n",
              "            document.querySelector('#' + key + ' button');\n",
              "          quickchartButtonEl.disabled = true;  // To prevent multiple clicks.\n",
              "          quickchartButtonEl.classList.add('colab-df-spinner');\n",
              "          try {\n",
              "            const charts = await google.colab.kernel.invokeFunction(\n",
              "                'suggestCharts', [key], {});\n",
              "          } catch (error) {\n",
              "            console.error('Error during call to suggestCharts:', error);\n",
              "          }\n",
              "          quickchartButtonEl.classList.remove('colab-df-spinner');\n",
              "          quickchartButtonEl.classList.add('colab-df-quickchart-complete');\n",
              "        }\n",
              "        (() => {\n",
              "          let quickchartButtonEl =\n",
              "            document.querySelector('#df-f7165caf-f791-4e50-8afb-ecfe4a144590 button');\n",
              "          quickchartButtonEl.style.display =\n",
              "            google.colab.kernel.accessAllowed ? 'block' : 'none';\n",
              "        })();\n",
              "      </script>\n",
              "    </div>\n",
              "\n",
              "    </div>\n",
              "  </div>\n"
            ],
            "application/vnd.google.colaboratory.intrinsic+json": {
              "type": "dataframe",
              "variable_name": "provinces",
              "summary": "{\n  \"name\": \"provinces\",\n  \"rows\": 107,\n  \"fields\": [\n    {\n      \"column\": \"COD_RIP\",\n      \"properties\": {\n        \"dtype\": \"number\",\n        \"std\": 1,\n        \"min\": 1,\n        \"max\": 5,\n        \"num_unique_values\": 5,\n        \"samples\": [\n          2,\n          5,\n          3\n        ],\n        \"semantic_type\": \"\",\n        \"description\": \"\"\n      }\n    },\n    {\n      \"column\": \"COD_REG\",\n      \"properties\": {\n        \"dtype\": \"number\",\n        \"std\": 5,\n        \"min\": 1,\n        \"max\": 20,\n        \"num_unique_values\": 20,\n        \"samples\": [\n          1,\n          18,\n          16\n        ],\n        \"semantic_type\": \"\",\n        \"description\": \"\"\n      }\n    },\n    {\n      \"column\": \"COD_PROV\",\n      \"properties\": {\n        \"dtype\": \"number\",\n        \"std\": 31,\n        \"min\": 1,\n        \"max\": 111,\n        \"num_unique_values\": 107,\n        \"samples\": [\n          77,\n          11,\n          5\n        ],\n        \"semantic_type\": \"\",\n        \"description\": \"\"\n      }\n    },\n    {\n      \"column\": \"COD_CM\",\n      \"properties\": {\n        \"dtype\": \"number\",\n        \"std\": 86,\n        \"min\": 0,\n        \"max\": 292,\n        \"num_unique_values\": 15,\n        \"samples\": [\n          272,\n          282,\n          201\n        ],\n        \"semantic_type\": \"\",\n        \"description\": \"\"\n      }\n    },\n    {\n      \"column\": \"COD_UTS\",\n      \"properties\": {\n        \"dtype\": \"number\",\n        \"std\": 74,\n        \"min\": 2,\n        \"max\": 292,\n        \"num_unique_values\": 107,\n        \"samples\": [\n          77,\n          11,\n          5\n        ],\n        \"semantic_type\": \"\",\n        \"description\": \"\"\n      }\n    },\n    {\n      \"column\": \"DEN_PROV\",\n      \"properties\": {\n        \"dtype\": \"string\",\n        \"num_unique_values\": 94,\n        \"samples\": [\n          \"Massa Carrara\",\n          \"Belluno\",\n          \"Benevento\"\n        ],\n        \"semantic_type\": \"\",\n        \"description\": \"\"\n      }\n    },\n    {\n      \"column\": \"DEN_CM\",\n      \"properties\": {\n        \"dtype\": \"category\",\n        \"num_unique_values\": 15,\n        \"samples\": [\n          \"Bari\",\n          \"Palermo\",\n          \"Torino\"\n        ],\n        \"semantic_type\": \"\",\n        \"description\": \"\"\n      }\n    },\n    {\n      \"column\": \"DEN_UTS\",\n      \"properties\": {\n        \"dtype\": \"string\",\n        \"num_unique_values\": 107,\n        \"samples\": [\n          \"Matera\",\n          \"La Spezia\",\n          \"Asti\"\n        ],\n        \"semantic_type\": \"\",\n        \"description\": \"\"\n      }\n    },\n    {\n      \"column\": \"SIGLA\",\n      \"properties\": {\n        \"dtype\": \"string\",\n        \"num_unique_values\": 107,\n        \"samples\": [\n          \"MT\",\n          \"SP\",\n          \"AT\"\n        ],\n        \"semantic_type\": \"\",\n        \"description\": \"\"\n      }\n    },\n    {\n      \"column\": \"TIPO_UTS\",\n      \"properties\": {\n        \"dtype\": \"category\",\n        \"num_unique_values\": 5,\n        \"samples\": [\n          \"Provincia\",\n          \"Libero consorzio di comuni\",\n          \"Provincia autonoma\"\n        ],\n        \"semantic_type\": \"\",\n        \"description\": \"\"\n      }\n    },\n    {\n      \"column\": \"geometry\",\n      \"properties\": {\n        \"dtype\": \"geometry\",\n        \"num_unique_values\": 107,\n        \"samples\": [\n          \"MULTIPOLYGON (((1090626.1661999999 4523008.7662, 1090626.1660000002 4522878.2674, 1090494.5411 4522240.2732, 1090502.6646999996 4521456.279999999, 1090644.7865000004 4520338.2896, 1090850.2835 4519609.795600001, 1090943.4074999997 4519497.796499999, 1090981.0321000004 4519442.2969, 1091074.4057 4519124.2995, 1091074.5296999998 4518505.3049, 1090644.7830999997 4518339.8071, 1090634.3979000002 4518339.871300001, 1090402.2852999996 4518341.307499999, 1090380.7855000002 4518346.307499999, 1088556.6772999996 4518862.306, 1088289.4302000003 4519221.303300001, 1088273.1804 4519249.803099999, 1088256.6807000004 4519315.8026, 1088248.0558000002 4519354.802200001, 1088175.682 4519687.7995, 1088134.7290000003 4520060.1631000005, 1088125.0585000003 4520338.2938, 1088140.6835000003 4520378.793500001, 1088160.8084000004 4520431.793, 1088141.9338999996 4520618.2914, 1088030.1851000004 4520786.290100001, 1087824.5624000002 4521066.288000001, 1087363.8172000004 4521530.159700001, 1087198.9987000003 4521805.0955, 1087749.8156000003 4522598.774700001, 1088058.6885000002 4522964.271, 1088121.0631 4523032.270300001, 1088235.4371999996 4523064.7698, 1088403.5608 4523102.769200001, 1088515.4348 4523121.2688, 1088646.3087 4523121.2686, 1089206.8033999996 4522915.7695, 1089561.5503000002 4522897.268999999, 1089816.9231000002 4522890.7686, 1089879.0476000002 4522915.768300001, 1090161.0454000002 4523056.7666, 1090192.1700999998 4523074.2664, 1090457.9181000004 4523270.2642, 1090502.1676000003 4523202.264799999, 1090626.1661999999 4523008.7662)), ((1145308.1741000004 4539846.523, 1145441.4228999997 4539838.5228, 1145648.0930000003 4539810.022700001, 1145691.6706999997 4539803.522700001, 1145723.9527000003 4539764.5737, 1145737.6701999996 4539748.0231, 1145744.92 4539686.023600001, 1145710.17 4539503.5253, 1145417.8441000003 4539372.027000001, 1145403.2732999995 4539373.6174, 1145322.6732 4539383.0271000005, 1144852.9275000002 4539520.026799999, 1144777.1782 4539551.026699999, 1144676.2734000003 4539594.134199999, 1144669.4565000003 4539619.4978, 1144666.0268 4539662.044399999, 1144841.8168000001 4540032.460999999, 1145308.1741000004 4539846.523)), ((1111635.2732999995 4545664.783600001, 1111679.1441000002 4545635.854900001, 1111930.0191000002 4545074.6624, 1112788.8381000003 4544051.1698, 1113158.2562999995 4543790.171399999, 1113366.5081000002 4543568.775900001, 1113624.7512999997 4543186.175899999, 1113685.0787000004 4543096.6765, 1113791.0774999997 4542932.1778, 1113836.8269999996 4542856.678400001, 1114725.1459999997 4542074.183599999, 1114972.0656000003 4541970.1841, 1115266.8909 4541841.184699999, 1115922.6347000003 4541531.1862, 1116083.1331000002 4541436.186899999, 1116149.3043999998 4541396.687100001, 1117277.6446000002 4540702.1238, 1117564.6187000005 4540511.192299999, 1117695.1173 4540352.193399999, 1117811.6160000004 4540210.194499999, 1119089.6023000004 4538773.204600001, 1120445.7598 4537270.715299999, 1121634.4984 4536617.2191, 1122373.3557000002 4536292.6128, 1122737.9878000002 4536121.2212000005, 1123337.7320999997 4535832.2227, 1123423.9813 4535776.722999999, 1123830.7270999998 4535401.725500001, 1123899.1482999995 4535329.726, 1123956.4758000001 4535267.226500001, 1125125.6371999998 4533044.570900001, 1125171.1328999996 4532935.2446, 1125206.2105999999 4532861.745200001, 1125249.4600999998 4532793.2457, 1125305.8814000003 4532734.746099999, 1125867.9441 4532354.611, 1125989.6542999996 4532302.067299999, 1126011.3594000004 4532295.1052, 1126331.6613999996 4532212.273, 1126572.5221999995 4532177.4015, 1127508.0330999997 4532146.747300001, 1127604.3652999997 4532148.4855, 1127618.8602999998 4532148.747099999, 1127681.5317000002 4532171.7468, 1127772.5310000004 4532229.746099999, 1127798.4471000005 4532253.9144, 1127829.2806000002 4532282.7456, 1127869.0303999996 4532377.2447, 1127919.7238999996 4532516.5887, 1127924.4636000004 4532528.5964, 1127960.2801 4532619.2424, 1128005.0297999997 4532712.7415, 1128073.6075999998 4532830.2403, 1128206.8568000002 4533029.738399999, 1128283.8563 4533126.737400001, 1128364.5275999997 4533182.7368, 1128780.1566000003 4533391.441, 1129616.2685000002 4534166.7259, 1130441.7627999997 4534976.7173999995, 1131021.7092000004 4535614.117900001, 1131814.0817999998 4536535.701400001, 1131879.3313999996 4536626.7005, 1131930.3311 4536732.6994, 1132759.8272000002 4538510.682600001, 1132945.9983 4538951.678300001, 1132995.2479999997 4539042.6774, 1133244.5745 4539341.6744, 1133405.1201999998 4539461.0482, 1133716.0652 4539235.079399999, 1134259.386 4538820.9165, 1134638.1853 4538168.0572, 1134877.2698 4538121.043500001, 1135165.7127 4537975.223300001, 1135359.1785000004 4537876.0583999995, 1135468.0990000004 4537641.0603, 1135475.3488999996 4537609.0605, 1135481.0987999998 4537568.560900001, 1135468.1769000003 4537537.0612, 1135366.6774000004 4537313.5633000005, 1135318.8496000003 4537263.0638, 1135278.6780000003 4537229.064200001, 1135221.6785000004 4537195.0646, 1135533.2525000004 4536702.400699999, 1136552.6646999996 4535984.072699999, 1136885.8332000002 4535696.0746, 1136998.5822 4535682.5745, 1137145.3310000002 4535699.574100001, 1137302.9078000002 4535737.5735, 1137361.4073 4535752.0732, 1137216.0812999997 4536210.069499999, 1136676.5869000005 4536704.066199999, 1136684.8383 4537550.058800001, 1136525.2183999997 4537614.385299999, 1136109.9217999997 4537783.0579, 1136096.9221 4537840.557399999, 1136267.8200000003 4538338.6205, 1136297.0932 4538401.052100001, 1136320.9211999997 4538450.0517, 1136413.5926 4538625.550000001, 1136494.3421 4538741.048900001, 1136526.1281000003 4538765.882300001, 1136556.4199 4538789.5483, 1137247.5864000004 4539152.0439, 1137775.6604000004 4539424.0406, 1137936.659 4539398.0405, 1138032.8299000002 4539332.040899999, 1138265.8274999997 4539137.542099999, 1138316.4051 4539074.5425, 1138545.3240999999 4538585.546399999, 1138608.8228000002 4538192.549699999, 1139301.8931999998 4537221.5568, 1139655.062 4537227.0561999995, 1140074.8876 4537830.0502, 1140055.8877999997 4537873.049900001, 1140038.6380000003 4537904.049699999, 1139862.1399999997 4538170.547700001, 1139614.6426999997 4538460.045600001, 1139382.5769999996 4538594.817, 1139329.6454999996 4538619.5447, 1139289.6459 4538646.044600001, 1139230.8184000002 4538696.544199999, 1139203.0686999997 4538727.5439, 1139078.3201000001 4538907.5427, 1139026.0707 4539008.5419, 1139021.1579999998 4539050.546599999, 1139018.1490000002 4539078.541300001, 1139023.3991 4539134.5408, 1139105.8991 4539528.5372, 1139168.1487999996 4539666.0359000005, 1139593.8957000002 4540006.532199999, 1140072.0636999998 4540099.0305, 1140518.37 4540174.9946, 1140656.3086 4540097.5295, 1140791.2134999996 4539982.030200001, 1140816.9632 4539944.5305, 1140823.3848 4539866.531199999, 1140821.182 4539815.213500001, 1140844.0849000001 4539694.218800001, 1140885.4617999997 4539504.0342, 1140906.1332999999 4539410.035, 1141103.2094 4539238.0361, 1141356.2071000002 4539133.536599999, 1141435.1282000002 4539157.0362, 1141494.8778 4539197.535800001, 1141573.1272 4539275.5349, 1141644.3767 4539336.5342999995, 1141737.9541999996 4539381.5337000005, 1141879.8749000002 4539427.533, 1142121.0126999998 4539489.348200001, 1142211.4504000004 4539512.5317, 1142313.6212999998 4539536.031300001, 1142370.6207999997 4539541.531199999, 1142475.6199000003 4539523.031099999, 1143043.1928000003 4539310.0318, 1143511.1889000004 4539418.530099999, 1144105.8558 4539545.027899999, 1144621.3175999997 4539502.7086, 1145110.5965999998 4539288.0283, 1145123.1759000001 4539281.051999999, 1145155.6744 4539263.0285, 1145083.4247000003 4539068.530300001, 1145015.8468000004 4538952.031400001, 1145316.3436000003 4538596.034, 1145741.0900999997 4538703.032299999, 1145932.4164000005 4538586.0329, 1146316.1624999996 4538249.0351, 1146146.6633000001 4537916.0383, 1146460.4102999996 4537749.0392, 1147187.1542999996 4537872.536800001, 1147187.4532000003 4537876.794600001, 1147187.5927 4537881.293099999, 1147188.6076999996 4537914.0326000005, 1147190.1571000004 4537964.032, 1147191.7057999996 4538014.0315000005, 1147193.2536000004 4538064.0309, 1147194.8003000002 4538114.0305, 1147196.3458000002 4538164.030099999, 1147197.8898999998 4538214.0296, 1147199.1549000004 4538255.033500001, 1147201.2839000002 4538364.030099999, 1147208.3041000003 4538644.777899999, 1147225.2032000003 4539224.025, 1147432.5448000003 4539014.1514, 1147490.4660999998 4538948.651900001, 1147579.5132 4538835.865800001, 1147639.4100000001 4538748.7831, 1147865.3872999996 4538434.888599999, 1148071.7799000004 4538214.9695999995, 1148134.1560000004 4538164.092, 1148159.2087000003 4538143.6576000005, 1148215.7385 4538109.4682, 1148232.7861000001 4538099.1578, 1148545.9495 4537915.034, 1148608.2825999996 4537883.1591, 1149173.6990999999 4537614.6603999995, 1149913.8772999998 4537253.0177, 1150674.4347 4536855.6642, 1151565.5360000003 4536380.636299999, 1151965.7004000004 4536179.9373, 1152403.3776000002 4535964.132200001, 1152772.4057999998 4535788.369000001, 1152659.5917999996 4535670.445699999, 1152529.2903000005 4535563.545700001, 1152445.7614000002 4535495.0407, 1152235.6935 4535322.9333, 1151485.6040000003 4534732.5459, 1151444.1279999996 4534790.102299999, 1151380.1276000002 4535061.599400001, 1151093.9594 4535327.9267, 1151091.0910999998 4535330.4321, 1151070.5829999996 4535348.344699999, 1150869.8536 4535027.427200001, 1150593.4781 4534579.430199999, 1150569.2291 4534536.432499999, 1150508.5295000002 4534423.433700001, 1150496.9677 4534388.4923, 1150478.8742000004 4534329.0583999995, 1150495.5687999995 4534271.3202, 1151639.4990999997 4533356.1197, 1152352.2551999995 4533027.703199999, 1152650.9560000002 4533029.567299999, 1153216.9392 4532976.445900001, 1153200.8257 4532175.3016, 1153199.3502000002 4532101.943600001, 1153192.1179 4531766.9103999995, 1152651.1937999995 4528524.49, 1152493.6157 4527722.9933, 1152343.8536999999 4526384.0023, 1152588.3948 4525300.034499999, 1152846.0960999997 4524643.5166, 1153383.1717999997 4523948.054199999, 1154046.9038000004 4523309.7367, 1153913.1424000002 4523052.5813, 1153553.3559999997 4522615.049799999, 1153118.1834000004 4522497.534700001, 1153276.5711000003 4521631.041999999, 1153171.7416000003 4520442.0526, 1152789.0706000002 4519071.065300001, 1152757.3064000001 4518684.7140999995, 1152712.7408999996 4517923.5754, 1152738.3181999996 4517547.578600001, 1152740.7741 4517527.6238, 1152744.688 4517495.978800001, 1152748.7188999997 4517464.1888999995, 1152749.8179000001 4517455.579399999, 1152783.4212999996 4517414.1017, 1152825.3645000001 4517362.3301, 1152865.5230999999 4517335.807399999, 1152953.3157000002 4517278.080499999, 1152965.6194000002 4517278.8114, 1152991.2835 4517280.360400001, 1153062.7366000004 4517284.5803, 1153115.5724 4517270.4583, 1153137.6835000003 4517264.4969999995, 1153165.5141000003 4517245.0725, 1153208.6519999998 4517214.914000001, 1153551.5598999998 4516941.0825, 1153565.4891999997 4516927.100400001, 1153683.5585000003 4516808.5834, 1153760.9795000004 4516724.084000001, 1154224.9743 4516126.088199999, 1154337.0093999999 4515727.463099999, 1153998.7029999997 4514881.4692, 1153943.8020000001 4514582.602299999, 1154590.0447000004 4513723.6086, 1154673.4656999996 4513638.609200001, 1154718.386 4513615.581700001, 1154731.6075999998 4513608.819599999, 1154767.2928999998 4513590.6094, 1155269.2883000001 4513465.6096, 1155387.5373 4513447.6095, 1155489.2083 4513449.609300001, 1155587.2942000004 4513467.3641, 1155735.5543999998 4513302.399, 1155835.9540999997 4512842.614, 1155864.2806000002 4512674.7535999995, 1155862.6513999999 4512527.543, 1155804.8798000002 4512351.4964000005, 1155765.2701000003 4512244.3682, 1155645.4715 4511964.2718, 1155501.6766 4511646.6119, 1155089.1799999997 4510904.5812, 1154636.0374999996 4510014.141100001, 1154629.1914 4509994.1983, 1154626.9733999996 4509987.737199999, 1154601.7094 4509914.141899999, 1154670.7084 4509742.643300001, 1154709.9579999996 4509670.6439, 1154773.9628999997 4509620.7871, 1154781.2072 4509615.144200001, 1155053.5597 4509436.9483, 1155822.1968 4508922.1483, 1155915.5239000004 4508761.149700001, 1156092.2719 4508534.6513, 1156164.7712000003 4508493.1515, 1156815.4818000002 4508239.9849, 1156849.0148 4508235.1525, 1156915.5142 4508231.1524, 1157048.2630000003 4508246.1521000005, 1157072.1846000003 4508251.152000001, 1157104.0126 4508259.151799999, 1157186.2619000003 4508290.1514, 1157253.3882 4508317.4179, 1157301.9683999997 4508344.471100001, 1157375.7604999999 4508418.15, 1157792.7565000001 4508248.650699999, 1158071.1756999996 4508160.151000001, 1158394.6509999996 4508121.6668, 1159751.9892999995 4508265.1467, 1160376.4856000002 4508348.611300001, 1161159.727 4508221.1445, 1161398.9747000001 4508142.6446, 1161462.9456000002 4508117.4604, 1161472.4741000002 4508113.6448, 1161902.8916999996 4507875.146, 1161909.3756 4507868.659600001, 1161958.3910999997 4507815.146500001, 1161961.7954000002 4507810.735200001, 1162018.9686000003 4507736.6471, 1162074.6398 4507663.147700001, 1162125.2174000004 4507568.648399999, 1162465.4628999997 4506852.653899999, 1162567.6330000004 4506359.1581, 1162767.4572 4505218.1677, 1163333.6649000002 4504839.3719, 1164131.5209 4503937.1763, 1164520.3603999997 4503481.1796, 1164974.9338999996 4503098.1822999995, 1165300.1551 4503043.9734000005, 1166115.1730000004 4502687.183599999, 1166731.2889 4502278.4539, 1167201.3346999995 4502332.184599999, 1167447.8060999997 4501926.128900001, 1167961.2019999996 4501738.5638, 1167723.2719 4501130.9474, 1167297.9063999997 4500119.619200001, 1167042.0811 4499590.9595, 1166619.8942 4498763.637, 1165380.3543999996 4496363.579399999, 1165083.7158000004 4495842.1207, 1164296.4242000002 4494389.430400001, 1163655.3550000004 4493184.3917, 1163176.4699 4492399.738, 1162908.0303999996 4491947.2798999995, 1162115.4664000003 4490605.4219, 1161994.8162000002 4490359.6764, 1161950.3661000002 4490262.8387, 1161724.9406000003 4489758.012700001, 1161657.1087999996 4489509.9331, 1161166.9856000002 4488151.821, 1160510.3945000004 4486398.017899999, 1160208.7688999996 4485670.941500001, 1160023.8296999997 4485323.7522, 1159819.8306 4484820.304300001, 1159637.2676999997 4484341.407500001, 1159539.3717 4483947.1776, 1158946.9374000002 4481534.652000001, 1158757.9719000002 4480400.624, 1158423.5380999995 4479043.5348000005, 1158052.4857 4478427.1603, 1157938.1854999997 4478234.754899999, 1157119.563 4476833.836300001, 1156973.5126999998 4476568.723200001, 1156626.0606000004 4475907.4383000005, 1156524.4604000002 4475710.5879, 1156082.0762 4474811.002800001, 1155912.7424999997 4474434.235400001, 1155530.1152 4473566.1065, 1155283.1261 4473070.0955, 1154969.5943 4472531.667400001, 1154431.1661 4471888.728599999, 1154309.4574999996 4471751.145, 1153854.3733 4471278.3336, 1153832.2781999996 4471257.1346, 1153680.8063000003 4471111.116599999, 1153247.4686000003 4470628.1712, 1152413.0278000003 4469688.0011, 1152005.2805000003 4469202.381200001, 1151799.1568999998 4468980.7586, 1151672.0206000004 4469071.7228999995, 1151627.2587000001 4469119.839299999, 1151252.0258 4469441.2249, 1150328.8030000003 4469968.702500001, 1150195.2865000004 4470141.228, 1150114.6619999995 4470171.727399999, 1149767.0417 4470289.319800001, 1149521.2861000001 4470320.7195, 1149111.8597999997 4470123.0035999995, 1148661.6628999999 4469927.2205, 1148156.3367999997 4469935.2212000005, 1147513.7155 4470113.220799999, 1147097.0927999998 4470196.7212000005, 1146707.2399000004 4470259.207599999, 1146567.5960999997 4470237.2215, 1146351.7216999996 4470077.723300001, 1146044.0979000004 4469847.2257, 1145829.4732999997 4469670.227700001, 1144972.1025 4469508.2312, 1144941.6025999999 4469529.730900001, 1144912.3530000001 4469545.7305, 1144757.4792999998 4469629.7304, 1144697.0943999998 4469655.735200001, 1144688.9792999998 4469659.229900001, 1144642.6507 4469669.895300001, 1144636.8476 4469671.229900001, 1144570.1047999999 4469674.729599999, 1144101.5366000002 4469476.5013999995, 1143760.5004000003 4469322.6447, 1143142.2357 4469032.738500001, 1142755.3627000004 4468826.2402, 1142422.4883000003 4468491.244100001, 1142102.2307000002 4468214.4427000005, 1142037.2396999998 4468158.7480999995, 1142019.0458000004 4468148.3094, 1142010.1147999996 4468143.2478, 1141983.7892000005 4468137.198899999, 1141974.3635999998 4468135.0331999995, 1141964.3114 4468132.736199999, 1141575.9976000004 4468291.7575, 1141537.6228 4468308.2577, 1141490.4984 4468346.7568, 1141453.9983 4468382.2566, 1141450.9699999997 4468391.366599999, 1141438.8737000003 4468427.7563000005, 1141403.3743000003 4468549.2552000005, 1141410.7492000004 4468589.7553, 1141418.3740999997 4468625.754799999, 1141355.2496999996 4468783.7532, 1140872.5744000003 4469184.375499999, 1140814.7237 4469222.964299999, 1140451.2983999997 4469275.137399999, 1140112.0574000003 4469283.030300001, 1139785.1295999996 4469272.241599999, 1139747.1295999996 4469268.741699999, 1139555.5096000005 4469249.6601, 1139476.3810999999 4469209.665100001, 1139472.4211 4469207.3675999995, 1139443.4522000002 4469190.4278, 1139422.4221 4469174.615599999, 1139415.8809000002 4469169.6657, 1139391.7565000001 4469150.6655, 1139357.0076000001 4469116.167300001, 1139314.7569000004 4469055.6679, 1139228.2577999998 4468933.169500001, 1139122.1326000001 4468792.170700001, 1139090.6327 4468766.6711, 1138876.0078999996 4468606.1712, 1138791.1344999997 4468625.672599999, 1137877.4385000002 4468956.987299999, 1136716.0217000004 4469476.6675, 1135195.3355999999 4469409.661499999, 1134865.7043000003 4469272.6741, 1134520.0805000002 4469112.1763, 1134483.9561 4469094.6764, 1134432.4561 4469062.6768, 1134272.4638 4468942.7346, 1134131.5813999996 4468827.176999999, 1134084.7205999997 4468781.3694, 1134081.4560000002 4468778.178200001, 1134025.5793000003 4468727.177300001, 1133979.7418999998 4468689.634199999, 1133972.9572 4468684.179, 1133842.2029 4468579.6778, 1133822.4666999998 4468564.6850000005, 1133800.0823999997 4468547.6807, 1133734.5823999997 4468516.1808, 1133722.4686000003 4468513.200999999, 1133687.8328999998 4468504.6811999995, 1133538.0840999996 4468771.1785, 1133517.3343000002 4468810.178200001, 1133490.7099000001 4468861.178300001, 1133407.9604000002 4469026.6766, 1133365.7109000003 4469115.175899999, 1133319.4615000002 4469216.1756, 1133288.7116999999 4469286.1745, 1132905.4293999998 4469748.1055, 1132430.7131000003 4470218.1636, 1132392.2187 4470016.169199999, 1132387.9863999998 4469988.884199999, 1132471.8707999997 4469007.8423999995, 1132486.0905 4468959.1787, 1132494.2152000004 4468914.1797, 1132498.3399 4468806.6800999995, 1132497.0899 4468675.681, 1132491.8402000004 4468605.6821, 1132480.1908999998 4468539.6379, 1132472.7571999999 4468497.558, 1132433.2719999999 4468389.639699999, 1132422.4771999996 4468360.5536, 1132413.3760000002 4468339.6402, 1132406.2145999996 4468323.1844, 1132351.7144 4468209.6855, 1132334.3394 4468183.186000001, 1132308.7148000002 4468156.186000001, 1132221.915 4468090.350199999, 1132169.3400999997 4468057.187100001, 1132036.8408000004 4467976.6885, 1131972.1661 4467940.5528, 1131877.8417999996 4467890.4801, 1131822.4845000003 4467865.7731, 1131772.4848999996 4467848.695599999, 1131683.3619 4467476.466399999, 1131897.7143 4466897.698100001, 1132163.8301999997 4466339.653899999, 1132307.0851999996 4465735.207800001, 1132184.4589999998 4465212.2126, 1132142.2297999999 4464389.6755, 1132377.6557999998 4463753.4199, 1132457.0365000004 4463572.839199999, 1132433.5788000003 4463139.730599999, 1132425.0783000002 4463099.7312, 1132415.8938999996 4463080.957, 1132402.0787000004 4463052.731799999, 1132200.5789 4462742.2344, 1132067.3294000002 4462555.7367, 1131910.4546999997 4462346.738600001, 1131866.0795 4462271.239499999, 1131836.9661999997 4462213.234300001, 1131713.0791999996 4461796.7436, 1131565.7040999997 4461148.25, 1131504.3351999996 4460477.758300001, 1131329.7982 4460245.352, 1131106.5744000003 4460316.8741, 1130430.8309000004 4460557.8730999995, 1130283.4573 4460619.3729, 1130183.8333 4460707.372300001, 1130157.0835999995 4460731.872099999, 1130146.9918999998 4460741.6205, 1130120.3339999998 4460767.3718, 1130050.8348000003 4460842.371300001, 1130027.21 4460881.870999999, 1129999.8354000002 4460928.3706, 1129980.4605999999 4460962.3704, 1129966.2107999995 4460991.870100001, 1129694.0895999996 4461753.8638, 1129643.0903000003 4461910.362500001, 1129616.9659000002 4462088.861, 1129612.341 4462126.8606, 1129614.7160999998 4462198.359999999, 1129621.0911999997 4462252.3595, 1129699.341 4462550.356699999, 1129731.9659000002 4462648.355799999, 1129782.0906999996 4462772.854599999, 1129792.0906999996 4462845.8539, 1129792.4658000004 4462886.353499999, 1129792.3409000002 4462934.3531, 1129786.966 4462970.3528, 1129767.5911999997 4462986.352700001, 1129706.9666999998 4462986.7278, 1129661.8421 4462970.853, 1129602.9676 4462933.853499999, 1129105.4714000002 4462607.8573, 1128753.8490000004 4462325.360400001, 1128751.9738999996 4462282.8608, 1128741.9740000004 4462247.861099999, 1128727.5990000004 4462210.861500001, 1128699.9742 4462173.8619, 1128527.9753999999 4461974.864, 1128451.8509 4461892.864800001, 1128401.1013000002 4461886.24, 1128358.9767000005 4461881.7401, 1128308.8520999998 4461878.2402, 1128145.4786 4461867.240599999, 1128117.8537999997 4461873.240599999, 1128089.1041 4461881.240599999, 1128081.7292 4461901.2404, 1128293.9786999999 4462648.7334, 1128572.8523000004 4463243.227600001, 1128911.6004999997 4463937.220799999, 1128911.1005999995 4463987.2203, 1128902.6008000001 4464039.219900001, 1128888.9759999998 4464105.7193, 1128856.8514 4464147.7190000005, 1128808.7269000001 4464164.718900001, 1128209.8575 4464321.218599999, 1127889.7341999998 4463736.724400001, 1127822.7346 4463582.2259, 1127626.9863999998 4463664.725500001, 1127512.9874999998 4463713.225299999, 1127395.1136999996 4463773.725, 1127305.9896 4463851.2245000005, 1127556.4880999997 4464260.2204, 1127907.8312999997 4464760.7379, 1128353.1080999998 4465385.708900001, 1128871.6047 4466013.702400001, 1128261.2356000002 4466292.700999999, 1127427.7433000002 4466453.701099999, 1126924.9983 4466740.6994, 1127392.1195999999 4467024.196, 1127597.6179 4467096.695, 1127622.1178000001 4467121.194800001, 1127627.1178000001 4467163.194399999, 1127619.7429 4467201.694, 1127560.9939000001 4467442.692, 1127552.1996 4467459.246099999, 1127546.1190999998 4467470.6918, 1127521.3693000004 4467494.1916000005, 1127487.9946999997 4467510.191500001, 1127439.9951 4467517.6916000005, 1127414.4952999996 4467510.1917, 1127010.6235999996 4467331.694, 1126732.3756 4467086.196699999, 1126610.5022 4467367.694399999, 1126599.5023999996 4467422.6939, 1126587.5026000002 4467485.193399999, 1126580.0028 4467551.1928, 1126576.6278999997 4467585.192500001, 1126576.2528999997 4467620.1921999995, 1126614.0028999997 4467789.1906, 1126634.1278 4467820.690300001, 1126999.8755 4468351.184900001, 1127536.7472 4469146.676899999, 1127847.1202999996 4469633.172, 1127869.4952999996 4469709.1713, 1127963.3695999999 4469822.1701, 1127987.8695 4469849.1698, 1128009.3693000004 4469872.669600001, 1128031.2441999996 4469894.169299999, 1128056.744 4469915.1691, 1128702.4891 4470372.663899999, 1129128.2358999997 4470672.6603999995, 1129505.8579000002 4470856.1581, 1129528.1075999998 4470843.6581999995, 1129552.3574 4470833.1581999995, 1129572.4822000004 4470825.158299999, 1129608.7319 4470836.1581, 1129720.6059999997 4470871.6576000005, 1129811.8553 4470913.657, 1129850.3548999997 4470931.6568, 1130156.9775 4471105.1547, 1130167.8528000005 4471294.153000001, 1130005.2313 4472416.643300001, 1129808.6086999997 4472788.1404, 1128966.2423999999 4473482.6358, 1128235.6245999997 4473866.6337, 1127497.8817999996 4474246.6316, 1126774.8886000002 4474480.130899999, 1126128.7718000002 4475824.120100001, 1126040.6476999996 4475877.6197999995, 1126009.773 4475900.6196, 1125982.2732999995 4475935.1194, 1125946.1486999998 4475991.618899999, 1125727.0264999997 4476461.1152, 1125613.5296 4477655.104800001, 1126036.4022000004 4478366.5977, 1126088.6518 4478398.0973000005, 1126140.5263999999 4478435.096899999, 1126179.6511000004 4478481.0964, 1126212.9008999998 4478524.596000001, 1126362.0250000004 4478732.093900001, 1126376.6498999996 4478783.0934, 1126393.6498999996 4478842.592800001, 1126411.1498999996 4478912.5922, 1126490.2752 4479481.586999999, 1126494.1502 4479527.5866, 1126494.4005000005 4479643.0856, 1126478.6507 4479710.585000001, 1126461.4009999996 4479771.5845, 1126440.5263 4479826.584000001, 1126387.9019999998 4479949.083000001, 1126290.5280999998 4480107.581800001, 1126241.4035999998 4480148.581499999, 1126229.6546 4480663.077, 1126717.2763 4481178.071599999, 1127085.5237999996 4481626.0669, 1127016.6503999997 4482180.062100001, 1126873.6525999997 4482652.5582, 1126776.1541 4483005.555299999, 1126787.5291 4483059.5548, 1126811.154 4483142.054, 1127126.2777000004 4483956.5462, 1126941.9057999998 4484758.0394, 1126596.5344000002 4485066.5373, 1126224.1639999999 4485817.531400001, 1126391.5379999997 4486066.528899999, 1126430.0377000002 4486121.5283, 1126544.2869999995 4486263.526799999, 1126613.0365000004 4486332.5261, 1126661.5361000001 4486360.025800001, 1126814.4101 4486540.5239, 1127064.0334 4486838.5208, 1127072.7835999997 4486947.0198, 1127028.6608999996 4488038.510299999, 1127019.4112999998 4488189.009, 1127004.4563999996 4488373.1403, 1126892.4128 4488381.5075, 1126764.4139 4488375.6328, 1125725.7978999997 4488300.010299999, 1125015.3038999997 4488161.012800001, 1124885.0548999999 4488092.513699999, 1124852.1802000003 4488073.513900001, 1124825.1804 4488055.5141, 1124728.1810999997 4487985.514900001, 1124692.9314000001 4487957.0152, 1124630.6818000004 4487894.515900001, 1124568.5571999997 4487831.5165, 1123505.8158999998 4487452.0218, 1123461.6913 4487435.022, 1123400.8167000003 4487382.522600001, 1123345.3170999996 4487325.5232, 1123257.8175999997 4487176.524700001, 1123210.1929000001 4487091.5254999995, 1123192.568 4487054.025900001, 1123152.1930999998 4486937.527000001, 1123063.0684000002 4486680.0294, 1123015.6935 4486507.0309999995, 1122701.8191999998 4485345.5419, 1122658.8192999996 4485177.043400001, 1122604.0694000004 4484990.0452, 1122488.9447999997 4484641.0485, 1122460.9450000003 4484578.5491, 1122417.0702 4484498.049900001, 1122377.6953999996 4484427.0506, 1122333.1957 4484354.5513, 1122290.5708999997 4484286.051999999, 1122268.6961000003 4484252.552300001, 1122203.9464999996 4484153.553300001, 1122096.6972000003 4484042.554500001, 1121966.3232000005 4483947.055600001, 1121869.1989000002 4483879.056299999, 1121775.5746999998 4483820.057, 1121390.8277000003 4483628.0594, 1121222.3290999997 4483559.0603, 1120357.9611999998 4483270.5644000005, 1120096.7133999998 4483203.5655000005, 1119986.4643 4483180.0659, 1119859.9654 4483160.066299999, 1119808.0230999999 4483154.1581999995, 1119728.0915 4483145.0667, 1119619.9674000004 4483135.5669, 1119436.0941000003 4483130.567299999, 1119335.2199999997 4483131.567500001, 1118552.6020999998 4483239.5679, 1118455.7279000003 4483256.068, 1118173.9804999996 4483312.068, 1117959.1075 4483378.0678, 1117893.9831999997 4483403.0677000005, 1117728.7347 4483464.067399999, 1117661.8603999997 4483485.067299999, 1117556.3613 4483511.067299999, 1117359.2380999997 4483536.567399999, 1117282.8638000004 4483535.567600001, 1117224.2392999995 4483524.5678, 1117172.9896999998 4483507.068, 1117086.6153999995 4483475.068399999, 1116969.3663999997 4483421.5691, 1116936.4916000003 4483402.069399999, 1116889.1169999996 4483372.569700001, 1116807.2426000005 4483319.0703, 1116741.3680999996 4483266.070900001, 1116697.7434 4483227.0713, 1116614.119 4483138.5723, 1116569.1193000004 4483089.072799999, 1116532.7445 4483047.5732, 1116503.6196999997 4483002.0737, 1116478.7448000005 4482939.0743, 1116423.7451 4482843.575200001, 1116386.6204000004 4482797.0757, 1116297.9960000003 4482708.5766, 1116245.4963999996 4482667.577099999, 1116180.3718999997 4482633.077500001, 1116006.4983 4482568.578400001, 1115939.8739 4482556.078600001, 1115861.2495999997 4482543.5789, 1115266.1297000004 4482459.080700001, 1115194.3803000003 4482463.080800001, 1114691.8847000003 4482437.206900001, 1114252.2636000002 4482414.082900001, 1114015.7655999996 4482397.0834, 1113841.0170999998 4482375.083900001, 1113013.3991999999 4482257.0865, 1112511.9034000002 4482139.588400001, 1111935.5340999998 4482471.0865, 1111644.2887000004 4483584.577099999, 1111251.9192000004 4484749.067500001, 1111224.9194999998 4484819.5669, 1111182.67 4484879.066400001, 1111129.6705 4484915.066199999, 1110800.5488 4485127.5649, 1110058.9312000005 4485605.062000001, 1109898.6827999996 4485733.0611000005, 1109841.5584000004 4485785.560799999, 1109828.0586 4485812.0605999995, 1109819.6837 4485837.5604, 1109808.3088999996 4485872.5601, 1109807.9971000003 4485879.068, 1109804.3091000002 4485956.0593, 1109804.4341000002 4485989.559, 1109807.8092 4486056.0583999995, 1109753.1853 4486414.055400001, 1109592.4374000002 4486794.552300001, 1109576.9375999998 4486821.052100001, 1109551.4464999996 4486836.616800001, 1109536.813 4486845.551899999, 1109490.6884000003 4486863.051899999, 1109219.9409999996 4486940.5516, 1108911.8187999995 4487021.0515, 1109522.8147999998 4487816.043400001, 1109892.3114999998 4487758.543199999, 1110311.6827999996 4487756.0425, 1110770.6787 4487763.5416, 1111018.7917999998 4487805.256999999, 1111086.5513000004 4487960.5393, 1111040.0521 4488201.0373, 1110860.9292000001 4488474.5352, 1110565.9325 4488874.532199999, 1110546.9326999998 4488898.532, 1110520.9330000002 4488925.0318, 1110472.5585000003 4488970.0315000005, 1110442.1837999998 4488995.031300001, 1109246.2350000003 4489965.695699999, 1109236.4461000003 4489965.024900001, 1109176.3216000004 4489961.025, 1109170.3015 4489960.703199999, 1109120.1971000005 4489958.0251, 1109046.8228000002 4489955.0253, 1108979.3234 4489956.5254, 1108910.5937 4489958.441299999, 1108907.574 4489958.5254999995, 1108691.8260000004 4490024.5253, 1108741.0766000003 4490584.520300001, 1108832.7016000003 4491045.016000001, 1108560.3296999997 4491464.012800001, 1108159.9593000002 4492065.008199999, 1107793.8387000002 4492755.002699999, 1107685.2154 4493195.499, 1107558.4678999996 4493960.9925, 1106846.5437000003 4494460.9858, 1105322.9902 4495489.982899999, 1104557.4977000002 4495910.9805, 1103875.3798000002 4496567.9759, 1103512.6338 4497003.4727, 1103155.6380000003 4497645.467599999, 1103010.1409999998 4498611.9594, 1103004.1410999997 4498655.959000001, 1103004.8912000004 4498688.958699999, 1103011.6412000004 4498721.9584, 1103026.2660999997 4498772.957900001, 1103318.6397000002 4499417.4517, 1103377.8893 4499508.9508, 1103477.0136000002 4499605.4498, 1103630.0125000002 4499735.4484, 1103772.3864000002 4499846.9472, 1103804.3861999996 4499863.947000001, 1103843.1359 4499870.946799999, 1103946.5099999998 4499875.946599999, 1103981.1347000003 4499872.446599999, 1104129.2583999997 4499868.4464, 1104287.5070000002 4499865.9461, 1104769.6278 4499911.9449000005, 1104797.6276000002 4499914.944800001, 1104815.2523999996 4499936.444599999, 1104847.0022999998 4499990.944, 1105010.3764000004 4500321.9408, 1105096.8760000002 4500530.4388, 1105117.8759000003 4500590.9383000005, 1105130.7510000002 4500681.4374, 1105144.8762999997 4500932.4352, 1105119.5017 4501053.4342, 1105109.7518999996 4501121.933599999, 1105109.5020000003 4501184.4331, 1105119.7520000003 4501227.557700001, 1105124.3770000003 4501246.932499999, 1105244.7516 4501637.9288, 1105262.3765000002 4501673.9285, 1105296.3764000004 4501736.9279, 1105345.8761 4501822.926999999, 1105484.2501999997 4502036.424900001, 1105509.2500999998 4502069.4246, 1105574.9995999997 4502154.423699999, 1105607.4994 4502191.9233, 1105631.2492000004 4502213.9231, 1105663.4989999998 4502243.422800001, 1105710.8737000003 4502286.4223, 1105738.4984999998 4502308.9221, 1105625.8751999997 4502707.9187, 1104619.7596000005 4503064.917300001, 1104019.5148999998 4503068.418400001, 1103994.1401000004 4503041.4186, 1103905.6408000002 4503010.9191, 1103859.6412000004 4503005.919199999, 1103755.5170999998 4503026.919199999, 1103661.8930000002 4503071.9189, 1103603.0186 4503108.4187, 1103524.0193999996 4503173.418299999, 1103465.5199999996 4503234.9178, 1103429.6453999998 4503287.417400001, 1103097.2744000005 4503894.912699999, 1102514.7807999998 4504655.407, 1101884.5377000002 4505406.9015, 1101742.2892000005 4505560.4004, 1101623.4156 4505767.398700001, 1101622.4156999998 4505839.8981, 1101632.4156999998 4505884.897700001, 1101652.1656 4505922.397299999, 1101673.2904000003 4505949.8971, 1101699.2903000005 4505981.8967, 1101955.4134 4506211.894300001, 1102062.7877000002 4506307.893200001, 1102204.3139000004 4506408.5033, 1102412.9097999996 4506454.8913, 1102731.4073 4506629.3893, 1102818.0317000002 4506685.888599999, 1102833.1566000003 4506699.888499999, 1102858.4063999997 4506726.8882, 1102891.2812 4506762.387800001, 1102920.7810000004 4506802.387399999, 1102984.7806000002 4506925.8862, 1103041.7803999996 4507078.3848, 1103241.2796 4507621.8796, 1103241.7796 4507642.8795, 1103232.6547999997 4507703.878900001, 1103224.4049000004 4507728.878699999, 1103207.1552 4507769.3784, 1103166.0306000002 4507840.877800001, 1102888.0338000003 4508284.374399999, 1102699.5358999996 4508537.8725000005, 1101520.9238 4510019.861500001, 1100150.3135000002 4511572.850299999, 1099523.6952 4512285.3451000005, 1099514.9455000004 4512394.8441, 1099712.0691 4512626.3418000005, 1099747.5689000003 4512663.841399999, 1099790.9435999999 4512707.3409, 1099833.3183000004 4512737.340600001, 1100475.4382999996 4513136.335999999, 1100825.7152000004 4513322.929300001, 1100926.0598 4513375.8331, 1100957.1846000003 4513390.832900001, 1100990.4342999998 4513406.332699999, 1101037.1838999996 4513416.332599999, 1101151.0579000004 4513426.3323, 1101499.1805999996 4513812.328299999, 1101903.4282 4514483.321699999, 1102032.8028999995 4514974.3171999995, 1102207.4272999996 4515511.8122000005, 1102371.0516 4515930.8082, 1102596.5504 4516370.304, 1102782.7994999997 4516810.299799999, 1102658.8006999996 4516871.7995, 1102305.3038999997 4516931.2995, 1102126.1807000004 4517050.798800001, 1102013.3068000004 4517154.7981, 1101808.3090000004 4517355.296700001, 1101433.438 4517772.2937, 1100811.4441999998 4518241.2906, 1099927.2023 4518451.2903, 1099409.2071000002 4518593.289999999, 1099282.2083 4518696.2893, 1099185.9594 4518809.2885, 1099172.3344999999 4518831.7883, 1099105.5853000004 4518954.7873, 1099086.7105999999 4519008.786900001, 1098717.4653000003 4519859.280099999, 1098435.2188 4520506.774900001, 1098291.2204999998 4520745.273, 1098250.5959 4520774.7728, 1097888.4743 4520937.272, 1097845.9748 4520955.272, 1097736.2257000003 4520967.772, 1097684.6012000004 4520972.2721, 1097637.7265999997 4520966.7722, 1097602.9769000001 4520958.772299999, 1097565.4771999996 4520949.272500001, 1097523.7275 4520941.272600001, 1097468.8530000001 4520934.7728, 1097414.7285000002 4520931.7729, 1097145.6058999998 4520994.7728, 1097110.4813 4521007.7728, 1097070.3567000004 4521035.272600001, 1096840.2340000002 4521250.7711, 1096687.6107 4521477.769400001, 1096339.6150000002 4522209.263599999, 1096310.4907999998 4522485.7612, 1096296.8663999997 4522818.258300001, 1096481.6152999997 4523059.255899999, 1096754.739 4523701.2498, 1096729.1146 4523958.2476, 1096700.7406000001 4524400.243799999, 1096697.2407999998 4524467.2432, 1096711.2407999998 4524539.7425, 1096730.7407999998 4524623.741800001, 1096751.3657 4524675.2413, 1096783.9905000003 4524742.240599999, 1096816.7402999997 4524793.7401, 1096865.2400000002 4524862.239499999, 1096992.8641 4525015.2379, 1097093.6134000001 4525116.7368, 1097153.988 4525161.236300001, 1097294.6119 4525239.235400001, 1097335.9866000004 4525252.235200001, 1097367.6113 4525259.235099999, 1097482.7352999998 4525239.735099999, 1097717.4830999998 4525191.735099999, 1097772.9825999998 4525174.235200001, 1098223.6037999997 4525225.233999999, 1098667.6003999999 4525505.230799999, 1098736.9753999999 4525858.727499999, 1099090.3477999996 4526137.2245000005, 1099858.2167999996 4526522.219799999, 1100091.5899 4526613.718599999, 1100379.2126000002 4526762.2168000005, 1100412.9623999996 4526783.716600001, 1100610.0860000001 4526977.7146000005, 1100858.5843000002 4527229.2118999995, 1101445.5804000003 4527918.7049, 1101734.0784999998 4528275.701300001, 1101829.8279 4528435.1997, 1101877.0777000003 4528584.6984, 1102025.9518 4528807.1962, 1102221.2006 4529085.193399999, 1102245.0755000003 4529118.1931, 1102267.5752999997 4529141.6928, 1102294.3251 4529162.692600001, 1102656.4474 4529433.1896, 1103155.8185999999 4529711.1863, 1103181.3184000002 4529722.1862, 1103209.1930999998 4529728.1861000005, 1103241.4428000003 4529725.1861000005, 1103482.9407000002 4529683.186000001, 1103782.063 4529623.186000001, 1103829.8125 4529601.6861000005, 1103872.6870999997 4529594.1861000005, 1103934.8115999997 4529598.686000001, 1103967.5613000002 4529605.185799999, 1104074.9360999996 4530004.6822, 1104124.4360999996 4530251.6799, 1104141.4360999996 4530342.679099999, 1104149.0610999996 4530392.6787, 1104154.6862000003 4530456.178099999, 1104147.1864 4530537.1774, 1104143.4364999998 4530577.177100001, 1104079.9375999998 4530901.1743, 1104008.0658 4532372.161599999, 1103958.5679000001 4533356.1532000005, 1103944.5683000004 4533502.151900001, 1103921.9435 4533555.1515, 1103891.3189000003 4533601.2761, 1103873.4441 4533628.150900001, 1103833.3195000002 4533672.150599999, 1103786.6950000003 4533719.1503, 1103279.0751999998 4534192.647, 1102943.5784999998 4534429.145500001, 1102337.4599000001 4535046.1412, 1101479.0944999997 4536286.631899999, 1101034.6002000002 4537398.248, 1100942.4755999995 4537122.625499999, 1100871.4774000002 4537862.619200001, 1101033.9763000002 4538033.1174, 1101107.2259999998 4538211.115800001, 1101163.3508000001 4538362.114399999, 1101140.602 4538985.608999999, 1101122.3526999997 4539280.6064, 1100988.3547 4539749.602600001, 1100959.2301000003 4539852.1017, 1100944.1053999998 4539953.6009, 1100939.9804999996 4540014.600400001, 1100942.8556000004 4540090.5997, 1100948.1057000002 4540160.599099999, 1100971.3559999997 4540423.5967999995, 1100991.6061000004 4540595.0952, 1101015.8559999997 4540652.094699999, 1101042.9808 4540697.5943, 1101100.6053999998 4540738.593800001, 1101188.1047 4540798.0931, 1101910.7242 4541239.088099999, 1101999.0986000001 4541289.5875, 1102144.0974000003 4541331.0868999995, 1102813.0919000003 4541498.5843, 1103207.2136000004 4541596.082699999, 1103832.9584999997 4541747.0803, 1104278.4548000004 4541844.0787, 1104768.5757 4541948.077, 1104903.6996 4541986.576400001, 1105180.9474999998 4542157.0745, 1105594.4444000004 4542442.0713, 1105763.5681999996 4542571.569800001, 1105903.9422000004 4542726.068299999, 1106009.4414999997 4542832.0671999995, 1106080.1909999996 4542902.566400001, 1106374.9387999997 4543126.063999999, 1107158.1830000002 4543653.058, 1107670.3039999995 4543934.0547, 1108377.4244 4544810.0459, 1109249.9175000004 4545194.540999999, 1109960.0368 4545439.537699999, 1110696.5312 4545858.0328, 1110960.3904 4546106.308, 1111536.7631 4545729.516000001, 1111552.0165999997 4545719.5219, 1111635.2732999995 4545664.783600001)))\",\n          \"MULTIPOLYGON (((568231.9688999997 4874857.9936, 568233.7187999999 4874837.618799999, 568233.7187999999 4874820.743899999, 568227.8438999997 4874810.869000001, 568220.2188999997 4874805.619000001, 568204.5941000003 4874807.994000001, 568191.2192000002 4874810.869000001, 568160.3443999998 4874820.118899999, 568153.9694999997 4874829.493799999, 568153.3444999997 4874855.1186, 568198.7191000003 4874931.993000001, 568217.9689999996 4874948.867900001, 568227.2188999997 4874945.367900001, 568240.0937999999 4874915.1182, 568240.0937999999 4874891.8683, 568238.8437999999 4874875.4935, 568231.9688999997 4874857.9936)), ((567984.3187999995 4875443.3191, 568228.0552000003 4875357.9548, 568401.0930000003 4875285.988, 568411.1471999995 4875272.7588, 568416.9681000002 4875255.2962, 568424.0768999998 4875214.3223, 568425.3153999997 4875196.946, 568426.7869999995 4875136.8696, 568418.4403999997 4875094.071799999, 568401.0930000003 4875067.4417, 568341.4409999996 4875030.3223, 568059.7799000004 4875074.320900001, 568034.909 4875089.137599999, 568010.8185999999 4875119.821699999, 567990.3187999995 4875151.0714, 567982.5214 4875169.0419, 567971.9380000001 4875196.558599999, 567955.0047000004 4875245.771199999, 567936.8907000003 4875304.7533, 567907.8362999996 4875437.3661, 567914.7878999999 4875445.2674, 567925.3712999998 4875455.321599999, 567935.9545999998 4875455.8508, 567948.6546 4875455.8508, 567963.4713000003 4875454.7925, 567981.318 4875450.8191, 567984.3187999995 4875443.3191)), ((568371.9397999998 4877692.799699999, 568249.9616 4877266.228399999, 568135.3163000001 4876786.306600001, 567896.693 4875998.8127999995, 567064.2230000002 4876877.1263, 567051.2000000002 4876892.5561, 566992.4291000003 4876980.5002999995, 566951.1272999998 4877050.8014, 566770.3269999996 4877359.177300001, 566747.3272000002 4877409.301899999, 566743.5773 4877429.1768, 566751.7022000002 4877444.8016, 566760.4521000003 4877453.5516, 566774.7019999996 4877465.9265, 566792.2018999998 4877472.8014, 567120.3187999995 4877596.040200001, 567980.0676999995 4877778.048800001, 568456.0911999997 4877916.9957, 568371.9397999998 4877692.799699999)), ((561963.4901999999 4880784.7763, 561968.8651999999 4880777.7763, 561970.7401999999 4880765.7764, 561964.3651999999 4880752.7765, 561955.4902999997 4880748.2765, 561946.7403999995 4880751.2765, 561932.9905000003 4880760.7764, 561934.9903999995 4880768.7764, 561945.3653999995 4880782.2763, 561949.7402999997 4880785.7762, 561955.9902999997 4880786.7762, 561963.4901999999 4880784.7763)), ((545692.9973999998 4920348.4712000005, 546138.8684999999 4920009.473099999, 546363.9116000002 4919637.234099999, 546556.7714 4919622.4759, 547115.7362000002 4919992.4739, 547429.7028000001 4920362.471000001, 548271.5080000004 4920178.471999999, 549065.8509999998 4919232.116900001, 550313.9924999997 4918458.4849, 550556.9902999997 4918176.487299999, 550800.9570000004 4918031.4882, 551154.8296999997 4917880.489700001, 551676.0828 4917846.269200001, 551881.2197000002 4917861.1214000005, 552113.6034000004 4917814.489700001, 552532.5685 4917093.9947999995, 552796.5672000004 4916588.4989, 552862.5659999996 4916376.5011, 552901.5657000002 4916219.501599999, 552894.5658 4916145.502900001, 552828.5669 4915988.5033, 553157.1034000004 4914722.962200001, 553470.3109999998 4913387.5239, 553477.4374000002 4913357.7611, 553487.3110999996 4913316.524499999, 553508.3109999998 4913238.525, 553545.3103 4913134.526000001, 553617.3093999997 4912943.5273, 553650.3099999996 4912858.527799999, 553769.3085000003 4912627.5295, 553783.3085000003 4912603.5294, 553801.3082999997 4912574.5298, 553839.3082999997 4912545.530200001, 554241.2107999995 4912390.5309999995, 554313.2736 4912363.5318, 554369.2098000003 4912355.532, 554492.2093000002 4912366.5318, 554542.2088000001 4912381.5315000005, 554716.1140000001 4912747.5285, 555015.0810000002 4912668.9147, 555873.7302000001 4912735.528000001, 556206.6650999999 4912780.5276, 556277.6645 4912788.5276, 556603.4744999995 4912549.5294, 556666.4740000004 4912501.5297, 556999.5553000001 4911809.4322999995, 557252.3443 4911069.540899999, 557630.1536999997 4909962.5493, 557862.1517000003 4909278.554500001, 557960.9633 4908924.5572, 558478.8968000002 4908613.559599999, 559191.7037000004 4908469.5605999995, 559209.2545999996 4908461.036900001, 559260.4804999996 4908436.0625, 559266.8074000003 4908432.977600001, 560051.3844999997 4907994.564200001, 560066.0718999999 4907979.604900001, 560105.3841000004 4907939.5646, 560471.1936999997 4907512.0679, 560490.5300000003 4907484.0943, 560525.4720999999 4907433.536900001, 560527.6672 4907430.3478999995, 560530.2692999998 4907426.541200001, 560542.6785000004 4907405.9311, 560586.1304000001 4907333.5693, 560730.1290999996 4907045.5715, 560923.8668 4906533.224300001, 560953.3406999996 4906119.578600001, 561166.0623000003 4905904.4058, 561378.9364 4905727.581499999, 561661.0866999999 4905567.7126, 561778.8081999999 4905568.582699999, 561873.8075000001 4905568.582699999, 561997.6815 4905513.5831, 562270.6793999998 4905339.5844, 562439.7520000003 4905219.5853, 562814.4250999996 4904926.5875, 563428.2951999996 4904332.592, 564344.6941 4903595.3301, 564717.4175000004 4903773.576400001, 565340.7802999998 4903729.5964, 565955.5255000005 4903398.5989, 566723.3318999996 4902922.602499999, 567366.0142999999 4902411.634099999, 567821.1358000003 4902336.606799999, 567959.1347000003 4902310.107000001, 568050.0714999996 4902238.1075, 568163.0872 4902033.5009, 568181.1184 4901969.6216, 568338.8695999999 4900961.4047, 568669.5815000003 4900269.6236000005, 568675.1739999996 4899869.6259, 568684.9590999996 4899119.631899999, 568672.8162000002 4898834.634099999, 568664.1289999997 4898769.7446, 568659.8163000001 4898737.6348, 568629.7844000002 4898671.572799999, 568618.1747000003 4898648.998400001, 568603.0739000002 4898619.6358, 568593.8167000003 4898601.6359, 568577.4615000002 4898586.112199999, 568566.0044999998 4898575.2378, 568560.1028000005 4898569.6362, 568534.8172000004 4898545.636299999, 568516.0048000002 4898525.0034, 568472.8176999995 4898477.6369, 568466.2547000004 4898468.926100001, 568411.8180999998 4898396.637499999, 568412.8991 4898373.8455, 568414.8180999998 4898333.638, 568425.7050999999 4898287.5714, 568440.8179000001 4898223.638900001, 568488.8174999999 4898150.6394, 568542.2424999997 4898069.6401, 568550.8169999998 4898056.6401, 568730.6281000003 4897806.642200001, 568808.6275000004 4897715.642899999, 568886.6268999996 4897642.6435, 568961.6262999997 4897581.6439, 568966.0011999998 4897579.8018, 569018.6257999996 4897557.643999999, 569066.0004000003 4897556.134099999, 569112.7500999998 4897554.644099999, 569204.5619000001 4897547.644099999, 569265.9220000003 4897519.275, 569297.5610999996 4897504.644300001, 569315.9983999999 4897495.4257, 569387.5603999998 4897459.6446, 569676.6206 4897297.6459, 569704.7624000004 4897279.2345, 569780.5574000003 4897229.646500001, 569916.5051999995 4897118.681, 569902.1772999996 4897069.6666, 569900.5639000004 4897064.1565000005, 569860.6788999997 4896969.6675, 569837.5174000002 4896915.1401, 569721.5027000001 4896792.1588, 569715.1615000004 4896785.598300001, 569496.4243000001 4896396.6368, 569316.3591 4895818.6294, 569038.7001999998 4894793.038000001, 568619.5657000002 4893874.172800001, 568682.8146000002 4893365.3638, 569075.5700000003 4892392.941299999, 569085.0676999995 4892369.512800001, 569116.0049999999 4892330.9575, 569132.8189000003 4892310.006200001, 569136.4000000004 4892307.6910999995, 569472.3186999997 4892769.674799999, 569656.3395999996 4893316.173, 569662.7410000004 4893356.9980999995, 569671.3075000001 4893411.1763, 569717.8071999997 4893701.674000001, 569749.1195 4893862.672700001, 569785.4406000003 4893919.1088, 569788.5017999997 4893923.1811999995, 570354.4855000004 4894469.683599999, 571256.1096000001 4895367.6620000005, 571492.2328000003 4895506.6609000005, 571597.1069999998 4895552.660499999, 571665.9796000002 4895576.8303, 571674.0438999999 4895579.6603, 572381.7533999998 4895603.6896, 572571.9742999999 4895541.1603, 572608.9740000004 4895284.1623, 572666.3603999997 4894969.671499999, 572803.7161999997 4894732.6775, 573073.7385 4894449.2074, 573134.6750999996 4894425.3399, 573149.1698000003 4894419.668199999, 573165.7872000001 4894413.168199999, 573209.2693999996 4894415.239, 573215.9676999999 4894415.5581, 573291.7960000001 4894419.1822, 573315.9669000003 4894430.9684999995, 573327.1150000002 4894436.407400001, 573360.9793999996 4894452.929099999, 573365.9665999999 4894455.362299999, 573371.7167999996 4894458.1678, 573398.5290999999 4894464.408500001, 573416.0981000001 4894468.4977, 573487.7784000002 4894485.1676, 573579.7152000004 4894493.1675, 573671.6776999999 4894489.1895, 574011.1870999997 4894469.6675, 574595.4375999998 4894157.952099999, 574635.8110999996 4894135.7118, 574631.4571000002 4894132.4202, 574615.9570000004 4894124.554300001, 574565.9573999997 4894099.181, 574518.4093000004 4894075.119999999, 574176.5590000004 4894019.6712, 573651.2144999998 4893414.051000001, 572507.4518999998 4892171.2256000005, 571968.1606000001 4891601.934900001, 571342.4609000003 4890922.028899999, 571344.2172999997 4890913.7292, 571353.2926000003 4890870.845799999, 571362.5815000003 4890826.9541, 571364.5436000004 4890818.0085, 571388.3158 4890760.8552, 571391.2933999998 4890753.6965, 571415.9643000001 4890733.6096, 571433.0949999997 4890719.664100001, 571465.9371999996 4890692.9352, 571488.7127 4890674.406400001, 571516.8257999998 4890651.6348, 571787.0404000003 4890434.865800001, 571794.1299 4890438.9836, 572008.5155999996 4890563.645199999, 572011.4927000003 4890565.518100001, 572018.8153999997 4890570.1317, 572065.9134 4890599.8957, 572132.7611999996 4890642.1523, 572176.8103 4890669.478599999, 572447.8528000005 4890819.169, 572505.4493000004 4890845.726600001, 572897.2818999998 4890971.944700001, 573441.7660999997 4891109.892100001, 573696.5521 4891169.6927000005, 574647.3185999999 4890869.695, 576029.0076000001 4890840.6952, 576978.9266999997 4890988.7435, 577241.5192999998 4891119.6931, 577390.4951999998 4891090.6775, 577817.7372000003 4890894.1742, 577926.9463999998 4890768.9101, 578240.4879999999 4890254.1972, 578141.4907999998 4889669.704, 578085.4912 4889314.706800001, 578083.4287 4889194.707699999, 578091.6029000003 4889169.707900001, 578107.9515000004 4889119.7082, 578114.5684000002 4889099.6337, 578413.2383000003 4888452.713199999, 578168.2401 4887895.717700001, 578641.9234999996 4886338.729599999, 578665.9232000001 4886263.600099999, 578667.7982999999 4886257.7303, 578693.7981000002 4886199.730699999, 578842.7969000004 4886033.732000001, 578949.2747 4885937.3859, 579198.5440999996 4885786.7338, 579462.6670000004 4885719.734300001, 579624.5146000003 4885207.6833, 579576.4166000001 4884340.746200001, 579557.2917 4884099.7480999995, 579508.2921000002 4884038.748500001, 579481.5477999998 4884016.8605, 579465.9164000005 4884004.067500001, 579459.4175000004 4883998.7488, 579294.8850999996 4883869.733999999, 579165.9225000003 4883782.806, 579046.5087000001 4883765.9647, 578806.4221000001 4883633.7513, 578781.4222999997 4883617.7513999995, 578758.2732999995 4883602.185799999, 578752.4225000003 4883598.251599999, 578674.3996000001 4883510.773499999, 578661.7334000003 4883495.5886, 578644.4342999998 4883474.794500001, 578651.2291000001 4883459.758300001, 578670.4230000004 4883418.252800001, 578685.9891999997 4883386.629899999, 578716.4223999996 4883325.2534, 578831.5312000001 4883219.9625, 579482.0546000004 4882692.109300001, 579522.3809000002 4882664.2359, 579623.4775999999 4882873.0691, 579842.2259999998 4883352.752800001, 579920.2254999997 4883539.7513, 580153.5367999999 4884170.643200001, 580158.2862999998 4884192.746200001, 580183.8241999997 4884270.3771, 580199.4110000003 4884317.745200001, 580266.4105000002 4884428.7443, 580294.8981999997 4884469.505799999, 580331.4101 4884521.7436, 580473.409 4884678.7423, 580902.2182 4885111.2389, 581502.5919000003 4885621.874399999, 581731.9864999996 4885648.9771, 581972.0225 4885636.7346, 582442.1301999995 4885584.7137, 582559.9554000003 4885566.734999999, 582899.0152000003 4885487.7356, 583006.0143999998 4885456.7358, 583571.7599 4885250.737299999, 583836.2421000004 4885081.637700001, 584322.5039999997 4884638.241900001, 584833.1075999998 4884169.7454, 585323.1835000003 4883610.2497000005, 585547.1206 4883344.2533, 585579.1202999996 4883217.2543, 585666.1802000003 4882871.4341, 585685.9318000004 4882687.758400001, 585569.8090000004 4882419.759099999, 585370.5777000003 4882048.051200001, 584868.1864 4881232.7684, 583789.1945000002 4880293.775900001, 582678.7034 4879578.0945999995, 581776.2115000002 4877720.798699999, 581728.4384000003 4877611.874399999, 581666.2152000004 4877469.804199999, 581661.8929000003 4877456.0416, 581618.3262999998 4877317.3061999995, 581610.9628999997 4877333.677100001, 581602.0876000002 4877346.9265, 581575.5877999999 4877367.6763, 581500.2133999998 4877426.675899999, 581128.0914000003 4877662.4241, 580991.8416999998 4877743.047700001, 580900.7167999996 4877789.421499999, 580590.5942000002 4877922.420499999, 580170.6176000005 4878003.960000001, 580045.4732999997 4878017.107100001, 579837.3501000004 4878014.7948, 579636.0231999997 4877976.6754, 579591.1018000003 4877947.2952, 579489.3525999999 4877878.9208, 579043.3565999996 4877489.799699999, 578927.7319 4877250.925899999, 578861.1078000003 4877089.8026, 578612.7379000001 4876574.8092, 578373.3609999996 4876308.8083, 578358.8611000003 4876292.808499999, 578345.9738999996 4876282.847200001, 578330.7252000002 4876278.837099999, 578295.3616000004 4876282.808499999, 577254.2207000004 4876466.7535999995, 577222.5027000001 4876474.815199999, 577217.4870999996 4876476.3378, 577197.4952999996 4876488.9322, 577034.6216000002 4876618.3061999995, 576677.4858999997 4876907.7203, 576392.5438999999 4877180.899499999, 576021.4628999997 4877601.4559, 575764.3996000001 4877855.810799999, 575300.2604999999 4878281.793500001, 574839.9117 4878537.679500001, 574182.0193999996 4879189.786599999, 573947.6463000001 4879371.7852, 573687.6482999995 4879567.7837000005, 573462.6502 4879712.7826000005, 573008.8075000001 4879985.8705, 572685.6562999999 4879970.7807, 572744.7208000002 4880292.629000001, 572851.7335000001 4880612.284399999, 572805.6626000004 4881023.637, 572736.4062999999 4881159.2717, 572626.0322000002 4881292.5207, 572601.2823999999 4881315.395500001, 572494.6582000004 4881369.395099999, 572252.9102999996 4881450.6447, 572179.8975999998 4881470.8959, 572013.6622000001 4881503.769300001, 571833.4135999996 4881503.769400001, 571813.9138000002 4881495.644400001, 571810.1637000004 4881491.269400001, 571801.9137000004 4881477.769400001, 571797.9137000004 4881460.7695, 571447.7911999999 4881339.770199999, 571156.2934999997 4881250.396, 570543.4232999999 4881297.1457, 570352.4759 4881435.796599999, 570336.1695999997 4881623.3094, 570335.0129000004 4881636.6119, 570058.8649000004 4882005.5166, 569208.2114000004 4882531.2728, 568881.9368000003 4883114.256999999, 568511.3958999999 4883786.7589, 568331.9781999998 4884092.224199999, 568084.1931999996 4884424.2469, 567933.9441999998 4884437.2466, 567827.9450000003 4884246.7480999995, 567206.8666000003 4884361.921399999, 567034.2176000001 4884411.8632, 566886.5094999997 4884443.972999999, 566109.3333 4883658.2530000005, 566131.2719999999 4883326.9629, 566340.3038999997 4883371.306600001, 565742.5867999997 4882767.7612, 565699.0872 4882752.261299999, 565508.8387000002 4882910.2601, 565389.0895999996 4883017.259299999, 565383.7147000004 4883024.759199999, 565377.4647000004 4883039.759099999, 565365.8398000002 4883136.258300001, 565366.7148000002 4883142.758300001, 565038.8424000004 4883389.2564, 565709.2120000003 4882481.7634, 565871.8356999997 4882161.390900001, 565997.9596999995 4881778.7689, 566195.21 4881305.9011, 566455.5801999997 4880726.2761, 566638.4538000003 4880507.027899999, 566727.2030999996 4880436.7785, 566874.3335999995 4880371.8091, 567004.0758999996 4879870.2828, 567183.6842 4879421.4223, 567737.1513999999 4879853.4188, 568051.8838 4879046.671, 567075.8247999996 4878069.796700001, 567050.9478000002 4877990.7097, 567004.3217000002 4877910.5, 566894.2068999996 4877791.0242, 566703.8055999996 4877656.8846, 566168.0818999996 4878295.7951, 565974.4584999997 4878513.793400001, 565941.7087000003 4878549.793099999, 565828.9389000004 4878656.1888, 565631.6106000002 4878797.430299999, 565469.4625000004 4878912.7903, 564943.7166999998 4879161.7885, 564654.5938999997 4879250.037799999, 564338.4326999998 4879296.2095, 562631.2348999996 4880246.7805, 561978.9901 4880709.776799999, 562027.7397999996 4880949.274900001, 562022.3647999996 4880964.774800001, 562007.6149000004 4880987.274700001, 561998.3650000002 4881000.774599999, 561956.0015000002 4881051.8629, 561923.8656000001 4881090.2739, 561895.8887999998 4881117.955800001, 561866.4697000002 4881126.6746, 560881.4988000002 4881459.7711, 560732 4881727.769099999, 560745.4999000002 4881912.7676, 560355.1425000001 4882222.8168, 559189.9080999997 4882318.2523, 559131.8960999995 4882380.8303, 559125.1758000003 4882451.861099999, 559123.2627999997 4882642.5121, 558676.1048999997 4883398.913699999, 558165.8954999996 4884291.749399999, 558150.3603999997 4884382.6269000005, 558100.6459999997 4884546.747400001, 558099.8047000002 4884549.466499999, 558096.1801000005 4884560.6982, 558072.3630999997 4884602.2676, 558042.1464999998 4884637.6217, 557875.7710999995 4884798.137700001, 557746.2144999998 4884922.1833, 557519.1738 4885138.6032, 557425.5269999998 4885212.618100001, 557403.7934999997 4885222.526799999, 557397.1233000001 4885225.4011, 557087.3958999999 4885317.9136, 557036.8519000001 4885332.8719999995, 556933.5303999996 4885361.2415, 556888.5307999998 4885371.7414, 556870.9627999999 4885358.574200001, 556863.5307999998 4885352.9912, 555262.6683999998 4886485.7326, 554504.5513000004 4887156.228700001, 554420.0601000004 4887233.8257, 554161.8021999998 4887422.725400001, 553908.5542000001 4887601.724099999, 553213.3569 4887945.011499999, 552385.5661000004 4888253.0942, 552049.8190000001 4888232.094699999, 551777.5708999997 4888192.719799999, 551511.9479 4888096.9705, 551462.1174999997 4888074.433499999, 551406.8333 4888013.588199999, 551352.1990999999 4887889.347200001, 551269.3247999996 4887680.0988, 551094.2011000002 4887238.727299999, 550857.8278999999 4886903.73, 550846.0779999997 4886891.9801, 550697.9540999997 4886956.729599999, 550693.3291999996 4886960.729499999, 549793.3362999996 4887894.7224, 549699.4216999998 4888032.467700001, 549490.5887000002 4888469.7179000005, 549438.8392000003 4888592.7169, 548846.5938999997 4889214.712099999, 548527.9714000002 4889544.7096, 548490.0966999996 4889596.7092, 548452.9720000001 4889667.083699999, 548413.7222999996 4890019.7059, 548424.8420000002 4890071.5011, 548456.3470000001 4890136.705, 548612.2578999996 4890327.6686, 548662.8454 4890383.578, 548674.7203000002 4890394.9529, 548688.7202000003 4890409.7028, 548704.8450999996 4890427.3277, 548713.4700999996 4890437.5776, 548741.3448000001 4890492.827199999, 548761.9265000001 4890538.6614, 548776.5946000004 4890571.3265, 548765.2197000002 4890635.575999999, 548725.5548 4890768.0315000005, 548724.4329000004 4890771.6822999995, 548673.0955999997 4890841.5747, 548599.8461999996 4890938.698999999, 548512.7222999996 4891038.4486, 548471.7226 4891081.6983, 548445.5977999996 4891107.323100001, 548418.1201999998 4891123.725400001, 548298.2973999996 4891168.837400001, 548099.9681000002 4891218.8934, 547773.2632999998 4891221.698100001, 547212.4414999997 4891253.551899999, 546900.2730999999 4891505.8784, 546661.7962999996 4891903.6623, 546229.7396 4892329.688100001, 546091.2407 4892168.5644000005, 545931.3668999998 4892066.690199999, 545858.1174999997 4892067.690199999, 545542.5214999998 4892233.188999999, 545363.9265000001 4892371.4285, 545355.0729 4892381.4355, 545341.1599000003 4892397.589, 545283.1531999996 4892500.558700001, 545284.8722000001 4892510.687000001, 545289.3722000001 4892527.686899999, 545361.7466000002 4892789.684800001, 545408.4962999998 4892915.933800001, 545457.4960000003 4893275.056, 545261.2474999996 4893536.804, 544992.9995999997 4893702.6778, 544745.0308999997 4893873.4954, 544425.6293000001 4894247.673699999, 544306.7548000002 4894394.6722, 544164.2972999997 4894660.9037, 543195.3892999999 4894944.6686, 542040.3982999995 4895234.6664, 541770.3997 4895473.414100001, 541460.4020999996 4895693.5374, 541059.9056000002 4895954.160700001, 540842.5360000003 4896064.414100001, 540909.1568 4896128.659399999, 540949.2642000001 4896176.8672, 540959.9064999996 4896189.659, 540962.7813999997 4896194.6589, 540969.7812000001 4896207.1587000005, 541122.1551000001 4896519.156199999, 541198.0295000002 4896697.6548, 541168.5296999998 4896804.653999999, 541072.6555000003 4897123.6515, 541504.5272000004 4897280.6502, 541797.3998999996 4897284.1502, 541894.9609000003 4898077.997099999, 541908.5242999997 4898777.138599999, 542518.8951000003 4899892.630100001, 543276.2637 4900456.1252, 544378.3801999995 4900594.6241999995, 545103.4995999997 4900388.625700001, 545624.8704000004 4900176.1271, 545682.477 4900280.4352, 545685.6200000001 4900286.1263999995, 545780.6193000004 4900469.125, 545882.7434 4901384.1175, 545770.1968999999 4901916.8248, 545607.8710000003 4902218.111500001, 544901.994 4902850.0177, 544237.5066999998 4904210.095899999, 544180.6321999999 4904275.0954, 544122.6326000001 4904329.095000001, 543579.7619000003 4904807.091399999, 543503.7625000002 4904873.0909, 543431.7631000001 4904918.090500001, 543338.2735000001 4904967.875600001, 542704.0186000001 4905358.086999999, 541985.1491999999 4905912.082699999, 541919.2747 4905966.0823, 541852.2637999998 4906024.007200001, 541845.2752999999 4906030.081800001, 541806.2756000003 4906096.0813, 541562.4027000004 4906657.077099999, 541453.5284000002 4906911.074999999, 540765.6589000002 4907495.070699999, 540663.7846999997 4907519.070499999, 540562.6605000002 4907582.07, 540080.9142000005 4908032.066500001, 539820.2911999999 4908290.5645, 539944.0404000003 4909134.058, 540263.9129999997 4909940.0517, 540740.9094000002 4910552.546800001, 541171.9062000001 4911229.5415, 541294.7801000001 4911454.539799999, 539844.9167999998 4912531.0319, 539531.0442000004 4912736.030300001, 539481.0445999997 4912863.0293000005, 539396.0453000003 4913191.026799999, 539378.0454000002 4913319.025699999, 539381.0454000002 4913539.524, 539383.0451999996 4913682.022700001, 539409.0449999999 4913862.021299999, 539395.6003 4913928.572699999, 539389.0451999996 4913961.020500001, 539362.2046999997 4914005.475099999, 539341.0455 4914040.5199, 538981.7624000004 4914540.624600001, 538977.2845999999 4914544.721899999, 538794.3200000003 4914411.8222, 538620.3838999998 4914272.392999999, 538423.1776 4914283.518100001, 537812.3074000003 4914646.5154, 537742.1830000002 4914698.515000001, 537686.1834000004 4914779.5143, 537610.3090000004 4914893.513499999, 537585.3092 4914993.512700001, 537588.3092 4915090.5119, 537657.1836999999 4915201.5111, 537669.3086000001 4915274.510500001, 537663.3086999999 4915361.5098, 537615.1841000002 4915806.5064, 537588.3093999997 4915880.505799999, 537294.3115999997 4916330.0024, 537087.3131999997 4916583.000399999, 537202.3123000003 4916746.9991, 537225.3465 4916776.7718, 537274.3118000003 4916839.998400001, 537305.8312999997 4916862.3247, 537346.2527999999 4916890.9135, 537925.3068000004 4917228.9953000005, 538141.1841000002 4917441.498500001, 538199.1853999998 4917492.5002, 538255.1853 4917542.4998, 538295.1847000001 4917587.4997000005, 538322.1848999998 4917623.499299999, 538455.1528000003 4918024.4964000005, 538431.1527000004 4918189.4947, 538393.0902000004 4918239.4943, 538375.6216000002 4918273.6658, 538373.1534000002 4918278.494100001, 538362.6535 4918312.494200001, 538444.2779000001 4918402.4932, 538509.2772000004 4918472.492900001, 539231.1774000004 4919009.488600001, 540900.8206000002 4919342.486099999, 542105.6840000004 4919528.475199999, 543051.3937999997 4919307.480900001, 543574.4974999996 4919428.43, 543833.7148000002 4919562.273700001, 543885.7127 4919783.575999999, 544155.3542999998 4920671.4695, 544446.3509 4920747.4681, 545692.9973999998 4920348.4712000005)))\",\n          \"MULTIPOLYGON (((423691.88939999975 4998024.170600001, 424494.1138000004 4997652.324899999, 424912.6682000002 4996964.3234, 424832.7400000002 4996593.829500001, 424901.63430000003 4996144.8379, 424989.81630000006 4995758.150599999, 425353.4955000002 4995280.587400001, 425583.1150000002 4995049.345899999, 425924.97200000007 4994734.8379999995, 426471.1451000003 4994478.184599999, 426531.9944000002 4994449.983100001, 426776.0251000002 4994346.4026, 427109.75040000025 4994226.912799999, 427233.34860000014 4994185.3499, 427249.2401999999 4994189.9364, 427276.9741000002 4994203.8365, 427479.0312000001 4994335.847999999, 427538.28500000015 4994392.4573, 428210.22229999956 4995632.341, 428314.45150000043 4995757.841700001, 428365.0856999997 4995832.842700001, 428437.9611999998 4995940.841399999, 428468.6782999998 4995992.5448, 428475.3624 4996003.9322, 428479.2753999997 4996013.4067, 428636.26829999965 4996405.4373, 428835.3354000002 4997257.8116, 429142.32940000016 4997721.3072, 429157.6392999999 4997671.828, 429184.8551000003 4997660.329600001, 430849.5532999998 4997170.0162, 431496.78139999975 4996983.583699999, 431510.18460000027 4996948.830399999, 431562.2121000001 4996715.3105, 431523.1786000002 4996483.331700001, 431424.20990000013 4996119.8091, 431070.36369999964 4995424.7982, 430813.14639999997 4995183.6183, 430758.72809999995 4995201.8159, 430752.83270000014 4995203.281199999, 430736.4424999999 4995207.3388, 430721.7269000001 4995209.7985, 430648.5903000003 4995218.83, 430537.82459999993 4995229.370999999, 430205.4417000003 4995214.8445999995, 430120.6919999998 4995053.3444, 430007.94070000015 4994621.8443, 429930.8476 4994299.350199999, 429977.21389999986 4993832.5233, 430272.69130000006 4993560.852299999, 430410.1190999998 4993518.835100001, 430776.77890000027 4993283.8653, 430779.87119999994 4993265.9120000005, 430870.5632999996 4992651.359200001, 430679.3576999996 4992155.7673, 430605.81149999984 4991297.8674, 431198.68730000034 4991025.3368, 431798.6518000001 4990559.0703, 431730.3052000003 4990190.3774999995, 431668.6793999998 4989796.379799999, 431666.17679999955 4989544.881100001, 431903.6754999999 4989227.8838, 431918.2982000001 4989215.884500001, 432019.3574000001 4989145.8245, 432034.17530000024 4989137.385199999, 432053.8008000003 4989126.385500001, 432069.9249 4989119.385500001, 432262.6690999996 4989042.885299999, 432300.0505999997 4989036.3849, 432430.4216 4989049.385500001, 432446.6721000001 4989125.8839, 432449.92619999964 4989169.8849, 432467.9221999999 4989217.3839, 432489.0471000001 4989256.3836, 432542.7966 4989267.882999999, 432591.6715000002 4989277.3837, 432629.17030000035 4989279.3846, 432799.2944 4989279.884400001, 432846.67030000035 4989274.883300001, 433067.9932000004 4989248.993799999, 433086.6942999996 4989246.4406, 433097.5536000002 4988981.385199999, 433098.31379999965 4988940.384500001, 433097.59530000016 4988912.3847, 433077.9759999998 4988768.013599999, 433054.39070000034 4988637.972999999, 432909.87679999974 4987656.3561, 433744.53259999957 4986550.9015999995, 434739.1796000004 4986984.8772, 435273.2731999997 4987408.896199999, 435882.1414000001 4987772.3949, 436219.7642000001 4987585.895300001, 436897.88430000003 4986884.9015, 437244.6328999996 4986640.9026, 437637.87770000007 4986128.9055, 438014.3770000003 4985580.4098000005, 438246.05840000045 4985236.785599999, 438349.8156000003 4985061.474300001, 438431.6196999997 4984857.9154, 438445.7466000002 4984805.4155, 438350.1196999997 4984721.9164, 438315.88740000036 4984721.5472, 438294.6359000001 4984740.399800001, 438281.37600000016 4984740.413799999, 438262.81549999956 4984727.4757, 438236.43960000016 4984706.4756000005, 438227.1908 4984692.977499999, 438220.11060000025 4984681.0118, 438217.9927000003 4984677.4154, 438215.3671000004 4984653.414899999, 438210.11620000005 4984579.416999999, 438203.4698999999 4984481.623299999, 438205.1774000004 4984447.9782, 438344.12119999994 4984349.4188, 438758.8252999997 4984885.2722, 439004.22140000015 4985266.811899999, 439173.9271 4985605.9399, 439250.0577999996 4985782.968900001, 439286.93649999984 4985891.2535, 439686.61000000034 4987150.899599999, 439317.05730000045 4987879.953600001, 439191.2770999996 4988399.4350000005, 439184.8786000004 4988431.3605, 439173.54580000043 4988494.5493, 439170.5384999998 4988512.087200001, 439167.7407999998 4988529.286900001, 439236.6827999996 4988690.446799999, 439887.40479999967 4989775.925899999, 440001.6113 4989963.380000001, 440166.3019000003 4990171.435900001, 440288.2320999997 4990277.876499999, 440488.6070999997 4990237.8772, 440605.6063000001 4990210.3771, 440843.8546000002 4990132.377599999, 441813.2876000004 4989999.9374, 443028.4740000004 4990112.858999999, 443939.5356999999 4990761.4175, 444489.8669999996 4991447.376800001, 444924.19990000036 4991596.4102, 445166.3381000003 4991610.045700001, 445789.4759999998 4991039.3956, 445464.74260000046 4990122.387700001, 445336.31659999955 4989876.378799999, 445299.0959999999 4989800.6456, 445578.3836000003 4989566.440300001, 445776.32490000036 4989418.0408, 446121.8217000002 4989176.2258, 446365.48479999974 4989084.736199999, 446604.48610000033 4988537.510600001, 447125.0471000001 4987170.861199999, 447655.0482000001 4987005.8946, 448440.24430000037 4986878.893300001, 449297.2898000004 4986261.407, 449563.91220000014 4985971.9076000005, 449530.53270000033 4984991.915999999, 449410.29679999966 4984243.9242, 449068.17289999966 4983721.9296, 448953.04760000017 4983211.9321, 448899.0482999999 4982902.9342, 448926.76400000043 4982753.8125, 448931.29810000025 4982731.435799999, 448934.0482999999 4982721.4355999995, 448940.67370000016 4982699.935900001, 448943.54899999965 4982692.4361000005, 449065.04789999966 4982462.936799999, 449601.53589999955 4981677.973099999, 450063.78830000013 4981455.4427000005, 450120.5357999997 4981428.442399999, 450182.9084000001 4981405.9509, 450242.6048999997 4981386.506899999, 450258.59949999955 4981387.6884, 450316.35500000045 4981392.5055, 450448.41860000044 4981455.912900001, 450454.96470000036 4981461.8508, 450639.27610000037 4981486.262499999, 450886.97470000014 4981453.005000001, 451034.52469999995 4981419.9406, 451160.0251000002 4981312.9417, 451511.6478000004 4980119.4494, 451512.7725999998 4979422.954299999, 450979.7878999999 4978388.4487, 450973.28450000007 4977521.4408, 450813.72229999956 4977127.036699999, 451141.21999999974 4976339.042099999, 451218.46970000025 4975633.046399999, 451112.56010000035 4974722.4957, 451094.83690000046 4974703.4158, 451085.6721000001 4974697.412699999, 451077.2949000001 4974691.939300001, 451037.27419999987 4974673.3705, 450964.9036999997 4974641.051200001, 450950.1963999998 4974641.1039, 450941.8247999996 4974641.214400001, 450916.0970999999 4974641.555500001, 450862.9724000003 4974643.554400001, 450838.0976 4974644.5538, 450804.09690000024 4974646.055, 450745.7231999999 4974653.5547, 450696.4732999997 4974660.5547, 450670.5991000002 4974665.054099999, 450658.4729000004 4974667.5547, 450409.1001000004 4974752.554199999, 450339.34979999997 4974777.054199999, 450233.4771999996 4974839.5526, 450177.4771999996 4974873.0535, 450163.8519000001 4974883.0538, 450136.22670000046 4974908.0535, 450086.35199999996 4974964.5513, 450060.81120000035 4974996.5908, 450034.28670000006 4975030.9583, 449552.09300000034 4974504.9837, 449527.55090000015 4973975.954500001, 449604.73170000035 4973193.065099999, 449973.28720000014 4971902.9745000005, 450403.53369999956 4971091.9904, 451004.2889999999 4969962.504799999, 451268.8443999998 4969498.093699999, 451584.21549999993 4969361.093900001, 451593.0915000001 4969367.5941, 451605.21549999993 4969372.0956, 451622.2159000002 4969373.594799999, 451657.71559999976 4969371.0941, 451695.59109999985 4969364.593900001, 451840.0887000002 4969294.096100001, 451874.2142000003 4969275.594699999, 451959.4639999997 4969218.095000001, 451926.2142000003 4969129.5956999995, 451888.58949999977 4969055.598200001, 451851.8398000002 4968985.0988, 451794.9653000003 4968899.099400001, 451716.5909000002 4968811.599099999, 451657.7153000003 4968756.5985, 451625.84059999976 4968734.5987, 451550.5921 4968683.1, 451460.0937999999 4968631.599400001, 451411.3432 4968606.1006000005, 451210.9707000004 4968519.601199999, 450944.0142000001 4967693.970799999, 450723.5376000004 4966530.512599999, 450706.91449999996 4966424.514799999, 450695.54569999967 4966347.0098, 450694.78949999996 4966284.0155, 450701.9491999997 4966141.366, 450703.8035000004 4966121.5166, 450706.56230000034 4966114.539100001, 450711.2271999996 4966110.946699999, 450793.2496999996 4966048.0371, 451106.0957000004 4965917.121200001, 451288.06570000015 4965973.5535, 452338.0876000002 4965648.123, 452396.3362999996 4965601.1237, 452412.7121000001 4965589.624500001, 452431.71109999996 4965579.1241999995, 452458.70969999954 4965574.1230999995, 452560.6451000003 4965555.535800001, 452803.7921000002 4965559.0341, 452813.6420999998 4965559.5298999995, 452841.5842000004 4965567.354900001, 453184.39410000015 4965709.115700001, 453390.8395999996 4965794.514599999, 453819.21580000035 4966078.502900001, 454125.69710000046 4966295.1182, 454429.52359999996 4966187.015000001, 454772.69379999954 4965132.1282, 454720.1392000001 4964640.0284, 454656.2589999996 4964499.529999999, 454445.1381000001 4964228.532299999, 454292.4463999998 4963675.637700001, 454193.55620000046 4963141.5074000005, 454407.57189999986 4962913.144400001, 454414.3200000003 4962906.144400001, 454420.8203999996 4962902.1447, 455638.31240000017 4962233.65, 457496.88159999996 4961465.0701, 457635.65529999975 4961549.555500001, 458102.79789999966 4961610.721100001, 458812.4212999996 4961670.302200001, 458826.6803000001 4961666.2217999995, 458940.7292999998 4961560.080800001, 459009.4118999997 4961494.156199999, 459021.9106999999 4961481.655300001, 459590.4793999996 4960904.5549, 459645.9787999997 4960848.052999999, 459658.2483999999 4960835.388900001, 459661.13520000037 4960829.695699999, 459666.08779999986 4960818.6095, 459578.6057000002 4960760.0594999995, 459429.48170000035 4960618.0623, 459407.11039999966 4960569.5594, 459351.2133999998 4960411.5232, 459355.4408999998 4960406.4805, 459382.9879999999 4960374.070900001, 460087.3558 4959733.069700001, 460384.57490000036 4959466.8298, 460460.8507000003 4959399.071699999, 460606.06259999983 4959271.091, 460625.6004999997 4959280.5679, 460861.97279999964 4959400.067600001, 460939.0225999998 4959185.172499999, 460615.5251000002 4959052.674000001, 460366.00380000006 4958931.547599999, 460293.1615000004 4958879.4442, 460241.0860000001 4958840.0691, 460162.83719999995 4958741.546700001, 459485.9880999997 4957807.1719, 459438.0270999996 4957706.196900001, 459400.5608999999 4957295.1423, 459404.4204000002 4957282.8155000005, 459440.4802000001 4957170.125600001, 459707.06180000026 4957408.0788, 459764.28560000006 4957491.5589000005, 459838.8076999998 4957649.002599999, 460011.97979999986 4957917.079, 460060.97869999986 4957990.0766, 460087.47580000013 4958010.5769, 460334.86369999964 4958102.8752999995, 460428.7485999996 4957938.5787, 460541.09609999973 4957735.5929000005, 460149.73000000045 4957337.583000001, 459990.78000000026 4957205.929300001, 459497.24399999995 4956377.5538, 459170.6712999996 4955802.0834, 459510.6023000004 4955640.428099999, 459560.56900000013 4955601.9311, 459555.6333999997 4955282.1329, 459544.1775000002 4955003.955499999, 459478.62629999965 4954925.067600001, 459459.57550000027 4954919.127599999, 459443.24739999976 4954915.554300001, 459029.9885999998 4954883.100500001, 459002.69519999996 4954882.590399999, 458976.24039999954 4954893.1204, 458945.74260000046 4954919.606000001, 458874.0089999996 4954998.1088, 458669.8468000004 4955309.575999999, 458461.96169999987 4955539.077299999, 458175.47479999997 4955702.128900001, 457788.4972000001 4955849.0856, 457734.49980000034 4955869.5832, 457704.78390000015 4955877.1119, 457691.1141999997 4955879.617799999, 457674.8696999997 4955882.5931, 457620.87040000036 4955879.0931, 457590.9983000001 4955864.091700001, 457576.9815999996 4955853.614700001, 457529.4989 4955817.5921, 457272.37289999984 4955597.5954, 456722.37799999956 4955107.5984000005, 456724.75519999955 4954925.0975, 456486.20380000025 4954148.930500001, 455878.2564000003 4954007.1055, 454670.5016000001 4953571.5701, 454463.5091000004 4952696.5912, 454665.6843999997 4951772.139, 454850.94460000005 4951064.736400001, 454386.7636000002 4950897.105, 453863.0267000003 4950831.1283, 453259.58860000037 4950657.7929, 453238.1026999997 4950641.4146, 453184.2810000004 4950567.6305, 453172.3317999998 4950503.239800001, 453160.9573999997 4950384.7393, 453166.2062999997 4950357.2411, 453319.7067999998 4949655.2453000005, 453669.21499999985 4949170.459799999, 453718.1557 4949192.135299999, 453873.5345999999 4949234.636299999, 453910.0488 4949235.6274, 454024.65309999976 4949216.1402, 454072.27720000036 4949153.1403, 454086.7739000004 4948933.685799999, 453897.42310000025 4948826.274499999, 453859.95299999975 4948805.252, 453117.6579999998 4948543.1437, 452776.21219999995 4948484.7555, 452030.7176000001 4948414.7554, 451647.0465000002 4948438.647399999, 451089.2856999999 4948587.1271, 450911.16860000044 4948737.1205, 450464.5064000003 4949137.489800001, 450125.06070000026 4949371.6543000005, 449953.9303000001 4949390.1215, 449890.5669999998 4949387.120999999, 449380.6928000003 4949327.121200001, 449351.07799999975 4949323.5999, 448368.19350000005 4949136.638800001, 448321.69400000013 4949112.138900001, 448283.32079999987 4949074.1405, 448260.96669999976 4949042.1227, 448247.74980000034 4949009.615700001, 448209.0120000001 4948767.2095, 448241.5184000004 4948630.9704, 448489.5083999997 4948042.1625, 448845.3651999999 4947313.2622, 448924.10589999985 4947142.687100001, 448883.6688000001 4946955.7139, 448728.80819999985 4946436.9537, 448676.2432000004 4945241.2798999995, 448792.9901999999 4944091.286900001, 448879.4082000004 4942981.975099999, 448701.30009999964 4942586.058800001, 448574.4601999996 4942427.168299999, 448229.4804999996 4941995.532, 447612.7726999996 4941288.2179000005, 447259.85450000037 4941093.712300001, 447031.56149999984 4941003.7469999995, 446522.20859999955 4940791.7925, 445865.38680000044 4939858.3344, 445738.60030000005 4939637.708900001, 445594.14269999973 4939165.326099999, 445590.7675000001 4938853.328, 445698.26630000025 4938451.3313, 445747.89049999975 4938282.3332, 445960.76410000026 4938116.333799999, 446772.23500000034 4937562.7181, 447082.37959999964 4937416.8386, 447167.72640000004 4937377.617699999, 447488.2653999999 4937406.314099999, 447520.5080000004 4937566.9838, 447517.6796000004 4937578.2161, 447515.6683 4937588.7654, 447514.2006999999 4937596.8137, 447490.2520000003 4937730.8355, 447496.2525000004 4937783.3355, 447525.62679999974 4937804.8353, 447707.2503000004 4937858.8346, 447798.8174999999 4937867.8507, 447804.49789999984 4937868.3763, 447931.74820000026 4937859.3365, 448149.77940000035 4937818.880100001, 448194.50960000046 4937808.6291000005, 448379.0804000003 4937727.199999999, 448452.13269999996 4937688.2007, 448534.7109000003 4937642.8685, 448543.1941999998 4937638.1109, 448893.1224999996 4936924.7359, 449052.9556 4936835.718599999, 449460.53450000007 4936556.8521, 449741.3594000004 4936224.8484000005, 449874.9760999996 4935954.5044, 449290.5806999998 4935499.217499999, 448783.6830000002 4935626.716600001, 448260.8504999997 4935564.3254, 447410.2204999998 4935121.2414, 447374.59580000024 4935086.741, 447281.09520000033 4934988.7411, 447241.0959000001 4934939.740800001, 447138.92260000017 4934807.8639, 447135.5044999998 4934803.3587, 447047.25490000006 4934682.3597, 446969.7569000004 4934561.8605, 446948.3507000003 4934474.245999999, 446617.60309999995 4934307.2267, 446112.60730000027 4934137.742699999, 446097.6058 4934133.742900001, 445804.9434000002 4934117.279999999, 445727.14910000004 4934114.7158, 444951.95150000043 4934608.591700001, 444234.8596999999 4934657.9374, 443101.9107999997 4933763.2508000005, 442858.0817999998 4933083.6833, 442850.43180000037 4933058.780099999, 442840.8728 4933027.656199999, 442835.46410000045 4933009.9432, 442795.2896999996 4932878.374, 442742.7898000004 4932611.876, 442721.2862 4932494.545499999, 442731.35720000044 4932460.587300001, 442743.01609999966 4932440.6932, 442775.1643000003 4932399.876700001, 442862.8660000004 4932311.225500001, 442983.6010999996 4931613.5496, 442891.63960000034 4931234.7568, 442859.2653999999 4931126.2586, 442843.63889999967 4931111.759, 442773.0142000001 4931102.757999999, 442727.4752000002 4931108.3237, 442701.9425999997 4931143.776000001, 442700.31240000017 4931146.090600001, 442687.53639999963 4931165.9178, 442674.87519999966 4931185.7519000005, 442674.56319999974 4931194.125600001, 442673.41420000046 4931231.3848, 442163.5208999999 4930890.261, 441722.7492000004 4930391.0363, 441412.67530000024 4930008.8957, 441316.3306999998 4929833.9933, 440626.65330000035 4930873.886399999, 440516.81070000026 4931229.181500001, 440332.48340000026 4932286.6666, 440109.9685000004 4933045.873, 439944.12480000034 4933203.3714000005, 439893.50040000025 4933246.8704, 439855.4062000001 4933253.3708999995, 439797.0016000001 4933222.3704, 439734.37629999965 4933171.8714000005, 439536.72190000024 4933604.2313, 439320.4743999997 4934393.3629, 439724.87689999957 4935256.8561, 440046.29110000003 4935651.2355, 440014.2767000003 4936221.3078000005, 439917.2320999997 4936753.2129999995, 439860.70210000034 4936789.190199999, 439797.13069999963 4936830.196699999, 439714.58189999964 4936899.2097, 439704.4765999997 4936909.0221, 439683.17700000014 4936929.726299999, 439492.4698999999 4937138.3401, 439128.7854000004 4937557.456599999, 438909.8074000003 4937862.2707, 438867.18429999985 4937921.717499999, 438798.37569999974 4938097.5635, 438819.6621000003 4938110.207, 439044.1233000001 4938384.9946, 439234.90359999985 4938649.7447999995, 439210.0278000003 4938694.7118999995, 439110.89240000024 4938847.5363, 439083.09800000023 4938888.8259, 439061.2889999999 4938898.8345, 438602.77689999994 4939078.6885, 438242.19409999996 4939872.3016, 438125.82349999994 4940169.816, 437841.98330000043 4940561.3149, 437702.7653000001 4940746.3135, 437681.1074000001 4940751.3122000005, 437654.70299999975 4940741.311899999, 437418.1854999997 4940624.011399999, 437410.30989999976 4940618.278999999, 437406.4456000002 4940615.4344999995, 437398.2410000004 4940609.207, 436274.77979999967 4940505.179500001, 436192.88960000034 4940826.2256000005, 436219.91050000023 4941685.0461, 436494.45050000027 4942505.0634, 436892.9434000002 4943246.161599999, 437447.9116000002 4944157.1577, 438037.03369999956 4944777.169500001, 438590.22530000005 4945497.775800001, 438568.00659999996 4946013.2718, 438441.3197999997 4946798.765799999, 438428.4769000001 4947354.2611, 438763.5547000002 4947776.641100001, 439284.25189999957 4948005.7557, 439627.37310000043 4948301.7552000005, 440023.6667999998 4948704.0999, 440547.38069999963 4949094.634, 440990.0987 4949340.2291, 441386.2131000003 4949646.668500001, 441875.2039000001 4950875.5011, 441852.87129999977 4951291.6249, 441558.5725999996 4951600.6338, 441512.09530000016 4951673.685900001, 441507.74619999994 4951680.5933, 441198.44909999985 4952253.104800001, 441168.7982000001 4952494.2228999995, 441141.4857999999 4953119.216499999, 441154.6113999998 4953229.717499999, 441161.8613 4953313.2159, 441163.79860000033 4953446.214, 441154.59420000017 4953475.682, 441123.27749999985 4953480.6076, 440657.62770000007 4953353.5877, 440208.4096999997 4952956.607799999, 440168.8700000001 4952787.117699999, 439608.1942999996 4952499.114600001, 439005.0658 4952472.2212000005, 438980.42459999956 4952476.9596, 438970.19990000036 4952479.0371, 438957.0954999998 4952481.7216, 438893.12880000006 4952510.721100001, 438838.5663999999 4952538.2213, 438679.09810000006 4952683.7204, 437902.0264999997 4952914.602700001, 437832.6354 4952936.2182, 437720.82359999977 4952990.217499999, 437642.73890000023 4953046.7389, 437527.7494999999 4953228.6064, 437478.5480000004 4953317.7894, 437475.6398 4953323.0743, 437470.92640000023 4953332.354499999, 437415.3490000004 4953444.109099999, 437403.52969999984 4953476.977, 437290.0256000003 4954265.102, 436960.76740000024 4955475.198899999, 435712.34140000027 4955703.1971, 435172.89109999966 4954968.095899999, 435045.7304999996 4954355.100400001, 434995.1710999999 4954136.5975, 434974.95139999967 4954078.0966, 434958.4201999996 4954032.5966, 434934.54700000025 4954002.5975, 434642.3317999998 4953669.105699999, 434311.80709999986 4953576.086300001, 433823.7402999997 4953273.6088, 433883.1102 4952340.111400001, 433389.18960000016 4951746.6184, 432694.69799999986 4951808.2499, 432696.14329999965 4951829.226600001, 432694.05030000024 4951865.7259, 432625.42349999957 4952021.5239, 432489.90749999974 4952305.111500001, 432401.63609999977 4952468.612299999, 432325.63719999976 4952608.6129, 432196.3965999996 4952834.467599999, 431780.0366000002 4953405.0989, 431636.8717 4954200.7094, 431678.7237999998 4954389.5505, 431622.3997999998 4954683.4397, 431564.4667999996 4954874.203400001, 431445.0613000002 4955070.701199999, 431278.60759999976 4955206.895, 430693.0661000004 4955507.6982, 430154.49729999993 4955616.2105, 430098.1805999996 4955483.109300001, 430061.65579999983 4955405.593800001, 430019.9632000001 4955350.5934, 429996.9776999997 4955327.042400001, 429985.92530000024 4955315.7574000005, 429978.5426000003 4955309.0759, 429777.2037000004 4955388.5163, 429178.9689999996 4955857.0888, 428745.2951999996 4956205.6075, 428527.9187000003 4956382.604699999, 428380.04870000016 4956522.0111, 428421.6127000004 4956559.0525, 428471.23950000014 4956591.6186, 428509.8844999997 4956601.602499999, 428573.55260000005 4956615.0528, 428687.70490000024 4956633.1894000005, 429099.60720000044 4957520.6809, 429071.7341 4957600.181700001, 428998.64080000017 4957847.1796, 428989.3287000004 4957935.179400001, 428993.017 4958003.678400001, 429021.2034 4958068.677300001, 429055.92289999966 4958133.678300001, 429090.6403000001 4958188.177200001, 429139.32710000034 4958228.676100001, 429200.98369999975 4958248.176899999, 429265.60780000035 4958241.6767, 429348.8454999998 4958228.5867, 429486.49430000037 4958188.570800001, 429504.6842 4958182.9804, 429545.05819999985 4958170.5715, 429608.6492999997 4958150.552999999, 429655.6496000001 4958121.0539, 429665.69070000015 4958111.545399999, 429675.5619999999 4958102.1894000005, 429695.0729 4958083.6786, 429709.5398000004 4958057.1778, 429713.44770000037 4958030.677999999, 429714.9776999997 4958020.178099999, 430040.6755999997 4957920.4156, 430703.4096999997 4958389.177300001, 431582.59559999965 4959479.050799999, 431366.1199000003 4959672.568, 431088.4556999998 4960141.2794, 431147.06070000026 4960714.658600001, 431286.8487 4961989.5447, 431313.0711000003 4962037.071799999, 431346.80709999986 4962128.078199999, 431323.89919999987 4962151.3719999995, 431250.01860000007 4962226.347100001, 431025.3729999997 4962398.1448, 430671.7193999998 4962639.7761, 430556.6392999999 4962661.039899999, 430343.29279999994 4962665.455800001, 430249.04509999976 4962655.039999999, 430150.3925999999 4962644.023800001, 430107.2611999996 4962634.0417, 430084.88320000004 4962613.850099999, 430081.7921000002 4962611.0484, 429909.89690000005 4962415.9922, 429717.60199999996 4962293.6459, 429584.86560000014 4962218.066500001, 429382.9880999997 4962229.5436, 429312.0473999996 4962373.0699000005, 428963.29509999976 4963172.530099999, 428884.24870000035 4963320.5076, 428645.59800000023 4963497.5615, 428642.6079000002 4963499.544199999, 428636.03839999996 4963503.843, 428577.76779999956 4963541.636399999, 428429.7374999998 4963615.6361, 428394.74820000026 4963597.558499999, 427821.1618999997 4963131.536, 427772.0329999998 4963089.537699999, 427726.8772 4963043.538000001, 427682.7352999998 4962992.571, 427490.4645999996 4962674.1428, 427457.9435999999 4962620.042199999, 427145.2287999997 4962039.853399999, 426358.1847000001 4961913.314099999, 426090.19409999996 4962049.646600001, 425742.7204999998 4962267.5529, 425387.2122999998 4962356.7446, 425150.77300000004 4962239.0131, 424787.08050000016 4961859.106000001, 424688.1337000001 4961723.635299999, 424671.3912000004 4961696.149800001, 424574.4539000001 4961434.650599999, 423889.7324000001 4961801.549799999, 423662.27890000027 4962132.0393, 423118.77859999985 4962860.6403, 423011.31709999964 4962964.867799999, 422913.49459999986 4963032.813200001, 422802.9992000004 4963103.1373, 422748.15579999983 4963121.638800001, 422712.5007999996 4963124.1373, 422690.5628000004 4963122.6381, 422684.8267999999 4963122.0984000005, 422630.4497999996 4963116.882999999, 422574.11170000024 4963103.5363, 422545.25009999983 4963090.556299999, 422490.6783999996 4963063.3693, 422481.5469000004 4963026.5364, 422455.04619999975 4962968.035700001, 422425.18819999974 4962941.6391, 422397.26379999984 4962917.6392, 422380.92310000025 4962904.036900001, 422294.1169999996 4962861.0373, 422230.45940000005 4962838.0383, 422099.14859999996 4962812.039100001, 422066.5437000003 4962807.979800001, 421950.8191999998 4962794.5668, 421943.42059999984 4962794.7874, 421833.55420000013 4962800.0373, 421672.70600000024 4962815.0163, 421456.3317999998 4962856.540999999, 421310.0834999997 4962889.5649999995, 420866.60759999976 4963137.637499999, 420428.6607999997 4963435.033299999, 419680.5226999996 4964260.126, 419571.7428000001 4965181.0271000005, 419381.68090000004 4966057.114499999, 419076.5697999997 4966934.848999999, 418336.87679999974 4967388.6052, 417998.5310000004 4967303.5068, 417123.9056000002 4966557.010199999, 416497.95299999975 4966423.7271, 416486.61259999964 4966464.506999999, 416470.4974999996 4966501.331599999, 416320.1930999998 4966707.006999999, 416025.0267000003 4967106.539799999, 415549.36670000013 4967431.604, 415280.8269999996 4968194.9998, 414633.9182000002 4970378.2874, 414635.8607000001 4970394.001700001, 414636.2287999997 4970397.863600001, 414637.38790000044 4970410.998400001, 414637.70469999965 4970417.2217999995, 414637.98900000006 4970423.054199999, 414638.22389999963 4970430.2815000005, 414632.47229999956 4970470.474099999, 414627.3158999998 4970477.4355999995, 414354.0795999998 4970671.9847, 414196.8328999998 4970744.4866, 414150.5844999999 4970764.478, 413890.79760000017 4970875.945800001, 413820.33079999965 4970842.4858, 413727.49619999994 4970785.467800001, 413695.0943999998 4970764.4679000005, 413661.5131000001 4970741.013, 413594.6166000003 4970676.467800001, 413402.5900999997 4970453.9814, 413260.8114 4970236.9725, 413038.96640000027 4970282.4881, 412986.0926000001 4970295.4859, 412952.8417999996 4970305.9891, 412833.77579999994 4970357.3444, 412789.8326000003 4970376.4266, 412653.0948000001 4970437.488299999, 412618.2204999998 4970453.502800001, 412061.2061999999 4970718.4571, 412007.3152999999 4970836.9056, 411964.34580000024 4972049.4274, 412012.89159999974 4972059.4845, 412109.9857000001 4972067.2305, 412457.9523 4972093.642899999, 412745.7215 4972076.4734000005, 413494.5569000002 4971800.5583, 414273.2034999998 4971572.9745000005, 414734.7659 4971702.8046, 415090.3543999996 4972321.0011, 415226.2424999997 4972646.5647, 415231.86620000005 4972699.5625, 415233.9919999996 4972724.5622000005, 415165.5404000003 4972965.9266, 414765.6955000004 4973880.915999999, 414768.5694000004 4974219.463199999, 414763.39169999957 4974306.8324, 414403.54959999956 4974313.487299999, 414288.8476 4974311.9264, 413971.0992999999 4974303.957699999, 413952.84860000014 4974302.925100001, 413749.6141999997 4974289.926100001, 413412.4960000003 4974263.9246, 413167.3415999999 4974244.954, 412947.34449999966 4974218.4551, 412593.8504999997 4974117.953199999, 412291.8421 4974669.9515, 412159.4724000003 4975040.448799999, 411935.6012000004 4976285.4395, 412200.5999999996 4976432.958699999, 412239.59559999965 4976419.9443, 412289.5663999999 4976407.8729, 412341.55709999986 4976398.9176, 412350.59619999956 4976401.939300001, 412613.59420000017 4976551.937999999, 412746.6281000003 4976627.959799999, 413031.21079999954 4976799.6186, 413171.5903000003 4976900.9350000005, 413178.03550000023 4976907.396299999, 413185.5067999996 4976915.0746, 413210.58999999985 4976940.9343, 413235.2695000004 4976971.695499999, 413249.62119999994 4977039.9637, 413272.56850000005 4977196.2486000005, 413316.58949999977 4977696.9298, 413355.7598000001 4978242.9912, 413423.50430000015 4979741.0098, 414363.6074999999 4980643.887599999, 414482.07830000017 4980754.4092, 414654.5778999999 4980903.9081, 414913.87260000035 4981119.3533, 415131.25739999954 4981299.883400001, 415538.5164999999 4981678.9464, 415732.62009999994 4982214.9048999995, 415782.0554999998 4982418.6383, 415837.5087000001 4982666.3684, 415941.50370000023 4983134.9494, 415976.8175999997 4983348.420700001, 416009.3764000004 4983556.4147, 415948.5697999997 4983570.9142, 415868.4071000004 4983589.8072999995, 415788.79470000044 4983605.737199999, 415497.5696999999 4983661.9245, 414647.57739999983 4983847.9212, 414559.5705000004 4983999.175100001, 414585.37179999985 4984374.1448, 414602.6531999996 4984571.7107, 414603.56620000023 4984581.8826, 414836.57660000026 4985575.9056, 415243.57430000044 4986065.9069, 415300.5675999997 4986053.9146, 415313.56850000005 4986054.9069, 415425.5689000003 4986076.9037, 415483.1785000004 4986091.4615, 415496.09240000043 4986094.8237, 415522.591 4986101.8707, 416027.57129999995 4986244.868899999, 417363.7231999999 4986708.9586, 417543.51690000016 4987123.842599999, 417936.1835000003 4988147.929300001, 417915.59300000034 4988183.945499999, 417885.9583999999 4988226.3101, 417873.2923999997 4988244.3946, 417826.4685000004 4988301.9463, 417753.5508000003 4988390.8291, 417628.9932000004 4988531.8741, 417003.8507000003 4989468.892100001, 416499.61010000017 4989580.8638, 416357.58910000045 4988455.8641, 416326.53029999975 4988323.0287999995, 416284.5641999999 4988176.859200001, 415976.59389999975 4988061.8276, 415928.7008999996 4988045.875700001, 415919.5751 4988042.863500001, 415911.5608000001 4988042.874, 415900.5664999997 4988045.888699999, 415884.5806999998 4988054.8968, 415752.8777999999 4988134.109300001, 415726.22869999986 4988215.4607, 415646.4479 4988544.384400001, 415611.7843000004 4988843.965, 415621.5329 4988856.8983, 415638.69600000046 4988901.8814, 415643.32320000045 4988951.4154, 415629.3191999998 4988980.8825, 415429.72339999955 4989387.404999999, 415243.19859999977 4989611.8719, 415223.06510000024 4989627.353599999, 414874.45999999996 4989815.6172, 414071.58910000045 4990145.9066, 413659.5893000001 4990266.8704, 413058.59360000025 4990382.8719, 413046.5943 4990370.8729, 413009.59329999983 4990334.871200001, 412859.59470000025 4990204.873400001, 412843.6310999999 4990196.874399999, 412744.48890000023 4990461.902899999, 412739.57519999985 4990476.821900001, 412740.5963000003 4990491.8575, 412763.62509999983 4990577.8444, 413004.6749999998 4991387.803099999, 413033.6270000003 4992571.8324, 413027.59329999983 4993405.8418000005, 413095.5745000001 4993911.8507, 413127.6710999999 4994093.8539, 413142.35059999954 4994095.662799999, 413149.89639999997 4994096.5834, 413156.10030000005 4994097.305600001, 413317.9342 4994103.876700001, 413360.4773000004 4994104.8429000005, 413751.58359999955 4994108.3232, 413936.62229999993 4994091.9012, 414060.3026999999 4994061.5864, 414074.0769999996 4994055.813999999, 414082.3775000004 4994045.7882, 414085.2252000002 4994042.3243, 414088.36429999955 4994029.340299999, 414089.28199999966 4994008.345799999, 414282.99370000046 4993240.908500001, 414476.5848000003 4992498.819599999, 414564.52689999994 4992256.454, 414793.67229999974 4991904.9739, 414796.1032999996 4991901.483899999, 414807.7410000004 4991885.417199999, 414817.4912999999 4991874.417300001, 414842.8658999996 4991853.4175, 414863.6160000004 4991837.918299999, 414907.0970999999 4991807.8243, 414995.18759999983 4991831.342499999, 415153.3717 4992568.3484000005, 415495.6113999998 4992719.411699999, 415804.07660000026 4992632.8412999995, 416368.82349999994 4992502.8847, 416374.5865000002 4992502.4629, 416379.68489999976 4992504.8211, 416385.29229999986 4992519.9322, 416390.4724000003 4992534.0342999995, 416440.8047000002 4992671.299900001, 416495.4667999996 4992830.873299999, 416574.1947999997 4993076.3224, 416599.6889000004 4993227.3465, 416505.9780000001 4993896.4032000005, 416268.68149999995 4994508.3221, 416229.8196999999 4994556.8474, 416153.5650000004 4994647.335899999, 416084.6895000003 4994728.8354, 415968.9319000002 4994863.309800001, 415883.73230000027 4994946.393999999, 415957.7271999996 4995364.3254, 416428.83889999986 4995811.2981, 417408.30319999997 4996306.308800001, 417763.2065000003 4996462.862500001, 417924.55700000003 4996472.3233, 418077.0497000003 4996463.3257, 418369.4204000002 4996444.329399999, 418544.41420000046 4996431.8277, 419256.5862999996 4996809.8225, 420065.31630000006 4997486.4761, 420217.44959999993 4997611.875700001, 420552.1233000001 4997812.4835, 421673.62289999984 4997631.903100001, 422141.67059999984 4997483.7267, 422437.5236999998 4997390.8335, 422619.3702999996 4997375.3916, 422952.51070000045 4997494.7948, 422963.13790000044 4997499.7853999995, 422974.784 4997510.327199999, 423055.4247000003 4997607.8050999995, 423063.9263000004 4997618.675100001, 423065.38609999977 4997621.465600001, 423069.54449999984 4997629.804400001, 423089.5564000001 4997675.3368999995, 423110.82749999966 4997724.8629, 423113.1628999999 4997731.3311, 423114.12590000033 4997737.1284, 423120.5412999997 4997803.3061, 423691.88939999975 4998024.170600001)))\"\n        ],\n        \"semantic_type\": \"\",\n        \"description\": \"\"\n      }\n    }\n  ]\n}"
            }
          },
          "metadata": {},
          "execution_count": 76
        }
      ],
      "source": [
        "provinces.head(3)"
      ]
    },
    {
      "cell_type": "code",
      "execution_count": 77,
      "metadata": {
        "colab": {
          "base_uri": "https://localhost:8080/"
        },
        "id": "i1MtGFC0VvQu",
        "outputId": "d94620bd-3056-4cc0-981c-d7cc3cb4a447"
      },
      "outputs": [
        {
          "output_type": "execute_result",
          "data": {
            "text/plain": [
              "Index(['COD_RIP', 'COD_REG', 'COD_PROV', 'COD_CM', 'COD_UTS', 'DEN_PROV',\n",
              "       'DEN_CM', 'DEN_UTS', 'SIGLA', 'TIPO_UTS', 'geometry'],\n",
              "      dtype='object')"
            ]
          },
          "metadata": {},
          "execution_count": 77
        }
      ],
      "source": [
        "provinces.columns"
      ]
    },
    {
      "cell_type": "markdown",
      "metadata": {
        "id": "9dv1SuJKVsgl"
      },
      "source": [
        "**COD_RIP**<br/>\n",
        "*codice ripartizione*<br/>\n",
        "numeric code of the macroregion of belonging\n",
        "\n",
        "**COD_REG**<br/>\n",
        "*codice regione*<br/>\n",
        "numeric code of the region of belonging\n",
        "\n",
        "**COD_PROV**<br/>\n",
        "*codice provincia*<br/>\n",
        "numeric code of the region of belonging\n",
        "\n",
        "**COD_CM**<br/>\n",
        "*codice comune*<br/>\n",
        "Istat code of the metropolitan city (three characters in\n",
        "reference to all official statistics are\n",
        "numeric format) obtained by adding the value 200 to\n",
        "adopted the statistical codes of the cities\n",
        "corresponding code of the province.\n",
        "\n",
        "**COD_UTS**<br/>\n",
        "*codice unità territoriali sovracomunali*<br/>\n",
        "Numeric code that uniquely identifies the Units\n",
        "territorial supra-municipal on the national territory.\n",
        "\n",
        "**DEN_PROV**<br/>\n",
        "*denominazione provincia*<br/>\n",
        "name of the province\n",
        "\n",
        "**DEN_CM**<br/>\n",
        "*denominazione città metropolitana*<br/>\n",
        "name of the metropolitan city\n",
        "\n",
        "**DEN_UTS**<br/>\n",
        "*denominazione unità territoriale sovracomunale*<br/>\n",
        "Denomination of the supra-municipal territorial units.\n",
        "\n",
        "**SIGLA**<br/>\n",
        "*sigla*<br/>\n",
        "abbreviation\n",
        "\n",
        "**TIPO_UTS**<br/>\n",
        "*tipologia unità territoriale sovracomunale*<br/>\n",
        "kind of supra-municipal territorial units.\n",
        "\n"
      ]
    },
    {
      "cell_type": "markdown",
      "metadata": {
        "id": "k3c2DpbwXVwp"
      },
      "source": [
        "### filter it for an italian provice at your choice (eg. Trento)\n",
        "\n",
        "obtain the list of all the provincies"
      ]
    },
    {
      "cell_type": "code",
      "execution_count": 78,
      "metadata": {
        "colab": {
          "base_uri": "https://localhost:8080/"
        },
        "id": "nAivKuiMALan",
        "outputId": "8546d8d0-90e0-4d36-cad9-e46d224ceccc"
      },
      "outputs": [
        {
          "output_type": "execute_result",
          "data": {
            "text/plain": [
              "array(['-', 'Vercelli', 'Novara', 'Cuneo', 'Asti', 'Alessandria', 'Aosta',\n",
              "       'Imperia', 'Savona', 'La Spezia', 'Varese', 'Como', 'Sondrio',\n",
              "       'Bergamo', 'Brescia', 'Pavia', 'Cremona', 'Mantova', 'Bolzano',\n",
              "       'Trento', 'Verona', 'Vicenza', 'Belluno', 'Treviso', 'Padova',\n",
              "       'Rovigo', 'Udine', 'Gorizia', 'Trieste', 'Piacenza', 'Parma',\n",
              "       \"Reggio nell'Emilia\", 'Modena', 'Ferrara', 'Ravenna',\n",
              "       \"Forli'-Cesena\", 'Pesaro e Urbino', 'Ancona', 'Macerata',\n",
              "       'Ascoli Piceno', 'Massa Carrara', 'Lucca', 'Pistoia', 'Livorno',\n",
              "       'Pisa', 'Arezzo', 'Siena', 'Grosseto', 'Perugia', 'Terni',\n",
              "       'Viterbo', 'Rieti', 'Latina', 'Frosinone', 'Caserta', 'Benevento',\n",
              "       'Avellino', 'Salerno', \"L'Aquila\", 'Teramo', 'Pescara', 'Chieti',\n",
              "       'Campobasso', 'Foggia', 'Taranto', 'Brindisi', 'Lecce', 'Potenza',\n",
              "       'Matera', 'Cosenza', 'Catanzaro', 'Trapani', 'Agrigento',\n",
              "       'Caltanissetta', 'Enna', 'Ragusa', 'Siracusa', 'Sassari', 'Nuoro',\n",
              "       'Pordenone', 'Isernia', 'Oristano', 'Biella', 'Lecco', 'Lodi',\n",
              "       'Rimini', 'Prato', 'Crotone', 'Vibo Valentia',\n",
              "       'Verbano-Cusio-Ossola', 'Monza e della Brianza', 'Fermo',\n",
              "       'Barletta-Andria-Trani', 'Sud Sardegna'], dtype=object)"
            ]
          },
          "metadata": {},
          "execution_count": 78
        }
      ],
      "source": [
        "provinces['DEN_PROV'].unique()"
      ]
    },
    {
      "cell_type": "markdown",
      "metadata": {
        "id": "3xadwHnaAnD1"
      },
      "source": [
        "obtain the list of all the metropolitan ciies"
      ]
    },
    {
      "cell_type": "code",
      "execution_count": 79,
      "metadata": {
        "colab": {
          "base_uri": "https://localhost:8080/"
        },
        "id": "T8nPq64OAtmJ",
        "outputId": "0fe9016f-67df-4b5b-9410-a78ded9bb211"
      },
      "outputs": [
        {
          "output_type": "execute_result",
          "data": {
            "text/plain": [
              "array(['Torino', '-', 'Genova', 'Milano', 'Venezia', 'Bologna', 'Firenze',\n",
              "       'Roma', 'Napoli', 'Bari', 'Reggio di Calabria', 'Palermo',\n",
              "       'Messina', 'Catania', 'Cagliari'], dtype=object)"
            ]
          },
          "metadata": {},
          "execution_count": 79
        }
      ],
      "source": [
        "provinces.DEN_CM.unique()"
      ]
    },
    {
      "cell_type": "markdown",
      "metadata": {
        "id": "gdaz8GslA6Q8"
      },
      "source": [
        "choose the province of Trento"
      ]
    },
    {
      "cell_type": "code",
      "execution_count": 80,
      "metadata": {
        "id": "btDGt41ZIeGO"
      },
      "outputs": [],
      "source": [
        "province_of_trento = provinces[provinces['DEN_PROV']=='Trento']"
      ]
    },
    {
      "cell_type": "code",
      "execution_count": 81,
      "metadata": {
        "colab": {
          "base_uri": "https://localhost:8080/",
          "height": 133
        },
        "id": "krZReRm1Ihk0",
        "outputId": "2ad60abf-0684-4bbf-f093-17cbfa8bacd4"
      },
      "outputs": [
        {
          "output_type": "execute_result",
          "data": {
            "text/plain": [
              "    COD_RIP  COD_REG  COD_PROV  COD_CM  COD_UTS DEN_PROV DEN_CM DEN_UTS SIGLA  \\\n",
              "21        2        4        22       0       22   Trento      -  Trento    TN   \n",
              "\n",
              "              TIPO_UTS                                           geometry  \n",
              "21  Provincia autonoma  MULTIPOLYGON (((716713.938 5155903.052, 716725...  "
            ],
            "text/html": [
              "\n",
              "  <div id=\"df-946c14d8-33a6-453b-916a-0d2d4a2f12ea\" class=\"colab-df-container\">\n",
              "    <div>\n",
              "<style scoped>\n",
              "    .dataframe tbody tr th:only-of-type {\n",
              "        vertical-align: middle;\n",
              "    }\n",
              "\n",
              "    .dataframe tbody tr th {\n",
              "        vertical-align: top;\n",
              "    }\n",
              "\n",
              "    .dataframe thead th {\n",
              "        text-align: right;\n",
              "    }\n",
              "</style>\n",
              "<table border=\"1\" class=\"dataframe\">\n",
              "  <thead>\n",
              "    <tr style=\"text-align: right;\">\n",
              "      <th></th>\n",
              "      <th>COD_RIP</th>\n",
              "      <th>COD_REG</th>\n",
              "      <th>COD_PROV</th>\n",
              "      <th>COD_CM</th>\n",
              "      <th>COD_UTS</th>\n",
              "      <th>DEN_PROV</th>\n",
              "      <th>DEN_CM</th>\n",
              "      <th>DEN_UTS</th>\n",
              "      <th>SIGLA</th>\n",
              "      <th>TIPO_UTS</th>\n",
              "      <th>geometry</th>\n",
              "    </tr>\n",
              "  </thead>\n",
              "  <tbody>\n",
              "    <tr>\n",
              "      <th>21</th>\n",
              "      <td>2</td>\n",
              "      <td>4</td>\n",
              "      <td>22</td>\n",
              "      <td>0</td>\n",
              "      <td>22</td>\n",
              "      <td>Trento</td>\n",
              "      <td>-</td>\n",
              "      <td>Trento</td>\n",
              "      <td>TN</td>\n",
              "      <td>Provincia autonoma</td>\n",
              "      <td>MULTIPOLYGON (((716713.938 5155903.052, 716725...</td>\n",
              "    </tr>\n",
              "  </tbody>\n",
              "</table>\n",
              "</div>\n",
              "    <div class=\"colab-df-buttons\">\n",
              "\n",
              "  <div class=\"colab-df-container\">\n",
              "    <button class=\"colab-df-convert\" onclick=\"convertToInteractive('df-946c14d8-33a6-453b-916a-0d2d4a2f12ea')\"\n",
              "            title=\"Convert this dataframe to an interactive table.\"\n",
              "            style=\"display:none;\">\n",
              "\n",
              "  <svg xmlns=\"http://www.w3.org/2000/svg\" height=\"24px\" viewBox=\"0 -960 960 960\">\n",
              "    <path d=\"M120-120v-720h720v720H120Zm60-500h600v-160H180v160Zm220 220h160v-160H400v160Zm0 220h160v-160H400v160ZM180-400h160v-160H180v160Zm440 0h160v-160H620v160ZM180-180h160v-160H180v160Zm440 0h160v-160H620v160Z\"/>\n",
              "  </svg>\n",
              "    </button>\n",
              "\n",
              "  <style>\n",
              "    .colab-df-container {\n",
              "      display:flex;\n",
              "      gap: 12px;\n",
              "    }\n",
              "\n",
              "    .colab-df-convert {\n",
              "      background-color: #E8F0FE;\n",
              "      border: none;\n",
              "      border-radius: 50%;\n",
              "      cursor: pointer;\n",
              "      display: none;\n",
              "      fill: #1967D2;\n",
              "      height: 32px;\n",
              "      padding: 0 0 0 0;\n",
              "      width: 32px;\n",
              "    }\n",
              "\n",
              "    .colab-df-convert:hover {\n",
              "      background-color: #E2EBFA;\n",
              "      box-shadow: 0px 1px 2px rgba(60, 64, 67, 0.3), 0px 1px 3px 1px rgba(60, 64, 67, 0.15);\n",
              "      fill: #174EA6;\n",
              "    }\n",
              "\n",
              "    .colab-df-buttons div {\n",
              "      margin-bottom: 4px;\n",
              "    }\n",
              "\n",
              "    [theme=dark] .colab-df-convert {\n",
              "      background-color: #3B4455;\n",
              "      fill: #D2E3FC;\n",
              "    }\n",
              "\n",
              "    [theme=dark] .colab-df-convert:hover {\n",
              "      background-color: #434B5C;\n",
              "      box-shadow: 0px 1px 3px 1px rgba(0, 0, 0, 0.15);\n",
              "      filter: drop-shadow(0px 1px 2px rgba(0, 0, 0, 0.3));\n",
              "      fill: #FFFFFF;\n",
              "    }\n",
              "  </style>\n",
              "\n",
              "    <script>\n",
              "      const buttonEl =\n",
              "        document.querySelector('#df-946c14d8-33a6-453b-916a-0d2d4a2f12ea button.colab-df-convert');\n",
              "      buttonEl.style.display =\n",
              "        google.colab.kernel.accessAllowed ? 'block' : 'none';\n",
              "\n",
              "      async function convertToInteractive(key) {\n",
              "        const element = document.querySelector('#df-946c14d8-33a6-453b-916a-0d2d4a2f12ea');\n",
              "        const dataTable =\n",
              "          await google.colab.kernel.invokeFunction('convertToInteractive',\n",
              "                                                    [key], {});\n",
              "        if (!dataTable) return;\n",
              "\n",
              "        const docLinkHtml = 'Like what you see? Visit the ' +\n",
              "          '<a target=\"_blank\" href=https://colab.research.google.com/notebooks/data_table.ipynb>data table notebook</a>'\n",
              "          + ' to learn more about interactive tables.';\n",
              "        element.innerHTML = '';\n",
              "        dataTable['output_type'] = 'display_data';\n",
              "        await google.colab.output.renderOutput(dataTable, element);\n",
              "        const docLink = document.createElement('div');\n",
              "        docLink.innerHTML = docLinkHtml;\n",
              "        element.appendChild(docLink);\n",
              "      }\n",
              "    </script>\n",
              "  </div>\n",
              "\n",
              "\n",
              "  <div id=\"id_2d8f2a82-8278-4155-9b3e-c7abdf5a565c\">\n",
              "    <style>\n",
              "      .colab-df-generate {\n",
              "        background-color: #E8F0FE;\n",
              "        border: none;\n",
              "        border-radius: 50%;\n",
              "        cursor: pointer;\n",
              "        display: none;\n",
              "        fill: #1967D2;\n",
              "        height: 32px;\n",
              "        padding: 0 0 0 0;\n",
              "        width: 32px;\n",
              "      }\n",
              "\n",
              "      .colab-df-generate:hover {\n",
              "        background-color: #E2EBFA;\n",
              "        box-shadow: 0px 1px 2px rgba(60, 64, 67, 0.3), 0px 1px 3px 1px rgba(60, 64, 67, 0.15);\n",
              "        fill: #174EA6;\n",
              "      }\n",
              "\n",
              "      [theme=dark] .colab-df-generate {\n",
              "        background-color: #3B4455;\n",
              "        fill: #D2E3FC;\n",
              "      }\n",
              "\n",
              "      [theme=dark] .colab-df-generate:hover {\n",
              "        background-color: #434B5C;\n",
              "        box-shadow: 0px 1px 3px 1px rgba(0, 0, 0, 0.15);\n",
              "        filter: drop-shadow(0px 1px 2px rgba(0, 0, 0, 0.3));\n",
              "        fill: #FFFFFF;\n",
              "      }\n",
              "    </style>\n",
              "    <button class=\"colab-df-generate\" onclick=\"generateWithVariable('province_of_trento')\"\n",
              "            title=\"Generate code using this dataframe.\"\n",
              "            style=\"display:none;\">\n",
              "\n",
              "  <svg xmlns=\"http://www.w3.org/2000/svg\" height=\"24px\"viewBox=\"0 0 24 24\"\n",
              "       width=\"24px\">\n",
              "    <path d=\"M7,19H8.4L18.45,9,17,7.55,7,17.6ZM5,21V16.75L18.45,3.32a2,2,0,0,1,2.83,0l1.4,1.43a1.91,1.91,0,0,1,.58,1.4,1.91,1.91,0,0,1-.58,1.4L9.25,21ZM18.45,9,17,7.55Zm-12,3A5.31,5.31,0,0,0,4.9,8.1,5.31,5.31,0,0,0,1,6.5,5.31,5.31,0,0,0,4.9,4.9,5.31,5.31,0,0,0,6.5,1,5.31,5.31,0,0,0,8.1,4.9,5.31,5.31,0,0,0,12,6.5,5.46,5.46,0,0,0,6.5,12Z\"/>\n",
              "  </svg>\n",
              "    </button>\n",
              "    <script>\n",
              "      (() => {\n",
              "      const buttonEl =\n",
              "        document.querySelector('#id_2d8f2a82-8278-4155-9b3e-c7abdf5a565c button.colab-df-generate');\n",
              "      buttonEl.style.display =\n",
              "        google.colab.kernel.accessAllowed ? 'block' : 'none';\n",
              "\n",
              "      buttonEl.onclick = () => {\n",
              "        google.colab.notebook.generateWithVariable('province_of_trento');\n",
              "      }\n",
              "      })();\n",
              "    </script>\n",
              "  </div>\n",
              "\n",
              "    </div>\n",
              "  </div>\n"
            ],
            "application/vnd.google.colaboratory.intrinsic+json": {
              "type": "dataframe",
              "variable_name": "province_of_trento",
              "summary": "{\n  \"name\": \"province_of_trento\",\n  \"rows\": 1,\n  \"fields\": [\n    {\n      \"column\": \"COD_RIP\",\n      \"properties\": {\n        \"dtype\": \"number\",\n        \"std\": null,\n        \"min\": 2,\n        \"max\": 2,\n        \"num_unique_values\": 1,\n        \"samples\": [\n          2\n        ],\n        \"semantic_type\": \"\",\n        \"description\": \"\"\n      }\n    },\n    {\n      \"column\": \"COD_REG\",\n      \"properties\": {\n        \"dtype\": \"number\",\n        \"std\": null,\n        \"min\": 4,\n        \"max\": 4,\n        \"num_unique_values\": 1,\n        \"samples\": [\n          4\n        ],\n        \"semantic_type\": \"\",\n        \"description\": \"\"\n      }\n    },\n    {\n      \"column\": \"COD_PROV\",\n      \"properties\": {\n        \"dtype\": \"number\",\n        \"std\": null,\n        \"min\": 22,\n        \"max\": 22,\n        \"num_unique_values\": 1,\n        \"samples\": [\n          22\n        ],\n        \"semantic_type\": \"\",\n        \"description\": \"\"\n      }\n    },\n    {\n      \"column\": \"COD_CM\",\n      \"properties\": {\n        \"dtype\": \"number\",\n        \"std\": null,\n        \"min\": 0,\n        \"max\": 0,\n        \"num_unique_values\": 1,\n        \"samples\": [\n          0\n        ],\n        \"semantic_type\": \"\",\n        \"description\": \"\"\n      }\n    },\n    {\n      \"column\": \"COD_UTS\",\n      \"properties\": {\n        \"dtype\": \"number\",\n        \"std\": null,\n        \"min\": 22,\n        \"max\": 22,\n        \"num_unique_values\": 1,\n        \"samples\": [\n          22\n        ],\n        \"semantic_type\": \"\",\n        \"description\": \"\"\n      }\n    },\n    {\n      \"column\": \"DEN_PROV\",\n      \"properties\": {\n        \"dtype\": \"string\",\n        \"num_unique_values\": 1,\n        \"samples\": [\n          \"Trento\"\n        ],\n        \"semantic_type\": \"\",\n        \"description\": \"\"\n      }\n    },\n    {\n      \"column\": \"DEN_CM\",\n      \"properties\": {\n        \"dtype\": \"string\",\n        \"num_unique_values\": 1,\n        \"samples\": [\n          \"-\"\n        ],\n        \"semantic_type\": \"\",\n        \"description\": \"\"\n      }\n    },\n    {\n      \"column\": \"DEN_UTS\",\n      \"properties\": {\n        \"dtype\": \"string\",\n        \"num_unique_values\": 1,\n        \"samples\": [\n          \"Trento\"\n        ],\n        \"semantic_type\": \"\",\n        \"description\": \"\"\n      }\n    },\n    {\n      \"column\": \"SIGLA\",\n      \"properties\": {\n        \"dtype\": \"string\",\n        \"num_unique_values\": 1,\n        \"samples\": [\n          \"TN\"\n        ],\n        \"semantic_type\": \"\",\n        \"description\": \"\"\n      }\n    },\n    {\n      \"column\": \"TIPO_UTS\",\n      \"properties\": {\n        \"dtype\": \"string\",\n        \"num_unique_values\": 1,\n        \"samples\": [\n          \"Provincia autonoma\"\n        ],\n        \"semantic_type\": \"\",\n        \"description\": \"\"\n      }\n    },\n    {\n      \"column\": \"geometry\",\n      \"properties\": {\n        \"dtype\": \"geometry\",\n        \"num_unique_values\": 1,\n        \"samples\": [\n          \"MULTIPOLYGON (((716713.9375 5155903.052300001, 716725.8609999996 5155659.137800001, 716726.0579000004 5155634.5659, 716726.3770000003 5155594.227600001, 716723.4497999996 5155532.535, 716718.0082 5155492.4471, 716712.4376999997 5155451.419, 716703.4686000003 5155396.179, 716734.4812000003 5154900.705800001, 716981.7416000003 5154480.692, 716705.5767000001 5154050.575200001, 716315.3163000001 5153577.2696, 715969.3431000002 5152800.716, 715706.8383 5151782.721999999, 715702.1951000001 5151759.5524, 715704.6684999997 5151743.108100001, 715717.9703000002 5151691.182399999, 715761.3344 5151561.6712, 715942.5038000001 5151023.3473000005, 715998.0875000004 5150981.1129, 716096.8305000002 5150929.656400001, 716139.5351 5150907.895500001, 716181.4885 5150886.8058, 716186.3426999999 5150884.7039, 716193.233 5150882.4353, 716225.3619999997 5150872.8100000005, 716265.8515999997 5150861.696, 716744.7905000001 5150791.1226, 717290.8537999997 5150834.793, 717499.1645 5150859.6852, 718302.7944 5150851.191, 718982.9900000002 5150792.639, 720121.2905000001 5150636.262, 720925.0980000002 5150445.703199999, 721627.2561999997 5149758.6677, 721650.2736999998 5149735.5525, 721697.7709999997 5149559.2073, 721750.7703999998 5149068.210899999, 721819.3048 5147834.2279, 721843.5382000003 5147187.223300001, 720780.0883 5146327.230900001, 720713.0895999996 5146275.231799999, 720619.2770999996 5146216.232000001, 720553.3169 5146187.7322, 720481.8139000004 5146179.255899999, 720053.5718999999 5146161.112199999, 719811.0553000001 5146216.1285, 719503.4570000004 5146252.678300001, 719012.3141000001 5146251.540100001, 718967.5846999995 5146235.4837, 718911.8592999997 5146014.164799999, 718903.5799000002 5145980.4098000005, 718853.5796999997 5145776.558599999, 718837.9391999999 5145712.7907, 718825.3015000001 5145661.264599999, 718278.3640000001 5144519.6872000005, 718257.8960999995 5144473.5305, 718251.3436000003 5144458.754000001, 718204.8876 5144352.708799999, 718159.5697999997 5144235.1578, 718116.1283 5144099.1932, 718114.9863 5144080.1118, 718131.8402000004 5144041.2415, 718142.8086000001 5144024.8727, 718265.6595999999 5143874.8201, 718303.5831000004 5143831.9914, 718348.2915000003 5143782.342599999, 718419.0586999999 5143711.280300001, 718279.2632999998 5142950.7851, 717990.0813999996 5142112.2007, 717773.0138999997 5141011.7903, 717865.0251000002 5139800.8078000005, 718084.2880999995 5138773.8277, 718104.0334999999 5138635.8588, 718091.3064000001 5138612.188200001, 717927.4976000004 5138632.8007, 717882.8704000004 5138648.544500001, 717871.2593 5138652.7371, 717744.8901000004 5138712.407500001, 717325.7838000003 5139152.1291000005, 717268.5867999997 5139217.1961, 717188.0746999998 5139336.569800001, 717052.3162000002 5139577.363, 716501.3183000004 5139147.3442, 716402.4424999999 5138738.8082, 715719.1376999998 5138438.078500001, 715254.5526999999 5138501.5265, 714673.5466999998 5138573.299000001, 714126.0394000001 5138333.963199999, 714095.7673000004 5138314.8608, 714061.6617 5138290.830499999, 713865.3282000003 5138129.715299999, 713815.8705000002 5138084.7655, 713615.9007000001 5137840.3818, 713467.5899 5137638.2634, 713433.8152000001 5137589.9474, 713455.5544999996 5137549.8467999995, 713880.1009 5136807.7281, 714340.8172000004 5136597.3049, 714739.8150000004 5136441.3057, 715456.8090000004 5136105.3071, 715623.5126999998 5135700.838500001, 715711.6328999996 5135012.2577, 716272.4627 5134754.054099999, 716655.5733000003 5134589.149499999, 717086.7785 5134410.267200001, 717997.7894000001 5133796.3224, 718029.7889 5133275.3267, 718084.7877000002 5132658.330600001, 718258.6613999996 5132400.8791000005, 718390.7851999998 5132248.333699999, 718403.5761000002 5132233.6708, 718428.1814000001 5132205.5276999995, 718431.9107999997 5132201.2623, 718589.7836999996 5132148.3343, 718282.7857999997 5131235.3408, 717724.7841999996 5129603.418400001, 717713.8936000001 5129593.1183, 717763.0470000003 5129487.962400001, 718006.8497000001 5129093.9267, 718444.1690999996 5128411.839199999, 718896.8068000004 5127978.615599999, 719875.2372000003 5128102.640799999, 720803.5566999996 5128385.080499999, 721323.5789999999 5128724.8266, 721839.7433000002 5128973.929, 721893.2510000002 5128999.2411, 722052.2268000003 5129056.943299999, 722109.3322999999 5129069.7838, 722153.5915000001 5129077.802300001, 722198.0392000005 5129079.959899999, 722203.5471000001 5129079.9999, 722256.7676999997 5129080.386, 722278.3852000004 5129073.9531, 722282.5532999998 5129072.3331, 722389.5104999999 5128879.8105, 722487.4733999996 5128645.7179000005, 722516.0055 5128572.7652, 722537.9782999996 5128506.4416000005, 722547.7346999999 5128381.4661, 722527.5115999999 5127934.3311, 722508.8080000002 5127550.893100001, 722502.6676000003 5127478.9387, 722492.5483999997 5127440.927300001, 722463.0100999996 5127410.945499999, 722453.2308 5127401.2118, 722431.0092000002 5127379.331900001, 722403.1194000002 5127350.000600001, 722376.7681999998 5127310.332800001, 722372.5520000001 5127300.8949, 722353.3322999999 5127257.796599999, 722335.6986999996 5127200.8957, 722334.4802000001 5127196.956499999, 722326.3485000003 5127161.982000001, 722322.7788000004 5127146.477499999, 722327.9024999999 5127100.896600001, 722332.1301999995 5127063.286800001, 722354.1065999996 5127001.0963, 722357.0380999995 5126992.9757, 722377.2971000001 5126936.8661, 722395.9292000001 5126891.1379, 722444.0993999997 5126784.3577, 722708.1249000002 5126420.161499999, 722847.2462999998 5126239.949899999, 722888.4320999999 5126200.9036, 722903.5415000003 5126186.5791, 722907.8569999998 5126182.4878, 723093.6533000004 5126013.997400001, 723127.5186999999 5126002.2345, 723278.2150999997 5126086.557600001, 723405.6199000003 5126196.0572, 723525.3163999999 5126309.536, 723550.7511 5126368.649700001, 724497.9172 5126245.9077, 724549.4336999999 5126191.8089000005, 724579.8351999996 5126165.7973, 724753.5281999996 5126022.171700001, 725150.0195000004 5125762.304400001, 725189.1766999997 5125740.036599999, 725203.5241 5125735.429400001, 725211.2414999995 5125732.973300001, 725258.2105999999 5125733.874299999, 725305.006 5125742.823999999, 725453.5218000002 5125776.638, 725533.9659000002 5125796.763800001, 725651.4610000001 5125827.035599999, 725234.6152999997 5124951.146500001, 724979.5577999996 5124665.3928, 724716.9747000001 5123994.2469999995, 724549.2896999996 5123553.489600001, 724378.0740999999 5123098.8116999995, 724478.3289999999 5123021.9056, 724807.8288000003 5122784.2294, 724894.7971000001 5122769.8124, 725212.3080000002 5122631.9734000005, 725539.0750000002 5122334.011600001, 725562.7337999996 5122300.9339000005, 725564.4923 5122298.475299999, 725653.6490000002 5122172.306500001, 725685.9552999996 5122107.910599999, 725687.5241 5122104.2689, 725696.5187999997 5122083.387599999, 725714.4029000001 5122033.898, 725768.7758999998 5121769.977600001, 725844.3338000001 5121441.7403, 726040.4623999996 5121161.9276, 726423.2631000001 5120672.9153, 726704.3859999999 5120405.3892, 726780.7187999999 5120338.467499999, 726796.0263 5120333.801100001, 726982.2806000002 5120345.9429, 727161.7906 5120376.308700001, 727814.0078999996 5120442.473099999, 728407.4269000003 5120450.9409, 728560.2187000001 5120439.024900001, 728614.2281999998 5119485.3717, 728614.7487000003 5119419.973099999, 728614.6498999996 5119403.412799999, 728598.1906000003 5119248.1687, 728562.5038000001 5119139.962400001, 728513.7105 5119042.8465, 728357.2430999996 5118841.319800001, 728109.1741000004 5118718.899900001, 727782.2271999996 5117850.342, 727808.2803999996 5117752.8795, 727836.2970000003 5117635.898499999, 727858.0964000002 5117541.6384, 727873.9100000001 5117473.0451, 727870.3317999998 5117460.7421, 727784.0061999997 5117181.873199999, 727678.9464999996 5117203.4648, 727590.9315 5117223.390900001, 727090.6231000004 5117415.324999999, 726963.5551000005 5117464.511299999, 726939.4851000002 5117473.8432, 726733.8548999997 5117556.486500001, 726039.892 5117403.057399999, 725738.5140000004 5116374.332800001, 725553.5158000002 5116135.138499999, 725335.7692999998 5115440.0568, 725372.4276999999 5115329.8862, 725455.9605999999 5115079.206800001, 725466.2947000004 5115048.875499999, 725453.5219999999 5114696.788799999, 724543.4678999996 5113728.5667, 724323.2955999998 5113158.018999999, 724157.8021 5112650.996099999, 723897.5329 5112185.530099999, 723756.0290000001 5111935.6975, 723559.1875 5111594.272700001, 723498.9217999997 5111546.4296, 722881.2187999999 5111121.0353, 722543.2222999996 5111150.144200001, 722161.6933000004 5111092.5199, 721712.7585000005 5110953.8771, 720966.3435000004 5110708.097200001, 719865.0528999995 5110443.437100001, 719253.8152999999 5110316.514, 718199.4171000002 5109885.528000001, 717550.2741 5109392.9781, 716914.5272000004 5109290.6216, 715726.8038999997 5109292.912699999, 714638.6091999998 5109261.057, 713853.5965999998 5108855.4147, 713543.1832999997 5108602.1620000005, 713240.6441000002 5108369.6757, 713175.7818 5108375.610200001, 713065.8112000003 5108421.5076, 712998.8114999998 5108502.507200001, 712943.8114999998 5108583.506999999, 712883.8129000003 5108708.505899999, 712839.8125999998 5108803.5054, 712676.6491999999 5109213.7425, 712501.8859999999 5109354.078, 711655.341 5109337.5656, 710090.3964 5109119.6021, 709234.3649000004 5108091.6193, 708352.6485000001 5108059.4013, 708329.3938999996 5108073.8445, 708082.1722999997 5108123.9594, 708018.9643000001 5108122.709000001, 707863.8037 5108107.744100001, 707839.7045999998 5108103.6851, 707825.2945999997 5108101.1731, 707791.8430000003 5108092.65, 707784.9578999998 5108088.437100001, 707768.5820000004 5108078.389599999, 707600.1475 5107969.0426, 707574.5829999996 5107949.5272, 707463.8706999999 5107786.4377999995, 707432.5168000003 5107726.0045, 707410.875 5107681.2226, 707366.5982999997 5107572.414100001, 707364.7648 5107563.9541, 707364.0319999997 5107560.476600001, 707361.2651000004 5107547.2073, 707360.5979000004 5107543.8302, 707361.2652000003 5107452.298599999, 707365.5274999999 5107272.0876, 707383.7433000002 5107091.8848, 707490.3172000004 5106041.967599999, 707765.0752999997 5105000.9911, 708360.5793000003 5104489.607100001, 708639.8403000003 5104206.431600001, 709200.9857000001 5103407.6764, 709312.6562999999 5102801.2053, 708913.8934000004 5102547.3288, 708058.2061000001 5102490.140900001, 707563.3362999996 5102500.702199999, 707141.3951000003 5102449.5351, 706566.0405000001 5101928.1866, 706384.7498000003 5101748.792099999, 706348.7207000004 5101669.9669, 706323.1244000001 5101574.421700001, 706311.4544000002 5101527.4573, 706316.0136000002 5101511.465299999, 706347.5472999997 5101432.081, 706805.5459000003 5100866.994899999, 706829.9439000003 5100837.134099999, 706866.9035 5100798.048599999, 706899.4187000003 5100776.6007, 707159.7828000002 5100702.0974, 707312.3704000004 5100688.1965, 707274.3669999996 5100207.578600001, 706881.4379000003 5099791.913899999, 706607.1662999997 5099477.8138, 706774.1129999999 5099128.5503, 707254.5107000005 5098150.957, 707648.9519999996 5097445.640000001, 708043.4930999996 5096929.4517, 708074.3356999997 5096865.620200001, 708304.3748000003 5096288.501599999, 707907.5607000003 5095781.8036, 707898.3260000004 5095770.2588, 707885.4429000001 5095746.8422, 707884.4298 5095516.111300001, 707885.7951999996 5095416.8277, 707899.8482999997 5094707.7312, 708020.3515999997 5094133.169, 707340.8454999998 5093723.6183, 706607.8498 5093516.6194, 706154.8666000003 5093570.136499999, 705679.8567000004 5093571.619999999, 705320.5932 5093550.2765, 704870.8629000001 5093417.6208999995, 704753.6536999997 5093371.355, 704718.8638000004 5093357.622300001, 704703.9214000003 5093349.9428, 704590.8646999998 5093291.622400001, 704553.6551000001 5093269.8412, 704521.7258000001 5093251.150800001, 704467.8661000002 5093219.623199999, 704347.8668 5093171.623199999, 704303.6568999998 5093159.6193, 704196.8672000002 5093130.624, 703953.6594000002 5093086.4043000005, 703943.8687000005 5093084.6241999995, 703603.7106999997 5093031.7421, 703649.8518000003 5093251.151000001, 703660.3668 5093301.1513, 703669.4397999998 5093344.2927, 703723.4747000001 5093601.1493, 703761.2772000004 5093780.8441, 703809.5757999998 5094010.4329, 703055.2092000004 5094217.7118999995, 702569.3524000002 5093748.546599999, 702291.0548 5093752.3967, 701875.1864999998 5094018.5517, 701450.2533999998 5094151.790899999, 700951.1133000003 5094101.146500001, 700903.682 5094047.627699999, 700792.8921999997 5093922.619000001, 700472.8943999996 5093858.6196, 700454.4467000002 5093951.2991, 700404.7772000004 5094201.3629, 700371.2702000001 5094370.186000001, 700342.1645999998 5094516.885500001, 700268.8428999996 5094886.6908, 700176.7551999995 5095351.1404, 700129.1100000003 5095589.2983, 699987.3739 5096296.5622000005, 699936.2878999999 5096544.1153, 699756.9198000003 5097368.6085, 699535.1656 5098001.5239, 699524.2318000002 5098003.830399999, 699507.6662999997 5098003.161900001, 698977.7050000001 5097980.6864, 697945.1392000001 5098373.4712000005, 697588.8059 5098511.378900001, 696146.9277999997 5098517.5886, 695528.7221999997 5098451.117699999, 695245.608 5098407.454500001, 694413.9407000002 5098332.5908, 693819.0214 5098313.541300001, 693619.0676999995 5098299.181299999, 693094.9501 5098144.592700001, 693089.784 5098142.5923999995, 693040.9506999999 5098120.592700001, 692919.9516000003 5098058.5934999995, 692752.4917000001 5097930.649900001, 692663.1881999997 5097809.2083, 692479.9415999996 5097477.4443, 692333.5289000003 5097201.134199999, 691476.2598000001 5096774.9541, 690672.5389 5096101.0732, 690213.2434999999 5095501.1416, 689932.9353999998 5095175.114499999, 689702.2306000004 5094978.211100001, 689645.4634999996 5094933.2337, 689514.0429999996 5094838.532400001, 688089.3119999999 5094764.1512, 686927.7260999996 5094767.6294, 685969.9568999996 5094640.7269, 685913.9665000001 5094637.661900001, 685570.4606999997 5094669.096999999, 684417.4901 5094970.0416, 684223.3915999997 5095026.035, 684089.0892000003 5095031.2996, 683904.3216000004 5094974.0076, 683877.8636999996 5094965.0371, 683857.0547000002 5094954.207699999, 683829.8191 5094921.286900001, 683824.7570000002 5094868.7289, 683822.8447000002 5094827.5847, 683793.7156999996 5093989.5503, 683788.4637000002 5093810.050100001, 684116.3114 5092472.9945, 684267.7341999998 5092038.15, 684482.9567 5091719.4276, 684503.9922000002 5091709.1395, 684538.9797999999 5091685.7436999995, 684626.1884000003 5091603.873199999, 684652.5947000002 5091546.035700001, 684677.2329000002 5091431.1282, 684684.7505999999 5091349.4789, 684629.7703999998 5090641.1775, 684481.7287999997 5090451.594799999, 683816.7794000003 5090361.8178, 683738.9719000002 5090353.178200001, 683701.9148000004 5090351.114800001, 683693.6243000003 5090350.6533, 683690.6108999997 5090350.4856, 683684.9546999997 5090350.1807, 683537.7181000002 5090346.1329, 683488.7756000003 5090345.1997, 683485.2691000002 5090345.1468, 683465.9748 5090346.2929, 683409.3287000004 5090349.7249, 683332.5477 5090356.7445, 683264.4159000004 5090368.2246, 683258.8247999996 5090369.3926, 683240.8380000005 5090373.7787, 683204.2975000003 5090382.799799999, 683199.3940000003 5090384.0568, 683194.3389999997 5090385.3551, 683047.7547000004 5090423.664100001, 682891.9863 5090068.2083, 682947.1147999996 5089415.0393, 682759.2017000001 5088821.096999999, 682491.7686000001 5088296.209100001, 682456.7918999996 5088279.0591, 682442.2150999997 5088271.286800001, 682129.4104000004 5088101.364499999, 681994.5445999997 5088026.4629999995, 681872.1179 5087958.260299999, 681838.3152999999 5087937.882999999, 681912.7855000002 5087772.257999999, 681924.9051999999 5087746.5427, 681941.6596999997 5087711.603399999, 681947.0252999999 5087701.813999999, 681960.6642000005 5087676.949100001, 681974.1459999997 5087653.637599999, 681990.0333000002 5087626.2261, 682079.0653999997 5087475.1797, 682126.5131999999 5087400.6185, 682161.3876999998 5087350.146, 682163.8425000003 5087346.696799999, 682196.7348999996 5087301.2051, 682201.0855999999 5087295.187899999, 682236.2262000004 5087251.542199999, 682250.9589 5087233.5622000005, 682280.0640000002 5087085.5657, 682273.5329999998 5086833.827299999, 682272.3480000002 5086820.784600001, 682238.4117 5086746.634400001, 682213.7621999998 5086692.9234, 682207.5850999998 5086679.6942, 682015.0234000003 5086634.6983, 681965.0316000003 5086624.3345, 681960.3002000004 5086623.3739, 681946.9159000004 5086623.296700001, 681934.1836999999 5086623.3178, 681916.2806000002 5086623.3982, 681891.8710000003 5086642.709799999, 681217.2718000002 5087201.217800001, 680585.9033000004 5087472.2579, 680487.1990999999 5087454.3805, 680477.6723999996 5087452.835200001, 680467.3486000001 5087451.193, 680461.9133000001 5087450.4068, 680286.3963000001 5087497.3796999995, 680020.6107000001 5087701.786900001, 679753.8333 5087923.049000001, 679630.9123 5088073.645, 679328.0551000005 5088519.6064, 678729.8459000001 5088510.155300001, 678353.8443 5089421.325099999, 678291.3951000003 5088735.2685, 678366.3705000002 5088573.3188000005, 678390.6343999999 5088510.5845, 678437.8739 5088382.1493999995, 678456.2904000003 5088327.051899999, 678475.5570999999 5088256.268300001, 678617.0202000001 5087678.1645, 678647.7824999997 5087543.7687, 678579.6343999999 5087517.9701000005, 677583.9002 5087387.1075, 676852.0799000002 5087535.024900001, 676077.1408000002 5087513.2029, 675543.9807000002 5087449.960000001, 675365.1234999998 5087173.1316, 675334.1703000003 5086347.685799999, 675126.0502000004 5085763.7929, 674634.0741999997 5084970.2732, 674824.3779999996 5084626.1174, 674837.5263 5084601.2281, 674876.3864000002 5084527.667099999, 674914.0480000004 5084451.2292, 674921.9905000003 5084435.109099999, 674929.0789999999 5084380.625399999, 674932.2287999997 5084351.229900001, 674935.1341000004 5084324.1161, 674936.7663000003 5084301.2303, 674939.1660000002 5084267.582699999, 674940.2292999998 5084251.230599999, 674946.7317000004 5084151.2314, 674947.051 5084146.320900001, 674979.3097000001 5083632.764699999, 674953.8657 5083632.266000001, 674926.0539999995 5083631.721000001, 674903.8660000004 5083633.5031, 674876.3831000002 5083635.7105, 674853.8663999997 5083638.401799999, 674822.2763 5083642.1778, 674715.8540000003 5083659.1631000005, 674707.2973999996 5083660.7075, 674703.8674999997 5083661.3266, 674618.2980000004 5083676.7728, 674614.2600999996 5083679.295600001, 674603.8680999996 5083685.788799999, 674562.4199000001 5083711.6872000005, 674418.5654999996 5083806.3038, 674403.8711000001 5083816.208900001, 674047.1179 5083651.7994, 673576.9645999996 5083233.3815, 673559.5665999996 5082955.245200001, 673812.9603000004 5082752.0823, 674100.4164000005 5082801.241699999, 674122.5685999999 5082819.6467, 674140.2417000001 5082834.3089000005, 674150.1343 5082839.809699999, 674169.8305000002 5082824.8796, 674152.6360999998 5082701.4144, 673860.0996000003 5080601.2578, 673770.0824999996 5080470.7303, 673169.6151 5079935.8682, 672577.1229999997 5079663.8092, 672327.4128 5078674.9999, 672353.8680999996 5078371.885299999, 672322.9336999999 5077842.653999999, 672057.5379999997 5077652.9427000005, 671304.1398 5077245.399599999, 670761.9808999998 5076806.6777, 670219.2340000002 5076021.5998, 670215.5515999999 5076013.914799999, 670076.25 5075716.6811, 670052.6807000004 5075664.2206999995, 670042.5783000002 5075612.3561, 670032.8536 5075473.594900001, 670128.1135999998 5074700.8232, 670141.3099999996 5074641.695699999, 670159.5701000001 5074583.0513, 670174.8443999998 5074535.721899999, 670192.1995999999 5074482.168299999, 670216.3677000003 5074436.6631000005, 670235.8864000002 5074405.82, 670251.5645000003 5074394.9372000005, 670478.3716000002 5074397.286599999, 670447.0983999996 5073674.1316, 670421.9183999998 5073661.4176, 670438.9086999996 5073603.7425, 670459.8812999995 5073535.4070999995, 670477.1518999999 5073483.1844999995, 670494.8192999996 5073442.2853, 670590.8915999997 5073244.3894, 670635.3672000002 5073154.823799999, 670670.8812999995 5073087.386700001, 670925.6316 5072750.6951, 670973.8587999996 5072688.3901, 670990.5719999997 5072668.9142, 671087.8930000002 5072555.577299999, 671132.6301999995 5072503.8565, 671206.1846000003 5072471.385500001, 671293.4921000004 5072432.888599999, 671259.5476000002 5072351.319399999, 671097.4005000005 5072207.0735, 671033.0906999996 5072179.8813000005, 670925.5130000003 5072134.394200001, 670920.9304 5072132.608999999, 670904 5072131.769099999, 670891.5933999997 5072131.207699999, 670476.5033999998 5072114.9618, 670406.8481999999 5072112.3368999995, 670301.3622000003 5072113.313100001, 670247.1464999998 5072116.3849, 670196.6391000003 5072136.837200001, 670170.3254000004 5072151.3213, 670153.8957000002 5072160.3649, 670134.9556999998 5072170.7903, 670108.8349000001 5072197.7903, 670104.7050999999 5072202.0758, 670034.1593000004 5072277.8336, 669774.3965999996 5072500.785800001, 669397.869 5072771.680600001, 669318.9050000003 5072813.639599999, 669299.2144999998 5072816.1918, 669213.3455999997 5072820.877, 669195.1665000003 5072816.7509, 669129.1144000003 5072792.179400001, 669114.3364000004 5072785.5013999995, 669108.9013 5072783.0218, 668978.6401000004 5072689.614499999, 668966.8491000002 5072673.4178, 668956.1013000002 5072657.189099999, 668947.5658999998 5072642.8780000005, 668949.3744000001 5072626.399700001, 669086.2822000002 5072216.831499999, 669263.3395999996 5071901.3235, 669410.6116000004 5071382.3368, 669473.6416999996 5071121.274499999, 669475.7019999996 5071101.735300001, 669477.1337000001 5071087.880799999, 669553.8832 5070239.0922, 669571.9453999996 5070017.9463, 669568.0367999999 5070001.337300001, 669557.5839 5069956.9198, 669546.9934 5069915.8946, 669545.9106999999 5069911.702099999, 669542.8942 5069900.0978, 669484.9119999995 5069774.6171, 669363.8836000003 5069325.825999999, 669267.8541000001 5068754.7477, 669267.0554 5068287.411599999, 669352.9404999996 5067716.2477, 669499.6244000001 5067208.856000001, 669365.1573999999 5067001.3594, 669196.8459000001 5066751.361300001, 669040.3377 5066524.9056, 668662.7867 5066125.738700001, 668302.1109999996 5065799.1842, 668153.9074999997 5065713.574999999, 667582.5202000001 5065294.0297, 667218.0813999996 5064882.678400001, 666506.6900000004 5064034.355900001, 666472.1765999999 5063989.747199999, 666465.6842999998 5063975.675000001, 666351.1443999996 5063392.7633, 666340.6897999998 5063333.798, 666278.3881999999 5062938.4032000005, 666275.6913999999 5062888.339299999, 666278.4302000003 5062862.9684999995, 666282.3274999997 5062851.3914, 666288.2445 5062833.8149, 666490.8590000002 5062590.2467, 666006.7533 5062151.396600001, 665484.9467000002 5061850.763900001, 665295.4299999997 5061776.4986000005, 665303.7644999996 5061790.4683, 665307.3908000002 5061815.372300001, 665315.9210000001 5061904.988500001, 665336.4981000004 5062124.9573, 665321.7758999998 5062222.755100001, 665249.4140999997 5062372.6797, 665213.6338 5062387.968800001, 665161.7691000002 5062410.0232, 665133.9264000002 5062416.3824000005, 665109.1474000001 5062421.918099999, 664671.0453000003 5062501.3946, 664469.7052999996 5062474.2533, 664052.9102999996 5062400.390000001, 663494.2939999998 5062265.3244, 662718.9419 5062410.887499999, 661229.0064000003 5063401.394200001, 660877.1787 5063701.387399999, 660327.9477000004 5064319.532400001, 660172.9249999998 5064636.9122, 659989.8666000003 5064798.4793, 659758.6289999997 5064606.167400001, 659707.1895000003 5064534.338500001, 659536.5985000003 5064285.0261, 658901.9452 5063444.954399999, 657839.1823000005 5063240.440400001, 657802.6655000001 5063235.741, 657724.7306000004 5063236.915999999, 656987.9965000004 5063351.392899999, 656933.1561000003 5063551.2555, 656851.9941999996 5063913.367000001, 656888.0159999998 5064209.2775, 656564.0129000004 5064508.751700001, 656187.5363999996 5063834.7237, 655374.0406999998 5063540.509, 655333.4513999997 5063113.294500001, 655351.0917999996 5063107.907299999, 655477.7591000004 5063000.2532, 655513.2892000005 5062965.275599999, 655522.0341999996 5062873.8244, 655525.0941000003 5062834.6554000005, 655533.0100999996 5062733.3247, 655546.4332999997 5062555.4616, 655522.6096000001 5062326.7157000005, 654872.1397000002 5061771.945, 654084.5418999996 5061013.5057, 653289.2778000003 5060448.267999999, 653282.9464999996 5060900.8288, 653349.5897000004 5061206.2871, 653400.5674999999 5061365.7601, 653420.7233999996 5061417.483200001, 653600.1233000001 5061809.732899999, 653629.5696999999 5061871.1295, 653653.8771000002 5061921.8366, 653666.3918000003 5061947.943600001, 653682.4616999999 5061981.4954, 653701.7253999999 5062021.7311, 653748.9905000003 5062120.9339000005, 653757.7072999999 5062153.4925999995, 653758.9402999999 5062165.2831, 653759.8247999996 5062180.455600001, 653752.3839999996 5062214.8026, 653748.7368000001 5062231.288000001, 653744.1153999995 5062247.218699999, 653554.7238999996 5062764.356699999, 653552.5290000001 5062768.4142, 653538.2978999997 5062794.2795, 653529.7352999998 5062809.8105, 653090.7407999998 5061880.779200001, 652986.0869000005 5061304.087200001, 651944.1831 5060848.285599999, 651486.2153000003 5059823.182499999, 650735.0674 5059709.8433, 649686.2472999999 5060271.514, 649479.7490999997 5060479.1207, 649095.2238999996 5060931.544, 648878.8607000001 5061195.884, 648876.5576999998 5061209.105799999, 648874.0899 5061223.275599999, 648875.0972999996 5061281.899499999, 648876.4392999997 5061321.4956, 648878.3480000002 5061377.359099999, 648885.2545999996 5061461.362400001, 648890.2390000001 5061471.464400001, 648903.7594999997 5061498.856000001, 648933.8097999999 5061546.3703000005, 648952.0258999998 5061571.5262, 648966.0621999996 5061590.9099, 648990.2715999996 5061617.944700001, 649027.5661000004 5061656.8892, 649171.0842000004 5061782.9871, 649305.0365000004 5061874.868899999, 649348.7015000004 5061901.4056, 649354.0438999999 5061904.658, 649430.8298000004 5061951.405099999, 649490.5431000004 5061987.7585, 649511.1498999996 5062001.4047, 649654.0417999998 5062096.031300001, 649704.0414000005 5062129.1423, 649716.5828999998 5062137.447699999, 649733.5234000003 5062151.4034, 649754.2122999998 5062168.4497, 649759.4336999999 5062172.839299999, 649800.0231999997 5062217.9222, 649889.8536999999 5062336.4473, 649924.4172 5062394.632200001, 649938.9479 5062419.1545, 649940.0234000003 5062428.3222, 649742.9749999996 5062551.4013, 649073.2413999997 5062845.567, 648251.3448000001 5063337.9647, 647392.3211000003 5063870.979900001, 647200.5108000003 5064033.7809, 647103.7263000002 5064099.8401999995, 647074.7830999997 5064119.5298, 647063.0073999995 5064127.4529, 646654.0643999996 5064289.810799999, 646426.4477000004 5064357.2905, 646422.9380999999 5064357.5535, 646385.8551000003 5064359.7545, 646354.0668000001 5064359.265000001, 646298.5192 5064358.409600001, 645904.1590999998 5064352.3145, 644992.8507000003 5064307.228800001, 643656.8005999997 5064373.241599999, 643629.7822000002 5064383.5121, 643493.6683999998 5064435.2531, 643444.8069000002 5064655.8912, 643521.8903000001 5065135.2073, 644021.3671000004 5066431.268200001, 644305.1065999996 5067039.8101, 644322.3546000002 5067066.353, 644355.3107000003 5067100.726, 644551.5225 5067261.2480999995, 644577.5308999997 5067270.2894, 644664.5588999996 5067265.8452, 644833.1545000002 5067257.2356, 644867.8465 5067255.4406, 644891.4782999996 5067254.2499, 644963.1831 5067859.750499999, 645013.79 5068363.4833, 645040.8065 5068901.361199999, 645049.3468000004 5069218.806299999, 645164.2076000003 5069520.3432, 645308.8586999997 5069668.389900001, 646346.5739000002 5070432.3533, 646380.7718000002 5070432.705600001, 646402.5745999999 5070442.414899999, 646461.3227000004 5070531.4879, 646485.0690000001 5070578.927999999, 646509.8404000001 5070634.852399999, 646522.4573999997 5070668.3859, 646533.7182 5070698.3149999995, 646548.7969000004 5070738.3917, 646564.1309000002 5070790.745999999, 646578.8289000001 5070840.929300001, 646523.9707000004 5071136.045700001, 646446.9907 5071256.748500001, 645995.9627999999 5071951.0418, 645628.1210000003 5072218.8422, 645560.4670000002 5072241.2827, 645576.8262 5072481.2217999995, 645584.4971000003 5072554.317399999, 645588.5444 5072592.883400001, 645647.3510999996 5072971.422700001, 645854.0740999999 5073925.3167, 646268.4095999999 5074361.149900001, 646427.5927999998 5074516.554099999, 646498.1106000002 5074571.316299999, 646524.7028000001 5074600.6304, 646589.7319 5074672.4066, 646652.3051000005 5074795.002900001, 646654.551 5074799.4032000005, 646654.5691 5074835.061899999, 646654.5541000003 5074841.3895, 646654.5206000004 5074853.0308, 646634.7120000003 5074901.3105999995, 646627.7264999999 5074918.205600001, 646578.7637 5074993.236199999, 646309.8383 5075376.1621, 646173.4024 5075501.306, 645402.1528000003 5075911.749299999, 644911.5039999997 5076167.7480999995, 644242.9835999999 5076511.2709, 644168.6275000004 5076544.9396, 642915.1131999996 5077112.299900001, 642896.8267000001 5077121.3935, 642853.7194999997 5077141.9158, 642803.7807999998 5077165.5765, 642693.7621999998 5077217.4998, 641792.8265000004 5077634.782400001, 641767.0082 5077638.7446, 641755.7072999999 5077640.2541000005, 641731.5565 5077634.710200001, 641658.0285 5077616.038799999, 641562.6939000003 5077591.8213, 641360.6436999999 5077534.543500001, 641308.8205000004 5077519.7456, 640205.3174 5077289.6655, 639112.8059 5077103.8027, 638911.0855 5077199.2389, 638530.5721000005 5077424.3791000005, 638383.5915000001 5077590.5649, 638244.8598999996 5077837.764, 638075.1046000002 5078097.2796, 638001.0832000002 5078142.8299, 637951.9030999998 5078143.157299999, 637801.1057000002 5078143.748500001, 637646.4694999997 5078122.318399999, 637535.4583999999 5078097.8112, 637485.4886999996 5078086.7655, 637413.9770999998 5078058.2195999995, 637279.2386999996 5078001.1998, 637091.0554999998 5077905.747300001, 637043.0854000002 5077879.2195, 636996.8788999999 5077850.226299999, 636910.6513 5077777.7125, 636704.8092 5077515.0822, 636682.8468000004 5077459.8639, 636668.3141000001 5077402.2204, 636653.7141000004 5077311.741800001, 636655.4515000004 5077300.1119, 636658.8395999996 5077288.246099999, 636663.3535000002 5077278.3288, 636672.4689999996 5077268.7074, 636467.5698999995 5076740.884099999, 636462.6462000003 5076729.227600001, 636413.5184000004 5076662.522700001, 636246.7687999997 5076828.9081999995, 636174.2318000002 5076948.6537, 636077.6151 5077121.777799999, 635987.2785 5077316.2249, 635786.4604000002 5077524.2817, 635519.9139999999 5077745.6688, 634796.7709999997 5078029.298900001, 634767.5850999998 5078037.7653, 634730.8882999998 5078036.861099999, 634716.0756000001 5078036.3421, 634583.5060999999 5078031.6971, 634486.9271999998 5078024.157500001, 634470.3457000004 5078022.841700001, 634360.8890000004 5078010.840500001, 634015.4748999998 5077955.3111000005, 633758.1397000002 5077845.486, 633732.1551000001 5077806.722999999, 633724.0133999996 5077790.975500001, 633705.5470000003 5077754.8203, 633679.3037 5077713.8017, 633636.6633000001 5077664.103499999, 633611.8651 5077635.205499999, 633456.1332999999 5077461.0702, 633363.7002999997 5077361.130100001, 633339.6262999997 5077349.3233, 632904.7323000003 5077261.209100001, 632877.8772999998 5077256.657299999, 632851.9461000003 5077257.177300001, 632804.1705999998 5077260.2753, 632790.7642999999 5077261.148700001, 632754.1709000003 5077266.365499999, 632712.7605999997 5077272.269200001, 632584.1726000002 5077292.6776, 632549.8256000001 5077298.156199999, 631673.608 5077654.5407, 631404.1798999999 5077373.9739, 631278.5880000005 5077251.2985, 630670.9627999999 5076821.3309, 630254.1881999997 5076631.9899, 629985.4046999998 5076651.3081, 628619.2876000004 5076751.3078000005, 628510.7599 5076220.6052, 628475.1540999999 5075445.8796999995, 628252.3446000004 5074501.693700001, 628078.0877999999 5074022.8092, 628018.9105000002 5073901.3243, 627887.7707000002 5073651.326300001, 627827.4156999998 5073551.3269, 627736.0591000002 5073469.262800001, 627569.3074000003 5073368.444700001, 627391.8497000001 5073550.2217999995, 626863.1425999999 5073843.3314, 625846.0668000001 5073769.143100001, 625504.2224000003 5073740.905300001, 625234.9604000002 5073680.765900001, 624281.6031999998 5073230.5242, 623541.1880000001 5072846.7784, 623504.2368000001 5072824.476199999, 623493.2270999998 5072817.8312, 623262.2265999997 5072646.848999999, 622980.9653000003 5072410.242900001, 622954.2408999996 5072135.320699999, 622895.0225 5071877.3476, 622396.8638000004 5071586.0463, 621593.5252999999 5071301.3456, 621269.9744999995 5071259.749, 620771.5686999997 5071215.1963, 620264.9252000004 5071278.128799999, 619582.1947999997 5071368.8112, 619554.2654999997 5071375.462300001, 619533.8552000001 5071380.322899999, 619394.6136999996 5071469.374399999, 619154.2685000002 5071631.701400001, 619066.6009999998 5072451.4079, 618972.9094000002 5073459.895300001, 619013.3471999997 5074012.252699999, 619440.2846999997 5074170.482799999, 619884.6492999997 5074640.4331, 619933.0279000001 5074880.280200001, 619930.6061000004 5074894.214500001, 619918.3224 5074945.809900001, 619888.7351000002 5075024.845799999, 619565.9452 5075329.331499999, 619374.9462000001 5075483.1116, 618790.4886999996 5075878.1647, 618714.2676999997 5075914.814099999, 618395.5851999996 5075970.289000001, 617945.4830999998 5075880.3467999995, 617506.3726000004 5075705.1865, 617141.8510999996 5075588.033, 616723.4680000003 5076228.167300001, 616696.1305 5076275.1993, 616685.7543000001 5076298.9922, 616677.0763999997 5076329.4646000005, 616672.7704999996 5076351.3101, 616668.5137999998 5076372.9066, 616663.8757999996 5076402.9756000005, 616652.5414000005 5076483.780099999, 616650.9376999997 5076497.8641, 616651.2631000001 5076508.294399999, 616651.9321999997 5076518.284, 616669.6085000001 5076682.9078, 616686.1589000002 5076783.1702, 616693.8871999998 5076826.282, 616720.6767999995 5076942.4494, 616724.1947999997 5076951.763499999, 616728.5455 5076961.1405, 616760.9413000001 5077030.7754999995, 616765.0887000002 5077037.501499999, 616772.6244000001 5077043.227600001, 616776.6812000005 5077046.037799999, 616783.6354 5077050.6987, 616986.4011000004 5077642.0296, 616856.6523000002 5078499.528100001, 616754.2887000004 5079115.113, 616565.5560999997 5079694.387399999, 616558.0075000003 5080351.695900001, 616559.2018999998 5080379.3445, 616560.8801999995 5080411.262, 616562.3376000002 5080437.299699999, 616595.6054999996 5080817.0319, 616604.2900999999 5080857.3873, 616629.4167 5080939.294, 616641.4546999997 5080967.853499999, 616675.3690999998 5081047.647, 616686.6573000001 5081072.4365, 616699.6542999996 5081099.5089, 615704.0064000003 5082049.4154, 615684.8114999998 5082101.268300001, 615638.5620999997 5082228.2652, 615625.8667000001 5082273.4504, 615616.648 5082306.5436, 615616.0576999998 5082355.2929, 615617.2291000001 5082580.7017, 616042.3945000004 5083996.107999999, 616942.4397999998 5084635.8268, 617165.6414000001 5085777.7718, 617157.4298999999 5085850.8584, 617150.2720999997 5085885.9749, 616972.2429999998 5086661.643200001, 616884.0220999997 5086801.233999999, 616535.7609999999 5087025.177100001, 616381.6440000003 5087107.2754, 615633.6369000003 5087795.7085, 615425.7846999997 5088724.294500001, 615075.9216999998 5089048.7345, 614954.3044999996 5089620.3780000005, 615049.4633 5090151.2095, 615163.9368000003 5090451.2158, 615295.8839999996 5090695.7051, 615403.8273 5091101.001599999, 615326.9720000001 5091651.1393, 615170.6146999998 5091917.3671, 615149.7500999998 5091906.103399999, 615124.3743000003 5091894.565199999, 615066.4164000005 5091875.223999999, 615019.7714999998 5091861.1349, 614912.2737999996 5091829.7476, 614858.5242999997 5091816.574999999, 614674.3798000002 5091774.260600001, 614579.3770000003 5091783.790899999, 614526.0207000002 5091793.577199999, 614418.0062999995 5091816.553099999, 614365.9457 5091827.6325, 613850.1333999997 5091979.1688, 612601.182 5092454.700099999, 612590.3892000001 5092464.240599999, 612587.8705000002 5092469.2393, 612555.6666000001 5092538.683, 612544.1688000001 5092566.0452, 612513.5151000004 5092639.555500001, 612498.9835999999 5092751.191299999, 612484.1276000002 5092889.2697, 612487.9326999998 5093118.440199999, 612531.2994999997 5093839.2631, 612554.3232000005 5094080.99, 612843.8646999998 5095392.0889, 612828.8602 5095611.1032, 612809.3766000001 5095973.7612, 612813.3650000002 5096030.1412, 612823.6513999999 5096086.9761, 612825.2893000003 5096091.316299999, 612843.5399000002 5096136.6668, 612871.8553999998 5096192.192600001, 612880.0571999997 5096207.4811, 612897.3129000003 5096239.590500001, 613213.3217000002 5096741.6141, 613228.9308000002 5096766.186000001, 613250.2555999998 5096799.503799999, 613379.8843 5096981.1491, 613393.5425000004 5096998.010500001, 613406.5239000004 5097013.604900001, 613432.0504999999 5097040.9969999995, 613468.1797000002 5097076.160599999, 613811.4424999999 5097409.2217999995, 613844.9747000001 5097441.5341, 613899.8764000004 5097473.6204, 613925.0299000004 5097481.0265, 613945.5400999999 5097485.3255, 613954.3141000001 5097486.6263, 613957.7780999998 5097487.139799999, 614543.8951000003 5097465.5701, 614615.7844000002 5097454.7179000005, 614631.8772999998 5097456.1131, 614671.8991999999 5097459.582900001, 614713.5449999999 5097475.597100001, 614754.3082999997 5097492.9792, 614761.2763 5097495.9505, 614768.9923999999 5097501.1559999995, 614790.4397 5097515.625, 614809.0650000004 5097546.2336, 614890.3594000004 5097784.735099999, 614915.9699999997 5097908.639799999, 614960.4921000004 5098145.1501, 614997.6572000002 5098460.1239, 614917.3623000002 5099276.569, 614803.6261 5100002.0261, 614658.1716 5100641.558800001, 614716.2936000004 5101476.4855, 615213.5843000002 5102400.476600001, 615291.0795999998 5102527.158500001, 615305.8726000004 5102550.9355999995, 615344.7736999998 5102587.0725, 615581.7187999999 5102799.207699999, 615949.0604999997 5103020.0867, 616224.3761 5103172.0908, 616693.9448999995 5103501.8686999995, 617079.1073000003 5103898.1174, 617373.4460000005 5104367.680400001, 617516.1760999998 5104759.2073, 617691.4778000005 5105029.0822, 618072.4768000003 5105425.1272, 618543.7763999999 5105897.580499999, 618585.7675999999 5105925.6788, 618614.9529999997 5105949.147299999, 618670.6952999998 5106008.6975, 618673.4178999998 5106011.6755, 618706.0919000003 5106052.5955, 618740.2451999998 5106099.4914, 619018.0915999999 5106488.670700001, 619151.6941 5106761.1545, 619606.3614999996 5108061.5889, 619736.1277000001 5108546.0221, 619805.6683 5108961.342599999, 619796.6059999997 5109216.9684999995, 619689.6023000004 5110580.4443, 619558.8477999996 5111452.611199999, 620103.8863000004 5112430.0395, 620753.0774999997 5113644.1863, 620822.8629999999 5113723.011600001, 620835.6999000004 5113739.5441, 620838.4848999996 5113743.151799999, 620844.8913000003 5113752.5833, 620847.5033999998 5113756.9135, 620846.7312000003 5113775.680299999, 620839.9675000003 5113790.3057, 620834.5199999996 5113800.5173, 620797.0645000003 5113867.511600001, 620256.4764999999 5114831.4537, 620167.7538000001 5114974.467599999, 620106.7268000003 5115068.118899999, 619980.4880999997 5115251.566199999, 619946.8810999999 5115287.122099999, 619941.7238999996 5115291.9914, 619897.4966000002 5115333.510299999, 619518.0773 5115679.4043000005, 619336.5533999996 5115844.659499999, 619130.2591000004 5116031.982999999, 619240.3792000003 5116801.014699999, 619526.7050000001 5117950.1208, 619552.6985999998 5118050.5591, 619633.5631999997 5118193.947699999, 619689.5191000002 5118272.979, 619785.5089999996 5118393.0414, 619792.9954000004 5118401.0031, 619804.2779000001 5118413.0019000005, 619887.0251000002 5118501.0024, 619897.3580999998 5118511.9913, 619904.2770999996 5118517.9164, 619949.2845000001 5118556.430500001, 619953.9117999999 5118559.9956, 619967.2878 5118569.9527, 620173.3113000002 5118722.6525, 620504.6409 5119078.5594999995, 621117.5404000003 5119900.992000001, 621155.0475000003 5120304.554199999, 621155.4757000003 5120334.4856, 621151.9638999999 5120350.7521, 621129.8898 5120438.425799999, 621109.2582 5120489.4232, 621094.8277000003 5120516.3969, 621077.2051999997 5120549.336999999, 620980.9133000001 5120685.9255, 620892.4587000003 5120994.961300001, 620890.7604999999 5121000.984300001, 620877.1865999997 5121049.6261, 620900.4913999997 5121150.9827, 620903.5209999997 5121163.8826, 620914.8735999996 5121200.9823, 620918.0399000002 5121211.225400001, 621059.5004000003 5121407.9373, 621098.3592999997 5121450.980599999, 621103.6824000003 5121456.776799999, 621251.1414000001 5121551.8279, 621304.2677999996 5121581.809599999, 621329.5192999998 5121596.019400001, 621353.0876000002 5121597.384199999, 621364.4890000001 5121596.5799, 621401.8265000004 5121584.866900001, 621436.9903999995 5121576.3411, 621469.5954 5121584.500499999, 621475.4654000001 5121586.573000001, 621504.2664999999 5121597.5348000005, 621517.8354000002 5121602.699200001, 621660.6880000001 5121698.4944, 621808.8168000001 5121829.0678, 621859.4633 5121875.963199999, 621870.7877000002 5121886.448899999, 621882.5766000003 5121900.9771, 621904.8223000001 5121928.4453, 621918.9994000001 5121950.9767, 621925.9168999996 5121962.014, 622179.0877 5122468.9586, 622182.7139999997 5122900.9706999995, 621968.0120999999 5123800.9638, 621454.6436000001 5125550.9932, 621086.5886000004 5125951.8675999995, 620737.0752999997 5126158.296599999, 620335.9696000004 5126526.036900001, 620210.0379999997 5126843.796599999, 620404.8581999997 5127169.693299999, 621104.2719 5127905.797499999, 621267.267 5128057.419299999, 621519.3973000003 5128285.7969, 621535.7950999998 5128293.064200001, 621585.9721999997 5128351.7841, 621632.6128000002 5128406.397399999, 621638.5349000003 5128418.9902, 621643.0855 5128433.4169, 621646.9371999996 5128450.93, 621648.2401 5128456.9607, 621649.1679999996 5128462.6921999995, 621646.7399000004 5128483.6225000005, 621616.1335000005 5128686.337400001, 621602.0291999998 5128750.695699999, 621590.9725000001 5128800.5502, 621589.2802999998 5128808.1774, 621330.7533999998 5129213.455, 621104.2719 5129344.0495, 620609.3979000002 5129864.739800001, 620484.9736000001 5130016.4365, 620456.7286999999 5130083.6493999995, 620423.3795999996 5130217.047900001, 620394.1017000005 5130730.8333, 620444.1350999996 5131024.5348000005, 620313.0991000002 5131600.9078, 619346.0094999997 5132177.4339000005, 618007.5232999995 5132900.8991, 617043.9017000003 5133342.7053, 616636.9006000003 5133298.8049, 616639.0153999999 5133459.8707, 616654.3057000004 5133660.489399999, 616882.4726999998 5134647.9637, 616883.5099999998 5134650.886399999, 616899.4212999996 5134695.630799999, 616901.1416999996 5134698.1973, 616929.6303000003 5134722.4695, 616969.4923999999 5134740.8473000005, 617005.8971999995 5134746.041300001, 617589.6243000003 5134827.388900001, 617723.4117999999 5134822.9869, 617925.2785999998 5134786.446699999, 617942.5378999999 5134773.3521, 617979.4488000004 5134716.9155, 618002.3104999997 5134680.4245, 618016.7938000001 5134646.655300001, 618023.1854999997 5134621.4363, 618033.3600000003 5134575.926100001, 618039.6995000001 5134556.013499999, 618046.0779999997 5134546.6910999995, 618061.9457 5134543.7235, 618169.7169000003 5134540.336100001, 618220.4474999998 5134540.2337, 618305.1993000004 5134543.3937, 618386.1683999998 5134566.8431, 618419.7092000004 5134580.412699999, 618422.7615999999 5134581.934900001, 618453.7914000005 5134600.4749, 618472.4012000002 5134611.8248, 618479.6907000002 5134616.5956, 618504.2916000001 5134633.8705, 618554.2912999997 5134668.980599999, 618557.8952000001 5134671.511299999, 618565.6408000002 5134677.5305, 618576.3618999999 5134686.7348, 618596.6031999998 5134704.453600001, 618693.5135000004 5134790.474400001, 618703.5939999996 5134800.729800001, 618723.1276000002 5134821.860200001, 618726.6277000001 5134834.358999999, 618774.5164000001 5135079.442500001, 618748.3772999998 5135127.358100001, 618646.5023999996 5135270.8564, 618619.8060999997 5135302.420299999, 619276.5081000002 5135998.9344999995, 620074.1535 5136812.73, 620483.5054000001 5137214.5386, 620510.3380000005 5137232.4673, 620535.6580999997 5137229.130899999, 620740.8392000003 5137147.716, 620747.0892000003 5137145.070900001, 620755.8947000001 5137141.307700001, 620776.6469999999 5137126.9059999995, 622473.2540999996 5137191.857000001, 622896.4179999996 5137219.869100001, 623502.0893999999 5137437.0404, 623691.6721000001 5137945.2333, 623854.8819000004 5138337.2842999995, 624433.6911000004 5139004.4462, 625216.4239999996 5139870.801200001, 625371.7114000004 5140038.360300001, 625244.4418000001 5140398.2870000005, 625147.3271000003 5140632.7522, 624768.9489000002 5141021.4026, 624440.3159999996 5141365.5952, 624335.1140000001 5141696.6402, 624227.3126999997 5142745.794199999, 624192.5855 5143091.158600001, 624388.5898000002 5143863.294199999, 624177.5911999997 5144431.892899999, 624174.0921999998 5144485.7897, 624170.9670000002 5144538.3277, 624173.8271000003 5144610.1731, 624183.8356999997 5144639.191500001, 624224.2878 5144696.5206, 624226.2630000003 5144699.1962, 624303.9277999997 5144801.0374, 624344.3037 5144850.8124, 624379.6426999997 5144893.172499999, 624564.2385 5145099.1678, 625081.8640000001 5144954.0572999995, 625819.7175000003 5144852.046599999, 625855.9538000003 5144895.550100001, 625873.5195000004 5144916.6118, 625893.2137000002 5144933.9682, 625913.4923999999 5144943.6732, 625921.0615999997 5144947.0297, 625928.1292000003 5144950.148, 625935.3405999998 5144953.329700001, 625961.2187999999 5144963.8993, 626231.5783000002 5145070.029100001, 626354.4846000001 5145115.7881000005, 626870.2342999997 5145273.9987, 627067.8532999996 5145332.548599999, 627858.5680999998 5145560.744899999, 628506.4638999999 5145554.446699999, 629420.4682 5145626.179199999, 630610.9179999996 5146415.7688, 631816.9093000004 5146820.765699999, 632416.9055000003 5147674.760199999, 633183.9007000001 5148576.752699999, 633534.5482000001 5149049.9827, 633768.8962000003 5149295.747300001, 633806.8963000001 5149326.747400001, 633912.835 5149398.611400001, 633925.8948999997 5149406.747300001, 633950.8947999999 5149417.747099999, 634625.8958 5149534.779100001, 635078.8876 5149600.7447999995, 635404.8844999997 5149551.7447999995, 635560.9733999996 5149409.095799999, 635732.8827999998 5149063.748400001, 635747.0522999996 5149034.2282, 636537.8762999997 5148060.7554, 636945.8733000001 5146977.762599999, 637430.869 5146026.7697, 637718.0873999996 5145551.2436, 638030.8646999998 5145042.7763, 638070.8640999999 5145004.7773, 638132.8642999995 5144956.7771000005, 638189.9517000001 5144913.7072, 638289.8629999999 5144840.7775, 638308.8624999998 5144834.7783, 638357.8623000002 5144826.7785, 638626.8607999999 5144785.7782000005, 638675.8596000001 5144781.7784, 638858.6004999997 5144768.289999999, 638965.8579000002 5144763.7784, 638986.9132000003 5144768.7203, 639971.8509 5144749.7782000005, 640964.8433999997 5144443.779999999, 641184.8419000003 5144476.7794, 641431.8398000002 5144541.7787, 641539.9696000004 5144561.4264, 641716.8386000004 5144552.7785, 641998.8251 5144533.6469, 642196.2186000003 5144517.882300001, 642305.6830000002 5144455.235400001, 642498.6009999998 5144285.0447, 642994.6798 5144194.163699999, 643108.4217999997 5144270.4474, 643176.9484999999 5144318.4372000005, 643259.8174 5144377.728700001, 643326.8008000003 5144434.510199999, 643503.4649 5144758.7367, 643547.5410000002 5144856.738600001, 644392.5202000001 5145500.9549, 644761.8465999998 5145779.5066, 644803.8975999998 5145685.6776, 644822.2736 5145650.798900001, 644841.8167000003 5145613.770300001, 644884.8163000001 5145534.771, 644944.8150000004 5145435.771500001, 644953.8153999997 5145429.771299999, 645280.7028000001 5145221.6833999995, 645319.6857000003 5145200.889799999, 645339.8130000001 5145192.772500001, 645654.1941 5145153.2216, 645690.8097000001 5145148.773, 645743.3746999996 5145144.065400001, 645758.3393999999 5145142.853599999, 646837.8096000003 5145127.6853, 646847.9592000004 5145128.9573, 646860.5602000002 5145130.6635, 646896.8009000001 5145139.7732, 646930.7073999997 5145154.352399999, 646940.8013000004 5145158.7728, 647059.7999999998 5145237.7719, 648318.3203999996 5146193.9553, 648387.1288000001 5146256.6238, 648433.7911999999 5146350.7634, 648443.5542000001 5146376.3675, 648444.7911 5146395.7634, 648411.2527000001 5146480.924699999, 648407.6343 5146489.9976, 648378.1880999999 5146550.791200001, 648368.4546999997 5146569.241900001, 648354.7921000002 5146590.7622, 648339.5431000004 5146606.0853, 648334.1212999998 5146611.464299999, 648321.3170999996 5146618.2488, 648308.7923999997 5146624.761399999, 648304.4852 5146626.26, 648291.7922 5146630.7618, 648282.7917999998 5146644.7618, 648274.7922 5146785.76, 648336.6097999997 5147004.977600001, 648626.0603999998 5147557.7596, 648928.7879999997 5147710.754000001, 649310.7847999996 5147782.7532, 649840.8026999999 5148009.726199999, 650150.7797999997 5148145.75, 650185.7403999995 5148163.868100001, 650189.5451999996 5148166.031300001, 650210.7068999996 5148178.704500001, 650220.5947000002 5148187.6722, 650225.79 5148192.732999999, 650255.4452999998 5148226.2469, 650277.4954000004 5148255.9091, 650284.7933999998 5148265.7389, 650291.1277999999 5148275.2808, 650301.8602999998 5148291.4572, 650468.7772000004 5148543.747300001, 650672.1623 5149009.5429, 650735.7753999997 5149272.742000001, 650989.7742999997 5149488.7404, 651553.3510999996 5149706.4791, 651596.7692999998 5149717.7382, 651645.7132000001 5149724.760600001, 651962.7666999996 5149716.738399999, 652376.7643999998 5149698.738500001, 652630.8305000002 5149685.5702, 653938.1151999999 5149006.420600001, 653956.7018999998 5148995.0129, 653977.1948999995 5148980.6406, 653986.8492999999 5148967.8048, 654100.6517000003 5148732.9245, 654769.7061000001 5148020.4103999995, 655962.0658999998 5147121.226500001, 656761.9705999997 5145786.4527, 656777.9609000003 5145764.8628, 656789.2323000003 5145754.165200001, 656795.3101000004 5145748.403000001, 656844.4393999996 5145702.485300001, 656870.5411 5145690.636499999, 657149.5568000004 5145682.8462000005, 657236.2807999998 5145681.816400001, 657246.6278999997 5145684.353, 657261.4675000003 5145690.9355999995, 657267.2509000003 5145695.4472, 657271.4633 5145700.679199999, 657276.2242 5145706.592700001, 657305.9858999997 5145746.6524, 657318.1442999998 5145764.077500001, 657320.3274999997 5145767.4946, 657330.4309999999 5145783.9142, 657345.2509000003 5145896.050799999, 657351.7710999995 5145977.4855, 657723.1563999997 5146052.519200001, 657794.9952999996 5146043.116900001, 658325.7378000002 5145807.989600001, 658649.2303999998 5145574.117000001, 658660.8753000004 5145542.390799999, 658674.7280000001 5145507.3379, 658701.3790999996 5145469.2063, 658729.9408999998 5145432.100199999, 658748.2017000001 5145411.903999999, 658773.0422 5145385.962099999, 658810.8490000004 5145358.8445, 659135.6125999996 5145221.1449, 659208.7633999996 5145192.7281, 659220.3426999999 5145190.062899999, 659230.2823000001 5145195.855599999, 659242.0431000004 5145202.7596, 659247.6315000001 5145206.045, 659255.7729000002 5145211.2075, 659373.9249 5145288.844799999, 659381.341 5145295.556, 659386.5144999996 5145309.0143, 659394.8212000001 5145338.6285999995, 659412.3739 5145409.715, 659462.2034999998 5145634.581599999, 659472.6547999997 5145688.735400001, 659469.1726000002 5145709.578600001, 659468.0236999998 5145716.3553, 659443.0703999996 5145849.911, 659316.8141999999 5146429.7293, 659215.5943 5146751.286599999, 659045.6074999999 5147245.9091, 658653.7147000004 5148596.514799999, 658576.2736999998 5149010.921700001, 658246.6431 5150188.206499999, 657604.3575999998 5151299.044199999, 657437.4263000004 5151814.8234, 657234.7892000005 5152224.7655, 657031.4944000002 5152540.635, 656511.3071999997 5152870.224300001, 656136.2986000003 5153109.1743, 656266.8377999999 5153231.638599999, 656797.0155999996 5153501.6504, 656800.4595999997 5153502.076300001, 656811.2522999998 5153503.2601, 656845.8222000003 5153506.519200001, 657329.0130000003 5153491.3399, 657624.0745999999 5153466.713199999, 658355.8992999997 5154157.755899999, 658360.3032999998 5154163.5995000005, 658370.9625000004 5154177.742799999, 658485.2434999999 5154327.7316, 658555.7729000002 5154388.4904, 659253.7673000004 5154939.0528, 659769.1372999996 5155069.265000001, 659903.7978999997 5154426.8508, 660113.5440999996 5153327.509400001, 660219.1369000003 5152773.158399999, 660211.2478 5152716.4407, 660210.3345999997 5152700.168199999, 660207.5888999999 5152651.135, 660207.5099999998 5152589.1645, 660211.6283999998 5152500.8946, 660217.9563999996 5152379.4081999995, 660227.5694000004 5152203.6208999995, 660228.1446000002 5152194.3466, 660230.5416000001 5152158.2453000005, 660241.6458999999 5152071.5962000005, 660243.1188000003 5152060.275900001, 660306.6397000002 5151949.9103999995, 660319.9961000001 5151929.670299999, 661459.0724999998 5151333.7234000005, 661753.8948999997 5151391.702299999, 662204.4474999998 5151267.278100001, 662659.7927000001 5150844.4574, 663014.8952000001 5150501.117000001, 663091.7851999998 5150340.487400001, 663273.3666000003 5150027.4165, 663420.3058000002 5149858.797800001, 663547.5626999997 5149819.733200001, 663798.2918999996 5149884.3134, 664948.2967999997 5150247.2292, 665881.6140000001 5150940.728399999, 666735.9972000001 5151603.626800001, 666917.5335999997 5151651.2184999995, 666948.5336999996 5151662.7182, 666997.1611000001 5151682.218599999, 667154.0374999996 5151764.217800001, 667170.2817000002 5151772.7173, 667191.4291000003 5151796.7475000005, 667204.7352 5151812.5889, 667209.6076999996 5151820.047800001, 667212.2752 5151824.2809, 667237.4908999996 5151867.5955, 667552.1897999998 5152411.3345, 667638.1193000004 5152665.679400001, 668046.8958 5152620.3725000005, 668399.3191 5152314.3026, 668777.3108999999 5152009.0526, 669289.7852999996 5151630.236199999, 669645.5012999997 5150859.922599999, 669692.1438999996 5150361.7213, 669824.3750999998 5149638.1785, 669934.8890000004 5149542.7323, 670005.2663000003 5149498.232100001, 670162.0149999997 5149221.7348, 670183.0148999998 5149182.234200001, 670203.6801000005 5149136.5306, 670253.1743999999 5149005.124600001, 670262.7588 5148977.236300001, 670402.4643000001 5148463.4088, 670486.5067999996 5147851.7436999995, 670493.5066999998 5147781.744899999, 670496.9230000004 5147587.4254, 670458.8842000002 5147430.2476, 670406.8850999996 5147239.748400001, 670375.2626999998 5147182.7489, 670366.2697999999 5147166.986199999, 670358.7573999995 5147155.2488, 670349.0072999997 5147141.2488, 670339.5129000004 5147131.2498, 670324.8857000005 5147124.2498, 670302.6350999996 5147115.7491999995, 670280.1354999999 5147110.7497000005, 670249.3854999999 5147106.25, 670223.1360999998 5147112.2491999995, 670004.0675999997 5146464.3541, 670213.9347999999 5146177.017100001, 670320.2607000005 5145700.675100001, 670331.2951999996 5145414.525900001, 670215.3048999999 5144811.315099999, 670141.4249999998 5144685.2873, 669927.3563999999 5144529.615800001, 669598.8076999998 5144075.8632, 669469.8400999997 5143739.804500001, 669786.8383 5142747.251800001, 670099.0657000002 5141888.8171999995, 670256.2456 5141308.856799999, 670218.0752999997 5140690.436899999, 670180.256 5140537.296399999, 670095.7562999995 5140281.7982, 669996.8300000001 5140007.740900001, 669460.176 5138450.7017, 669429.2709999997 5137479.357000001, 669003.7812000001 5136948.7722, 668918.1875999998 5136975.622400001, 668813.9477000004 5136973.2973, 668788.4027000004 5136963.795700001, 668745.3375000004 5136944.3083999995, 668741.4347999999 5136941.7655, 668732.5937999999 5136932.7859000005, 668701.2649999997 5136893.323000001, 668693.1427999996 5136879.822899999, 668687.8924000002 5136862.323000001, 668598.7653000001 5136374.8266, 668603.9342 5136316.0502, 668619.0203999998 5136238.8279, 668704.4178999998 5135905.8298, 669055.0994999995 5135476.242799999, 669316.0023999996 5135270.199899999, 669371.3815000001 5135192.3179, 669486.6942999996 5134890.5271000005, 669563.1661 5134479.3825, 669441.2585000005 5134108.343, 669127.3903999999 5133293.4783, 668608.7638999997 5132772.852499999, 668265.2654999997 5131632.861500001, 667746.0187999997 5130444.3695, 667073.9254999999 5129585.0799, 666588.9380999999 5128700.9120000005, 666553.6075999998 5128657.8407000005, 666178.2967999997 5128455.4343, 665698.1100000003 5128371.7136, 665171.4857999999 5128321.9343, 664909.1388999997 5127691.6372, 665264.9138000002 5127591.3915, 665383.7264999999 5127528.213400001, 665610.4177000001 5127401.509199999, 665615.4282999998 5127397.823899999, 665619.1081999997 5127395.0272, 665634.3887999998 5127382.7892, 665639.1344999997 5127377.4103, 665651.6944000004 5127362.675899999, 665659.9867000002 5127349.2305, 665690.4771999996 5127299.191199999, 665936.6711999997 5126851.1456, 666112.8991999999 5126494.8594, 666915.7262000004 5125538.7247, 667354.2072000001 5125279.262700001, 667569.3518000003 5125167.153999999, 669175.3799 5125077.445, 669622.6873000003 5124669.535599999, 669377.0844999999 5123864.0658, 668798.5088 5124056.915899999, 668801.2297999999 5124097.4493, 668802.858 5124144.1886, 668801.2522 5124156.4465, 668799.1114999996 5124170.7915, 668796.3866999997 5124187.914799999, 668774.8316000002 5124275.6818, 668750.7593999999 5124368.413699999, 668740.5093999999 5124387.9131000005, 668721.6374000004 5124407.4135, 668688.7593999999 5124439.9131000005, 668671.5659999996 5124455.1578, 668665.7389000002 5124458.2927, 668648.3987999996 5124459.8529, 668636.9605999999 5124460.4092999995, 668594.5120999999 5124461.467800001, 668590.9441999998 5124461.2676, 668576.2658000002 5124460.4122, 668524.9066000003 5124456.9614, 668503.3706999999 5124450.0911, 668485.4976000004 5124437.9322, 668459.8537999997 5124418.020400001, 668444.2589999996 5124404.965, 668433.2298999997 5124395.713400001, 668383.5175999999 5124353.9133, 668350.6054999996 5124323.476, 668311.5126999998 5124285.4144, 668306.2923999997 5124276.133199999, 668304.2633999996 5124272.5251, 668301.3909999998 5124267.417099999, 668247.0131000001 5124160.4155, 668233.0131000001 5124125.9155, 668226.1028000005 5124108.0547, 668216.7687999997 5124083.9166, 668207.6815999998 5124060.3256, 668200.0136000002 5124040.416099999, 668190.1508999998 5123981.892000001, 668177.6107999999 5123682.9124, 668111.4903999995 5123377.5715, 667799.9496999998 5122901.7389, 667653.5614999998 5122928.6818, 667642.9275000002 5122934.7016, 667631.5355000002 5122940.7038, 667627.4737999998 5122942.7323, 667622.7163000004 5122943.1241999995, 667583.3251 5122945.3835, 667577.4151999997 5122945.6437, 667571.1753000002 5122945.916099999, 667559.5458000004 5122946.326300001, 667548.7903000005 5122945.0931, 667543.5175999999 5122944.4246, 667539.5861999998 5122940.5933, 667533.7370999996 5122934.8597, 667515.4226000002 5122898.9772, 667501.6161000002 5122869.3979, 667498.4471000005 5122860.5743, 667489.3957000002 5122834.9252, 667485.4133000001 5122815.865599999, 667483.6562000001 5122807.328600001, 667484.0130000003 5122803.8705, 667486.7679000003 5122777.425799999, 667492.6457000002 5122745.421, 667502.7681 5122711.4268, 667510.7373000002 5122686.177200001, 667511.9353999998 5122682.443700001, 667739.1427999996 5122129.9298, 667779.4309999999 5122070.3311, 667946.5083999997 5121858.537599999, 668315.2608000003 5121523.433499999, 668495.7598000001 5121505.433700001, 669141.5126 5121377.603, 669786.8461999996 5121168.3158, 669791.6664000005 5121166.6515999995, 669794.7961999997 5121164.958799999, 669809.2768999999 5121152.624500001, 669980.7492000004 5121003.9366999995, 670068.8569 5120925.579700001, 670728.4934999999 5121053.935900001, 672703.8986999998 5121866.7566, 673503.9073000001 5122511.1532000005, 674496.4677999998 5123387.418199999, 674850.7394000003 5123802.045, 675282.8399999999 5124441.4098000005, 675363.5774999997 5124546.086200001, 675368.0893999999 5124551.9089, 676212.1752000004 5125350.555, 677003.0599999996 5125541.835000001, 677094.0625 5125516.844799999, 677390.3255000003 5125439.901900001, 677475.5749000004 5125417.9022, 677529.9467000002 5125404.4021000005, 677606.0741999997 5125388.9024, 677693.1035000002 5125382.630799999, 677704.8551000003 5125399.453, 677849.0236999998 5125606.910599999, 678429.1111000003 5126989.110200001, 678434.7774 5127017.2983, 678428.2176999999 5127045.578500001, 678267.9506999999 5127638.2773, 678251.2227999996 5127686.649700001, 678179.0001999997 5127759.1558, 678144.8512000004 5127790.323799999, 678096.9808999998 5127826.994000001, 678053.8629000001 5127858.427999999, 678318.8044999996 5128293.5513, 678903.8573000003 5129031.375600001, 679614.2593 5129625.3221, 680182.0853000004 5129655.1523, 679989.4572000001 5129065.4026999995, 679958.3086999999 5128881.090500001, 680138.5571999997 5128524.878699999, 680174.5568000004 5128453.8792, 680196.6648000004 5128411.66, 680298.4484999999 5128219.103499999, 680385.5548 5128069.881899999, 680415.6339999996 5128028.9366999995, 680556.5533999996 5127905.882099999, 680614.5537 5127857.8829, 680740.5521999998 5127832.883199999, 680779.5521 5127843.882999999, 680960.3525 5127785.835000001, 681408.9167999998 5127546.1325, 681528.9046 5127461.516899999, 681533.4230000004 5127457.977299999, 681540.7138 5127443.999299999, 681551.7593 5127418.785599999, 681615.0915999999 5127208.489700001, 681622.2484999998 5127178.5294, 681622.9183999998 5127086.0856, 681619.1597999996 5126927.460200001, 681615.8207 5126808.3643, 681613.2165000001 5126804.869100001, 681606.1767999995 5126795.1481, 681604.9128999999 5126791.446900001, 681600.7856000001 5126779.360200001, 681596.3546000002 5126759.2892, 681594.5767999999 5126742.3913, 681594.8232000005 5126731.8346, 681595.4537000004 5126726.799900001, 681600.5039999997 5126687.2228999995, 681623.9574999996 5126555.7225, 681626.5777000003 5126542.525800001, 681731.5447000004 5126334.8938, 681770.3201000001 5126269.014699999, 681826.5443000002 5126247.8938, 682472.6489000004 5126018.6631000005, 683203.534 5125900.896199999, 683787.5296 5125913.895300001, 684154.5267000003 5125965.895099999, 684763.5232999995 5126266.892999999, 684725.1671000002 5126476.428400001, 684715.5231999997 5126528.8904, 684701.5812999997 5126594.8093, 684693.3547999999 5126633.5331999995, 684650.5240000002 5126795.8884, 684506.1495000003 5127252.861099999, 684496.1251999997 5127273.2849, 684480.5255000005 5127303.885, 684449.5252999999 5127354.885299999, 684411.5263999999 5127405.8847, 684200.5272000004 5127662.8826, 683700.5318999998 5128673.8752, 683689.5311000003 5128695.8758000005, 683647.5322000002 5128773.875399999, 683531.0361000001 5128968.8301, 683433.5330999997 5129130.8725000005, 683416.5340999998 5129153.8718, 683395.4636000004 5129175.5814, 683383.5335999997 5129187.872099999, 683335.5345000001 5129215.8719999995, 683310.9375999998 5129226.031400001, 683289.5346999997 5129234.8715, 683244.5346999997 5129249.871200001, 683151.5355000002 5129273.8714000005, 683100.5362999998 5129284.871200001, 682934.4230000004 5129318.229, 682893.7462999998 5129326.2698, 682818.5385999996 5129339.8715, 682677.5393000003 5129366.8707, 682619.3410999998 5129382.3906, 682587.6111000003 5129390.8818, 682451.375 5129428.1525, 682399.2522999998 5129443.073799999, 682253.5426000003 5129484.8708999995, 682125.5533999996 5129521.6918, 681819.5459000003 5129609.870100001, 681751.8207 5129630.2257, 681726.5456999997 5129637.869999999, 681722.6069 5129639.1811999995, 681697.7971000001 5129647.450999999, 681691.2835999997 5129649.6258000005, 681678.4614000004 5129654.0275, 681669.7067999998 5129657.927100001, 681681.5467999997 5129918.868000001, 681683.0423999997 5129947.4134, 681685.4754999997 5129982.900900001, 681686.1134000001 5129987.301200001, 681688.3139000004 5129991.9268, 681690.5771000003 5129996.529200001, 681694.5174000002 5130004.4966, 681713.2668000003 5130042.2872, 681763.5461999997 5130126.866, 681802.5460000001 5130182.865800001, 681827.5458000004 5130193.865599999, 682018.5449000001 5130272.864700001, 682026.2423 5130275.3708999995, 682061.5444999998 5130286.864700001, 682086.1573999999 5130285.899700001, 683047.5369999995 5130236.864600001, 683092.5369999995 5130232.864800001, 683103.7268000003 5130233.7774, 683141.5357999997 5130236.864600001, 683205.8402000004 5130252.4046, 683261.5354000004 5130265.8642, 683389.4793999996 5130308.359300001, 683656.5323999999 5130415.8628, 683690.5325999996 5130441.863299999, 683740.0176999997 5130485.276000001, 683803.8229 5130542.4036, 684508.5270999996 5131251.8573, 684573.6589000002 5131376.902799999, 684653.7281999998 5132023.7169, 684974.5242999997 5132733.8455, 685303.9857000001 5132951.6664, 685781.5187999997 5132968.8434, 686214.5174000002 5133050.9748, 686603.8041000003 5133180.505999999, 687453.7982000001 5133560.3805, 688741.5083999997 5134100.8418000005, 688753.7890999997 5134105.8035, 688788.4979999997 5134119.834000001, 688903.5920000002 5134166.788799999, 688908.1679999996 5134171.585000001, 688926.4722999996 5134190.8345, 688929.0011 5134196.4585, 689024.4961000001 5134412.8324, 689208.4951999998 5134856.828299999, 689240.4951 5135016.827099999, 689240.4951999998 5135228.8259, 689240.4927000003 5135353.8599, 689235.8602 5135462.660800001, 689368.0524000004 5135782.5232, 689387.3991999999 5135811.6768, 689419.5828 5135855.2718, 689435.4944000002 5135876.821, 689471.4939000001 5135912.820599999, 689565.4929 5135997.8199000005, 689594.1185999997 5136020.7344, 689620.4929999998 5136041.8203, 689654.2949999999 5136068.7248, 689903.8320000004 5136098.634299999, 689953.7588999998 5136101.215399999, 689978.4989999998 5136102.4734000005, 690053.7805000003 5136104.633199999, 690061.4897999996 5136104.819, 690153.7801000001 5136104.509500001, 690203.7796999998 5136104.0550999995, 690253.7795000002 5136109.877599999, 690369.1782999998 5136180.8616, 690494.4859999996 5136260.8177000005, 690531.4863999998 5136285.817399999, 690566.4863999998 5136313.817399999, 690603.5504999999 5136365.817399999, 690730.4852 5136547.8158, 690759.4847999997 5136604.815300001, 690754.3276000004 5136631.8157, 690743.4844000004 5136684.815300001, 690633.9282999998 5137109.6910999995, 690546.4867000002 5137437.8091, 691290.4808999998 5137326.809900001, 692677.5811000001 5137081.2403, 693160.8986999998 5136981.3704, 693246.8733000001 5136963.3401999995, 694336.4592000004 5136605.8133000005, 695056.7613000004 5136366.6229, 695371.4516000003 5136185.816, 695410.8082999997 5136153.124500001, 695420.744 5136144.8301, 695424.5546000004 5136141.6195, 695608.4186000004 5135979.7991, 695610.1319000004 5135977.5294, 695654.4499000004 5135918.8179, 695684.4490999999 5135878.818399999, 695707.4495000001 5135833.818399999, 695722.1486 5135796.634500001, 695723.9792 5135791.265900001, 695899.4480999997 5135591.82, 696181.9455000004 5135552.319800001, 696351.0920000002 5135650.030200001, 696743.5332000004 5136239.0319, 696738.1391000003 5136528.3586, 696756.8995000003 5137190.7051, 696804.6632000003 5138077.2015, 696992.7904000003 5139039.616, 697057.1803000001 5139361.282500001, 697104.6119999997 5139487.5823, 697118.5526999999 5139517.35, 697124.1612 5139529.240700001, 697129.6688000001 5139540.912900001, 697135.6239999998 5139550.0646, 697141.1988000004 5139558.310799999, 697181.2308 5139607.4309, 697189.9253000002 5139615.364399999, 697195.9539000001 5139619.5678, 697207.7493000003 5139627.479699999, 697228.2164000003 5139641.1719, 697234.7878 5139643.7776999995, 697247.8990000002 5139648.921499999, 697269.3174 5139656.9407, 697292.6972000003 5139665.169, 697310.7204 5139666.581599999, 697395.5499 5139672.4493, 697442.7900999999 5139675.6822, 698176.8872999996 5139674.009199999, 698867.4280000003 5139833.7881000005, 699319.392 5139944.7837000005, 699524.2962999996 5140081.3167, 699859.2906999998 5140367.0945, 699884.3081999999 5140401.779999999, 699895.8200000003 5140417.909700001, 699924.4159000004 5140461.1077, 700006.3241999997 5140593.2552000005, 700010.8448999999 5140601.417199999, 700034.9138000002 5140646.462200001, 699999.9929999998 5141715.7026, 700441.4288999997 5142929.586999999, 701037.9627999999 5144216.2369, 701280.3439999996 5145089.2312, 701161.6125999996 5145454.0679, 701096.3959999997 5145794.613299999, 701073.1936999997 5146725.865900001, 701349.3468000004 5148060.0462, 701638.3514 5148608.230900001, 701659.0340999998 5149500.7469999995, 701654.8433999997 5149843.0659, 702422.4674000004 5150162.2061, 702720.0795999998 5150240.725400001, 702888.4643999999 5150249.541200001, 703119.0713 5150498.319800001, 703396.0549999997 5151107.882999999, 703159.1243000003 5151477.719699999, 702784.2951999996 5151935.719699999, 702433.0517999995 5152215.637700001, 702258.3689000001 5152246.476, 702230.2862999998 5152254.7563000005, 702195.7202000003 5152264.9484, 702174.4151999997 5152278.6108, 702140.3507000003 5152300.770300001, 702136.8381000003 5152303.058599999, 702089.6747000003 5152338.3188000005, 702077.1312999995 5152381.265699999, 702006.7120000003 5152825.7029, 702127.4439000003 5152936.093699999, 702489.5609999998 5153189.3617, 702885.8421999998 5152915.4739, 703107.5557000004 5152834.784700001, 703378.8618999999 5152813.752, 704483.2960000001 5152779.0604, 706319.7331999997 5153464.9661, 707318.0590000004 5153958.004899999, 708399.4621000001 5154626.9690000005, 710023.1974 5153973.8597, 710546.0719999997 5153821.901699999, 711643.6413000003 5154042.2883, 713390.6276000002 5154548.827400001, 714067.6475 5155053.9999, 714067.7598000001 5155073.0934999995, 714076.7499000002 5155227.4209, 714082.8831000002 5155307.5879999995, 714160.6160000004 5155582.4681, 714222.5871000001 5155759.8697999995, 714794.3239000002 5156488.7732, 714880.8734999998 5156588.651900001, 714940.2537000002 5156649.4986000005, 714977.0418999996 5156687.1899, 715103.6128000002 5156790.190300001, 715196.341 5156864.4079, 715276.2230000002 5156924.887499999, 715303.6114999996 5156944.885299999, 715347.3206000002 5156976.7995, 715573.3764000004 5157083.754000001, 715603.1513999999 5157071.5338, 716164.6618999997 5156520.1701, 716175.5325999996 5156508.975199999, 716198.7147000004 5156485.101399999, 716371.7856999999 5156294.007300001, 716713.9375 5155903.052300001)))\"\n        ],\n        \"semantic_type\": \"\",\n        \"description\": \"\"\n      }\n    }\n  ]\n}"
            }
          },
          "metadata": {},
          "execution_count": 81
        }
      ],
      "source": [
        "province_of_trento"
      ]
    },
    {
      "cell_type": "code",
      "source": [
        "province_of_trento.crs"
      ],
      "metadata": {
        "colab": {
          "base_uri": "https://localhost:8080/"
        },
        "id": "pn4uyk_Cf6tT",
        "outputId": "80411541-f256-49c0-b465-b4beb89e2c17"
      },
      "execution_count": 82,
      "outputs": [
        {
          "output_type": "execute_result",
          "data": {
            "text/plain": [
              "<Projected CRS: EPSG:32632>\n",
              "Name: WGS 84 / UTM zone 32N\n",
              "Axis Info [cartesian]:\n",
              "- E[east]: Easting (metre)\n",
              "- N[north]: Northing (metre)\n",
              "Area of Use:\n",
              "- name: Between 6°E and 12°E, northern hemisphere between equator and 84°N, onshore and offshore. Algeria. Austria. Cameroon. Denmark. Equatorial Guinea. France. Gabon. Germany. Italy. Libya. Liechtenstein. Monaco. Netherlands. Niger. Nigeria. Norway. Sao Tome and Principe. Svalbard. Sweden. Switzerland. Tunisia. Vatican City State.\n",
              "- bounds: (6.0, 0.0, 12.0, 84.0)\n",
              "Coordinate Operation:\n",
              "- name: UTM zone 32N\n",
              "- method: Transverse Mercator\n",
              "Datum: World Geodetic System 1984 ensemble\n",
              "- Ellipsoid: WGS 84\n",
              "- Prime Meridian: Greenwich"
            ]
          },
          "metadata": {},
          "execution_count": 82
        }
      ]
    },
    {
      "cell_type": "code",
      "source": [
        "type(province_of_trento)"
      ],
      "metadata": {
        "colab": {
          "base_uri": "https://localhost:8080/",
          "height": 186
        },
        "id": "-R7mWr-GfYyM",
        "outputId": "658979d3-e54b-4a6c-8ead-b01870f3b19b"
      },
      "execution_count": 83,
      "outputs": [
        {
          "output_type": "execute_result",
          "data": {
            "text/plain": [
              "geopandas.geodataframe.GeoDataFrame"
            ],
            "text/html": [
              "<div style=\"max-width:800px; border: 1px solid var(--colab-border-color);\"><style>\n",
              "      pre.function-repr-contents {\n",
              "        overflow-x: auto;\n",
              "        padding: 8px 12px;\n",
              "        max-height: 500px;\n",
              "      }\n",
              "\n",
              "      pre.function-repr-contents.function-repr-contents-collapsed {\n",
              "        cursor: pointer;\n",
              "        max-height: 100px;\n",
              "      }\n",
              "    </style>\n",
              "    <pre style=\"white-space: initial; background:\n",
              "         var(--colab-secondary-surface-color); padding: 8px 12px;\n",
              "         border-bottom: 1px solid var(--colab-border-color);\"><b>geopandas.geodataframe.GeoDataFrame</b><br/>def __init__(data=None, *args, geometry: Any | None=None, crs: Any | None=None, **kwargs)</pre><pre class=\"function-repr-contents function-repr-contents-collapsed\" style=\"\"><a class=\"filepath\" style=\"display:none\" href=\"#\">/usr/local/lib/python3.12/dist-packages/geopandas/geodataframe.py</a>A GeoDataFrame object is a pandas.DataFrame that has one or more columns\n",
              "containing geometry. In addition to the standard DataFrame constructor arguments,\n",
              "GeoDataFrame also accepts the following keyword arguments:\n",
              "\n",
              "Parameters\n",
              "----------\n",
              "crs : value (optional)\n",
              "    Coordinate Reference System of the geometry objects. Can be anything accepted by\n",
              "    :meth:`pyproj.CRS.from_user_input() &lt;pyproj.crs.CRS.from_user_input&gt;`,\n",
              "    such as an authority string (eg &quot;EPSG:4326&quot;) or a WKT string.\n",
              "geometry : str or array-like (optional)\n",
              "    Value to use as the active geometry column.\n",
              "    If str, treated as column name to use. If array-like, it will be\n",
              "    added as new column named &#x27;geometry&#x27; on the GeoDataFrame and set as the\n",
              "    active geometry column.\n",
              "\n",
              "    Note that if ``geometry`` is a (Geo)Series with a\n",
              "    name, the name will not be used, a column named &quot;geometry&quot; will still be\n",
              "    added. To preserve the name, you can use :meth:`~GeoDataFrame.rename_geometry`\n",
              "    to update the geometry column name.\n",
              "\n",
              "Examples\n",
              "--------\n",
              "Constructing GeoDataFrame from a dictionary.\n",
              "\n",
              "&gt;&gt;&gt; from shapely.geometry import Point\n",
              "&gt;&gt;&gt; d = {&#x27;col1&#x27;: [&#x27;name1&#x27;, &#x27;name2&#x27;], &#x27;geometry&#x27;: [Point(1, 2), Point(2, 1)]}\n",
              "&gt;&gt;&gt; gdf = geopandas.GeoDataFrame(d, crs=&quot;EPSG:4326&quot;)\n",
              "&gt;&gt;&gt; gdf\n",
              "    col1     geometry\n",
              "0  name1  POINT (1 2)\n",
              "1  name2  POINT (2 1)\n",
              "\n",
              "Notice that the inferred dtype of &#x27;geometry&#x27; columns is geometry.\n",
              "\n",
              "&gt;&gt;&gt; gdf.dtypes\n",
              "col1          object\n",
              "geometry    geometry\n",
              "dtype: object\n",
              "\n",
              "Constructing GeoDataFrame from a pandas DataFrame with a column of WKT geometries:\n",
              "\n",
              "&gt;&gt;&gt; import pandas as pd\n",
              "&gt;&gt;&gt; d = {&#x27;col1&#x27;: [&#x27;name1&#x27;, &#x27;name2&#x27;], &#x27;wkt&#x27;: [&#x27;POINT (1 2)&#x27;, &#x27;POINT (2 1)&#x27;]}\n",
              "&gt;&gt;&gt; df = pd.DataFrame(d)\n",
              "&gt;&gt;&gt; gs = geopandas.GeoSeries.from_wkt(df[&#x27;wkt&#x27;])\n",
              "&gt;&gt;&gt; gdf = geopandas.GeoDataFrame(df, geometry=gs, crs=&quot;EPSG:4326&quot;)\n",
              "&gt;&gt;&gt; gdf\n",
              "    col1          wkt     geometry\n",
              "0  name1  POINT (1 2)  POINT (1 2)\n",
              "1  name2  POINT (2 1)  POINT (2 1)\n",
              "\n",
              "See also\n",
              "--------\n",
              "GeoSeries : Series object designed to store shapely geometry objects</pre>\n",
              "      <script>\n",
              "      if (google.colab.kernel.accessAllowed && google.colab.files && google.colab.files.view) {\n",
              "        for (const element of document.querySelectorAll('.filepath')) {\n",
              "          element.style.display = 'block'\n",
              "          element.onclick = (event) => {\n",
              "            event.preventDefault();\n",
              "            event.stopPropagation();\n",
              "            google.colab.files.view(element.textContent, 83);\n",
              "          };\n",
              "        }\n",
              "      }\n",
              "      for (const element of document.querySelectorAll('.function-repr-contents')) {\n",
              "        element.onclick = (event) => {\n",
              "          event.preventDefault();\n",
              "          event.stopPropagation();\n",
              "          element.classList.toggle('function-repr-contents-collapsed');\n",
              "        };\n",
              "      }\n",
              "      </script>\n",
              "      </div>"
            ]
          },
          "metadata": {},
          "execution_count": 83
        }
      ]
    },
    {
      "cell_type": "markdown",
      "metadata": {
        "id": "8nQ0YPYvZ_2J"
      },
      "source": [
        "### plot it"
      ]
    },
    {
      "cell_type": "code",
      "execution_count": 84,
      "metadata": {
        "colab": {
          "base_uri": "https://localhost:8080/",
          "height": 725
        },
        "id": "J3KKa1HqIk99",
        "outputId": "dfa770fd-375b-4035-8d51-247218fec8ff"
      },
      "outputs": [
        {
          "output_type": "display_data",
          "data": {
            "text/plain": [
              "<Figure size 1000x1000 with 1 Axes>"
            ],
            "image/png": "[encoded data removed]"
          },
          "metadata": {}
        }
      ],
      "source": [
        "province_of_trento.plot(figsize=(10,10))\n",
        "plt.show()"
      ]
    },
    {
      "cell_type": "markdown",
      "metadata": {
        "id": "sNuk2GFbaEe0"
      },
      "source": [
        "## 2. load the shapefile of ISTAT with the informations of the muncipalities\n",
        "### identify the municipalities of the province selected with the biggest and smallest area\n",
        "\n",
        "this means we need to use another layer / dataset"
      ]
    },
    {
      "cell_type": "code",
      "execution_count": 85,
      "metadata": {
        "id": "c6LWnGag-8je"
      },
      "outputs": [],
      "source": [
        "municipalities = gpd.read_file(url,layer=\"municipalities\")"
      ]
    },
    {
      "cell_type": "code",
      "execution_count": 86,
      "metadata": {
        "colab": {
          "base_uri": "https://localhost:8080/"
        },
        "id": "XlAUfmNwJojm",
        "outputId": "4840b309-5d13-4de8-fa65-bcbb3695f765"
      },
      "outputs": [
        {
          "output_type": "execute_result",
          "data": {
            "text/plain": [
              "Index(['COD_RIP', 'COD_REG', 'COD_PROV', 'COD_CM', 'COD_UTS', 'PRO_COM',\n",
              "       'PRO_COM_T', 'COMUNE', 'COMUNE_A', 'CC_UTS', 'geometry'],\n",
              "      dtype='object')"
            ]
          },
          "metadata": {},
          "execution_count": 86
        }
      ],
      "source": [
        "municipalities.columns"
      ]
    },
    {
      "cell_type": "markdown",
      "metadata": {
        "id": "jX4dEbEt9Zgo"
      },
      "source": [
        "**COD_RIP**<br/>\n",
        "*codice ripartizione*<br/>\n",
        "numeric code of the macroregion of belonging\n",
        "\n",
        "**COD_REG**<br/>\n",
        "*codice regione*<br/>\n",
        "numeric code of the region of belonging\n",
        "\n",
        "**COD_PROV**<br/>\n",
        "*codice provincia*<br/>\n",
        "numeric code of the region of belonging\n",
        "\n",
        "**COD_CM**<br/>\n",
        "*codice comune*<br/>\n",
        "unique numeric identification code of the municipality within the province of belonging\n",
        "\n",
        "**COD_UTS**<br/>\n",
        "*codice unità territoriali sovracomunali*<br/>\n",
        "Numeric code that uniquely identifies the Units\n",
        "territorial supra-municipal on the national territory.\n",
        "\n",
        "**PRO_COM**<br/>\n",
        "*provincia comune**<br/>\n",
        "Numeric code that uniquely identifies the Municipality\n",
        "on the national territory. (= COD_PROV & COD_COM)\n",
        "\n",
        "**PRO_COM_T**<br/>\n",
        "*provincia comune territorio**<br/>\n",
        "Alphanumeric code that uniquely identifies the\n",
        "Municipality on the national territory.<br/>\n",
        "Like PRO_COM but definied in 6 fixed characters.\n",
        "\n",
        "**COMUNE**<br/>\n",
        "*comune*<br/>\n",
        "Name of the Municipality\n",
        "\n",
        "**COMUNE_A**<br/>\n",
        "*comune alternativa*<br/>\n",
        "Name of the Municipality in a language other than Italian\n",
        "\n",
        "**CC_UTS**<br/>\n",
        "*comune capoluogo*<br/>\n",
        "Provincial capital or metropolitan city<br/>\n",
        "1 => True<br/>\n",
        "2 => False\n",
        "\n"
      ]
    },
    {
      "cell_type": "markdown",
      "metadata": {
        "id": "4cRRhYVCakDq"
      },
      "source": [
        "the **COD_PROV** of the Province of Trento is **22**"
      ]
    },
    {
      "cell_type": "code",
      "execution_count": 87,
      "metadata": {
        "id": "UjYOlOPeJtZg"
      },
      "outputs": [],
      "source": [
        "# filter the province\n",
        "municipalities_province_trento= municipalities[municipalities.COD_PROV==22]"
      ]
    },
    {
      "cell_type": "code",
      "execution_count": 88,
      "metadata": {
        "colab": {
          "base_uri": "https://localhost:8080/",
          "height": 726
        },
        "id": "pgcYsr41JxXE",
        "outputId": "2ea51c0a-623f-489a-c3bc-4c38d76ce088"
      },
      "outputs": [
        {
          "output_type": "display_data",
          "data": {
            "text/plain": [
              "<Figure size 1000x1000 with 1 Axes>"
            ],
            "image/png": "[encoded data removed]"
          },
          "metadata": {}
        }
      ],
      "source": [
        "# plot it\n",
        "municipalities_province_trento.plot(figsize=(10,10))\n",
        "plt.show()"
      ]
    },
    {
      "cell_type": "markdown",
      "metadata": {
        "id": "nG87m3Hna9ZB"
      },
      "source": [
        "### identify the cities of the province selected with the biggest and smallest area\n",
        "\n",
        "**CAUTION**:\n",
        "\n",
        "we are using generalized boundaries !!!"
      ]
    },
    {
      "cell_type": "markdown",
      "metadata": {
        "id": "CotX0EIMcrDU"
      },
      "source": [
        "finding the max area"
      ]
    },
    {
      "cell_type": "code",
      "execution_count": 89,
      "metadata": {
        "id": "ed1E9oyvJ0yu"
      },
      "outputs": [],
      "source": [
        "max_area = municipalities_province_trento.geometry.area.max()"
      ]
    },
    {
      "cell_type": "code",
      "source": [
        "municipalities_province_trento.geometry.area.max()"
      ],
      "metadata": {
        "id": "m5vgU8DujJRa",
        "outputId": "7afac9eb-de90-499c-aa02-918bed78a3d0",
        "colab": {
          "base_uri": "https://localhost:8080/"
        }
      },
      "execution_count": 90,
      "outputs": [
        {
          "output_type": "execute_result",
          "data": {
            "text/plain": [
              "199034565.8416705"
            ]
          },
          "metadata": {},
          "execution_count": 90
        }
      ]
    },
    {
      "cell_type": "code",
      "source": [],
      "metadata": {
        "id": "dXCwGD5OjGT9"
      },
      "execution_count": 90,
      "outputs": []
    },
    {
      "cell_type": "code",
      "execution_count": 91,
      "metadata": {
        "colab": {
          "base_uri": "https://localhost:8080/"
        },
        "id": "DHj8IQ0LFY3t",
        "outputId": "37f626c0-b45d-43c4-90a4-228d1e92cdc9"
      },
      "outputs": [
        {
          "output_type": "execute_result",
          "data": {
            "text/plain": [
              "199034565.8416705"
            ]
          },
          "metadata": {},
          "execution_count": 91
        }
      ],
      "source": [
        "max_area"
      ]
    },
    {
      "cell_type": "markdown",
      "metadata": {
        "id": "6othNPYvcvoB"
      },
      "source": [
        "finding the min area"
      ]
    },
    {
      "cell_type": "code",
      "execution_count": 92,
      "metadata": {
        "id": "9G4hMiQCJ3Af"
      },
      "outputs": [],
      "source": [
        "min_area = municipalities_province_trento.geometry.area.min()"
      ]
    },
    {
      "cell_type": "code",
      "execution_count": 93,
      "metadata": {
        "colab": {
          "base_uri": "https://localhost:8080/"
        },
        "id": "7vnVp3RWFa2G",
        "outputId": "853be12c-30eb-4c08-b798-bcbf0f9ecf16"
      },
      "outputs": [
        {
          "output_type": "execute_result",
          "data": {
            "text/plain": [
              "1739520.6445374773"
            ]
          },
          "metadata": {},
          "execution_count": 93
        }
      ],
      "source": [
        "min_area"
      ]
    },
    {
      "cell_type": "markdown",
      "metadata": {
        "id": "mIcFXpBdbb4G"
      },
      "source": [
        "... you can obtain the same in another way (combination of the requests)"
      ]
    },
    {
      "cell_type": "code",
      "execution_count": 94,
      "metadata": {
        "colab": {
          "base_uri": "https://localhost:8080/"
        },
        "id": "6LU7py1VbdXT",
        "outputId": "097fd3c4-cd4e-4756-a1fb-f758544a579b"
      },
      "outputs": [
        {
          "output_type": "execute_result",
          "data": {
            "text/plain": [
              "1739520.6445374773"
            ]
          },
          "metadata": {},
          "execution_count": 94
        }
      ],
      "source": [
        "municipalities[municipalities.COD_PROV==22].geometry.area.min()"
      ]
    },
    {
      "cell_type": "markdown",
      "metadata": {
        "id": "Jzy-S7i4cZdy"
      },
      "source": [
        "### identify the municipality with the biggest area\n",
        "\n",
        "\n"
      ]
    },
    {
      "cell_type": "code",
      "execution_count": 95,
      "metadata": {
        "id": "HnefpEIAJ50g"
      },
      "outputs": [],
      "source": [
        "maxarea_municipality_province_trento = municipalities_province_trento[municipalities_province_trento.geometry.area == max_area]"
      ]
    },
    {
      "cell_type": "code",
      "execution_count": 96,
      "metadata": {
        "colab": {
          "base_uri": "https://localhost:8080/",
          "height": 458
        },
        "id": "oLEC0CPXJ_FY",
        "outputId": "97cb0951-20ca-4cd5-e53f-721acb963bc7"
      },
      "outputs": [
        {
          "output_type": "execute_result",
          "data": {
            "text/plain": [
              "2759    022001\n",
              "2760    022002\n",
              "2761    022003\n",
              "2762    022005\n",
              "2763    022006\n",
              "         ...  \n",
              "2920    022250\n",
              "2921    022251\n",
              "2922    022252\n",
              "2923    022253\n",
              "2924    022254\n",
              "Name: PRO_COM_T, Length: 166, dtype: object"
            ],
            "text/html": [
              "<div>\n",
              "<style scoped>\n",
              "    .dataframe tbody tr th:only-of-type {\n",
              "        vertical-align: middle;\n",
              "    }\n",
              "\n",
              "    .dataframe tbody tr th {\n",
              "        vertical-align: top;\n",
              "    }\n",
              "\n",
              "    .dataframe thead th {\n",
              "        text-align: right;\n",
              "    }\n",
              "</style>\n",
              "<table border=\"1\" class=\"dataframe\">\n",
              "  <thead>\n",
              "    <tr style=\"text-align: right;\">\n",
              "      <th></th>\n",
              "      <th>PRO_COM_T</th>\n",
              "    </tr>\n",
              "  </thead>\n",
              "  <tbody>\n",
              "    <tr>\n",
              "      <th>2759</th>\n",
              "      <td>022001</td>\n",
              "    </tr>\n",
              "    <tr>\n",
              "      <th>2760</th>\n",
              "      <td>022002</td>\n",
              "    </tr>\n",
              "    <tr>\n",
              "      <th>2761</th>\n",
              "      <td>022003</td>\n",
              "    </tr>\n",
              "    <tr>\n",
              "      <th>2762</th>\n",
              "      <td>022005</td>\n",
              "    </tr>\n",
              "    <tr>\n",
              "      <th>2763</th>\n",
              "      <td>022006</td>\n",
              "    </tr>\n",
              "    <tr>\n",
              "      <th>...</th>\n",
              "      <td>...</td>\n",
              "    </tr>\n",
              "    <tr>\n",
              "      <th>2920</th>\n",
              "      <td>022250</td>\n",
              "    </tr>\n",
              "    <tr>\n",
              "      <th>2921</th>\n",
              "      <td>022251</td>\n",
              "    </tr>\n",
              "    <tr>\n",
              "      <th>2922</th>\n",
              "      <td>022252</td>\n",
              "    </tr>\n",
              "    <tr>\n",
              "      <th>2923</th>\n",
              "      <td>022253</td>\n",
              "    </tr>\n",
              "    <tr>\n",
              "      <th>2924</th>\n",
              "      <td>022254</td>\n",
              "    </tr>\n",
              "  </tbody>\n",
              "</table>\n",
              "<p>166 rows × 1 columns</p>\n",
              "</div><br><label><b>dtype:</b> object</label>"
            ]
          },
          "metadata": {},
          "execution_count": 96
        }
      ],
      "source": [
        "municipalities_province_trento.PRO_COM_T"
      ]
    },
    {
      "cell_type": "code",
      "execution_count": 97,
      "metadata": {
        "colab": {
          "base_uri": "https://localhost:8080/",
          "height": 115
        },
        "id": "zirOh3UpdWwe",
        "outputId": "3155997f-e821-4525-e217-00e482e4cde9"
      },
      "outputs": [
        {
          "output_type": "execute_result",
          "data": {
            "text/plain": [
              "2915    022245\n",
              "Name: PRO_COM_T, dtype: object"
            ],
            "text/html": [
              "<div>\n",
              "<style scoped>\n",
              "    .dataframe tbody tr th:only-of-type {\n",
              "        vertical-align: middle;\n",
              "    }\n",
              "\n",
              "    .dataframe tbody tr th {\n",
              "        vertical-align: top;\n",
              "    }\n",
              "\n",
              "    .dataframe thead th {\n",
              "        text-align: right;\n",
              "    }\n",
              "</style>\n",
              "<table border=\"1\" class=\"dataframe\">\n",
              "  <thead>\n",
              "    <tr style=\"text-align: right;\">\n",
              "      <th></th>\n",
              "      <th>PRO_COM_T</th>\n",
              "    </tr>\n",
              "  </thead>\n",
              "  <tbody>\n",
              "    <tr>\n",
              "      <th>2915</th>\n",
              "      <td>022245</td>\n",
              "    </tr>\n",
              "  </tbody>\n",
              "</table>\n",
              "</div><br><label><b>dtype:</b> object</label>"
            ]
          },
          "metadata": {},
          "execution_count": 97
        }
      ],
      "source": [
        "maxarea_municipality_province_trento.PRO_COM_T"
      ]
    },
    {
      "cell_type": "code",
      "source": [
        "maxarea_municipality_province_trento.COMUNE"
      ],
      "metadata": {
        "id": "I1fiIYAQkaDv",
        "outputId": "9cb351da-4345-49eb-dd16-2fc7e3166d08",
        "colab": {
          "base_uri": "https://localhost:8080/",
          "height": 115
        }
      },
      "execution_count": 98,
      "outputs": [
        {
          "output_type": "execute_result",
          "data": {
            "text/plain": [
              "2915    Primiero San Martino di Castrozza\n",
              "Name: COMUNE, dtype: object"
            ],
            "text/html": [
              "<div>\n",
              "<style scoped>\n",
              "    .dataframe tbody tr th:only-of-type {\n",
              "        vertical-align: middle;\n",
              "    }\n",
              "\n",
              "    .dataframe tbody tr th {\n",
              "        vertical-align: top;\n",
              "    }\n",
              "\n",
              "    .dataframe thead th {\n",
              "        text-align: right;\n",
              "    }\n",
              "</style>\n",
              "<table border=\"1\" class=\"dataframe\">\n",
              "  <thead>\n",
              "    <tr style=\"text-align: right;\">\n",
              "      <th></th>\n",
              "      <th>COMUNE</th>\n",
              "    </tr>\n",
              "  </thead>\n",
              "  <tbody>\n",
              "    <tr>\n",
              "      <th>2915</th>\n",
              "      <td>Primiero San Martino di Castrozza</td>\n",
              "    </tr>\n",
              "  </tbody>\n",
              "</table>\n",
              "</div><br><label><b>dtype:</b> object</label>"
            ]
          },
          "metadata": {},
          "execution_count": 98
        }
      ]
    },
    {
      "cell_type": "markdown",
      "metadata": {
        "id": "fbyYIwZ6dGdY"
      },
      "source": [
        "the municipality with the bigger area is **Trento** (022245)"
      ]
    },
    {
      "cell_type": "code",
      "execution_count": 99,
      "metadata": {
        "colab": {
          "base_uri": "https://localhost:8080/",
          "height": 845
        },
        "id": "EYgIAJx1_KTV",
        "outputId": "af9832e7-f585-4295-a50b-ce3f42656bb0"
      },
      "outputs": [
        {
          "output_type": "display_data",
          "data": {
            "text/plain": [
              "<Figure size 1000x1000 with 1 Axes>"
            ],
            "image/png": "[encoded data removed]"
          },
          "metadata": {}
        }
      ],
      "source": [
        "maxarea_municipality_province_trento.plot(figsize=(10,10))\n",
        "plt.show()"
      ]
    },
    {
      "cell_type": "code",
      "source": [
        "maxarea_municipality_province_trento.explore()"
      ],
      "metadata": {
        "id": "2n91g56KkijK",
        "outputId": "5eabe323-5a0e-43fd-cbb8-e5cbc1d9cf53",
        "colab": {
          "base_uri": "https://localhost:8080/",
          "height": 579
        }
      },
      "execution_count": 100,
      "outputs": [
        {
          "output_type": "execute_result",
          "data": {
            "text/plain": [
              "<folium.folium.Map at 0x7de32ace7560>"
            ],
            "text/html": [
              "<div style=\"width:100%;\"><div style=\"position:relative;width:100%;height:0;padding-bottom:60%;\"><span style=\"color:#565656\">Make this Notebook Trusted to load map: File -> Trust Notebook</span><iframe srcdoc=\"&lt;!DOCTYPE html&gt;\n",
              "&lt;html&gt;\n",
              "&lt;head&gt;\n",
              "    \n",
              "    &lt;meta http-equiv=&quot;content-type&quot; content=&quot;text/html; charset=UTF-8&quot; /&gt;\n",
              "    &lt;script src=&quot;https://cdn.jsdelivr.net/npm/leaflet@1.9.3/dist/leaflet.js&quot;&gt;&lt;/script&gt;\n",
              "    &lt;script src=&quot;https://code.jquery.com/jquery-3.7.1.min.js&quot;&gt;&lt;/script&gt;\n",
              "    &lt;script src=&quot;https://cdn.jsdelivr.net/npm/bootstrap@5.2.2/dist/js/bootstrap.bundle.min.js&quot;&gt;&lt;/script&gt;\n",
              "    &lt;script src=&quot;https://cdnjs.cloudflare.com/ajax/libs/Leaflet.awesome-markers/2.0.2/leaflet.awesome-markers.js&quot;&gt;&lt;/script&gt;\n",
              "    &lt;link rel=&quot;stylesheet&quot; href=&quot;https://cdn.jsdelivr.net/npm/leaflet@1.9.3/dist/leaflet.css&quot;/&gt;\n",
              "    &lt;link rel=&quot;stylesheet&quot; href=&quot;https://cdn.jsdelivr.net/npm/bootstrap@5.2.2/dist/css/bootstrap.min.css&quot;/&gt;\n",
              "    &lt;link rel=&quot;stylesheet&quot; href=&quot;https://netdna.bootstrapcdn.com/bootstrap/3.0.0/css/bootstrap-glyphicons.css&quot;/&gt;\n",
              "    &lt;link rel=&quot;stylesheet&quot; href=&quot;https://cdn.jsdelivr.net/npm/@fortawesome/fontawesome-free@6.2.0/css/all.min.css&quot;/&gt;\n",
              "    &lt;link rel=&quot;stylesheet&quot; href=&quot;https://cdnjs.cloudflare.com/ajax/libs/Leaflet.awesome-markers/2.0.2/leaflet.awesome-markers.css&quot;/&gt;\n",
              "    &lt;link rel=&quot;stylesheet&quot; href=&quot;https://cdn.jsdelivr.net/gh/python-visualization/folium/folium/templates/leaflet.awesome.rotate.min.css&quot;/&gt;\n",
              "    \n",
              "            &lt;meta name=&quot;viewport&quot; content=&quot;width=device-width,\n",
              "                initial-scale=1.0, maximum-scale=1.0, user-scalable=no&quot; /&gt;\n",
              "            &lt;style&gt;\n",
              "                #map_59f2d35b8fbb4321ef0452037077d9e3 {\n",
              "                    position: relative;\n",
              "                    width: 100.0%;\n",
              "                    height: 100.0%;\n",
              "                    left: 0.0%;\n",
              "                    top: 0.0%;\n",
              "                }\n",
              "                .leaflet-container { font-size: 1rem; }\n",
              "            &lt;/style&gt;\n",
              "\n",
              "            &lt;style&gt;html, body {\n",
              "                width: 100%;\n",
              "                height: 100%;\n",
              "                margin: 0;\n",
              "                padding: 0;\n",
              "            }\n",
              "            &lt;/style&gt;\n",
              "\n",
              "            &lt;style&gt;#map {\n",
              "                position:absolute;\n",
              "                top:0;\n",
              "                bottom:0;\n",
              "                right:0;\n",
              "                left:0;\n",
              "                }\n",
              "            &lt;/style&gt;\n",
              "\n",
              "            &lt;script&gt;\n",
              "                L_NO_TOUCH = false;\n",
              "                L_DISABLE_3D = false;\n",
              "            &lt;/script&gt;\n",
              "\n",
              "        \n",
              "    \n",
              "                    &lt;style&gt;\n",
              "                        .foliumtooltip {\n",
              "                            \n",
              "                        }\n",
              "                       .foliumtooltip table{\n",
              "                            margin: auto;\n",
              "                        }\n",
              "                        .foliumtooltip tr{\n",
              "                            text-align: left;\n",
              "                        }\n",
              "                        .foliumtooltip th{\n",
              "                            padding: 2px; padding-right: 8px;\n",
              "                        }\n",
              "                    &lt;/style&gt;\n",
              "            \n",
              "&lt;/head&gt;\n",
              "&lt;body&gt;\n",
              "    \n",
              "    \n",
              "            &lt;div class=&quot;folium-map&quot; id=&quot;map_59f2d35b8fbb4321ef0452037077d9e3&quot; &gt;&lt;/div&gt;\n",
              "        \n",
              "&lt;/body&gt;\n",
              "&lt;script&gt;\n",
              "    \n",
              "    \n",
              "            var map_59f2d35b8fbb4321ef0452037077d9e3 = L.map(\n",
              "                &quot;map_59f2d35b8fbb4321ef0452037077d9e3&quot;,\n",
              "                {\n",
              "                    center: [46.247637151614015, 11.81948380902794],\n",
              "                    crs: L.CRS.EPSG3857,\n",
              "                    ...{\n",
              "  &quot;zoom&quot;: 10,\n",
              "  &quot;zoomControl&quot;: true,\n",
              "  &quot;preferCanvas&quot;: false,\n",
              "}\n",
              "\n",
              "                }\n",
              "            );\n",
              "            L.control.scale().addTo(map_59f2d35b8fbb4321ef0452037077d9e3);\n",
              "\n",
              "            \n",
              "\n",
              "        \n",
              "    \n",
              "            var tile_layer_1d95266156d4addd5282282d4de90837 = L.tileLayer(\n",
              "                &quot;https://tile.openstreetmap.org/{z}/{x}/{y}.png&quot;,\n",
              "                {\n",
              "  &quot;minZoom&quot;: 0,\n",
              "  &quot;maxZoom&quot;: 19,\n",
              "  &quot;maxNativeZoom&quot;: 19,\n",
              "  &quot;noWrap&quot;: false,\n",
              "  &quot;attribution&quot;: &quot;\\u0026copy; \\u003ca href=\\&quot;https://www.openstreetmap.org/copyright\\&quot;\\u003eOpenStreetMap\\u003c/a\\u003e contributors&quot;,\n",
              "  &quot;subdomains&quot;: &quot;abc&quot;,\n",
              "  &quot;detectRetina&quot;: false,\n",
              "  &quot;tms&quot;: false,\n",
              "  &quot;opacity&quot;: 1,\n",
              "}\n",
              "\n",
              "            );\n",
              "        \n",
              "    \n",
              "            tile_layer_1d95266156d4addd5282282d4de90837.addTo(map_59f2d35b8fbb4321ef0452037077d9e3);\n",
              "        \n",
              "    \n",
              "            map_59f2d35b8fbb4321ef0452037077d9e3.fitBounds(\n",
              "                [[46.135822716053525, 11.709517980950432], [46.35945158717451, 11.929449637105447]],\n",
              "                {}\n",
              "            );\n",
              "        \n",
              "    \n",
              "        function geo_json_d5c7f689f5131a18bb4918f174767259_styler(feature) {\n",
              "            switch(feature.id) {\n",
              "                default:\n",
              "                    return {&quot;fillOpacity&quot;: 0.5, &quot;weight&quot;: 2};\n",
              "            }\n",
              "        }\n",
              "        function geo_json_d5c7f689f5131a18bb4918f174767259_highlighter(feature) {\n",
              "            switch(feature.id) {\n",
              "                default:\n",
              "                    return {&quot;fillOpacity&quot;: 0.75};\n",
              "            }\n",
              "        }\n",
              "        function geo_json_d5c7f689f5131a18bb4918f174767259_pointToLayer(feature, latlng) {\n",
              "            var opts = {\n",
              "  &quot;stroke&quot;: true,\n",
              "  &quot;color&quot;: &quot;#3388ff&quot;,\n",
              "  &quot;weight&quot;: 3,\n",
              "  &quot;opacity&quot;: 1.0,\n",
              "  &quot;lineCap&quot;: &quot;round&quot;,\n",
              "  &quot;lineJoin&quot;: &quot;round&quot;,\n",
              "  &quot;dashArray&quot;: null,\n",
              "  &quot;dashOffset&quot;: null,\n",
              "  &quot;fill&quot;: true,\n",
              "  &quot;fillColor&quot;: &quot;#3388ff&quot;,\n",
              "  &quot;fillOpacity&quot;: 0.2,\n",
              "  &quot;fillRule&quot;: &quot;evenodd&quot;,\n",
              "  &quot;bubblingMouseEvents&quot;: true,\n",
              "  &quot;radius&quot;: 2,\n",
              "};\n",
              "            \n",
              "            let style = geo_json_d5c7f689f5131a18bb4918f174767259_styler(feature)\n",
              "            Object.assign(opts, style)\n",
              "            \n",
              "            return new L.CircleMarker(latlng, opts)\n",
              "        }\n",
              "\n",
              "        function geo_json_d5c7f689f5131a18bb4918f174767259_onEachFeature(feature, layer) {\n",
              "\n",
              "            layer.on({\n",
              "                mouseout: function(e) {\n",
              "                    if(typeof e.target.setStyle === &quot;function&quot;){\n",
              "                            geo_json_d5c7f689f5131a18bb4918f174767259.resetStyle(e.target);\n",
              "                    }\n",
              "                },\n",
              "                mouseover: function(e) {\n",
              "                    if(typeof e.target.setStyle === &quot;function&quot;){\n",
              "                        const highlightStyle = geo_json_d5c7f689f5131a18bb4918f174767259_highlighter(e.target.feature)\n",
              "                        e.target.setStyle(highlightStyle);\n",
              "                    }\n",
              "                },\n",
              "            });\n",
              "        };\n",
              "        var geo_json_d5c7f689f5131a18bb4918f174767259 = L.geoJson(null, {\n",
              "                onEachFeature: geo_json_d5c7f689f5131a18bb4918f174767259_onEachFeature,\n",
              "            \n",
              "                style: geo_json_d5c7f689f5131a18bb4918f174767259_styler,\n",
              "                pointToLayer: geo_json_d5c7f689f5131a18bb4918f174767259_pointToLayer,\n",
              "            ...{\n",
              "}\n",
              "        });\n",
              "\n",
              "        function geo_json_d5c7f689f5131a18bb4918f174767259_add (data) {\n",
              "            geo_json_d5c7f689f5131a18bb4918f174767259\n",
              "                .addData(data);\n",
              "        }\n",
              "            geo_json_d5c7f689f5131a18bb4918f174767259_add({&quot;bbox&quot;: [11.709517980950432, 46.135822716053525, 11.929449637105447, 46.35945158717451], &quot;features&quot;: [{&quot;bbox&quot;: [11.709517980950432, 46.135822716053525, 11.929449637105447, 46.35945158717451], &quot;geometry&quot;: {&quot;coordinates&quot;: [[[[11.774378551985945, 46.358241654582976], [11.779562365907838, 46.351523788318715], [11.790830167754544, 46.347477441225834], [11.799982833619376, 46.344229432749046], [11.801960716159854, 46.340540608804446], [11.802787900903919, 46.33432288443313], [11.809947019396546, 46.33182312965783], [11.81484242490083, 46.3302184362948], [11.820355142438101, 46.32847249155544], [11.831891161450791, 46.322661438730954], [11.832064497641815, 46.31796800662911], [11.832491617445076, 46.31240424318823], [11.83462751526942, 46.310034117520296], [11.836270448822939, 46.30862038142182], [11.83642954549102, 46.3084844604694], [11.836735620064937, 46.30822356350215], [11.83678201132331, 46.30818402153447], [11.841446209692396, 46.306340517432574], [11.838358672630504, 46.30329434937865], [11.834399239688533, 46.29954952369308], [11.832634001073174, 46.29733848512643], [11.83144767798968, 46.2952604924896], [11.826261275387683, 46.284970525956666], [11.826849914286079, 46.28400951982528], [11.829828359089364, 46.2803893125346], [11.835181422792237, 46.27411754036535], [11.840847491807969, 46.27007760051908], [11.853587525959046, 46.27087635978708], [11.865752608661381, 46.273113915465046], [11.872652933941596, 46.27599846273543], [11.879461243788306, 46.278069082647036], [11.880166808678696, 46.27827911564484], [11.882254875425925, 46.27874579653676], [11.883001214489052, 46.27884253388731], [11.883578748357658, 46.27890012739806], [11.884155960507229, 46.278904975651436], [11.884227380546381, 46.27890353255296], [11.884917482874311, 46.278889582553], [11.885194681582576, 46.278824683430955], [11.885247949297622, 46.278808757467665], [11.88610692207489, 46.27761807237118], [11.88691643592832, 46.27632346066143], [11.88770279467422, 46.27490702176085], [11.888038164222964, 46.27424193981949], [11.888291636543574, 46.27363859205459], [11.888359036188481, 46.272512057165514], [11.887885637240425, 46.26849962544884], [11.887462099117984, 46.26505922929519], [11.88734853481986, 46.26441447984679], [11.887199438919444, 46.26407612954559], [11.886802468747824, 46.26381631290894], [11.886671134779318, 46.263732024264044], [11.88637281720288, 46.263542633747534], [11.885997525924266, 46.26328812133196], [11.885637299126042, 46.26294019429536], [11.885578204257175, 46.26285674193479], [11.885308784963879, 46.26247564411927], [11.885053411325027, 46.26196996170381], [11.885035761483893, 46.26193495298248], [11.884913876751117, 46.26162324579788], [11.884860300219149, 46.26148505173118], [11.884905192748807, 46.26107367064454], [11.884942234459334, 46.260734231061384], [11.885197682862467, 46.260168038793864], [11.885231840201074, 46.260094087253314], [11.88546789704187, 46.259583114770805], [11.885687766482391, 46.25916598768468], [11.886261588504, 46.25819042378501], [11.889510862870928, 46.254830359857145], [11.891228353524973, 46.25316492160328], [11.891743546566637, 46.25280044750573], [11.891932548293012, 46.252666736227866], [11.891986530220693, 46.2526285461465], [11.89431417817727, 46.25105310812051], [11.894747395739904, 46.25093625979662], [11.896739856733959, 46.25164469766473], [11.89844251018789, 46.252587053872595], [11.900047230131504, 46.253567685463196], [11.900404828538711, 46.254090655816505], [11.912619058761841, 46.252675152077074], [11.91326078382648, 46.25217187500871], [11.913642297610759, 46.25192802880506], [11.91582431375726, 46.25057965897319], [11.920837291680414, 46.24811266892089], [11.921333967196512, 46.24789954795895], [11.92151764704236, 46.247853383570636], [11.921616457999061, 46.247828750404615], [11.922225403690659, 46.24782128372949], [11.922835944453942, 46.24788621493042], [11.924776229130796, 46.24814089407198], [11.927916911556109, 46.24859955288698], [11.929099455735452, 46.24883288867132], [11.92619458154312, 46.24469653058598], [11.925872816336883, 46.24426812530548], [11.925639925243466, 46.24396013357682], [11.925280908299772, 46.24349553128131], [11.92517106766058, 46.243367317201404], [11.92481532295966, 46.24295330581009], [11.92448347503943, 46.24263682881394], [11.924360479312774, 46.24251969008314], [11.92390032897368, 46.242081448922036], [11.923765500295326, 46.24195303873548], [11.923341174382399, 46.24158299559822], [11.921841750610092, 46.24090473352132], [11.921796146939911, 46.240887606544405], [11.921735130384365, 46.240864692256324], [11.92154589905307, 46.240793757277366], [11.918105595820535, 46.238309778950494], [11.914541392236625, 46.232580653940346], [11.90956945036165, 46.22442755987473], [11.904790081268402, 46.21733665521929], [11.90342834113037, 46.21335759020748], [11.906121807229681, 46.20950356106811], [11.907539793980737, 46.20836450622488], [11.913391251710864, 46.20487087333473], [11.91649592728666, 46.20345912698455], [11.921475905458868, 46.198047996914646], [11.924486494362986, 46.19105326928544], [11.921584622776699, 46.1820752828403], [11.9286272411628, 46.17580043922322], [11.929449637105447, 46.17103904869568], [11.923977316835954, 46.163535880517436], [11.921470307899218, 46.16144715225652], [11.91832307743235, 46.15527148815741], [11.918744817789923, 46.15426911440232], [11.919705949873629, 46.15198829334909], [11.919825173069945, 46.15171224675626], [11.919492509152475, 46.14855177109418], [11.907264710332605, 46.14014912667191], [11.901243917101004, 46.13662749890378], [11.900621729306229, 46.13625928158096], [11.899969946008742, 46.13601625968433], [11.8992105793366, 46.13589306881774], [11.898208944847374, 46.13582988202103], [11.897487387052323, 46.135822716053525], [11.896868230276677, 46.1359165773385], [11.896200778447408, 46.13620885891214], [11.895463335689652, 46.13653485306685], [11.893003408171108, 46.13767013968828], [11.892648184808952, 46.13788739292116], [11.891808925169396, 46.13887975378483], [11.891287172776131, 46.13960991584053], [11.890856950361995, 46.14037001770266], [11.890620522885655, 46.14101398703012], [11.89169450986443, 46.14385110774474], [11.892281748224134, 46.14697628921331], [11.892371563591634, 46.1485264016678], [11.892302117587736, 46.148800390272854], [11.892222105447141, 46.14911606155261], [11.891405060333469, 46.15023141115758], [11.89113938867183, 46.15037560994629], [11.890707339578636, 46.1504813096302], [11.89026306230046, 46.150550544436605], [11.890221881486822, 46.150556747430386], [11.886136646364255, 46.149321925570774], [11.88555826022633, 46.14911694642208], [11.88476299944463, 46.14862552348089], [11.873165160977953, 46.14892930575333], [11.868604592685033, 46.15048196414689], [11.865323882209038, 46.150677829942964], [11.860360643153749, 46.15096097307594], [11.855428506682781, 46.15079968192098], [11.854782530591809, 46.150451210830134], [11.85472684131488, 46.15042154272764], [11.85427557230183, 46.150329173907984], [11.852312162456215, 46.15026646447167], [11.84842575460655, 46.15034695701722], [11.842596567209307, 46.15143694227342], [11.841575532316405, 46.1516918214366], [11.840003414779305, 46.15208507496547], [11.838971509279204, 46.15234359153824], [11.838360479396169, 46.15253392670587], [11.836613447528158, 46.15310923050789], [11.835899270666037, 46.15335870305674], [11.835287508190206, 46.15359764817162], [11.835194602120774, 46.153694275429906], [11.834477143681212, 46.15454606421796], [11.834251191534348, 46.15491115155169], [11.83363317234324, 46.15595815862414], [11.829403851942955, 46.161158091640665], [11.822669691837637, 46.16783265652595], [11.820810441552622, 46.1695190720647], [11.819779880575055, 46.17010838497289], [11.817066020138384, 46.17148637426727], [11.817022504767744, 46.17150657982972], [11.816797174466185, 46.17161117198159], [11.81536537499993, 46.17227574067761], [11.799356119574686, 46.17929398772517], [11.786369129182425, 46.18302531981317], [11.786757708093841, 46.18511046372747], [11.787615570684554, 46.187064169190315], [11.789083082612361, 46.18909184846984], [11.790073201779855, 46.18980714658341], [11.790320706935546, 46.189985109472026], [11.791747412541806, 46.19097917038516], [11.791882837417376, 46.19117370004913], [11.792267711451432, 46.19181353492295], [11.792636930903681, 46.19262193134878], [11.793062560062666, 46.19420920910131], [11.793036771972783, 46.19458374988527], [11.79298919110161, 46.19488343373164], [11.792459338797293, 46.19618005007533], [11.787708932916287, 46.2022799426118], [11.786724971787377, 46.20324682636659], [11.786158059165162, 46.20362057332073], [11.785181016081617, 46.20417931998038], [11.784628031959015, 46.20427645598647], [11.7832278663665, 46.20445193363471], [11.781024610721971, 46.20534321805857], [11.779147738536883, 46.20781752711677], [11.781924856461504, 46.210629177375694], [11.782719512098835, 46.21081731175825], [11.783206453385157, 46.21094800711342], [11.783844123893338, 46.21126818594204], [11.784024127817139, 46.211403788583], [11.784498147591599, 46.211760879225224], [11.78565792568773, 46.21265418734265], [11.787024399137264, 46.21385012131208], [11.787486478309653, 46.214268828862345], [11.788014497765937, 46.214827063918705], [11.788351431517668, 46.215183871342205], [11.788448387895029, 46.215286546211686], [11.788586500509636, 46.21543865754292], [11.78879299953264, 46.215666087239974], [11.789151972644078, 46.21610575686313], [11.789426776727314, 46.21665282184021], [11.789357293467907, 46.21698887149325], [11.788927404103871, 46.217731586963104], [11.789999554003835, 46.21841015124639], [11.791041749661629, 46.219095717806574], [11.791590987839008, 46.21948945843273], [11.793046770507784, 46.2205967051202], [11.79368268614517, 46.22277065547386], [11.794129391998498, 46.2281814117926], [11.793372965072598, 46.22839140934341], [11.792791288214627, 46.22853276234478], [11.788112177214385, 46.22961822582462], [11.787219197967023, 46.229702595650544], [11.774500946064977, 46.229570824868205], [11.759160092531351, 46.231922461086306], [11.752682090231668, 46.233519456184865], [11.75327978248004, 46.2351874612136], [11.75136254935486, 46.24314502751422], [11.746703571075091, 46.248006441365774], [11.748742702166332, 46.25096278844074], [11.74891463469273, 46.251377239004064], [11.748708706352598, 46.252246574954505], [11.748389693154163, 46.25313523937488], [11.748252268468203, 46.25338672289326], [11.743608846406996, 46.25991677068891], [11.742613865466918, 46.260995461577636], [11.740346086458095, 46.263256800832735], [11.739527897937371, 46.263916109170154], [11.738209018785714, 46.264675392373675], [11.737726054389281, 46.26491374362625], [11.73735034597622, 46.265095385819414], [11.73331332228746, 46.26501213944486], [11.726943829401549, 46.26479510877968], [11.726055811588557, 46.266981561874935], [11.722396292005406, 46.27632657722044], [11.721151508584573, 46.27948785299792], [11.720524750198516, 46.28092068605044], [11.71977193388578, 46.28217827431713], [11.717597006980117, 46.28497649942563], [11.715778673561791, 46.28728106094224], [11.7140027282733, 46.2892961150377], [11.709517980950432, 46.29358462249043], [11.710180614170133, 46.295359611799356], [11.712532287642095, 46.299126046997834], [11.713529215338426, 46.29958294675177], [11.71567091836281, 46.29947788735781], [11.721787454669116, 46.299202669363176], [11.724523663024478, 46.299125619190036], [11.725410134946516, 46.29912554491175], [11.728032825967704, 46.29983435440373], [11.742733959214027, 46.3053531127763], [11.743608710349159, 46.30568521043576], [11.744649823912034, 46.30624023384035], [11.745727289268146, 46.30688291121888], [11.75007081820754, 46.310379500190194], [11.75034857000876, 46.31008832255708], [11.750588618316478, 46.31022134139533], [11.75073116230828, 46.31034387725703], [11.751225931852165, 46.311179306615394], [11.751368966582335, 46.31366602202577], [11.751395213173312, 46.31495096508687], [11.751323279718859, 46.31651765441486], [11.75113416436766, 46.31752701902699], [11.75105332250955, 46.317876086780295], [11.749955455589916, 46.32254182687672], [11.75042365658023, 46.3314821230122], [11.750474183333603, 46.331563439418474], [11.750675102686627, 46.33190309697162], [11.751715370433923, 46.33534198797682], [11.751647365788013, 46.337815361811664], [11.751461181676477, 46.34198514460779], [11.751271183390616, 46.34296255625875], [11.750219460322795, 46.34582951206952], [11.749464737738151, 46.34799724736028], [11.748216163812529, 46.35177247553469], [11.74823271177934, 46.351986152475774], [11.74830666857897, 46.352286646721915], [11.748391162365415, 46.35237377106362], [11.748470670129036, 46.35244210571537], [11.750372115409242, 46.35343531326801], [11.751871394178412, 46.35399452621863], [11.752234796849256, 46.35410700364049], [11.75284191350215, 46.354170807868776], [11.753015656780144, 46.35413752767008], [11.75312163965828, 46.35403646171988], [11.755748859328584, 46.35149861358013], [11.757034701961135, 46.349643577497], [11.75709282499972, 46.34944601679557], [11.75722203079272, 46.349178928258844], [11.757527264380833, 46.34871357178273], [11.75829578548907, 46.34839656421291], [11.758838789736846, 46.3481862272953], [11.759638089732066, 46.34842722797052], [11.761421867900134, 46.34898266991195], [11.761911592834272, 46.34914601576626], [11.763777035322988, 46.35027096258203], [11.765061436035529, 46.351109566855115], [11.766656444873824, 46.352967598902495], [11.766754367695368, 46.35330419968695], [11.766441676638154, 46.35371199478788], [11.76593441477747, 46.3543544235788], [11.765375262057422, 46.356675475946176], [11.765851930458549, 46.35913299697198], [11.767760893581599, 46.35945158717451], [11.774378551985945, 46.358241654582976]]]], &quot;type&quot;: &quot;MultiPolygon&quot;}, &quot;id&quot;: &quot;2915&quot;, &quot;properties&quot;: {&quot;CC_UTS&quot;: 0, &quot;COD_CM&quot;: 0, &quot;COD_PROV&quot;: 22, &quot;COD_REG&quot;: 4, &quot;COD_RIP&quot;: 2, &quot;COD_UTS&quot;: 22, &quot;COMUNE&quot;: &quot;Primiero San Martino di Castrozza&quot;, &quot;COMUNE_A&quot;: null, &quot;PRO_COM&quot;: 22245, &quot;PRO_COM_T&quot;: &quot;022245&quot;}, &quot;type&quot;: &quot;Feature&quot;}], &quot;type&quot;: &quot;FeatureCollection&quot;});\n",
              "\n",
              "        \n",
              "    \n",
              "    geo_json_d5c7f689f5131a18bb4918f174767259.bindTooltip(\n",
              "    function(layer){\n",
              "    let div = L.DomUtil.create(&#x27;div&#x27;);\n",
              "    \n",
              "    let handleObject = feature =&gt; {\n",
              "        if (feature === null) {\n",
              "            return &#x27;&#x27;;\n",
              "        } else if (typeof(feature)==&#x27;object&#x27;) {\n",
              "            return JSON.stringify(feature);\n",
              "        } else {\n",
              "            return feature;\n",
              "        }\n",
              "    }\n",
              "    let fields = [&quot;COD_RIP&quot;, &quot;COD_REG&quot;, &quot;COD_PROV&quot;, &quot;COD_CM&quot;, &quot;COD_UTS&quot;, &quot;PRO_COM&quot;, &quot;PRO_COM_T&quot;, &quot;COMUNE&quot;, &quot;COMUNE_A&quot;, &quot;CC_UTS&quot;];\n",
              "    let aliases = [&quot;COD_RIP&quot;, &quot;COD_REG&quot;, &quot;COD_PROV&quot;, &quot;COD_CM&quot;, &quot;COD_UTS&quot;, &quot;PRO_COM&quot;, &quot;PRO_COM_T&quot;, &quot;COMUNE&quot;, &quot;COMUNE_A&quot;, &quot;CC_UTS&quot;];\n",
              "    let table = &#x27;&lt;table&gt;&#x27; +\n",
              "        String(\n",
              "        fields.map(\n",
              "        (v,i)=&gt;\n",
              "        `&lt;tr&gt;\n",
              "            &lt;th&gt;${aliases[i]}&lt;/th&gt;\n",
              "            \n",
              "            &lt;td&gt;${handleObject(layer.feature.properties[v])}&lt;/td&gt;\n",
              "        &lt;/tr&gt;`).join(&#x27;&#x27;))\n",
              "    +&#x27;&lt;/table&gt;&#x27;;\n",
              "    div.innerHTML=table;\n",
              "    \n",
              "    return div\n",
              "    }\n",
              "    ,{\n",
              "  &quot;sticky&quot;: true,\n",
              "  &quot;className&quot;: &quot;foliumtooltip&quot;,\n",
              "});\n",
              "                     \n",
              "    \n",
              "            geo_json_d5c7f689f5131a18bb4918f174767259.addTo(map_59f2d35b8fbb4321ef0452037077d9e3);\n",
              "        \n",
              "&lt;/script&gt;\n",
              "&lt;/html&gt;\" style=\"position:absolute;width:100%;height:100%;left:0;top:0;border:none !important;\" allowfullscreen webkitallowfullscreen mozallowfullscreen></iframe></div></div>"
            ]
          },
          "metadata": {},
          "execution_count": 100
        }
      ]
    },
    {
      "cell_type": "markdown",
      "metadata": {
        "id": "ShodskgCdegB"
      },
      "source": [
        "### identify the municipality with the smallest area\n"
      ]
    },
    {
      "cell_type": "code",
      "execution_count": 101,
      "metadata": {
        "id": "waSNAaUaJ8DM"
      },
      "outputs": [],
      "source": [
        "minarea_municipality_province_trento = municipalities_province_trento[municipalities_province_trento.geometry.area == min_area]"
      ]
    },
    {
      "cell_type": "code",
      "execution_count": 102,
      "metadata": {
        "colab": {
          "base_uri": "https://localhost:8080/",
          "height": 115
        },
        "id": "dTvZsDYWKCf1",
        "outputId": "295aa840-0ea0-47f4-cde7-a37f135383d7"
      },
      "outputs": [
        {
          "output_type": "execute_result",
          "data": {
            "text/plain": [
              "2786    Carzano\n",
              "Name: COMUNE, dtype: object"
            ],
            "text/html": [
              "<div>\n",
              "<style scoped>\n",
              "    .dataframe tbody tr th:only-of-type {\n",
              "        vertical-align: middle;\n",
              "    }\n",
              "\n",
              "    .dataframe tbody tr th {\n",
              "        vertical-align: top;\n",
              "    }\n",
              "\n",
              "    .dataframe thead th {\n",
              "        text-align: right;\n",
              "    }\n",
              "</style>\n",
              "<table border=\"1\" class=\"dataframe\">\n",
              "  <thead>\n",
              "    <tr style=\"text-align: right;\">\n",
              "      <th></th>\n",
              "      <th>COMUNE</th>\n",
              "    </tr>\n",
              "  </thead>\n",
              "  <tbody>\n",
              "    <tr>\n",
              "      <th>2786</th>\n",
              "      <td>Carzano</td>\n",
              "    </tr>\n",
              "  </tbody>\n",
              "</table>\n",
              "</div><br><label><b>dtype:</b> object</label>"
            ]
          },
          "metadata": {},
          "execution_count": 102
        }
      ],
      "source": [
        "minarea_municipality_province_trento.COMUNE"
      ]
    },
    {
      "cell_type": "code",
      "execution_count": 103,
      "metadata": {
        "colab": {
          "base_uri": "https://localhost:8080/",
          "height": 115
        },
        "id": "BJoda9zhdtzD",
        "outputId": "dfe24708-a511-4eb4-d6a6-590ee0d83dce"
      },
      "outputs": [
        {
          "output_type": "execute_result",
          "data": {
            "text/plain": [
              "2786    022043\n",
              "Name: PRO_COM_T, dtype: object"
            ],
            "text/html": [
              "<div>\n",
              "<style scoped>\n",
              "    .dataframe tbody tr th:only-of-type {\n",
              "        vertical-align: middle;\n",
              "    }\n",
              "\n",
              "    .dataframe tbody tr th {\n",
              "        vertical-align: top;\n",
              "    }\n",
              "\n",
              "    .dataframe thead th {\n",
              "        text-align: right;\n",
              "    }\n",
              "</style>\n",
              "<table border=\"1\" class=\"dataframe\">\n",
              "  <thead>\n",
              "    <tr style=\"text-align: right;\">\n",
              "      <th></th>\n",
              "      <th>PRO_COM_T</th>\n",
              "    </tr>\n",
              "  </thead>\n",
              "  <tbody>\n",
              "    <tr>\n",
              "      <th>2786</th>\n",
              "      <td>022043</td>\n",
              "    </tr>\n",
              "  </tbody>\n",
              "</table>\n",
              "</div><br><label><b>dtype:</b> object</label>"
            ]
          },
          "metadata": {},
          "execution_count": 103
        }
      ],
      "source": [
        "minarea_municipality_province_trento.PRO_COM_T"
      ]
    },
    {
      "cell_type": "markdown",
      "metadata": {
        "id": "hk3wvA0_dzDW"
      },
      "source": [
        "the municipality with the smallest area is **Carzano** (022043)"
      ]
    },
    {
      "cell_type": "code",
      "execution_count": 104,
      "metadata": {
        "colab": {
          "base_uri": "https://localhost:8080/",
          "height": 845
        },
        "id": "Twce9Hy7NXAo",
        "outputId": "ae0e9768-53b2-4eff-bb17-8efbba3e6364"
      },
      "outputs": [
        {
          "output_type": "display_data",
          "data": {
            "text/plain": [
              "<Figure size 1000x1000 with 1 Axes>"
            ],
            "image/png": "[encoded data removed]"
          },
          "metadata": {}
        }
      ],
      "source": [
        "minarea_municipality_province_trento.plot(figsize=(10,10))\n",
        "plt.show()"
      ]
    },
    {
      "cell_type": "markdown",
      "metadata": {
        "id": "Y-dS9DA5eE6U"
      },
      "source": [
        "### extract all the centroids of the areas expressed in WGS84"
      ]
    },
    {
      "cell_type": "code",
      "execution_count": 105,
      "metadata": {
        "colab": {
          "base_uri": "https://localhost:8080/",
          "height": 115
        },
        "id": "t_74bjyYN8ru",
        "outputId": "20eb7a14-7443-4775-896d-79759db393af"
      },
      "outputs": [
        {
          "output_type": "execute_result",
          "data": {
            "text/plain": [
              "2915    POINT (11.82663 46.24214)\n",
              "dtype: geometry"
            ],
            "text/html": [
              "<div>\n",
              "<style scoped>\n",
              "    .dataframe tbody tr th:only-of-type {\n",
              "        vertical-align: middle;\n",
              "    }\n",
              "\n",
              "    .dataframe tbody tr th {\n",
              "        vertical-align: top;\n",
              "    }\n",
              "\n",
              "    .dataframe thead th {\n",
              "        text-align: right;\n",
              "    }\n",
              "</style>\n",
              "<table border=\"1\" class=\"dataframe\">\n",
              "  <thead>\n",
              "    <tr style=\"text-align: right;\">\n",
              "      <th></th>\n",
              "      <th>0</th>\n",
              "    </tr>\n",
              "  </thead>\n",
              "  <tbody>\n",
              "    <tr>\n",
              "      <th>2915</th>\n",
              "      <td>POINT (11.82663 46.24214)</td>\n",
              "    </tr>\n",
              "  </tbody>\n",
              "</table>\n",
              "</div><br><label><b>dtype:</b> geometry</label>"
            ]
          },
          "metadata": {},
          "execution_count": 105
        }
      ],
      "source": [
        "maxarea_municipality_province_trento.geometry.centroid.to_crs(epsg=4326)"
      ]
    },
    {
      "cell_type": "code",
      "source": [
        "maxarea_municipality_province_trento.geometry.centroid.to_crs(epsg=4326)"
      ],
      "metadata": {
        "id": "LrIt7885lsen",
        "outputId": "6d21cc7b-8a46-4618-9adf-27d4919ab4ea",
        "colab": {
          "base_uri": "https://localhost:8080/",
          "height": 115
        }
      },
      "execution_count": 106,
      "outputs": [
        {
          "output_type": "execute_result",
          "data": {
            "text/plain": [
              "2915    POINT (11.82663 46.24214)\n",
              "dtype: geometry"
            ],
            "text/html": [
              "<div>\n",
              "<style scoped>\n",
              "    .dataframe tbody tr th:only-of-type {\n",
              "        vertical-align: middle;\n",
              "    }\n",
              "\n",
              "    .dataframe tbody tr th {\n",
              "        vertical-align: top;\n",
              "    }\n",
              "\n",
              "    .dataframe thead th {\n",
              "        text-align: right;\n",
              "    }\n",
              "</style>\n",
              "<table border=\"1\" class=\"dataframe\">\n",
              "  <thead>\n",
              "    <tr style=\"text-align: right;\">\n",
              "      <th></th>\n",
              "      <th>0</th>\n",
              "    </tr>\n",
              "  </thead>\n",
              "  <tbody>\n",
              "    <tr>\n",
              "      <th>2915</th>\n",
              "      <td>POINT (11.82663 46.24214)</td>\n",
              "    </tr>\n",
              "  </tbody>\n",
              "</table>\n",
              "</div><br><label><b>dtype:</b> geometry</label>"
            ]
          },
          "metadata": {},
          "execution_count": 106
        }
      ]
    },
    {
      "cell_type": "code",
      "execution_count": 107,
      "metadata": {
        "colab": {
          "base_uri": "https://localhost:8080/",
          "height": 115
        },
        "id": "veFfPsumePIa",
        "outputId": "85a96d71-64bb-466a-a154-3b697f7f1d56"
      },
      "outputs": [
        {
          "output_type": "execute_result",
          "data": {
            "text/plain": [
              "2915    POINT (11.82663 46.24214)\n",
              "dtype: geometry"
            ],
            "text/html": [
              "<div>\n",
              "<style scoped>\n",
              "    .dataframe tbody tr th:only-of-type {\n",
              "        vertical-align: middle;\n",
              "    }\n",
              "\n",
              "    .dataframe tbody tr th {\n",
              "        vertical-align: top;\n",
              "    }\n",
              "\n",
              "    .dataframe thead th {\n",
              "        text-align: right;\n",
              "    }\n",
              "</style>\n",
              "<table border=\"1\" class=\"dataframe\">\n",
              "  <thead>\n",
              "    <tr style=\"text-align: right;\">\n",
              "      <th></th>\n",
              "      <th>0</th>\n",
              "    </tr>\n",
              "  </thead>\n",
              "  <tbody>\n",
              "    <tr>\n",
              "      <th>2915</th>\n",
              "      <td>POINT (11.82663 46.24214)</td>\n",
              "    </tr>\n",
              "  </tbody>\n",
              "</table>\n",
              "</div><br><label><b>dtype:</b> geometry</label>"
            ]
          },
          "metadata": {},
          "execution_count": 107
        }
      ],
      "source": [
        "maxarea_municipality_province_trento.geometry.centroid.to_crs(epsg=4326)"
      ]
    },
    {
      "cell_type": "code",
      "source": [
        "maxarea_municipality_province_trento.geometry.representative_point?"
      ],
      "metadata": {
        "id": "uSU8I2H4nsUu"
      },
      "execution_count": 108,
      "outputs": []
    },
    {
      "cell_type": "markdown",
      "metadata": {
        "id": "-eJUm7csej5u"
      },
      "source": [
        "### extract a represenative point for the area of the smallest and bigger municipality in WGS84"
      ]
    },
    {
      "cell_type": "code",
      "execution_count": 109,
      "metadata": {
        "id": "WXJh0bs7KHMA"
      },
      "outputs": [],
      "source": [
        "representative_point_minarea_municipality = maxarea_municipality_province_trento.geometry.representative_point()"
      ]
    },
    {
      "cell_type": "code",
      "execution_count": 110,
      "metadata": {
        "id": "ThbYeGtdN1K6"
      },
      "outputs": [],
      "source": [
        "representative_point_maxarea_municipality = maxarea_municipality_province_trento.geometry.representative_point()"
      ]
    },
    {
      "cell_type": "code",
      "execution_count": 111,
      "metadata": {
        "colab": {
          "base_uri": "https://localhost:8080/",
          "height": 115
        },
        "id": "9oUgRfy_KKs8",
        "outputId": "dfc6f3e3-b6cb-4822-ee21-b12ceb89ed4d"
      },
      "outputs": [
        {
          "output_type": "execute_result",
          "data": {
            "text/plain": [
              "2915    POINT (11.83748 46.24786)\n",
              "dtype: geometry"
            ],
            "text/html": [
              "<div>\n",
              "<style scoped>\n",
              "    .dataframe tbody tr th:only-of-type {\n",
              "        vertical-align: middle;\n",
              "    }\n",
              "\n",
              "    .dataframe tbody tr th {\n",
              "        vertical-align: top;\n",
              "    }\n",
              "\n",
              "    .dataframe thead th {\n",
              "        text-align: right;\n",
              "    }\n",
              "</style>\n",
              "<table border=\"1\" class=\"dataframe\">\n",
              "  <thead>\n",
              "    <tr style=\"text-align: right;\">\n",
              "      <th></th>\n",
              "      <th>0</th>\n",
              "    </tr>\n",
              "  </thead>\n",
              "  <tbody>\n",
              "    <tr>\n",
              "      <th>2915</th>\n",
              "      <td>POINT (11.83748 46.24786)</td>\n",
              "    </tr>\n",
              "  </tbody>\n",
              "</table>\n",
              "</div><br><label><b>dtype:</b> geometry</label>"
            ]
          },
          "metadata": {},
          "execution_count": 111
        }
      ],
      "source": [
        "representative_point_minarea_municipality.to_crs(epsg=4326)"
      ]
    },
    {
      "cell_type": "code",
      "execution_count": 112,
      "metadata": {
        "colab": {
          "base_uri": "https://localhost:8080/",
          "height": 170
        },
        "id": "mDE69_SpOBDu",
        "outputId": "2d383fda-c5c0-4106-aae6-e0e1c7cf3d1c"
      },
      "outputs": [
        {
          "output_type": "execute_result",
          "data": {
            "text/plain": [
              "      COD_RIP  COD_REG  COD_PROV  COD_CM  COD_UTS  PRO_COM PRO_COM_T  \\\n",
              "2915        2        4        22       0       22    22245    022245   \n",
              "\n",
              "                                 COMUNE COMUNE_A  CC_UTS  \\\n",
              "2915  Primiero San Martino di Castrozza     None       0   \n",
              "\n",
              "                                               geometry  \n",
              "2915  MULTIPOLYGON (((11.77438 46.35824, 11.77956 46...  "
            ],
            "text/html": [
              "\n",
              "  <div id=\"df-53374f0d-946f-4133-93ab-e7dd67b80553\" class=\"colab-df-container\">\n",
              "    <div>\n",
              "<style scoped>\n",
              "    .dataframe tbody tr th:only-of-type {\n",
              "        vertical-align: middle;\n",
              "    }\n",
              "\n",
              "    .dataframe tbody tr th {\n",
              "        vertical-align: top;\n",
              "    }\n",
              "\n",
              "    .dataframe thead th {\n",
              "        text-align: right;\n",
              "    }\n",
              "</style>\n",
              "<table border=\"1\" class=\"dataframe\">\n",
              "  <thead>\n",
              "    <tr style=\"text-align: right;\">\n",
              "      <th></th>\n",
              "      <th>COD_RIP</th>\n",
              "      <th>COD_REG</th>\n",
              "      <th>COD_PROV</th>\n",
              "      <th>COD_CM</th>\n",
              "      <th>COD_UTS</th>\n",
              "      <th>PRO_COM</th>\n",
              "      <th>PRO_COM_T</th>\n",
              "      <th>COMUNE</th>\n",
              "      <th>COMUNE_A</th>\n",
              "      <th>CC_UTS</th>\n",
              "      <th>geometry</th>\n",
              "    </tr>\n",
              "  </thead>\n",
              "  <tbody>\n",
              "    <tr>\n",
              "      <th>2915</th>\n",
              "      <td>2</td>\n",
              "      <td>4</td>\n",
              "      <td>22</td>\n",
              "      <td>0</td>\n",
              "      <td>22</td>\n",
              "      <td>22245</td>\n",
              "      <td>022245</td>\n",
              "      <td>Primiero San Martino di Castrozza</td>\n",
              "      <td>None</td>\n",
              "      <td>0</td>\n",
              "      <td>MULTIPOLYGON (((11.77438 46.35824, 11.77956 46...</td>\n",
              "    </tr>\n",
              "  </tbody>\n",
              "</table>\n",
              "</div>\n",
              "    <div class=\"colab-df-buttons\">\n",
              "\n",
              "  <div class=\"colab-df-container\">\n",
              "    <button class=\"colab-df-convert\" onclick=\"convertToInteractive('df-53374f0d-946f-4133-93ab-e7dd67b80553')\"\n",
              "            title=\"Convert this dataframe to an interactive table.\"\n",
              "            style=\"display:none;\">\n",
              "\n",
              "  <svg xmlns=\"http://www.w3.org/2000/svg\" height=\"24px\" viewBox=\"0 -960 960 960\">\n",
              "    <path d=\"M120-120v-720h720v720H120Zm60-500h600v-160H180v160Zm220 220h160v-160H400v160Zm0 220h160v-160H400v160ZM180-400h160v-160H180v160Zm440 0h160v-160H620v160ZM180-180h160v-160H180v160Zm440 0h160v-160H620v160Z\"/>\n",
              "  </svg>\n",
              "    </button>\n",
              "\n",
              "  <style>\n",
              "    .colab-df-container {\n",
              "      display:flex;\n",
              "      gap: 12px;\n",
              "    }\n",
              "\n",
              "    .colab-df-convert {\n",
              "      background-color: #E8F0FE;\n",
              "      border: none;\n",
              "      border-radius: 50%;\n",
              "      cursor: pointer;\n",
              "      display: none;\n",
              "      fill: #1967D2;\n",
              "      height: 32px;\n",
              "      padding: 0 0 0 0;\n",
              "      width: 32px;\n",
              "    }\n",
              "\n",
              "    .colab-df-convert:hover {\n",
              "      background-color: #E2EBFA;\n",
              "      box-shadow: 0px 1px 2px rgba(60, 64, 67, 0.3), 0px 1px 3px 1px rgba(60, 64, 67, 0.15);\n",
              "      fill: #174EA6;\n",
              "    }\n",
              "\n",
              "    .colab-df-buttons div {\n",
              "      margin-bottom: 4px;\n",
              "    }\n",
              "\n",
              "    [theme=dark] .colab-df-convert {\n",
              "      background-color: #3B4455;\n",
              "      fill: #D2E3FC;\n",
              "    }\n",
              "\n",
              "    [theme=dark] .colab-df-convert:hover {\n",
              "      background-color: #434B5C;\n",
              "      box-shadow: 0px 1px 3px 1px rgba(0, 0, 0, 0.15);\n",
              "      filter: drop-shadow(0px 1px 2px rgba(0, 0, 0, 0.3));\n",
              "      fill: #FFFFFF;\n",
              "    }\n",
              "  </style>\n",
              "\n",
              "    <script>\n",
              "      const buttonEl =\n",
              "        document.querySelector('#df-53374f0d-946f-4133-93ab-e7dd67b80553 button.colab-df-convert');\n",
              "      buttonEl.style.display =\n",
              "        google.colab.kernel.accessAllowed ? 'block' : 'none';\n",
              "\n",
              "      async function convertToInteractive(key) {\n",
              "        const element = document.querySelector('#df-53374f0d-946f-4133-93ab-e7dd67b80553');\n",
              "        const dataTable =\n",
              "          await google.colab.kernel.invokeFunction('convertToInteractive',\n",
              "                                                    [key], {});\n",
              "        if (!dataTable) return;\n",
              "\n",
              "        const docLinkHtml = 'Like what you see? Visit the ' +\n",
              "          '<a target=\"_blank\" href=https://colab.research.google.com/notebooks/data_table.ipynb>data table notebook</a>'\n",
              "          + ' to learn more about interactive tables.';\n",
              "        element.innerHTML = '';\n",
              "        dataTable['output_type'] = 'display_data';\n",
              "        await google.colab.output.renderOutput(dataTable, element);\n",
              "        const docLink = document.createElement('div');\n",
              "        docLink.innerHTML = docLinkHtml;\n",
              "        element.appendChild(docLink);\n",
              "      }\n",
              "    </script>\n",
              "  </div>\n",
              "\n",
              "\n",
              "    </div>\n",
              "  </div>\n"
            ],
            "application/vnd.google.colaboratory.intrinsic+json": {
              "type": "dataframe",
              "repr_error": "0"
            }
          },
          "metadata": {},
          "execution_count": 112
        }
      ],
      "source": [
        "maxarea_municipality_province_trento.to_crs(epsg=4326)"
      ]
    },
    {
      "cell_type": "markdown",
      "metadata": {
        "id": "v6FK_NSsfJQu"
      },
      "source": [
        "### save the data in GeoJSON files\n",
        "\n",
        "we can save each point in geojson"
      ]
    },
    {
      "cell_type": "code",
      "execution_count": 113,
      "metadata": {
        "id": "vkvmlRvafZ9Z"
      },
      "outputs": [],
      "source": [
        "representative_point_maxarea_municipality.to_crs(epsg=4326).to_file(\"point.geojson\",driver=\"GeoJSON\")"
      ]
    },
    {
      "cell_type": "markdown",
      "metadata": {
        "id": "rHuNahrZftl5"
      },
      "source": [
        "... but we need to create an only one file with all the data in a geojson file"
      ]
    },
    {
      "cell_type": "code",
      "execution_count": 114,
      "metadata": {
        "id": "e7nlav9JfzTS"
      },
      "outputs": [],
      "source": [
        "points = pd.concat([representative_point_minarea_municipality, representative_point_maxarea_municipality], ignore_index=True)"
      ]
    },
    {
      "cell_type": "code",
      "source": [
        "points"
      ],
      "metadata": {
        "id": "yg4YEHJEouwF",
        "outputId": "d2077e49-bcd5-48fa-f182-c9b07f4feb08",
        "colab": {
          "base_uri": "https://localhost:8080/",
          "height": 147
        }
      },
      "execution_count": 115,
      "outputs": [
        {
          "output_type": "execute_result",
          "data": {
            "text/plain": [
              "0    POINT (718725.653 5125501.24)\n",
              "1    POINT (718725.653 5125501.24)\n",
              "dtype: geometry"
            ],
            "text/html": [
              "<div>\n",
              "<style scoped>\n",
              "    .dataframe tbody tr th:only-of-type {\n",
              "        vertical-align: middle;\n",
              "    }\n",
              "\n",
              "    .dataframe tbody tr th {\n",
              "        vertical-align: top;\n",
              "    }\n",
              "\n",
              "    .dataframe thead th {\n",
              "        text-align: right;\n",
              "    }\n",
              "</style>\n",
              "<table border=\"1\" class=\"dataframe\">\n",
              "  <thead>\n",
              "    <tr style=\"text-align: right;\">\n",
              "      <th></th>\n",
              "      <th>0</th>\n",
              "    </tr>\n",
              "  </thead>\n",
              "  <tbody>\n",
              "    <tr>\n",
              "      <th>0</th>\n",
              "      <td>POINT (718725.653 5125501.24)</td>\n",
              "    </tr>\n",
              "    <tr>\n",
              "      <th>1</th>\n",
              "      <td>POINT (718725.653 5125501.24)</td>\n",
              "    </tr>\n",
              "  </tbody>\n",
              "</table>\n",
              "</div><br><label><b>dtype:</b> geometry</label>"
            ]
          },
          "metadata": {},
          "execution_count": 115
        }
      ]
    },
    {
      "cell_type": "code",
      "execution_count": 116,
      "metadata": {
        "id": "1jMx1Tz9gUQb"
      },
      "outputs": [],
      "source": [
        "points.to_crs(epsg=4326).to_file(\"points.geojson\",driver=\"GeoJSON\")"
      ]
    },
    {
      "cell_type": "markdown",
      "metadata": {
        "id": "-r_dNGcDICJs"
      },
      "source": [
        "and we can do the same with the polygons"
      ]
    },
    {
      "cell_type": "code",
      "execution_count": 117,
      "metadata": {
        "id": "Kme3ZsgFHfHp"
      },
      "outputs": [],
      "source": [
        "polygons = pd.concat([maxarea_municipality_province_trento, minarea_municipality_province_trento], ignore_index=True)"
      ]
    },
    {
      "cell_type": "code",
      "execution_count": 118,
      "metadata": {
        "id": "iKnoxSaQL3gX"
      },
      "outputs": [],
      "source": [
        "polygons.to_crs(epsg=4326).to_file(\"polygons.geojson\",driver=\"GeoJSON\")"
      ]
    },
    {
      "cell_type": "code",
      "source": [
        "polygons"
      ],
      "metadata": {
        "id": "vpS3TodNo66h",
        "outputId": "487a0b29-846d-4060-f66a-56fa3d6e6164",
        "colab": {
          "base_uri": "https://localhost:8080/",
          "height": 253
        }
      },
      "execution_count": 119,
      "outputs": [
        {
          "output_type": "execute_result",
          "data": {
            "text/plain": [
              "   COD_RIP  COD_REG  COD_PROV  COD_CM  COD_UTS  PRO_COM PRO_COM_T  \\\n",
              "0        2        4        22       0       22    22245    022245   \n",
              "1        2        4        22       0       22    22043    022043   \n",
              "\n",
              "                              COMUNE COMUNE_A  CC_UTS  \\\n",
              "0  Primiero San Martino di Castrozza     None       0   \n",
              "1                            Carzano     None       0   \n",
              "\n",
              "                                            geometry  \n",
              "0  MULTIPOLYGON (((713432.056 5137592.778, 713857...  \n",
              "1  MULTIPOLYGON (((693390.22 5106771.218, 693074....  "
            ],
            "text/html": [
              "\n",
              "  <div id=\"df-78e5e51e-2c9c-4de0-b4b7-ebeb8bf8d78d\" class=\"colab-df-container\">\n",
              "    <div>\n",
              "<style scoped>\n",
              "    .dataframe tbody tr th:only-of-type {\n",
              "        vertical-align: middle;\n",
              "    }\n",
              "\n",
              "    .dataframe tbody tr th {\n",
              "        vertical-align: top;\n",
              "    }\n",
              "\n",
              "    .dataframe thead th {\n",
              "        text-align: right;\n",
              "    }\n",
              "</style>\n",
              "<table border=\"1\" class=\"dataframe\">\n",
              "  <thead>\n",
              "    <tr style=\"text-align: right;\">\n",
              "      <th></th>\n",
              "      <th>COD_RIP</th>\n",
              "      <th>COD_REG</th>\n",
              "      <th>COD_PROV</th>\n",
              "      <th>COD_CM</th>\n",
              "      <th>COD_UTS</th>\n",
              "      <th>PRO_COM</th>\n",
              "      <th>PRO_COM_T</th>\n",
              "      <th>COMUNE</th>\n",
              "      <th>COMUNE_A</th>\n",
              "      <th>CC_UTS</th>\n",
              "      <th>geometry</th>\n",
              "    </tr>\n",
              "  </thead>\n",
              "  <tbody>\n",
              "    <tr>\n",
              "      <th>0</th>\n",
              "      <td>2</td>\n",
              "      <td>4</td>\n",
              "      <td>22</td>\n",
              "      <td>0</td>\n",
              "      <td>22</td>\n",
              "      <td>22245</td>\n",
              "      <td>022245</td>\n",
              "      <td>Primiero San Martino di Castrozza</td>\n",
              "      <td>None</td>\n",
              "      <td>0</td>\n",
              "      <td>MULTIPOLYGON (((713432.056 5137592.778, 713857...</td>\n",
              "    </tr>\n",
              "    <tr>\n",
              "      <th>1</th>\n",
              "      <td>2</td>\n",
              "      <td>4</td>\n",
              "      <td>22</td>\n",
              "      <td>0</td>\n",
              "      <td>22</td>\n",
              "      <td>22043</td>\n",
              "      <td>022043</td>\n",
              "      <td>Carzano</td>\n",
              "      <td>None</td>\n",
              "      <td>0</td>\n",
              "      <td>MULTIPOLYGON (((693390.22 5106771.218, 693074....</td>\n",
              "    </tr>\n",
              "  </tbody>\n",
              "</table>\n",
              "</div>\n",
              "    <div class=\"colab-df-buttons\">\n",
              "\n",
              "  <div class=\"colab-df-container\">\n",
              "    <button class=\"colab-df-convert\" onclick=\"convertToInteractive('df-78e5e51e-2c9c-4de0-b4b7-ebeb8bf8d78d')\"\n",
              "            title=\"Convert this dataframe to an interactive table.\"\n",
              "            style=\"display:none;\">\n",
              "\n",
              "  <svg xmlns=\"http://www.w3.org/2000/svg\" height=\"24px\" viewBox=\"0 -960 960 960\">\n",
              "    <path d=\"M120-120v-720h720v720H120Zm60-500h600v-160H180v160Zm220 220h160v-160H400v160Zm0 220h160v-160H400v160ZM180-400h160v-160H180v160Zm440 0h160v-160H620v160ZM180-180h160v-160H180v160Zm440 0h160v-160H620v160Z\"/>\n",
              "  </svg>\n",
              "    </button>\n",
              "\n",
              "  <style>\n",
              "    .colab-df-container {\n",
              "      display:flex;\n",
              "      gap: 12px;\n",
              "    }\n",
              "\n",
              "    .colab-df-convert {\n",
              "      background-color: #E8F0FE;\n",
              "      border: none;\n",
              "      border-radius: 50%;\n",
              "      cursor: pointer;\n",
              "      display: none;\n",
              "      fill: #1967D2;\n",
              "      height: 32px;\n",
              "      padding: 0 0 0 0;\n",
              "      width: 32px;\n",
              "    }\n",
              "\n",
              "    .colab-df-convert:hover {\n",
              "      background-color: #E2EBFA;\n",
              "      box-shadow: 0px 1px 2px rgba(60, 64, 67, 0.3), 0px 1px 3px 1px rgba(60, 64, 67, 0.15);\n",
              "      fill: #174EA6;\n",
              "    }\n",
              "\n",
              "    .colab-df-buttons div {\n",
              "      margin-bottom: 4px;\n",
              "    }\n",
              "\n",
              "    [theme=dark] .colab-df-convert {\n",
              "      background-color: #3B4455;\n",
              "      fill: #D2E3FC;\n",
              "    }\n",
              "\n",
              "    [theme=dark] .colab-df-convert:hover {\n",
              "      background-color: #434B5C;\n",
              "      box-shadow: 0px 1px 3px 1px rgba(0, 0, 0, 0.15);\n",
              "      filter: drop-shadow(0px 1px 2px rgba(0, 0, 0, 0.3));\n",
              "      fill: #FFFFFF;\n",
              "    }\n",
              "  </style>\n",
              "\n",
              "    <script>\n",
              "      const buttonEl =\n",
              "        document.querySelector('#df-78e5e51e-2c9c-4de0-b4b7-ebeb8bf8d78d button.colab-df-convert');\n",
              "      buttonEl.style.display =\n",
              "        google.colab.kernel.accessAllowed ? 'block' : 'none';\n",
              "\n",
              "      async function convertToInteractive(key) {\n",
              "        const element = document.querySelector('#df-78e5e51e-2c9c-4de0-b4b7-ebeb8bf8d78d');\n",
              "        const dataTable =\n",
              "          await google.colab.kernel.invokeFunction('convertToInteractive',\n",
              "                                                    [key], {});\n",
              "        if (!dataTable) return;\n",
              "\n",
              "        const docLinkHtml = 'Like what you see? Visit the ' +\n",
              "          '<a target=\"_blank\" href=https://colab.research.google.com/notebooks/data_table.ipynb>data table notebook</a>'\n",
              "          + ' to learn more about interactive tables.';\n",
              "        element.innerHTML = '';\n",
              "        dataTable['output_type'] = 'display_data';\n",
              "        await google.colab.output.renderOutput(dataTable, element);\n",
              "        const docLink = document.createElement('div');\n",
              "        docLink.innerHTML = docLinkHtml;\n",
              "        element.appendChild(docLink);\n",
              "      }\n",
              "    </script>\n",
              "  </div>\n",
              "\n",
              "\n",
              "    <div id=\"df-64f76a34-77be-423d-a170-923b7a119376\">\n",
              "      <button class=\"colab-df-quickchart\" onclick=\"quickchart('df-64f76a34-77be-423d-a170-923b7a119376')\"\n",
              "                title=\"Suggest charts\"\n",
              "                style=\"display:none;\">\n",
              "\n",
              "<svg xmlns=\"http://www.w3.org/2000/svg\" height=\"24px\"viewBox=\"0 0 24 24\"\n",
              "     width=\"24px\">\n",
              "    <g>\n",
              "        <path d=\"M19 3H5c-1.1 0-2 .9-2 2v14c0 1.1.9 2 2 2h14c1.1 0 2-.9 2-2V5c0-1.1-.9-2-2-2zM9 17H7v-7h2v7zm4 0h-2V7h2v10zm4 0h-2v-4h2v4z\"/>\n",
              "    </g>\n",
              "</svg>\n",
              "      </button>\n",
              "\n",
              "<style>\n",
              "  .colab-df-quickchart {\n",
              "      --bg-color: #E8F0FE;\n",
              "      --fill-color: #1967D2;\n",
              "      --hover-bg-color: #E2EBFA;\n",
              "      --hover-fill-color: #174EA6;\n",
              "      --disabled-fill-color: #AAA;\n",
              "      --disabled-bg-color: #DDD;\n",
              "  }\n",
              "\n",
              "  [theme=dark] .colab-df-quickchart {\n",
              "      --bg-color: #3B4455;\n",
              "      --fill-color: #D2E3FC;\n",
              "      --hover-bg-color: #434B5C;\n",
              "      --hover-fill-color: #FFFFFF;\n",
              "      --disabled-bg-color: #3B4455;\n",
              "      --disabled-fill-color: #666;\n",
              "  }\n",
              "\n",
              "  .colab-df-quickchart {\n",
              "    background-color: var(--bg-color);\n",
              "    border: none;\n",
              "    border-radius: 50%;\n",
              "    cursor: pointer;\n",
              "    display: none;\n",
              "    fill: var(--fill-color);\n",
              "    height: 32px;\n",
              "    padding: 0;\n",
              "    width: 32px;\n",
              "  }\n",
              "\n",
              "  .colab-df-quickchart:hover {\n",
              "    background-color: var(--hover-bg-color);\n",
              "    box-shadow: 0 1px 2px rgba(60, 64, 67, 0.3), 0 1px 3px 1px rgba(60, 64, 67, 0.15);\n",
              "    fill: var(--button-hover-fill-color);\n",
              "  }\n",
              "\n",
              "  .colab-df-quickchart-complete:disabled,\n",
              "  .colab-df-quickchart-complete:disabled:hover {\n",
              "    background-color: var(--disabled-bg-color);\n",
              "    fill: var(--disabled-fill-color);\n",
              "    box-shadow: none;\n",
              "  }\n",
              "\n",
              "  .colab-df-spinner {\n",
              "    border: 2px solid var(--fill-color);\n",
              "    border-color: transparent;\n",
              "    border-bottom-color: var(--fill-color);\n",
              "    animation:\n",
              "      spin 1s steps(1) infinite;\n",
              "  }\n",
              "\n",
              "  @keyframes spin {\n",
              "    0% {\n",
              "      border-color: transparent;\n",
              "      border-bottom-color: var(--fill-color);\n",
              "      border-left-color: var(--fill-color);\n",
              "    }\n",
              "    20% {\n",
              "      border-color: transparent;\n",
              "      border-left-color: var(--fill-color);\n",
              "      border-top-color: var(--fill-color);\n",
              "    }\n",
              "    30% {\n",
              "      border-color: transparent;\n",
              "      border-left-color: var(--fill-color);\n",
              "      border-top-color: var(--fill-color);\n",
              "      border-right-color: var(--fill-color);\n",
              "    }\n",
              "    40% {\n",
              "      border-color: transparent;\n",
              "      border-right-color: var(--fill-color);\n",
              "      border-top-color: var(--fill-color);\n",
              "    }\n",
              "    60% {\n",
              "      border-color: transparent;\n",
              "      border-right-color: var(--fill-color);\n",
              "    }\n",
              "    80% {\n",
              "      border-color: transparent;\n",
              "      border-right-color: var(--fill-color);\n",
              "      border-bottom-color: var(--fill-color);\n",
              "    }\n",
              "    90% {\n",
              "      border-color: transparent;\n",
              "      border-bottom-color: var(--fill-color);\n",
              "    }\n",
              "  }\n",
              "</style>\n",
              "\n",
              "      <script>\n",
              "        async function quickchart(key) {\n",
              "          const quickchartButtonEl =\n",
              "            document.querySelector('#' + key + ' button');\n",
              "          quickchartButtonEl.disabled = true;  // To prevent multiple clicks.\n",
              "          quickchartButtonEl.classList.add('colab-df-spinner');\n",
              "          try {\n",
              "            const charts = await google.colab.kernel.invokeFunction(\n",
              "                'suggestCharts', [key], {});\n",
              "          } catch (error) {\n",
              "            console.error('Error during call to suggestCharts:', error);\n",
              "          }\n",
              "          quickchartButtonEl.classList.remove('colab-df-spinner');\n",
              "          quickchartButtonEl.classList.add('colab-df-quickchart-complete');\n",
              "        }\n",
              "        (() => {\n",
              "          let quickchartButtonEl =\n",
              "            document.querySelector('#df-64f76a34-77be-423d-a170-923b7a119376 button');\n",
              "          quickchartButtonEl.style.display =\n",
              "            google.colab.kernel.accessAllowed ? 'block' : 'none';\n",
              "        })();\n",
              "      </script>\n",
              "    </div>\n",
              "\n",
              "  <div id=\"id_8d0a3623-3e3d-4ee1-b647-50035210b65c\">\n",
              "    <style>\n",
              "      .colab-df-generate {\n",
              "        background-color: #E8F0FE;\n",
              "        border: none;\n",
              "        border-radius: 50%;\n",
              "        cursor: pointer;\n",
              "        display: none;\n",
              "        fill: #1967D2;\n",
              "        height: 32px;\n",
              "        padding: 0 0 0 0;\n",
              "        width: 32px;\n",
              "      }\n",
              "\n",
              "      .colab-df-generate:hover {\n",
              "        background-color: #E2EBFA;\n",
              "        box-shadow: 0px 1px 2px rgba(60, 64, 67, 0.3), 0px 1px 3px 1px rgba(60, 64, 67, 0.15);\n",
              "        fill: #174EA6;\n",
              "      }\n",
              "\n",
              "      [theme=dark] .colab-df-generate {\n",
              "        background-color: #3B4455;\n",
              "        fill: #D2E3FC;\n",
              "      }\n",
              "\n",
              "      [theme=dark] .colab-df-generate:hover {\n",
              "        background-color: #434B5C;\n",
              "        box-shadow: 0px 1px 3px 1px rgba(0, 0, 0, 0.15);\n",
              "        filter: drop-shadow(0px 1px 2px rgba(0, 0, 0, 0.3));\n",
              "        fill: #FFFFFF;\n",
              "      }\n",
              "    </style>\n",
              "    <button class=\"colab-df-generate\" onclick=\"generateWithVariable('polygons')\"\n",
              "            title=\"Generate code using this dataframe.\"\n",
              "            style=\"display:none;\">\n",
              "\n",
              "  <svg xmlns=\"http://www.w3.org/2000/svg\" height=\"24px\"viewBox=\"0 0 24 24\"\n",
              "       width=\"24px\">\n",
              "    <path d=\"M7,19H8.4L18.45,9,17,7.55,7,17.6ZM5,21V16.75L18.45,3.32a2,2,0,0,1,2.83,0l1.4,1.43a1.91,1.91,0,0,1,.58,1.4,1.91,1.91,0,0,1-.58,1.4L9.25,21ZM18.45,9,17,7.55Zm-12,3A5.31,5.31,0,0,0,4.9,8.1,5.31,5.31,0,0,0,1,6.5,5.31,5.31,0,0,0,4.9,4.9,5.31,5.31,0,0,0,6.5,1,5.31,5.31,0,0,0,8.1,4.9,5.31,5.31,0,0,0,12,6.5,5.46,5.46,0,0,0,6.5,12Z\"/>\n",
              "  </svg>\n",
              "    </button>\n",
              "    <script>\n",
              "      (() => {\n",
              "      const buttonEl =\n",
              "        document.querySelector('#id_8d0a3623-3e3d-4ee1-b647-50035210b65c button.colab-df-generate');\n",
              "      buttonEl.style.display =\n",
              "        google.colab.kernel.accessAllowed ? 'block' : 'none';\n",
              "\n",
              "      buttonEl.onclick = () => {\n",
              "        google.colab.notebook.generateWithVariable('polygons');\n",
              "      }\n",
              "      })();\n",
              "    </script>\n",
              "  </div>\n",
              "\n",
              "    </div>\n",
              "  </div>\n"
            ],
            "application/vnd.google.colaboratory.intrinsic+json": {
              "type": "dataframe",
              "variable_name": "polygons",
              "repr_error": "Out of range float values are not JSON compliant: nan"
            }
          },
          "metadata": {},
          "execution_count": 119
        }
      ]
    },
    {
      "cell_type": "markdown",
      "metadata": {
        "id": "5o7fd9t6Izpq"
      },
      "source": [
        "you can download the files and create a map with [umap](https://umap.openstretmap.fr) and create an [interactive map online with the data](https://umap.openstreetmap.fr/it/map/from-smallest-to-largest-trentino-municipalities_1305072)"
      ]
    },
    {
      "cell_type": "markdown",
      "metadata": {
        "id": "3M4cuG64hSBH"
      },
      "source": [
        "### calculate the distance on the geodentic between the municipality with the big area and smallest area by using the centroid\n"
      ]
    },
    {
      "cell_type": "code",
      "execution_count": 120,
      "metadata": {
        "id": "1wtbI-kf7Vh6"
      },
      "outputs": [],
      "source": [
        "to_point = minarea_municipality_province_trento.geometry.centroid.values[0]"
      ]
    },
    {
      "cell_type": "code",
      "execution_count": 121,
      "metadata": {
        "colab": {
          "base_uri": "https://localhost:8080/",
          "height": 115
        },
        "id": "E29lflS5fAph",
        "outputId": "b3952691-c72e-4023-9858-b22b9489fb40"
      },
      "outputs": [
        {
          "output_type": "execute_result",
          "data": {
            "text/plain": [
              "2915    31799.574205\n",
              "dtype: float64"
            ],
            "text/html": [
              "<div>\n",
              "<style scoped>\n",
              "    .dataframe tbody tr th:only-of-type {\n",
              "        vertical-align: middle;\n",
              "    }\n",
              "\n",
              "    .dataframe tbody tr th {\n",
              "        vertical-align: top;\n",
              "    }\n",
              "\n",
              "    .dataframe thead th {\n",
              "        text-align: right;\n",
              "    }\n",
              "</style>\n",
              "<table border=\"1\" class=\"dataframe\">\n",
              "  <thead>\n",
              "    <tr style=\"text-align: right;\">\n",
              "      <th></th>\n",
              "      <th>0</th>\n",
              "    </tr>\n",
              "  </thead>\n",
              "  <tbody>\n",
              "    <tr>\n",
              "      <th>2915</th>\n",
              "      <td>31799.574205</td>\n",
              "    </tr>\n",
              "  </tbody>\n",
              "</table>\n",
              "</div><br><label><b>dtype:</b> float64</label>"
            ]
          },
          "metadata": {},
          "execution_count": 121
        }
      ],
      "source": [
        "maxarea_municipality_province_trento.centroid.distance(to_point)"
      ]
    },
    {
      "cell_type": "code",
      "execution_count": 122,
      "metadata": {
        "id": "KnkXEZOs7Vh7"
      },
      "outputs": [],
      "source": [
        "distance = maxarea_municipality_province_trento.geometry.centroid.distance(to_point).values[0]"
      ]
    },
    {
      "cell_type": "code",
      "execution_count": 123,
      "metadata": {
        "colab": {
          "base_uri": "https://localhost:8080/"
        },
        "id": "cl60MuiU7Vh7",
        "outputId": "6c217eaa-dc7b-433a-b8f0-35365d726dae"
      },
      "outputs": [
        {
          "output_type": "execute_result",
          "data": {
            "text/plain": [
              "np.float64(31799.574205033638)"
            ]
          },
          "metadata": {},
          "execution_count": 123
        }
      ],
      "source": [
        "distance"
      ]
    },
    {
      "cell_type": "markdown",
      "metadata": {
        "id": "G3w4YSq7i_Of"
      },
      "source": [
        "the distance is in meters due the CRS used on the dataset"
      ]
    },
    {
      "cell_type": "code",
      "execution_count": 124,
      "metadata": {
        "id": "h3l6OLzR7Vh8"
      },
      "outputs": [],
      "source": [
        "to_city = minarea_municipality_province_trento.COMUNE.values[0]\n",
        "from_city = maxarea_municipality_province_trento.COMUNE.values[0]\n",
        "distance_km = distance/1000"
      ]
    },
    {
      "cell_type": "code",
      "execution_count": 125,
      "metadata": {
        "colab": {
          "base_uri": "https://localhost:8080/"
        },
        "id": "HuMjuhhJ7Vh8",
        "outputId": "d1f1f116-213d-4979-8eac-5a06d2362e2e"
      },
      "outputs": [
        {
          "output_type": "stream",
          "name": "stdout",
          "text": [
            "the distance from Primiero San Martino di Castrozza to Carzano is 31.8 km\n"
          ]
        }
      ],
      "source": [
        "print(\"the distance from %s to %s is %.1f km\" % (from_city, to_city, round(distance_km,1)))"
      ]
    },
    {
      "cell_type": "markdown",
      "metadata": {
        "id": "_ZJxuinjPKA4"
      },
      "source": [
        "### Why a representative point?"
      ]
    },
    {
      "cell_type": "markdown",
      "metadata": {
        "id": "0ISDE0HGjzAi"
      },
      "source": [
        "Where is the centroid of Liguria?\n"
      ]
    },
    {
      "cell_type": "code",
      "execution_count": 126,
      "metadata": {
        "id": "5Hba-qxTmuQL"
      },
      "outputs": [],
      "source": [
        "regions = gpd.read_file(url,layer=\"regions\")"
      ]
    },
    {
      "cell_type": "code",
      "execution_count": 127,
      "metadata": {
        "colab": {
          "base_uri": "https://localhost:8080/"
        },
        "id": "91yTYhTBmm8U",
        "outputId": "8944b244-4ac6-4a45-eea7-c9b06c260cfd"
      },
      "outputs": [
        {
          "output_type": "execute_result",
          "data": {
            "text/plain": [
              "array(['Piemonte', \"Valle d'Aosta\", 'Lombardia', 'Trentino-Alto Adige',\n",
              "       'Veneto', 'Friuli-Venezia Giulia', 'Liguria', 'Emilia-Romagna',\n",
              "       'Toscana', 'Umbria', 'Marche', 'Lazio', 'Abruzzo', 'Molise',\n",
              "       'Campania', 'Puglia', 'Basilicata', 'Calabria', 'Sicilia',\n",
              "       'Sardegna'], dtype=object)"
            ]
          },
          "metadata": {},
          "execution_count": 127
        }
      ],
      "source": [
        "regions.DEN_REG.unique()"
      ]
    },
    {
      "cell_type": "code",
      "execution_count": 128,
      "metadata": {
        "colab": {
          "base_uri": "https://localhost:8080/",
          "height": 447
        },
        "id": "xiziGEkiAHJf",
        "outputId": "0df64edc-2063-46b5-cb9a-00796bdb5ad8"
      },
      "outputs": [
        {
          "output_type": "display_data",
          "data": {
            "text/plain": [
              "<Figure size 1000x1000 with 1 Axes>"
            ],
            "image/png": "[encoded data removed]"
          },
          "metadata": {}
        }
      ],
      "source": [
        "regions[regions.DEN_REG=='Liguria'].plot(figsize=(10,10))\n",
        "plt.show()"
      ]
    },
    {
      "cell_type": "code",
      "execution_count": 129,
      "metadata": {
        "id": "C3st5LyfnhNV"
      },
      "outputs": [],
      "source": [
        "regions[regions.DEN_REG=='Liguria'].to_crs(epsg=4326).to_file(\"liguria.geojson\",driver='GeoJSON')"
      ]
    },
    {
      "cell_type": "code",
      "execution_count": 130,
      "metadata": {
        "id": "XOvUmDfvAUDN"
      },
      "outputs": [],
      "source": [
        "regions[regions.DEN_REG=='Liguria'].centroid.to_crs(epsg=4326).to_file(\"liguria_centroid.geojson\",driver='GeoJSON')"
      ]
    },
    {
      "cell_type": "code",
      "execution_count": 131,
      "metadata": {
        "id": "gx8_YvuWoSWo"
      },
      "outputs": [],
      "source": [
        "regions[regions.DEN_REG=='Liguria'].representative_point().to_crs(epsg=4326).to_file(\"liguria_representative_point.geojson\",driver='GeoJSON')"
      ]
    },
    {
      "cell_type": "markdown",
      "metadata": {
        "id": "XMN9nFJDp5bL"
      },
      "source": [
        "you can upload all the geojson on [uMap](http://umap.openstreetmap.fr) to [see the result](http://umap.openstreetmap.fr/it/map/liguria_505528#8/44.058/9.075)"
      ]
    },
    {
      "cell_type": "markdown",
      "metadata": {
        "id": "hN57WvvIpy0i"
      },
      "source": [
        "![](https://raw.githubusercontent.com/napo/geospatial_course_unitn/master/images/umap_liguria.jpg)\n"
      ]
    },
    {
      "cell_type": "markdown",
      "metadata": {
        "id": "L7Z-v_fPQD3X"
      },
      "source": [
        "## download the shapefile of the [lakes and bodies of water of Trentino](https://github.com/napo/geospatialcourse2025/raw/refs/heads/main/data/lakes_bodies_of_water_trentino.zip) - projection Monte Mario zone 1\n",
        "    - convert in WGS84 and create a geojson"
      ]
    },
    {
      "cell_type": "code",
      "execution_count": 132,
      "metadata": {
        "id": "SjiVDTRrRSOH"
      },
      "outputs": [],
      "source": [
        "dataurl='https://github.com/napo/geospatialcourse2025/raw/refs/heads/main/data/lakes_bodies_of_water_trentino.zip'\n",
        "lakes_bodies_water = gpd.read_file(dataurl)"
      ]
    },
    {
      "cell_type": "markdown",
      "metadata": {
        "id": "bjJ9PeeoSVgP"
      },
      "source": [
        "###  plot the geometries"
      ]
    },
    {
      "cell_type": "code",
      "execution_count": 133,
      "metadata": {
        "colab": {
          "base_uri": "https://localhost:8080/",
          "height": 143
        },
        "id": "iSo1ONGQRsAJ",
        "outputId": "c7655ca6-95d5-4805-aa06-0ab6f3ee534e"
      },
      "outputs": [
        {
          "output_type": "execute_result",
          "data": {
            "text/plain": [
              "   OBJECTID                                NOMESPACQ  \\\n",
              "0   29690.0                          LAGO DI MOLVENO   \n",
              "1   29743.0  LAGO BACINO S.I.T. - BACINO DI PONTARSO   \n",
              "2   29723.0                         LAGO DEL CARESER   \n",
              "\n",
              "                                            geometry  \n",
              "0  POLYGON ((1652079.952 5111676.932, 1652079.586...  \n",
              "1  POLYGON ((1692832.012 5109957.392, 1692832.114...  \n",
              "2  POLYGON ((1630312.511 5142839.286, 1630311.588...  "
            ],
            "text/html": [
              "\n",
              "  <div id=\"df-fa2e83e2-518e-450d-9eee-0257518ee2ad\" class=\"colab-df-container\">\n",
              "    <div>\n",
              "<style scoped>\n",
              "    .dataframe tbody tr th:only-of-type {\n",
              "        vertical-align: middle;\n",
              "    }\n",
              "\n",
              "    .dataframe tbody tr th {\n",
              "        vertical-align: top;\n",
              "    }\n",
              "\n",
              "    .dataframe thead th {\n",
              "        text-align: right;\n",
              "    }\n",
              "</style>\n",
              "<table border=\"1\" class=\"dataframe\">\n",
              "  <thead>\n",
              "    <tr style=\"text-align: right;\">\n",
              "      <th></th>\n",
              "      <th>OBJECTID</th>\n",
              "      <th>NOMESPACQ</th>\n",
              "      <th>geometry</th>\n",
              "    </tr>\n",
              "  </thead>\n",
              "  <tbody>\n",
              "    <tr>\n",
              "      <th>0</th>\n",
              "      <td>29690.0</td>\n",
              "      <td>LAGO DI MOLVENO</td>\n",
              "      <td>POLYGON ((1652079.952 5111676.932, 1652079.586...</td>\n",
              "    </tr>\n",
              "    <tr>\n",
              "      <th>1</th>\n",
              "      <td>29743.0</td>\n",
              "      <td>LAGO BACINO S.I.T. - BACINO DI PONTARSO</td>\n",
              "      <td>POLYGON ((1692832.012 5109957.392, 1692832.114...</td>\n",
              "    </tr>\n",
              "    <tr>\n",
              "      <th>2</th>\n",
              "      <td>29723.0</td>\n",
              "      <td>LAGO DEL CARESER</td>\n",
              "      <td>POLYGON ((1630312.511 5142839.286, 1630311.588...</td>\n",
              "    </tr>\n",
              "  </tbody>\n",
              "</table>\n",
              "</div>\n",
              "    <div class=\"colab-df-buttons\">\n",
              "\n",
              "  <div class=\"colab-df-container\">\n",
              "    <button class=\"colab-df-convert\" onclick=\"convertToInteractive('df-fa2e83e2-518e-450d-9eee-0257518ee2ad')\"\n",
              "            title=\"Convert this dataframe to an interactive table.\"\n",
              "            style=\"display:none;\">\n",
              "\n",
              "  <svg xmlns=\"http://www.w3.org/2000/svg\" height=\"24px\" viewBox=\"0 -960 960 960\">\n",
              "    <path d=\"M120-120v-720h720v720H120Zm60-500h600v-160H180v160Zm220 220h160v-160H400v160Zm0 220h160v-160H400v160ZM180-400h160v-160H180v160Zm440 0h160v-160H620v160ZM180-180h160v-160H180v160Zm440 0h160v-160H620v160Z\"/>\n",
              "  </svg>\n",
              "    </button>\n",
              "\n",
              "  <style>\n",
              "    .colab-df-container {\n",
              "      display:flex;\n",
              "      gap: 12px;\n",
              "    }\n",
              "\n",
              "    .colab-df-convert {\n",
              "      background-color: #E8F0FE;\n",
              "      border: none;\n",
              "      border-radius: 50%;\n",
              "      cursor: pointer;\n",
              "      display: none;\n",
              "      fill: #1967D2;\n",
              "      height: 32px;\n",
              "      padding: 0 0 0 0;\n",
              "      width: 32px;\n",
              "    }\n",
              "\n",
              "    .colab-df-convert:hover {\n",
              "      background-color: #E2EBFA;\n",
              "      box-shadow: 0px 1px 2px rgba(60, 64, 67, 0.3), 0px 1px 3px 1px rgba(60, 64, 67, 0.15);\n",
              "      fill: #174EA6;\n",
              "    }\n",
              "\n",
              "    .colab-df-buttons div {\n",
              "      margin-bottom: 4px;\n",
              "    }\n",
              "\n",
              "    [theme=dark] .colab-df-convert {\n",
              "      background-color: #3B4455;\n",
              "      fill: #D2E3FC;\n",
              "    }\n",
              "\n",
              "    [theme=dark] .colab-df-convert:hover {\n",
              "      background-color: #434B5C;\n",
              "      box-shadow: 0px 1px 3px 1px rgba(0, 0, 0, 0.15);\n",
              "      filter: drop-shadow(0px 1px 2px rgba(0, 0, 0, 0.3));\n",
              "      fill: #FFFFFF;\n",
              "    }\n",
              "  </style>\n",
              "\n",
              "    <script>\n",
              "      const buttonEl =\n",
              "        document.querySelector('#df-fa2e83e2-518e-450d-9eee-0257518ee2ad button.colab-df-convert');\n",
              "      buttonEl.style.display =\n",
              "        google.colab.kernel.accessAllowed ? 'block' : 'none';\n",
              "\n",
              "      async function convertToInteractive(key) {\n",
              "        const element = document.querySelector('#df-fa2e83e2-518e-450d-9eee-0257518ee2ad');\n",
              "        const dataTable =\n",
              "          await google.colab.kernel.invokeFunction('convertToInteractive',\n",
              "                                                    [key], {});\n",
              "        if (!dataTable) return;\n",
              "\n",
              "        const docLinkHtml = 'Like what you see? Visit the ' +\n",
              "          '<a target=\"_blank\" href=https://colab.research.google.com/notebooks/data_table.ipynb>data table notebook</a>'\n",
              "          + ' to learn more about interactive tables.';\n",
              "        element.innerHTML = '';\n",
              "        dataTable['output_type'] = 'display_data';\n",
              "        await google.colab.output.renderOutput(dataTable, element);\n",
              "        const docLink = document.createElement('div');\n",
              "        docLink.innerHTML = docLinkHtml;\n",
              "        element.appendChild(docLink);\n",
              "      }\n",
              "    </script>\n",
              "  </div>\n",
              "\n",
              "\n",
              "    <div id=\"df-5807003b-f8f0-49f1-9341-f0b00ee6980a\">\n",
              "      <button class=\"colab-df-quickchart\" onclick=\"quickchart('df-5807003b-f8f0-49f1-9341-f0b00ee6980a')\"\n",
              "                title=\"Suggest charts\"\n",
              "                style=\"display:none;\">\n",
              "\n",
              "<svg xmlns=\"http://www.w3.org/2000/svg\" height=\"24px\"viewBox=\"0 0 24 24\"\n",
              "     width=\"24px\">\n",
              "    <g>\n",
              "        <path d=\"M19 3H5c-1.1 0-2 .9-2 2v14c0 1.1.9 2 2 2h14c1.1 0 2-.9 2-2V5c0-1.1-.9-2-2-2zM9 17H7v-7h2v7zm4 0h-2V7h2v10zm4 0h-2v-4h2v4z\"/>\n",
              "    </g>\n",
              "</svg>\n",
              "      </button>\n",
              "\n",
              "<style>\n",
              "  .colab-df-quickchart {\n",
              "      --bg-color: #E8F0FE;\n",
              "      --fill-color: #1967D2;\n",
              "      --hover-bg-color: #E2EBFA;\n",
              "      --hover-fill-color: #174EA6;\n",
              "      --disabled-fill-color: #AAA;\n",
              "      --disabled-bg-color: #DDD;\n",
              "  }\n",
              "\n",
              "  [theme=dark] .colab-df-quickchart {\n",
              "      --bg-color: #3B4455;\n",
              "      --fill-color: #D2E3FC;\n",
              "      --hover-bg-color: #434B5C;\n",
              "      --hover-fill-color: #FFFFFF;\n",
              "      --disabled-bg-color: #3B4455;\n",
              "      --disabled-fill-color: #666;\n",
              "  }\n",
              "\n",
              "  .colab-df-quickchart {\n",
              "    background-color: var(--bg-color);\n",
              "    border: none;\n",
              "    border-radius: 50%;\n",
              "    cursor: pointer;\n",
              "    display: none;\n",
              "    fill: var(--fill-color);\n",
              "    height: 32px;\n",
              "    padding: 0;\n",
              "    width: 32px;\n",
              "  }\n",
              "\n",
              "  .colab-df-quickchart:hover {\n",
              "    background-color: var(--hover-bg-color);\n",
              "    box-shadow: 0 1px 2px rgba(60, 64, 67, 0.3), 0 1px 3px 1px rgba(60, 64, 67, 0.15);\n",
              "    fill: var(--button-hover-fill-color);\n",
              "  }\n",
              "\n",
              "  .colab-df-quickchart-complete:disabled,\n",
              "  .colab-df-quickchart-complete:disabled:hover {\n",
              "    background-color: var(--disabled-bg-color);\n",
              "    fill: var(--disabled-fill-color);\n",
              "    box-shadow: none;\n",
              "  }\n",
              "\n",
              "  .colab-df-spinner {\n",
              "    border: 2px solid var(--fill-color);\n",
              "    border-color: transparent;\n",
              "    border-bottom-color: var(--fill-color);\n",
              "    animation:\n",
              "      spin 1s steps(1) infinite;\n",
              "  }\n",
              "\n",
              "  @keyframes spin {\n",
              "    0% {\n",
              "      border-color: transparent;\n",
              "      border-bottom-color: var(--fill-color);\n",
              "      border-left-color: var(--fill-color);\n",
              "    }\n",
              "    20% {\n",
              "      border-color: transparent;\n",
              "      border-left-color: var(--fill-color);\n",
              "      border-top-color: var(--fill-color);\n",
              "    }\n",
              "    30% {\n",
              "      border-color: transparent;\n",
              "      border-left-color: var(--fill-color);\n",
              "      border-top-color: var(--fill-color);\n",
              "      border-right-color: var(--fill-color);\n",
              "    }\n",
              "    40% {\n",
              "      border-color: transparent;\n",
              "      border-right-color: var(--fill-color);\n",
              "      border-top-color: var(--fill-color);\n",
              "    }\n",
              "    60% {\n",
              "      border-color: transparent;\n",
              "      border-right-color: var(--fill-color);\n",
              "    }\n",
              "    80% {\n",
              "      border-color: transparent;\n",
              "      border-right-color: var(--fill-color);\n",
              "      border-bottom-color: var(--fill-color);\n",
              "    }\n",
              "    90% {\n",
              "      border-color: transparent;\n",
              "      border-bottom-color: var(--fill-color);\n",
              "    }\n",
              "  }\n",
              "</style>\n",
              "\n",
              "      <script>\n",
              "        async function quickchart(key) {\n",
              "          const quickchartButtonEl =\n",
              "            document.querySelector('#' + key + ' button');\n",
              "          quickchartButtonEl.disabled = true;  // To prevent multiple clicks.\n",
              "          quickchartButtonEl.classList.add('colab-df-spinner');\n",
              "          try {\n",
              "            const charts = await google.colab.kernel.invokeFunction(\n",
              "                'suggestCharts', [key], {});\n",
              "          } catch (error) {\n",
              "            console.error('Error during call to suggestCharts:', error);\n",
              "          }\n",
              "          quickchartButtonEl.classList.remove('colab-df-spinner');\n",
              "          quickchartButtonEl.classList.add('colab-df-quickchart-complete');\n",
              "        }\n",
              "        (() => {\n",
              "          let quickchartButtonEl =\n",
              "            document.querySelector('#df-5807003b-f8f0-49f1-9341-f0b00ee6980a button');\n",
              "          quickchartButtonEl.style.display =\n",
              "            google.colab.kernel.accessAllowed ? 'block' : 'none';\n",
              "        })();\n",
              "      </script>\n",
              "    </div>\n",
              "\n",
              "    </div>\n",
              "  </div>\n"
            ],
            "application/vnd.google.colaboratory.intrinsic+json": {
              "type": "dataframe",
              "variable_name": "lakes_bodies_water",
              "summary": "{\n  \"name\": \"lakes_bodies_water\",\n  \"rows\": 433,\n  \"fields\": [\n    {\n      \"column\": \"OBJECTID\",\n      \"properties\": {\n        \"dtype\": \"number\",\n        \"std\": 187.4295507031295,\n        \"min\": 29677.0,\n        \"max\": 31709.0,\n        \"num_unique_values\": 433,\n        \"samples\": [\n          30062.0,\n          30054.0,\n          29682.0\n        ],\n        \"semantic_type\": \"\",\n        \"description\": \"\"\n      }\n    },\n    {\n      \"column\": \"NOMESPACQ\",\n      \"properties\": {\n        \"dtype\": \"string\",\n        \"num_unique_values\": 430,\n        \"samples\": [\n          \"LAGHETTO D'ARZON\",\n          \"LAGHETTO LAGO CORVO I\",\n          \"LAGO EL BUS\"\n        ],\n        \"semantic_type\": \"\",\n        \"description\": \"\"\n      }\n    },\n    {\n      \"column\": \"geometry\",\n      \"properties\": {\n        \"dtype\": \"geometry\",\n        \"num_unique_values\": 433,\n        \"samples\": [\n          \"POLYGON ((1713079.2173043115 5120853.956366048, 1713079.298305823 5120853.953365661, 1713079.5233099426 5120853.925364211, 1713080.4653270505 5120853.774357513, 1713084.0143910423 5120853.092330132, 1713084.689403245 5120852.970325071, 1713085.5534189467 5120852.834318971, 1713086.1984307282 5120852.7473146925, 1713087.0944471913 5120852.650309195, 1713087.8474611277 5120852.593305039, 1713091.0895214255 5120852.420288509, 1713092.4325463206 5120852.328281277, 1713094.6455873416 5120852.176269354, 1713095.0775952705 5120852.12726666, 1713095.4186014824 5120852.077264324, 1713095.8166086772 5120852.00526134, 1713096.2096157204 5120851.919258108, 1713096.598622623 5120851.8172545945, 1713097.0466304803 5120851.677250121, 1713097.5356389168 5120851.490244598, 1713097.9516460123 5120851.311239523, 1713098.7786600029 5120850.9272289, 1713099.198667153 5120850.743223716, 1713099.6926757002 5120850.560218244, 1713100.0436818507 5120850.449214716, 1713100.3996881363 5120850.348211357, 1713101.1067007077 5120850.16920509, 1713102.1377191225 5120849.928196331, 1713102.54572637 5120849.823192682, 1713102.9487334667 5120849.704188787, 1713103.1907376766 5120849.620186215, 1713103.5887445235 5120849.463181627, 1713103.9807511794 5120849.287176705, 1713104.3687577073 5120849.098171557, 1713105.0627692975 5120848.739161952, 1713106.3807911156 5120848.010142823, 1713106.9508005278 5120847.689134441, 1713108.180820727 5120846.96911584, 1713109.0738354353 5120846.457102539, 1713109.4738419722 5120846.215096341, 1713109.8848486296 5120845.9520897055, 1713110.2818549585 5120845.673082825, 1713110.6598608354 5120845.371075585, 1713111.0168662602 5120845.05506817, 1713111.348871194 5120844.734060763, 1713111.972880276 5120844.084045962, 1713112.445886983 5120843.548033929, 1713113.8509064976 5120841.8559963, 1713114.1539107668 5120841.505988465, 1713114.463915209 5120841.16598079, 1713114.7229190064 5120840.902974777, 1713114.9899229954 5120840.649968914, 1713115.2639271652 5120840.408963252, 1713116.128940516 5120839.6939462405, 1713116.344943758 5120839.492941571, 1713116.5479467148 5120839.281936765, 1713116.7059489226 5120839.094932595, 1713116.8499508302 5120838.898928312, 1713117.053953265 5120838.5559210135, 1713117.2099547114 5120838.191913517, 1713117.2729550253 5120837.978909247, 1713117.3189549984 5120837.760904952, 1713117.3609540046 5120837.324896565, 1713117.3579522665 5120836.913888834, 1713117.326949968 5120836.494881066, 1713117.2739472357 5120836.070873298, 1713117.0299365385 5120834.578846186, 1713116.9839341224 5120834.1998392325, 1713116.9559321054 5120833.835832489, 1713116.9459302928 5120833.438825051, 1713116.9619286254 5120832.957815922, 1713117.001927414 5120832.477806716, 1713117.0769263369 5120831.869794954, 1713117.2559248686 5120830.687771952, 1713117.2999240106 5120830.275764011, 1713117.3169225215 5120829.833755614, 1713117.2959202933 5120829.3857472595, 1713117.2519178856 5120828.999740167, 1713117.0799103687 5120827.953721166, 1713117.0249077578 5120827.568714134, 1713116.9759049902 5120827.117705839, 1713116.943902526 5120826.662697398, 1713116.932900457 5120826.207688872, 1713116.9408991018 5120825.839681905, 1713116.9608981686 5120825.519675796, 1713117.0798953986 5120824.295652244, 1713117.1068939015 5120823.805642905, 1713117.1038916437 5120823.267632781, 1713117.0828897096 5120822.891625782, 1713117.048887535 5120822.516618854, 1713117.0008851017 5120822.142612005, 1713116.957883216 5120821.8796072295, 1713116.861879474 5120821.40659871, 1713116.7738763364 5120821.044592251, 1713116.6748730047 5120820.685585893, 1713116.5638694633 5120820.330579658, 1713116.4028645551 5120819.871571668, 1713116.2768608911 5120819.555566231, 1713115.9988531065 5120818.931555613, 1713115.63684325 5120818.187543078, 1713115.330835118 5120817.607533404, 1713114.857822739 5120816.757519326, 1713113.3657842241 5120814.206477371, 1713113.1707792736 5120813.893472273, 1713112.930773309 5120813.539466587, 1713112.709767943 5120813.244461933, 1713112.47676238 5120812.956457459, 1713112.007751353 5120812.418449244, 1713111.5347404066 5120811.918441761, 1713110.5347176031 5120810.944427504, 1713110.261711324 5120810.665423365, 1713109.752699442 5120810.102414843, 1713108.9646808736 5120809.188400848, 1713108.6676739587 5120808.864395961, 1713108.3606668848 5120808.547391245, 1713107.7116520614 5120807.909381882, 1713106.2946200976 5120806.614363284, 1713105.5196025635 5120805.893352875, 1713105.0045909905 5120805.433346315, 1713103.816564559 5120804.437332411, 1713102.3315314266 5120803.169314606, 1713102.0265245494 5120802.8913106145, 1713101.1845053453 5120802.070298596, 1713100.877498386 5120801.781294408, 1713099.9514775602 5120800.950282542, 1713098.9924558394 5120800.052269548, 1713098.5014448606 5120799.6272635525, 1713097.0154119055 5120798.407246652, 1713096.7434059316 5120798.198243826, 1713095.807385565 5120797.52523498, 1713095.3163748279 5120797.159230095, 1713094.7693627381 5120796.720224063, 1713094.0793473434 5120796.131215788, 1713093.394331912 5120795.510206894, 1713092.871320004 5120795.00519952, 1713092.3943090641 5120794.52519243, 1713091.7532942886 5120793.862182563, 1713090.9832766443 5120793.091171191, 1713090.6842698925 5120792.8161672335, 1713090.3752629936 5120792.551163504, 1713090.0162550635 5120792.264159568, 1713089.6442469626 5120791.995156021, 1713089.4302423587 5120791.854154241, 1713088.7832285922 5120791.465149562, 1713087.8702093614 5120790.964143859, 1713087.4992015003 5120790.749141329, 1713087.134193707 5120790.523138565, 1713086.6611835544 5120790.217134737, 1713086.326176309 5120789.987131776, 1713085.7511637867 5120789.5711262915, 1713084.7221411741 5120788.777115544, 1713084.3861338284 5120788.527112211, 1713083.7861208194 5120788.107106754, 1713083.4781142091 5120787.908104265, 1713083.0291046554 5120787.638101016, 1713082.5740950785 5120787.390098206, 1713081.8790806131 5120787.051094662, 1713081.4860725019 5120786.876092978, 1713080.7630576731 5120786.577090303, 1713080.0300427135 5120786.292087934, 1713079.2120260973 5120785.993085652, 1713078.7390165585 5120785.837084647, 1713077.863999005 5120785.571083219, 1713076.80097777 5120785.2700819, 1713075.8549589128 5120785.012080912, 1713075.069943327 5120784.813080378, 1713074.657935189 5120784.719080292, 1713073.8769198465 5120784.561080513, 1713073.0879044468 5120784.426081199, 1713072.5998949858 5120784.358081915, 1713072.1988872883 5120784.321082858, 1713071.799879719 5120784.306084212, 1713071.404872331 5120784.317086034, 1713071.112866955 5120784.346087777, 1713070.7308600533 5120784.416090658, 1713070.289852266 5120784.541094819, 1713069.859844854 5120784.707099706, 1713069.5128390037 5120784.873104257, 1713069.1758334315 5120785.061109179, 1713068.9148291913 5120785.225113336, 1713068.6618251507 5120785.401117687, 1713068.3618204468 5120785.631123249, 1713067.5818084704 5120786.291138877, 1713067.3418046907 5120786.471143251, 1713067.0928006638 5120786.632147303, 1713066.8317963132 5120786.769150954, 1713066.608792485 5120786.859153561, 1713066.3787884559 5120786.932155879, 1713065.956780883 5120787.022159301, 1713065.5257729571 5120787.067161916, 1713065.1107651643 5120787.071163688, 1713064.789759034 5120787.049164588, 1713064.477753012 5120787.012165169, 1713064.2367483294 5120786.976165475, 1713063.7037379064 5120786.880165849, 1713063.4237324821 5120786.842166281, 1713063.1607275703 5120786.851167527, 1713062.9167232853 5120786.926169937, 1713062.6897195622 5120787.060173393, 1713062.4807163621 5120787.23917762, 1713061.9037082135 5120787.901192454, 1713061.1076966561 5120788.737211464, 1713060.8676932855 5120789.017217719, 1713060.643690298 5120789.31722429, 1713060.4586879953 5120789.605230474, 1713060.2946861533 5120789.909236872, 1713060.1466847395 5120790.24424379, 1713060.0236838488 5120790.59225085, 1713059.893683363 5120791.071260407, 1713059.8166833874 5120791.431267505, 1713059.707683992 5120792.080280177, 1713059.5746858679 5120793.150300881, 1713059.489686769 5120793.761312742, 1713059.4086871804 5120794.2343219835, 1713059.172687797 5120795.470346238, 1713059.1216881145 5120795.782352322, 1713059.0476888947 5120796.313362628, 1713058.9516906939 5120797.194379621, 1713058.8566938047 5120798.391402561, 1713058.7726980718 5120799.82042983, 1713058.689704699 5120801.821467868, 1713058.5507142334 5120804.790524376, 1713058.5137177724 5120805.825544027, 1713058.4917213977 5120806.812562711, 1713058.4827253697 5120807.824581814, 1713058.5047339723 5120809.825619423, 1713058.5077434203 5120812.120662649, 1713058.5237483378 5120813.248683835, 1713058.5737598245 5120815.825732182, 1713058.552773597 5120819.287797491, 1713058.5667820037 5120821.277834928, 1713058.6077884962 5120822.675861097, 1713058.7498053522 5120826.1419258155, 1713058.8358181224 5120828.866976805, 1713058.8618233094 5120830.014998327, 1713058.8848320248 5120832.039036366, 1713058.9088358814 5120832.871051941, 1713058.968841557 5120833.982072627, 1713059.0068440808 5120834.424080798, 1713059.0548467888 5120834.865088912, 1713059.1138496916 5120835.303096921, 1713059.181852706 5120835.727104633, 1713059.3258584766 5120836.475118135, 1713059.4358624741 5120836.946126558, 1713059.5658668196 5120837.410134765, 1713059.6848705115 5120837.765140968, 1713059.8208744703 5120838.107146855, 1713059.9718786867 5120838.443152567, 1713060.2668866564 5120839.034162494, 1713060.4778922228 5120839.424168979, 1713060.7018980093 5120839.8081752965, 1713060.8559019216 5120840.056179338, 1713061.1289087369 5120840.466185945, 1713061.400915386 5120840.840191877, 1713061.6849222153 5120841.203197555, 1713061.9019273627 5120841.463201563, 1713062.127932651 5120841.716205403, 1713062.3849385753 5120841.982209364, 1713062.6519446475 5120842.238213093, 1713062.8949501202 5120842.458216245, 1713063.1439556815 5120842.672219256, 1713064.0879765474 5120843.430229674, 1713064.4129837803 5120843.703233487, 1713064.8289931633 5120844.0832389435, 1713065.2320024285 5120844.494245036, 1713065.50800887 5120844.799249651, 1713066.3160279992 5120845.758264411, 1713066.7140373262 5120846.207271242, 1713067.1850482065 5120846.7002786, 1713067.4470541761 5120846.954282315, 1713068.0420675536 5120847.48728992, 1713068.374074943 5120847.766293817, 1713069.0660902031 5120848.313301289, 1713070.558123005 5120849.468316941, 1713071.05313376 5120849.820321547, 1713071.489143086 5120850.094324925, 1713072.0661552818 5120850.421328722, 1713074.034196591 5120851.466340355, 1713075.6862313724 5120852.369350605, 1713076.9672581947 5120853.033357869, 1713077.7312740814 5120853.402361696, 1713078.1962836785 5120853.609363689, 1713078.6242924524 5120853.785365255, 1713078.9542991454 5120853.903366128, 1713079.0943019474 5120853.944366326, 1713079.183303696 5120853.962366299, 1713079.2173043115 5120853.956366048))\",\n          \"POLYGON ((1639672.1252649496 5144778.138904033, 1639671.8082511206 5144776.233869448, 1639672.3372484082 5144773.16480944, 1639672.020231521 5144770.518760895, 1639670.644201259 5144769.460746639, 1639669.6911806997 5144768.824738591, 1639668.8441590848 5144767.449716182, 1639668.2101419116 5144766.1796948705, 1639666.1991031924 5144765.967699181, 1639664.5050708759 5144765.861704177, 1639662.2830290608 5144765.861713351, 1639660.271995583 5144766.919741586, 1639659.107979358 5144768.29577232, 1639657.096944135 5144768.930792587, 1639654.9799069169 5144769.56581329, 1639652.3348650043 5144771.470860101, 1639647.7837872235 5144773.375914788, 1639644.2907271697 5144774.751955135, 1639641.962690352 5144776.4459966635, 1639641.9626986485 5144778.456034536, 1639641.3276945616 5144780.361073046, 1639639.3166667684 5144782.79612723, 1639637.199636976 5144785.230181833, 1639634.4485935024 5144787.2402310595, 1639634.0245973202 5144790.09828666, 1639634.2366131064 5144792.956339634, 1639633.4956092082 5144795.390388551, 1639632.331594729 5144797.189427257, 1639631.3795838016 5144798.882463084, 1639631.167588113 5144800.893501848, 1639631.6966085522 5144803.433547522, 1639632.5436380347 5144806.714605843, 1639631.908636569 5144809.254656324, 1639631.273633791 5144811.47670081, 1639631.8026564177 5144814.54675647, 1639632.8606894333 5144817.721811921, 1639634.0247279354 5144821.7428828785, 1639635.8237757706 5144825.1299392665, 1639636.3537962292 5144827.669984936, 1639636.0358020372 5144830.527040078, 1639636.035813834 5144833.385093926, 1639637.0938442287 5144835.925137418, 1639639.2108932433 5144838.148170559, 1639641.6449482199 5144840.3702023765, 1639644.8200162696 5144842.381227158, 1639648.6300910271 5144843.122225388, 1639651.911155826 5144843.862225787, 1639656.5682421562 5144843.545200585, 1639664.0823844345 5144843.757173557, 1639668.4214647762 5144843.439149652, 1639671.173516565 5144843.439138288, 1639673.0785532896 5144843.651134418, 1639673.5015647418 5144844.497148612, 1639674.6655932015 5144846.085173725, 1639676.5706329846 5144847.038183817, 1639679.4286872016 5144847.143173996, 1639681.968735001 5144847.143163507, 1639683.555762683 5144846.614146989, 1639684.4027738178 5144845.450121561, 1639685.6727924752 5144844.180092389, 1639686.9428128789 5144843.333071184, 1639688.5308348995 5144841.428028735, 1639690.0118501023 5144838.358964798, 1639691.5998686273 5144835.606906391, 1639693.6108986083 5144833.701862195, 1639695.409925475 5144832.0088228695, 1639695.620922458 5144830.3157901, 1639695.0919055103 5144828.621760367, 1639695.7269087264 5144826.505717874, 1639697.2089335567 5144825.764697796, 1639700.0669834067 5144824.811668038, 1639703.241037462 5144823.436629026, 1639704.61705811 5144822.165599399, 1639706.6280894037 5144820.578561194, 1639707.6861027633 5144818.991526926, 1639707.6860988296 5144818.03850897, 1639707.7920964577 5144816.980488599, 1639707.157080574 5144816.027473264, 1639706.8400684956 5144814.546446668, 1639706.840057574 5144811.900396815, 1639706.6280452837 5144809.889359799, 1639706.8400392265 5144807.455313064, 1639705.9930097444 5144804.174254742, 1639703.4529575738 5144803.115245275, 1639698.9018706218 5144802.798258094, 1639696.044812052 5144801.634247959, 1639693.6107614427 5144800.470236075, 1639689.80068756 5144799.941241836, 1639685.9906114899 5144798.882237618, 1639683.8735642252 5144797.083212459, 1639682.921538009 5144795.072178498, 1639682.1805170765 5144793.379149661, 1639681.5454942049 5144790.733102428, 1639680.698462539 5144786.923034142, 1639679.1104261042 5144785.336010795, 1639676.7823744314 5144783.430984512, 1639674.4543245044 5144781.948966202, 1639673.1842958003 5144780.784949515, 1639672.1252649496 5144778.138904033))\",\n          \"POLYGON ((1672959.8061545866 5104767.51171406, 1672959.8621599497 5104768.560733609, 1672959.8691611327 5104768.816738407, 1672959.8641620982 5104769.074743292, 1672959.838163046 5104769.4247499965, 1672959.796163471 5104769.720755752, 1672959.725163452 5104770.041762094, 1672959.677163193 5104770.198765252, 1672959.5441620194 5104770.522771909, 1672959.3821600776 5104770.792777666, 1672959.2461582026 5104770.95978137, 1672959.094155944 5104771.1067847675, 1672958.9121530834 5104771.244788118, 1672958.6701491466 5104771.395791958, 1672958.4291451795 5104771.534795569, 1672958.1281402996 5104771.726800426, 1672958.0371388653 5104771.794802081, 1672957.801135292 5104772.006807048, 1672957.617132751 5104772.231812045, 1672957.5341317097 5104772.358814781, 1672957.4201304088 5104772.564819136, 1672957.3181293875 5104772.783823683, 1672957.2371286836 5104772.983827786, 1672957.058127428 5104773.498838231, 1672956.8371264408 5104774.271853713, 1672956.5661257284 5104775.34087498, 1672956.4091251418 5104775.917886506, 1672956.3121246335 5104776.2388929585, 1672956.1291234298 5104776.784904002, 1672956.0511228314 5104776.996908318, 1672955.8821213457 5104777.4099167995, 1672955.7421199456 5104777.71092305, 1672955.5471177644 5104778.073930695, 1672955.1821132812 5104778.655943168, 1672954.4101034666 5104779.80596802, 1672954.3021021641 5104779.983971822, 1672954.0370991658 5104780.468982055, 1672953.8220969324 5104780.910991273, 1672953.5730945517 5104781.47300289, 1672953.3940929675 5104781.908011828, 1672952.7450875351 5104783.56104566, 1672952.5180853799 5104784.077056321, 1672952.3610837169 5104784.392062904, 1672952.1680815204 5104784.742070298, 1672951.9540789402 5104785.09507783, 1672951.2510699283 5104786.124100119, 1672951.0390672954 5104786.455107232, 1672950.8960656046 5104786.699112421, 1672950.7630641186 5104786.947117642, 1672950.618062641 5104787.252123988, 1672950.5280618495 5104787.472128506, 1672950.4470612362 5104787.694133026, 1672950.3710608396 5104787.946138085, 1672950.3020607808 5104788.248144062, 1672950.2480610372 5104788.558150131, 1672950.2070615178 5104788.8631560495, 1672950.0920634759 5104789.867175452, 1672950.0230637083 5104790.2401827695, 1672949.925063329 5104790.597189903, 1672949.8250625099 5104790.856195197, 1672949.662060763 5104791.178201936, 1672949.5780597394 5104791.3142048465, 1672949.042052866 5104792.09822183, 1672948.4790463427 5104793.091242865, 1672947.3650327246 5104794.883281229, 1672947.1460301983 5104795.2722894605, 1672947.0510293005 5104795.489293944, 1672946.97902884 5104795.70729835, 1672946.9410288718 5104795.889301937, 1672946.9130296137 5104796.1983078765, 1672946.900031094 5104796.618315849, 1672946.8650324435 5104797.107325212, 1672946.8300327822 5104797.350329938, 1672946.7780328093 5104797.595334771, 1672946.7310326265 5104797.766338187, 1672946.6490320638 5104798.005343031, 1672946.5510311879 5104798.241347885, 1672946.4690303542 5104798.414351481, 1672946.2540279357 5104798.811359848, 1672945.8190227097 5104799.533375252, 1672945.6080202644 5104799.90538313, 1672945.3880180065 5104800.364392689, 1672945.19301631 5104800.845402559, 1672945.0360151362 5104801.279411388, 1672944.9220144842 5104801.643418717, 1672944.835014386 5104802.018426144, 1672944.7870148334 5104802.347432544, 1672944.7550163257 5104802.857442292, 1672944.765019089 5104803.484454073, 1672944.8110239021 5104804.445472003, 1672944.8150255834 5104804.836479358, 1672944.8020266732 5104805.161485538, 1672944.7780274656 5104805.4644913515, 1672944.7370280735 5104805.800497853, 1672944.5730289568 5104806.767516759, 1672944.5340293604 5104807.044522142, 1672944.5010301888 5104807.397528935, 1672944.4850313491 5104807.75353571, 1672944.4870334736 5104808.261545281, 1672944.5520401967 5104809.600570259, 1672944.556041459 5104809.889575692, 1672944.5470426653 5104810.224582046, 1672944.5250434505 5104810.516587641, 1672944.4830440641 5104810.858594262, 1672944.4420442819 5104811.099598973, 1672944.2840441158 5104811.783612518, 1672944.0700432814 5104812.561628068, 1672943.9750427862 5104812.876634396, 1672943.8270418062 5104813.3166433005, 1672943.646040246 5104813.766652526, 1672942.2100528788 5104823.426840558, 1672942.1810540948 5104823.855848765, 1672941.4780678197 5104830.420975428, 1672941.5360705096 5104830.809982525, 1672941.5200717319 5104831.180989587, 1672941.465072109 5104831.524996297, 1672941.3700720042 5104831.935004418, 1672941.154071325 5104832.76002086, 1672940.7870709072 5104834.341052175, 1672940.7210712577 5104834.72905976, 1672940.69807186 5104834.98106461, 1672940.6940735832 5104835.419072883, 1672940.716075891 5104835.880081483, 1672940.7680794743 5104836.514093224, 1672940.8960874411 5104837.867118206, 1672940.937090665 5104838.464129293, 1672940.9600942158 5104839.223143511, 1672940.9460965353 5104839.8521554265, 1672940.9190976946 5104840.258163192, 1672940.856098841 5104840.826174161, 1672940.7800993274 5104841.293183278, 1672939.1240780992 5104843.717235782, 1672938.2390667652 5104845.015263892, 1672938.2040683317 5104845.557274255, 1672937.7970870105 5104851.971396855, 1672937.447083615 5104852.749412964, 1672935.8200678362 5104856.36748786, 1672937.612117229 5104860.177552333, 1672940.918181542 5104860.678548197, 1672941.196185964 5104860.48054332, 1672941.336188354 5104860.420541614, 1672941.4681907126 5104860.389540488, 1672941.589192954 5104860.380539818, 1672941.7021951105 5104860.387539488, 1672941.880198598 5104860.420539378, 1672942.064202285 5104860.474539641, 1672943.1362241306 5104860.878542855, 1672944.080243065 5104861.160544291, 1672944.3702489124 5104861.254544872, 1672944.8702591495 5104861.454546589, 1672945.2812677473 5104861.663548842, 1672945.4952723065 5104861.792550395, 1672945.7962788418 5104862.003553135, 1672946.0172837425 5104862.1835556235, 1672946.2282884922 5104862.372558318, 1672946.7813011603 5104862.921566397, 1672946.9623053654 5104863.115569312, 1672947.1323093842 5104863.314572368, 1672947.3453146152 5104863.611577092, 1672947.5133191214 5104863.938582566, 1672947.6063220352 5104864.221587518, 1672947.6443235022 5104864.404590814, 1672947.6673246708 5104864.583594094, 1672947.6723254751 5104864.7565973345, 1672947.649327063 5104865.248606706, 1672947.6643286473 5104865.56561262, 1672947.7083302725 5104865.759616097, 1672947.7773322705 5104865.92961902, 1672947.8503341742 5104866.05862115, 1672947.9573368097 5104866.209623557, 1672948.0803397214 5104866.354625787, 1672948.2193429137 5104866.494627858, 1672948.3713463226 5104866.627629738, 1672948.50734929 5104866.726631044, 1672948.6153516113 5104866.796631922, 1672948.8433564182 5104866.921633342, 1672949.097361661 5104867.033634411, 1672949.4303684125 5104867.150635249, 1672949.8633770347 5104867.26463562, 1672950.8463963831 5104867.468635427, 1672951.1994033917 5104867.556635635, 1672951.6034115131 5104867.681636331, 1672952.0294201432 5104867.829637373, 1672952.2774252072 5104867.925638166, 1672953.4764499702 5104868.457643268, 1672953.9964605677 5104868.653644828, 1672954.4454696388 5104868.80364581, 1672955.7884966577 5104869.224648231, 1672957.057522275 5104869.643650919, 1672957.371528578 5104869.738651417, 1672957.9105392701 5104869.870651693, 1672958.2975468494 5104869.941651442, 1672958.5735522152 5104869.98265108, 1672959.1295629232 5104870.040649889, 1672959.4175683958 5104870.052648932, 1672959.739574447 5104870.049647554, 1672960.2935846988 5104870.005644446, 1672960.82659444 5104869.933640901, 1672961.3376036766 5104869.839637029, 1672961.7246105822 5104869.746633685, 1672962.0736167233 5104869.641630271, 1672962.2356195436 5104869.585628549, 1672962.4976240422 5104869.479625476, 1672962.7046275293 5104869.379622739, 1672962.900630744 5104869.263619747, 1672963.164634861 5104869.05561474, 1672963.448639059 5104868.775608294, 1672963.613641435 5104868.597604261, 1672963.862644941 5104868.309597809, 1672964.5096537939 5104867.498579861, 1672964.7506571368 5104867.207573381, 1672965.6746702204 5104866.15654977, 1672965.8376724888 5104865.961545424, 1672966.488681335 5104865.130527083, 1672966.8596864687 5104864.679517056, 1672967.9317015298 5104863.431489121, 1672968.3147069681 5104862.999479404, 1672968.6097113034 5104862.702472591, 1672968.8467149613 5104862.506467922, 1672969.100719079 5104862.344463823, 1672969.33972314 5104862.237460826, 1672969.4847256858 5104862.19245938, 1672969.7387302592 5104862.141457377, 1672970.8147501065 5104862.040451051, 1672971.2557580662 5104861.956447656, 1672971.6077642387 5104861.845444118, 1672972.5277800767 5104861.483433512, 1672972.8607859118 5104861.377430145, 1672973.8098027557 5104861.127421534, 1672974.1958095275 5104861.006417665, 1672974.540815412 5104860.85741344, 1672975.3028279664 5104860.420402067, 1672975.5488321227 5104860.304398872, 1672975.8328371379 5104860.223396178, 1672976.091841925 5104860.201394698, 1672976.2838456223 5104860.221394287, 1672976.4458488454 5104860.263394414, 1672976.5778515406 5104860.3143948335, 1672976.896858246 5104860.48439673, 1672977.5488722285 5104860.899401872, 1672977.8948795572 5104861.097404185, 1672978.2048860479 5104861.256405907, 1672978.567893532 5104861.414407396, 1672978.8818998884 5104861.522408144, 1672979.1289048025 5104861.586408335, 1672979.3719095308 5104861.623408035, 1672979.6259143385 5104861.629407103, 1672980.4959304258 5104861.557402172, 1672981.397947222 5104861.511397597, 1672982.5259678722 5104861.367390249, 1672982.6949710173 5104861.358389385, 1672982.8429738416 5104861.367388947, 1672982.9589761533 5104861.398389055, 1672983.055978222 5104861.457389769, 1672983.1029792964 5104861.503390444, 1672983.1829812957 5104861.623392377, 1672983.2389829452 5104861.768394881, 1672983.2759844062 5104861.954398235, 1672983.3209868963 5104862.354405591, 1672983.351988121 5104862.510408404, 1672983.4029897302 5104862.668411175, 1672983.473991679 5104862.817413693, 1672983.5649939922 5104862.963416072, 1672983.763998746 5104863.208419873, 1672984.455014522 5104863.8814297225, 1672984.7290209506 5104864.190434422, 1672984.965026615 5104864.487439051, 1672985.1940322004 5104864.797443956, 1672985.871048826 5104865.741458974, 1672986.068053817 5104866.053464048, 1672986.2170578798 5104866.359469203, 1672986.3280612386 5104866.6684745755, 1672986.3940635577 5104866.930479243, 1672986.4380654376 5104867.186483889, 1672986.4680670993 5104867.453488799, 1672986.48706857 5104867.72449383, 1672986.541075998 5104869.285523041, 1672986.6830865822 5104871.211558769, 1672986.7070896875 5104871.857570851, 1672986.7060912824 5104872.250578263, 1672986.690093466 5104872.855589736, 1672986.6070989715 5104874.576622525, 1672986.6111005335 5104874.938629333, 1672986.6391025232 5104875.29463593, 1672986.6951049985 5104875.640642224, 1672986.7381065558 5104875.822645478, 1672986.8811111134 5104876.276653453, 1672987.10411799 5104876.928664829, 1672987.1881207796 5104877.222670026, 1672987.266123809 5104877.60267687, 1672987.2861250439 5104877.811680729, 1672989.3721735007 5104880.045714279, 1672991.7072277428 5104882.546751837, 1672991.6862281398 5104882.739755563, 1672991.7132293917 5104882.920758867, 1672991.7882313258 5104883.047760952, 1672991.894233568 5104883.10776165, 1672992.031236255 5104883.133761576, 1672992.3702427985 5104883.172760918, 1672992.6042474515 5104883.232761089, 1672992.8032516504 5104883.342762345, 1672992.9252545517 5104883.489764613, 1672992.991256505 5104883.662767606, 1672992.9972572913 5104883.8267706735, 1672992.9392569098 5104883.999774173, 1672992.7112542142 5104884.3887824435, 1672992.6042530164 5104884.587786635, 1672992.5052521871 5104884.8397917915, 1672992.451252226 5104885.09679686, 1672992.4352528695 5104885.326801262, 1672992.4412538363 5104885.534805159, 1672992.4632551214 5104885.746809066, 1672992.5062569375 5104885.99181351, 1672992.5672590714 5104886.231817782, 1672992.691262906 5104886.596824153, 1672992.7822655435 5104886.8218280235, 1672992.9662705609 5104887.199834393, 1672993.0232720613 5104887.303836118, 1672993.2262771737 5104887.617841207, 1672993.3552802603 5104887.777843694, 1672993.5042837025 5104887.932846004, 1672993.6672873306 5104888.068847897, 1672993.4313108143 5104894.868977076, 1672993.2553089827 5104895.229984605, 1672993.1453079628 5104895.485989883, 1672993.00630698 5104895.883997957, 1672992.9133067278 5104896.249005223, 1672992.865306863 5104896.502010187, 1672992.8223073962 5104896.829016531, 1672992.80130811 5104897.099021708, 1672992.7973099854 5104897.574030681, 1672992.810311138 5104897.795034796, 1672992.8493132151 5104898.122040797, 1672992.894315155 5104898.38804563, 1672992.9873186518 5104898.813053259, 1672993.1673248014 5104899.485065189, 1672993.5273365006 5104900.683086296, 1672993.785344423 5104901.429099304, 1672994.1103541448 5104902.306114502, 1672994.2343582008 5104902.725121894, 1672994.3203614382 5104903.1191289695, 1672994.4763686268 5104904.15414784, 1672994.7343793174 5104905.574173554, 1672994.7933815618 5104905.850178517, 1672994.8903849903 5104906.2401854675, 1672995.0703908685 5104906.846196156, 1672995.1803942625 5104907.168201776, 1672995.3063979987 5104907.500207517, 1672995.60040634 5104908.183219185, 1672996.3914282382 5104909.888248083, 1672996.588433582 5104910.286254775, 1672996.8484404786 5104910.77326289, 1672997.3544535595 5104911.638277119, 1672997.7094629554 5104912.298288107, 1672997.8274659659 5104912.49029124, 1672997.9054678539 5104912.5922928415, 1672998.049471202 5104912.747295173, 1672998.3734786217 5104913.068299896, 1672998.6134842704 5104913.343304095, 1672998.739487329 5104913.510306724, 1672998.8414898696 5104913.661309152, 1672998.931492197 5104913.815311685, 1672998.9984940381 5104913.956314069, 1672999.0454954405 5104914.082316253, 1672999.0884969316 5104914.248319205, 1672999.1174982418 5104914.434322593, 1672999.458510068 5104915.750346007, 1673000.7145536516 5104920.603432343, 1673000.6125524328 5104920.774435987, 1673000.5265516269 5104920.9724400705, 1673000.4655514183 5104921.20144464, 1673000.4345517755 5104921.430449087, 1673000.4265525981 5104921.667453585, 1673000.4315532546 5104921.804456148, 1673000.4755558167 5104922.226463926, 1673000.5165576686 5104922.489468711, 1673000.6205620875 5104923.088479581, 1673000.7095654146 5104923.490486791, 1673000.780567782 5104923.741491233, 1673000.9405725654 5104924.172498704, 1673001.0805764461 5104924.4755038405, 1673001.197579549 5104924.694507488, 1673001.301582234 5104924.871510398, 1673001.554588522 5104925.242516352, 1673001.7085922188 5104925.43651938, 1673001.9255973115 5104925.681523108, 1673002.718615571 5104926.4915351225, 1673002.9466209363 5104926.752539106, 1673003.1776264692 5104927.040543587, 1673003.597636715 5104927.609552587, 1673003.9956465345 5104928.1755616255, 1673004.3716559638 5104928.747570865, 1673004.800666938 5104929.452582393, 1673004.9636710302 5104929.70158642, 1673005.2246773662 5104930.047591869, 1673005.4276821376 5104930.278595392, 1673005.6826879578 5104930.52659902, 1673006.007695154 5104930.788602624, 1673006.2757009892 5104930.980605144, 1673006.8827141158 5104931.3936104365, 1673007.215721368 5104931.632613573, 1673007.459726776 5104931.830616306, 1673007.711732462 5104932.059619589, 1673007.9357376208 5104932.288622985, 1673008.1567428252 5104932.542626864, 1673008.3537475825 5104932.797630864, 1673008.4927510254 5104932.998634082, 1673008.723756895 5104933.368640108, 1673008.9827635707 5104933.806647302, 1673009.1957689826 5104934.147652858, 1673009.4557753117 5104934.496658367, 1673009.6767804758 5104934.740662062, 1673009.9457865679 5104934.99066567, 1673010.1757916755 5104935.179668289, 1673010.4897985614 5104935.416671465, 1673010.7328038318 5104935.585673656, 1673011.0768112338 5104935.810676483, 1673011.4958201423 5104936.058679438, 1673012.3458379435 5104936.495684183, 1673012.7378461917 5104936.706686553, 1673013.4568614233 5104937.118691367, 1673014.481882988 5104937.669697545, 1673014.8738910803 5104937.842699196, 1673015.1438965301 5104937.931699764, 1673025.8791157738 5104942.093734129, 1673034.1342816548 5104944.633748107, 1673037.4813412074 5104943.787718403, 1673038.034351083 5104943.656713663, 1673046.6225046462 5104941.670640937, 1673051.0675779176 5104939.130574786, 1673055.7246543106 5104936.378503769, 1673059.6616916733 5104927.424318776, 1673059.9986961344 5104926.965308737, 1673060.1996986135 5104926.647301914, 1673060.3817006156 5104926.300294625, 1673060.4837015304 5104926.055289587, 1673060.5737020297 5104925.764283732, 1673060.6277017076 5104925.438277362, 1673060.6337012374 5104925.296274658, 1673060.6016992754 5104924.96526855, 1673064.5997346493 5104915.247068903, 1673064.9537375823 5104914.338050309, 1673067.2447565661 5104908.455929998, 1673067.4997587516 5104907.818916941, 1673068.0977633721 5104906.201883998, 1673068.2317641785 5104905.783875567, 1673068.348764398 5104905.300865978, 1673068.4247641368 5104904.888857899, 1673068.4987634728 5104904.38784815, 1673068.5837619686 5104903.631833546, 1673068.6207605873 5104903.125823854, 1673068.6437588602 5104902.599813844, 1673068.660755759 5104901.766798068, 1673068.7027514777 5104900.53177461, 1673068.706750485 5104900.271769693, 1673068.6997486735 5104899.862762008, 1673068.6737465821 5104899.472754764, 1673068.6027426578 5104898.842743176, 1673068.4047329042 5104897.375716332, 1673068.3317296854 5104896.926708166, 1673068.2497266012 5104896.551701433, 1673068.1837243482 5104896.305697066, 1673067.9207160277 5104895.485682685, 1673067.8497136394 5104895.22967815, 1673067.7687104875 5104894.833671017, 1673067.7207076533 5104894.363662353, 1673067.6457012594 5104893.150639791, 1673067.5866977703 5104892.571629119, 1673067.5166944275 5104892.078620111, 1673067.4536918039 5104891.72861377, 1673067.3226869383 5104891.144603298, 1673067.2156832642 5104890.740596118, 1673067.125680337 5104890.440590834, 1673067.0266772571 5104890.144585659, 1673066.8496721005 5104889.700578015, 1673066.740669079 5104889.464574015, 1673066.4646617007 5104888.933565136, 1673066.3216579931 5104888.686561066, 1673065.7356430897 5104887.744545714, 1673065.2626308065 5104886.92253216, 1673065.0416251582 5104886.560526241, 1673064.8776210472 5104886.311522222, 1673064.6246148208 5104885.955516548, 1673063.860596405 5104884.974501192, 1673063.6815920365 5104884.731497346, 1673063.4245856071 5104884.3444911055, 1673063.2685815895 5104884.081486788, 1673063.1085773443 5104883.781481787, 1673062.6895658898 5104882.913467145, 1673062.2665544248 5104882.061452819, 1673062.1345507645 5104881.77544797, 1673061.77054039 5104880.918433307, 1673061.5845353026 5104880.532426793, 1673061.411530792 5104880.227421752, 1673061.280527479 5104880.021418407, 1673061.1305237715 5104879.806414972, 1673060.5575098067 5104879.03340275, 1673060.4415069325 5104878.865400059, 1673059.851491994 5104877.93338491, 1673059.5984857471 5104877.572379146, 1673059.017471788 5104876.837367673, 1673058.5974617805 5104876.326359766, 1673058.262453981 5104875.963354297, 1673057.9384466517 5104875.664349991, 1673057.422435095 5104875.216343663, 1673057.1814296122 5104874.986340319, 1673056.7204189599 5104874.506333162, 1673056.4344122598 5104874.186328304, 1673056.2794085648 5104873.997325376, 1673056.1394051276 5104873.802322273, 1673056.0184020111 5104873.598318927, 1673055.9363997441 5104873.422315943, 1673055.815395991 5104873.063309672, 1673055.7573938887 5104872.817305272, 1673055.7173922155 5104872.593301214, 1673055.6823902011 5104872.263295135, 1673055.689388871 5104871.907288397, 1673055.751388605 5104871.558281561, 1673055.8553892327 5104871.234275025, 1673056.3103932464 5104870.125252245, 1673056.3923938454 5104869.895247573, 1673056.5813949406 5104869.295235486, 1673056.6793957755 5104869.049230443, 1673056.7993970904 5104868.819225615, 1673057.0023997717 5104868.541219539, 1673057.1244015598 5104868.417216701, 1673057.6664098937 5104867.9612058755, 1673057.7824116137 5104867.848203269, 1673057.8834130103 5104867.725200535, 1673057.960413918 5104867.59319773, 1673058.02441445 5104867.429194375, 1673058.0654143183 5104867.2091900585, 1673058.0684134138 5104866.9751856355, 1673058.0574127715 5104866.86918368, 1673058.0274115286 5104866.704180691, 1673057.9404086336 5104866.3981752815, 1673057.7094013677 5104865.688162843, 1673057.4063908197 5104864.5091418605, 1673057.2143843868 5104863.823129717, 1673057.024378435 5104863.245119596, 1673056.5683647268 5104861.998097961, 1673056.4473609326 5104861.629091502, 1673056.3233567125 5104861.170083356, 1673056.2543541112 5104860.853077662, 1673056.1013475666 5104859.961061472, 1673055.994343568 5104859.478052804, 1673055.9093407313 5104859.177047481, 1673055.8233380315 5104858.914042878, 1673055.67133351 5104858.510035883, 1673054.771307547 5104856.3149981955, 1673054.5973026524 5104855.920991481, 1673054.4822995053 5104855.6819874495, 1673054.2742939661 5104855.286980855, 1673054.0632884775 5104854.917974767, 1673053.7772811777 5104854.451967153, 1673053.2102668697 5104853.567952817, 1673053.0432625795 5104853.288948243, 1673052.8902585441 5104853.0079435725, 1673052.7472546396 5104852.712938599, 1673052.601250416 5104852.353932429, 1673052.4382453547 5104851.868923955, 1673052.0222314917 5104850.400897985, 1673051.8572263394 5104849.902889275, 1673051.6852212688 5104849.456881574, 1673051.5692179755 5104849.18687696, 1673050.780195914 5104847.432847131, 1673050.5241888715 5104846.891837982, 1673050.3291836309 5104846.509831582, 1673050.135178499 5104846.1498255925, 1673049.4991619927 5104845.046807407, 1673049.4001593476 5104844.856804233, 1673049.1351519506 5104844.270794273, 1673049.0201488817 5104844.050790597, 1673048.8611449266 5104843.816786841, 1673048.4471351097 5104843.324779263, 1673048.179128675 5104842.986773994, 1673047.7961193067 5104842.461765668, 1673047.6021144583 5104842.170760978, 1673047.4591107839 5104841.931757059, 1673047.3331074254 5104841.691753051, 1673047.1961035887 5104841.385747844, 1673046.9780973352 5104840.8627388785, 1673046.8640941703 5104840.614734672, 1673046.738090796 5104840.370730588, 1673046.5270853848 5104840.020724859, 1673046.3610813017 5104839.787721147, 1673046.1960773487 5104839.581717939, 1673045.9240709862 5104839.279713363, 1673045.6150639027 5104838.971708827, 1673045.4350598354 5104838.806706455, 1673044.289034296 5104837.84269299, 1673043.8110237014 5104837.454687636, 1673043.5430178535 5104837.259685062, 1673043.267011909 5104837.077682764, 1673042.9500051674 5104836.889680523, 1673041.882982787 5104836.332674404, 1673041.6219772194 5104836.17367248, 1673041.293969983 5104835.915668962, 1673041.1329662614 5104835.747666457, 1673040.990962831 5104835.563663569, 1673040.904960678 5104835.433661471, 1673040.7569567782 5104835.162656972, 1673040.6319532497 5104834.876652091, 1673040.2689422579 5104833.864634505, 1673040.127938247 5104833.53462886, 1673039.9439334022 5104833.19862328, 1673039.7449284887 5104832.914618745, 1673039.3109179833 5104832.346609818, 1673039.1799147113 5104832.150606662, 1673039.0369109958 5104831.901602553, 1673038.9179076748 5104831.638598084, 1673038.8159044643 5104831.324592583, 1673038.739901752 5104831.012587013, 1673038.5008924995 5104829.85556618, 1673038.3818882299 5104829.361557355, 1673038.2388836313 5104828.897549193, 1673038.0708787958 5104828.490542212, 1673037.9138746448 5104828.199537369, 1673037.6868690266 5104827.872532139, 1673037.5048646957 5104827.652528737, 1673037.304860018 5104827.430525374, 1673037.0478540778 5104827.162521375, 1673035.822826028 5104825.949503538, 1673035.2538131527 5104825.423495958, 1673034.4667955567 5104824.747486447, 1673034.1887892003 5104824.474482445, 1673034.0097850207 5104824.277479463, 1673033.8307807585 5104824.0604761075, 1673033.6137754563 5104823.764471416, 1673033.151763779 5104823.039459649, 1673032.7427535474 5104822.423449713, 1673032.6087500833 5104822.194445945, 1673032.4347453527 5104821.8404399855, 1673032.2997414386 5104821.506434244, 1673032.2177389541 5104821.277430262, 1673032.0587339352 5104820.784421621, 1673031.824726387 5104820.019408159, 1673031.3027088158 5104818.134374765, 1673031.2267063495 5104817.882370326, 1673031.1137029852 5104817.581365115, 1673031.003700101 5104817.383361834, 1673030.962699103 5104817.328360965, 1673030.8716969946 5104817.232359529, 1673030.787695142 5104817.166358629, 1673030.649692219 5104817.087357708, 1673030.4976891223 5104817.030357256, 1673030.2616845057 5104816.988357434, 1673030.0526805576 5104816.985358235, 1673029.8156762018 5104817.011359701, 1673029.511670736 5104817.074362137, 1673028.764657478 5104817.271368921, 1673028.5426534496 5104817.30837053, 1673028.3636501199 5104817.318371453, 1673028.2666482811 5104817.3153717965, 1673028.0846447635 5104817.29337213, 1673027.736637812 5104817.196371729, 1673027.4776324786 5104817.085370699, 1673027.2136269037 5104816.938369013, 1673026.9656215315 5104816.767366809, 1673026.7356163827 5104816.568364002, 1673026.5466120022 5104816.3683610065, 1673025.9855986577 5104815.691350549, 1673025.7775937635 5104815.453346915, 1673025.3955849109 5104815.049340868, 1673025.092578018 5104814.760336665, 1673024.8625728572 5104814.558333801, 1673024.5975669755 5104814.3413307965, 1673024.3565616943 5104814.160328374, 1673023.808549847 5104813.788323612, 1673023.6575465105 5104813.66832197, 1673023.5175433364 5104813.537320076, 1673023.3615396963 5104813.366317495, 1673023.2185362768 5104813.189314742, 1673022.6745229275 5104812.433302726, 1673022.3045139476 5104811.943295006, 1673022.0315074513 5104811.613289906, 1673021.4444936463 5104810.943279685, 1673020.9854830024 5104810.45627239, 1673020.679476008 5104810.1562679885, 1673020.4504708746 5104809.956265159, 1673019.9244593757 5104809.568260007, 1673019.825457146 5104809.479258735, 1673019.6964540759 5104809.323256321, 1673019.3354449205 5104808.749246985, 1673019.1294399283 5104808.4782427205, 1673018.8604335813 5104808.166237945, 1673018.5614266612 5104807.852233252, 1673018.2994206885 5104807.599229561, 1673017.9494128288 5104807.290225171, 1673017.579404654 5104806.996221149, 1673017.2583977012 5104806.7752183, 1673016.8743895788 5104806.558215788, 1673016.5803835047 5104806.427214523, 1673016.2713772587 5104806.3232138315, 1673015.9083700865 5104806.241213778, 1673015.5413629618 5104806.189214305, 1673014.5313435358 5104806.090216586, 1673014.3303396234 5104806.059216829, 1673014.1383358396 5104806.018216843, 1673013.9483320238 5104805.960216531, 1673013.7813285748 5104805.886215824, 1673013.524322992 5104805.705213465, 1673013.352318956 5104805.511210514, 1673013.2053152104 5104805.273206632, 1673013.1233129888 5104805.108203857, 1673012.897306614 5104804.592195058, 1673012.7433023916 5104804.270189621, 1673012.6523000125 5104804.108186938, 1673012.536297101 5104803.931184076, 1673012.4082939844 5104803.7591813635, 1673012.1732884296 5104803.484177141, 1673011.6822771055 5104802.978169616, 1673011.403270603 5104802.674165035, 1673011.0182614145 5104802.202157715, 1673010.3002441481 5104801.290143473, 1673009.4672243635 5104800.292128078, 1673009.2122183577 5104799.999123599, 1673008.9812129894 5104799.751119874, 1673008.521202467 5104799.298113222, 1673007.5211799268 5104798.395100305, 1673007.2151728587 5104798.077095568, 1673007.0301684593 5104797.854092124, 1673006.8621643302 5104797.619088383, 1673006.6341583938 5104797.219081777, 1673006.469153829 5104796.864075763, 1673006.2891486487 5104796.428068281, 1673005.601128588 5104794.698038491, 1673005.474124915 5104794.386033129, 1673005.338121097 5104794.080027918, 1673005.2351183156 5104793.875024473, 1673005.0781142544 5104793.606020051, 1673004.8621089342 5104793.301015186, 1673004.664104257 5104793.070011646, 1673004.4080984013 5104792.818007945, 1673004.050090436 5104792.520003798, 1673003.6850824743 5104792.255000303, 1673002.6380599327 5104791.566991631, 1673002.2610517694 5104791.307988296, 1673001.8310423412 5104790.983983954, 1673001.500034983 5104790.709980149, 1673001.2480293012 5104790.4819768835, 1673000.862020451 5104790.096971212, 1673000.228005617 5104789.391960526, 1672999.3999860615 5104788.426945733, 1672999.2009814477 5104788.215942572, 1672999.0529780732 5104788.072940483, 1672998.8419733322 5104787.885937825, 1672998.621968483 5104787.713935486, 1672998.4169640471 5104787.57393369, 1672998.2049595336 5104787.446932165, 1672998.0659566163 5104787.3739313595, 1672997.8289517057 5104787.264930279, 1672997.5889468042 5104787.171929511, 1672997.4069431305 5104787.111929126, 1672996.7109292278 5104786.917928329, 1672996.4799245654 5104786.841927844, 1672996.2639201405 5104786.754927092, 1672995.9849142872 5104786.608925485, 1672995.7259086787 5104786.430923193, 1672995.447902376 5104786.170919434, 1672995.2228970507 5104785.905915362, 1672994.961890678 5104785.550909739, 1672994.6538829843 5104785.089902314, 1672994.4648781728 5104784.7848973395, 1672994.2838734786 5104784.471892182, 1672994.1298694042 5104784.185887423, 1672993.9518645578 5104783.821881294, 1672993.4518506364 5104782.724862665, 1672993.1388422288 5104782.112852409, 1672992.4518240187 5104780.828831024, 1672992.2118178809 5104780.434824582, 1672992.039813648 5104780.192820727, 1672991.8088081728 5104779.918816508, 1672991.6168037811 5104779.729813734, 1672991.2927965913 5104779.464810069, 1672990.5847811725 5104778.9568034, 1672990.3547760407 5104778.76180067, 1672990.1627716774 5104778.579798026, 1672989.890765373 5104778.291793712, 1672989.5077562877 5104777.835786686, 1672988.8187395963 5104776.930772457, 1672988.5877340839 5104776.64776807, 1672988.3967296123 5104776.434764839, 1672988.1957249937 5104776.231761836, 1672987.9257189233 5104775.991758422, 1672987.201702912 5104775.412750481, 1672986.7286925882 5104775.067745917, 1672985.7946724535 5104774.447738066, 1672984.4866444257 5104773.620727849, 1672983.9346324543 5104773.236722874, 1672982.8466086676 5104772.433712206, 1672982.287596589 5104772.055707375, 1672981.5615811106 5104771.61570206, 1672979.1365298352 5104770.249686271, 1672979.4145356452 5104770.389687768, 1672976.5864627305 5104765.602609132, 1672976.482459889 5104765.387605505, 1672976.2794544895 5104765.003599098, 1672975.9544460734 5104764.444589894, 1672975.324430144 5104763.454573817, 1672974.8464182145 5104762.741562339, 1672974.52041033 5104762.316555664, 1672973.6223891117 5104761.267539578, 1672973.3433824694 5104760.929534351, 1672973.064375758 5104760.574528801, 1672972.7713686014 5104760.175522483, 1672967.9392657487 5104757.287487884, 1672962.826181787 5104760.287565452, 1672960.9761605603 5104763.601635538, 1672959.8061545866 5104767.51171406))\"\n        ],\n        \"semantic_type\": \"\",\n        \"description\": \"\"\n      }\n    }\n  ]\n}"
            }
          },
          "metadata": {},
          "execution_count": 133
        }
      ],
      "source": [
        "lakes_bodies_water.head(3)"
      ]
    },
    {
      "cell_type": "code",
      "execution_count": 134,
      "metadata": {
        "colab": {
          "base_uri": "https://localhost:8080/"
        },
        "id": "aNWVouzySCtY",
        "outputId": "432d5d28-932f-43f5-81f9-e87bcf5506dc"
      },
      "outputs": [
        {
          "output_type": "execute_result",
          "data": {
            "text/plain": [
              "Index(['OBJECTID', 'NOMESPACQ', 'geometry'], dtype='object')"
            ]
          },
          "metadata": {},
          "execution_count": 134
        }
      ],
      "source": [
        "lakes_bodies_water.columns"
      ]
    },
    {
      "cell_type": "markdown",
      "metadata": {
        "id": "4GlpGMitSH3f"
      },
      "source": [
        "convert in WGS84 and create a geojson"
      ]
    },
    {
      "cell_type": "code",
      "execution_count": 135,
      "metadata": {
        "id": "ObR6w1LxT_Wp",
        "colab": {
          "base_uri": "https://localhost:8080/",
          "height": 295
        },
        "outputId": "7d5426df-4004-4a9e-a430-0aaf73c5cf88"
      },
      "outputs": [
        {
          "output_type": "error",
          "ename": "ValueError",
          "evalue": "Cannot transform naive geometries.  Please set a crs on the object first.",
          "traceback": [
            "\u001b[0;31m---------------------------------------------------------------------------\u001b[0m",
            "\u001b[0;31mValueError\u001b[0m                                Traceback (most recent call last)",
            "\u001b[0;32m/tmp/ipython-input-3818377518.py\u001b[0m in \u001b[0;36m<cell line: 0>\u001b[0;34m()\u001b[0m\n\u001b[0;32m----> 1\u001b[0;31m \u001b[0mlakes_bodies_water\u001b[0m\u001b[0;34m.\u001b[0m\u001b[0mto_crs\u001b[0m\u001b[0;34m(\u001b[0m\u001b[0mepsg\u001b[0m\u001b[0;34m=\u001b[0m\u001b[0;36m4326\u001b[0m\u001b[0;34m)\u001b[0m\u001b[0;34m.\u001b[0m\u001b[0mto_file\u001b[0m\u001b[0;34m(\u001b[0m\u001b[0;34m\"lakes_bodies_water_trentino.geojson\"\u001b[0m\u001b[0;34m,\u001b[0m\u001b[0mdriver\u001b[0m\u001b[0;34m=\u001b[0m\u001b[0;34m'GeoJSON'\u001b[0m\u001b[0;34m)\u001b[0m\u001b[0;34m\u001b[0m\u001b[0;34m\u001b[0m\u001b[0m\n\u001b[0m",
            "\u001b[0;32m/usr/local/lib/python3.12/dist-packages/geopandas/geodataframe.py\u001b[0m in \u001b[0;36mto_crs\u001b[0;34m(self, crs, epsg, inplace)\u001b[0m\n\u001b[1;32m   1859\u001b[0m         \u001b[0;32melse\u001b[0m\u001b[0;34m:\u001b[0m\u001b[0;34m\u001b[0m\u001b[0;34m\u001b[0m\u001b[0m\n\u001b[1;32m   1860\u001b[0m             \u001b[0mdf\u001b[0m \u001b[0;34m=\u001b[0m \u001b[0mself\u001b[0m\u001b[0;34m.\u001b[0m\u001b[0mcopy\u001b[0m\u001b[0;34m(\u001b[0m\u001b[0;34m)\u001b[0m\u001b[0;34m\u001b[0m\u001b[0;34m\u001b[0m\u001b[0m\n\u001b[0;32m-> 1861\u001b[0;31m         \u001b[0mgeom\u001b[0m \u001b[0;34m=\u001b[0m \u001b[0mdf\u001b[0m\u001b[0;34m.\u001b[0m\u001b[0mgeometry\u001b[0m\u001b[0;34m.\u001b[0m\u001b[0mto_crs\u001b[0m\u001b[0;34m(\u001b[0m\u001b[0mcrs\u001b[0m\u001b[0;34m=\u001b[0m\u001b[0mcrs\u001b[0m\u001b[0;34m,\u001b[0m \u001b[0mepsg\u001b[0m\u001b[0;34m=\u001b[0m\u001b[0mepsg\u001b[0m\u001b[0;34m)\u001b[0m\u001b[0;34m\u001b[0m\u001b[0;34m\u001b[0m\u001b[0m\n\u001b[0m\u001b[1;32m   1862\u001b[0m         \u001b[0mdf\u001b[0m\u001b[0;34m.\u001b[0m\u001b[0mgeometry\u001b[0m \u001b[0;34m=\u001b[0m \u001b[0mgeom\u001b[0m\u001b[0;34m\u001b[0m\u001b[0;34m\u001b[0m\u001b[0m\n\u001b[1;32m   1863\u001b[0m         \u001b[0;32mif\u001b[0m \u001b[0;32mnot\u001b[0m \u001b[0minplace\u001b[0m\u001b[0;34m:\u001b[0m\u001b[0;34m\u001b[0m\u001b[0;34m\u001b[0m\u001b[0m\n",
            "\u001b[0;32m/usr/local/lib/python3.12/dist-packages/geopandas/geoseries.py\u001b[0m in \u001b[0;36mto_crs\u001b[0;34m(self, crs, epsg)\u001b[0m\n\u001b[1;32m   1269\u001b[0m         \"\"\"\n\u001b[1;32m   1270\u001b[0m         return GeoSeries(\n\u001b[0;32m-> 1271\u001b[0;31m             \u001b[0mself\u001b[0m\u001b[0;34m.\u001b[0m\u001b[0mvalues\u001b[0m\u001b[0;34m.\u001b[0m\u001b[0mto_crs\u001b[0m\u001b[0;34m(\u001b[0m\u001b[0mcrs\u001b[0m\u001b[0;34m=\u001b[0m\u001b[0mcrs\u001b[0m\u001b[0;34m,\u001b[0m \u001b[0mepsg\u001b[0m\u001b[0;34m=\u001b[0m\u001b[0mepsg\u001b[0m\u001b[0;34m)\u001b[0m\u001b[0;34m,\u001b[0m \u001b[0mindex\u001b[0m\u001b[0;34m=\u001b[0m\u001b[0mself\u001b[0m\u001b[0;34m.\u001b[0m\u001b[0mindex\u001b[0m\u001b[0;34m,\u001b[0m \u001b[0mname\u001b[0m\u001b[0;34m=\u001b[0m\u001b[0mself\u001b[0m\u001b[0;34m.\u001b[0m\u001b[0mname\u001b[0m\u001b[0;34m\u001b[0m\u001b[0;34m\u001b[0m\u001b[0m\n\u001b[0m\u001b[1;32m   1272\u001b[0m         )\n\u001b[1;32m   1273\u001b[0m \u001b[0;34m\u001b[0m\u001b[0m\n",
            "\u001b[0;32m/usr/local/lib/python3.12/dist-packages/geopandas/_compat.py\u001b[0m in \u001b[0;36mwrapper\u001b[0;34m(*args, **kwargs)\u001b[0m\n\u001b[1;32m     82\u001b[0m                 \u001b[0;34mf\"\\nImporting pyproj resulted in: {pyproj_import_error}\"\u001b[0m\u001b[0;34m\u001b[0m\u001b[0;34m\u001b[0m\u001b[0m\n\u001b[1;32m     83\u001b[0m             )\n\u001b[0;32m---> 84\u001b[0;31m         \u001b[0;32mreturn\u001b[0m \u001b[0mfunc\u001b[0m\u001b[0;34m(\u001b[0m\u001b[0;34m*\u001b[0m\u001b[0margs\u001b[0m\u001b[0;34m,\u001b[0m \u001b[0;34m**\u001b[0m\u001b[0mkwargs\u001b[0m\u001b[0;34m)\u001b[0m\u001b[0;34m\u001b[0m\u001b[0;34m\u001b[0m\u001b[0m\n\u001b[0m\u001b[1;32m     85\u001b[0m \u001b[0;34m\u001b[0m\u001b[0m\n\u001b[1;32m     86\u001b[0m     \u001b[0;32mreturn\u001b[0m \u001b[0mwrapper\u001b[0m\u001b[0;34m\u001b[0m\u001b[0;34m\u001b[0m\u001b[0m\n",
            "\u001b[0;32m/usr/local/lib/python3.12/dist-packages/geopandas/array.py\u001b[0m in \u001b[0;36mto_crs\u001b[0;34m(self, crs, epsg)\u001b[0m\n\u001b[1;32m   1092\u001b[0m \u001b[0;34m\u001b[0m\u001b[0m\n\u001b[1;32m   1093\u001b[0m         \u001b[0;32mif\u001b[0m \u001b[0mself\u001b[0m\u001b[0;34m.\u001b[0m\u001b[0mcrs\u001b[0m \u001b[0;32mis\u001b[0m \u001b[0;32mNone\u001b[0m\u001b[0;34m:\u001b[0m\u001b[0;34m\u001b[0m\u001b[0;34m\u001b[0m\u001b[0m\n\u001b[0;32m-> 1094\u001b[0;31m             raise ValueError(\n\u001b[0m\u001b[1;32m   1095\u001b[0m                 \u001b[0;34m\"Cannot transform naive geometries.  \"\u001b[0m\u001b[0;34m\u001b[0m\u001b[0;34m\u001b[0m\u001b[0m\n\u001b[1;32m   1096\u001b[0m                 \u001b[0;34m\"Please set a crs on the object first.\"\u001b[0m\u001b[0;34m\u001b[0m\u001b[0;34m\u001b[0m\u001b[0m\n",
            "\u001b[0;31mValueError\u001b[0m: Cannot transform naive geometries.  Please set a crs on the object first."
          ]
        }
      ],
      "source": [
        "lakes_bodies_water.to_crs(epsg=4326).to_file(\"lakes_bodies_water_trentino.geojson\",driver='GeoJSON')"
      ]
    },
    {
      "cell_type": "markdown",
      "metadata": {
        "id": "fp0hZ5GnYmS7"
      },
      "source": [
        "```\n",
        "ValueError: Cannot transform naive geometries.  Please set a crs on the object first.\n",
        "```\n"
      ]
    },
    {
      "cell_type": "markdown",
      "metadata": {
        "id": "Pq5pyovIYmS7"
      },
      "source": [
        "investigation\n",
        "- download the file\n",
        "- read the content"
      ]
    },
    {
      "cell_type": "code",
      "execution_count": 136,
      "metadata": {
        "id": "HoRleGt_YmS7"
      },
      "outputs": [],
      "source": [
        "os.makedirs(\"lakes_bodies_of_water\", exist_ok=True)\n",
        "os.chdir(\"lakes_bodies_of_water\")"
      ]
    },
    {
      "cell_type": "code",
      "execution_count": 137,
      "metadata": {
        "colab": {
          "base_uri": "https://localhost:8080/"
        },
        "id": "QNYvC8IJSquN",
        "outputId": "e3332d9d-ef2a-4d81-f64f-01899471af54"
      },
      "outputs": [
        {
          "output_type": "execute_result",
          "data": {
            "text/plain": [
              "('lakes_bodies_water_trentino.zip',\n",
              " <http.client.HTTPMessage at 0x7de32aa18bc0>)"
            ]
          },
          "metadata": {},
          "execution_count": 137
        }
      ],
      "source": [
        "urllib.request.urlretrieve(dataurl ,\"lakes_bodies_water_trentino.zip\")\n"
      ]
    },
    {
      "cell_type": "code",
      "execution_count": 138,
      "metadata": {
        "id": "xrRNFV2USwUb"
      },
      "outputs": [],
      "source": [
        "import zipfile\n",
        "z = zipfile.ZipFile('lakes_bodies_water_trentino.zip')\n",
        "z.extractall()"
      ]
    },
    {
      "cell_type": "code",
      "execution_count": 139,
      "metadata": {
        "colab": {
          "base_uri": "https://localhost:8080/"
        },
        "id": "CiYcgvQhFzFj",
        "outputId": "9b6c21ce-d386-43e7-9c2f-dcc62e164688"
      },
      "outputs": [
        {
          "output_type": "execute_result",
          "data": {
            "text/plain": [
              "['lakes_bodies_water_trentino.zip',\n",
              " 'lakes_bodies_of_water_trentino.dbf',\n",
              " 'lakes_bodies_of_water_trentino.shx',\n",
              " 'lakes_bodies_of_water_trentino.shp']"
            ]
          },
          "metadata": {},
          "execution_count": 139
        }
      ],
      "source": [
        "os.listdir()"
      ]
    },
    {
      "cell_type": "markdown",
      "metadata": {
        "id": "BKqPewWDTtX7"
      },
      "source": [
        "| filenname | description  | note |\n",
        "|---|---|---|\n",
        "| lakes_bodies_of_water_trentino.shp | the file with the shapes (geometries) | ok |\n",
        "|  lakes_bodies_of_water_trentino.dbf | the file with the attributes  | the name is the same of the .shp |\n",
        "| lakes_bodies_of_water_trentino.zip  | the zip archive | it's present because downloaded |\n",
        "| lakes_bodies_of_water_trentino.shx  | the file to associate the attributes to the geometries | the name is the the of the .shp |"
      ]
    },
    {
      "cell_type": "markdown",
      "metadata": {
        "id": "pZIsjO6jXuKf"
      },
      "source": [
        "MISS THE .prj file!!!"
      ]
    },
    {
      "cell_type": "markdown",
      "metadata": {
        "id": "6tniYjPVZ5xD"
      },
      "source": [
        "ERROR:\n",
        "*Cannot transform naive geometries.  Please set a crs on the object first.*\n",
        "\n",
        "The geodataframe is without the CRS\n",
        "\n",
        "If you check again all the files contained in the zip archive *the .prj file is not present!!!*\n",
        "\n",
        "You need to create it!\n",
        "\n",
        "The note says \"*Monte Mario Zone 1*\"\n",
        "\n",
        "This is enough to search the right epsg code on https://epsg.io with the query [\"Monte Marzio Zone 1\"](https://epsg.io/?q=Monte+Mario+Zone+1)\n",
        "\n",
        "\n",
        "where the EPSG code is 3003\n",
        "\n",
        "\n",
        "the solution can be possible in two ways:\n",
        "\n",
        "1 - assign the CRS to the geodataframe\n"
      ]
    },
    {
      "cell_type": "code",
      "execution_count": 140,
      "metadata": {
        "colab": {
          "base_uri": "https://localhost:8080/",
          "height": 424
        },
        "id": "eLyHanMcZxfZ",
        "outputId": "de1f2140-e5f3-4b8b-ae9e-df7f2bdc6fec"
      },
      "outputs": [
        {
          "output_type": "execute_result",
          "data": {
            "text/plain": [
              "     OBJECTID                                NOMESPACQ  \\\n",
              "0     29690.0                          LAGO DI MOLVENO   \n",
              "1     29743.0  LAGO BACINO S.I.T. - BACINO DI PONTARSO   \n",
              "2     29723.0                         LAGO DEL CARESER   \n",
              "3     29758.0                       LAGO DI PONTE PIA'   \n",
              "4     29861.0                    LAGO DI COSTABRUNELLA   \n",
              "..        ...                                      ...   \n",
              "428   30056.0                  LAGHETTO FORCELLA MAGNA   \n",
              "429   29704.0         LAGHETTO CIMA LAVAZZE' INFERIORE   \n",
              "430   29863.0                             LAGO SPINALE   \n",
              "431   29886.0                 LAGHETTO DI PASSO PORDOI   \n",
              "432   29732.0                            LAGO DI MANNA   \n",
              "\n",
              "                                              geometry  \n",
              "0    POLYGON ((1652079.952 5111676.932, 1652079.586...  \n",
              "1    POLYGON ((1692832.012 5109957.392, 1692832.114...  \n",
              "2    POLYGON ((1630312.511 5142839.286, 1630311.588...  \n",
              "3    POLYGON ((1639625.165 5101837.438, 1639625.647...  \n",
              "4    POLYGON ((1699507.942 5112142.756, 1699508.257...  \n",
              "..                                                 ...  \n",
              "428  POLYGON ((1699068.452 5115580.032, 1699068.266...  \n",
              "429  POLYGON ((1652459.004 5150317.11, 1652460.591 ...  \n",
              "430  POLYGON ((1643923.976 5120272.352, 1643924.527...  \n",
              "431  POLYGON ((1714962.889 5151848.857, 1714965.166...  \n",
              "432  POLYGON ((1720770.867 5127973.132, 1720771.284...  \n",
              "\n",
              "[433 rows x 3 columns]"
            ],
            "text/html": [
              "\n",
              "  <div id=\"df-5240f80f-2e6a-489b-8d5d-a7b9ca9c3f2e\" class=\"colab-df-container\">\n",
              "    <div>\n",
              "<style scoped>\n",
              "    .dataframe tbody tr th:only-of-type {\n",
              "        vertical-align: middle;\n",
              "    }\n",
              "\n",
              "    .dataframe tbody tr th {\n",
              "        vertical-align: top;\n",
              "    }\n",
              "\n",
              "    .dataframe thead th {\n",
              "        text-align: right;\n",
              "    }\n",
              "</style>\n",
              "<table border=\"1\" class=\"dataframe\">\n",
              "  <thead>\n",
              "    <tr style=\"text-align: right;\">\n",
              "      <th></th>\n",
              "      <th>OBJECTID</th>\n",
              "      <th>NOMESPACQ</th>\n",
              "      <th>geometry</th>\n",
              "    </tr>\n",
              "  </thead>\n",
              "  <tbody>\n",
              "    <tr>\n",
              "      <th>0</th>\n",
              "      <td>29690.0</td>\n",
              "      <td>LAGO DI MOLVENO</td>\n",
              "      <td>POLYGON ((1652079.952 5111676.932, 1652079.586...</td>\n",
              "    </tr>\n",
              "    <tr>\n",
              "      <th>1</th>\n",
              "      <td>29743.0</td>\n",
              "      <td>LAGO BACINO S.I.T. - BACINO DI PONTARSO</td>\n",
              "      <td>POLYGON ((1692832.012 5109957.392, 1692832.114...</td>\n",
              "    </tr>\n",
              "    <tr>\n",
              "      <th>2</th>\n",
              "      <td>29723.0</td>\n",
              "      <td>LAGO DEL CARESER</td>\n",
              "      <td>POLYGON ((1630312.511 5142839.286, 1630311.588...</td>\n",
              "    </tr>\n",
              "    <tr>\n",
              "      <th>3</th>\n",
              "      <td>29758.0</td>\n",
              "      <td>LAGO DI PONTE PIA'</td>\n",
              "      <td>POLYGON ((1639625.165 5101837.438, 1639625.647...</td>\n",
              "    </tr>\n",
              "    <tr>\n",
              "      <th>4</th>\n",
              "      <td>29861.0</td>\n",
              "      <td>LAGO DI COSTABRUNELLA</td>\n",
              "      <td>POLYGON ((1699507.942 5112142.756, 1699508.257...</td>\n",
              "    </tr>\n",
              "    <tr>\n",
              "      <th>...</th>\n",
              "      <td>...</td>\n",
              "      <td>...</td>\n",
              "      <td>...</td>\n",
              "    </tr>\n",
              "    <tr>\n",
              "      <th>428</th>\n",
              "      <td>30056.0</td>\n",
              "      <td>LAGHETTO FORCELLA MAGNA</td>\n",
              "      <td>POLYGON ((1699068.452 5115580.032, 1699068.266...</td>\n",
              "    </tr>\n",
              "    <tr>\n",
              "      <th>429</th>\n",
              "      <td>29704.0</td>\n",
              "      <td>LAGHETTO CIMA LAVAZZE' INFERIORE</td>\n",
              "      <td>POLYGON ((1652459.004 5150317.11, 1652460.591 ...</td>\n",
              "    </tr>\n",
              "    <tr>\n",
              "      <th>430</th>\n",
              "      <td>29863.0</td>\n",
              "      <td>LAGO SPINALE</td>\n",
              "      <td>POLYGON ((1643923.976 5120272.352, 1643924.527...</td>\n",
              "    </tr>\n",
              "    <tr>\n",
              "      <th>431</th>\n",
              "      <td>29886.0</td>\n",
              "      <td>LAGHETTO DI PASSO PORDOI</td>\n",
              "      <td>POLYGON ((1714962.889 5151848.857, 1714965.166...</td>\n",
              "    </tr>\n",
              "    <tr>\n",
              "      <th>432</th>\n",
              "      <td>29732.0</td>\n",
              "      <td>LAGO DI MANNA</td>\n",
              "      <td>POLYGON ((1720770.867 5127973.132, 1720771.284...</td>\n",
              "    </tr>\n",
              "  </tbody>\n",
              "</table>\n",
              "<p>433 rows × 3 columns</p>\n",
              "</div>\n",
              "    <div class=\"colab-df-buttons\">\n",
              "\n",
              "  <div class=\"colab-df-container\">\n",
              "    <button class=\"colab-df-convert\" onclick=\"convertToInteractive('df-5240f80f-2e6a-489b-8d5d-a7b9ca9c3f2e')\"\n",
              "            title=\"Convert this dataframe to an interactive table.\"\n",
              "            style=\"display:none;\">\n",
              "\n",
              "  <svg xmlns=\"http://www.w3.org/2000/svg\" height=\"24px\" viewBox=\"0 -960 960 960\">\n",
              "    <path d=\"M120-120v-720h720v720H120Zm60-500h600v-160H180v160Zm220 220h160v-160H400v160Zm0 220h160v-160H400v160ZM180-400h160v-160H180v160Zm440 0h160v-160H620v160ZM180-180h160v-160H180v160Zm440 0h160v-160H620v160Z\"/>\n",
              "  </svg>\n",
              "    </button>\n",
              "\n",
              "  <style>\n",
              "    .colab-df-container {\n",
              "      display:flex;\n",
              "      gap: 12px;\n",
              "    }\n",
              "\n",
              "    .colab-df-convert {\n",
              "      background-color: #E8F0FE;\n",
              "      border: none;\n",
              "      border-radius: 50%;\n",
              "      cursor: pointer;\n",
              "      display: none;\n",
              "      fill: #1967D2;\n",
              "      height: 32px;\n",
              "      padding: 0 0 0 0;\n",
              "      width: 32px;\n",
              "    }\n",
              "\n",
              "    .colab-df-convert:hover {\n",
              "      background-color: #E2EBFA;\n",
              "      box-shadow: 0px 1px 2px rgba(60, 64, 67, 0.3), 0px 1px 3px 1px rgba(60, 64, 67, 0.15);\n",
              "      fill: #174EA6;\n",
              "    }\n",
              "\n",
              "    .colab-df-buttons div {\n",
              "      margin-bottom: 4px;\n",
              "    }\n",
              "\n",
              "    [theme=dark] .colab-df-convert {\n",
              "      background-color: #3B4455;\n",
              "      fill: #D2E3FC;\n",
              "    }\n",
              "\n",
              "    [theme=dark] .colab-df-convert:hover {\n",
              "      background-color: #434B5C;\n",
              "      box-shadow: 0px 1px 3px 1px rgba(0, 0, 0, 0.15);\n",
              "      filter: drop-shadow(0px 1px 2px rgba(0, 0, 0, 0.3));\n",
              "      fill: #FFFFFF;\n",
              "    }\n",
              "  </style>\n",
              "\n",
              "    <script>\n",
              "      const buttonEl =\n",
              "        document.querySelector('#df-5240f80f-2e6a-489b-8d5d-a7b9ca9c3f2e button.colab-df-convert');\n",
              "      buttonEl.style.display =\n",
              "        google.colab.kernel.accessAllowed ? 'block' : 'none';\n",
              "\n",
              "      async function convertToInteractive(key) {\n",
              "        const element = document.querySelector('#df-5240f80f-2e6a-489b-8d5d-a7b9ca9c3f2e');\n",
              "        const dataTable =\n",
              "          await google.colab.kernel.invokeFunction('convertToInteractive',\n",
              "                                                    [key], {});\n",
              "        if (!dataTable) return;\n",
              "\n",
              "        const docLinkHtml = 'Like what you see? Visit the ' +\n",
              "          '<a target=\"_blank\" href=https://colab.research.google.com/notebooks/data_table.ipynb>data table notebook</a>'\n",
              "          + ' to learn more about interactive tables.';\n",
              "        element.innerHTML = '';\n",
              "        dataTable['output_type'] = 'display_data';\n",
              "        await google.colab.output.renderOutput(dataTable, element);\n",
              "        const docLink = document.createElement('div');\n",
              "        docLink.innerHTML = docLinkHtml;\n",
              "        element.appendChild(docLink);\n",
              "      }\n",
              "    </script>\n",
              "  </div>\n",
              "\n",
              "\n",
              "    <div id=\"df-1baf4443-d156-44dd-94d9-542815c53631\">\n",
              "      <button class=\"colab-df-quickchart\" onclick=\"quickchart('df-1baf4443-d156-44dd-94d9-542815c53631')\"\n",
              "                title=\"Suggest charts\"\n",
              "                style=\"display:none;\">\n",
              "\n",
              "<svg xmlns=\"http://www.w3.org/2000/svg\" height=\"24px\"viewBox=\"0 0 24 24\"\n",
              "     width=\"24px\">\n",
              "    <g>\n",
              "        <path d=\"M19 3H5c-1.1 0-2 .9-2 2v14c0 1.1.9 2 2 2h14c1.1 0 2-.9 2-2V5c0-1.1-.9-2-2-2zM9 17H7v-7h2v7zm4 0h-2V7h2v10zm4 0h-2v-4h2v4z\"/>\n",
              "    </g>\n",
              "</svg>\n",
              "      </button>\n",
              "\n",
              "<style>\n",
              "  .colab-df-quickchart {\n",
              "      --bg-color: #E8F0FE;\n",
              "      --fill-color: #1967D2;\n",
              "      --hover-bg-color: #E2EBFA;\n",
              "      --hover-fill-color: #174EA6;\n",
              "      --disabled-fill-color: #AAA;\n",
              "      --disabled-bg-color: #DDD;\n",
              "  }\n",
              "\n",
              "  [theme=dark] .colab-df-quickchart {\n",
              "      --bg-color: #3B4455;\n",
              "      --fill-color: #D2E3FC;\n",
              "      --hover-bg-color: #434B5C;\n",
              "      --hover-fill-color: #FFFFFF;\n",
              "      --disabled-bg-color: #3B4455;\n",
              "      --disabled-fill-color: #666;\n",
              "  }\n",
              "\n",
              "  .colab-df-quickchart {\n",
              "    background-color: var(--bg-color);\n",
              "    border: none;\n",
              "    border-radius: 50%;\n",
              "    cursor: pointer;\n",
              "    display: none;\n",
              "    fill: var(--fill-color);\n",
              "    height: 32px;\n",
              "    padding: 0;\n",
              "    width: 32px;\n",
              "  }\n",
              "\n",
              "  .colab-df-quickchart:hover {\n",
              "    background-color: var(--hover-bg-color);\n",
              "    box-shadow: 0 1px 2px rgba(60, 64, 67, 0.3), 0 1px 3px 1px rgba(60, 64, 67, 0.15);\n",
              "    fill: var(--button-hover-fill-color);\n",
              "  }\n",
              "\n",
              "  .colab-df-quickchart-complete:disabled,\n",
              "  .colab-df-quickchart-complete:disabled:hover {\n",
              "    background-color: var(--disabled-bg-color);\n",
              "    fill: var(--disabled-fill-color);\n",
              "    box-shadow: none;\n",
              "  }\n",
              "\n",
              "  .colab-df-spinner {\n",
              "    border: 2px solid var(--fill-color);\n",
              "    border-color: transparent;\n",
              "    border-bottom-color: var(--fill-color);\n",
              "    animation:\n",
              "      spin 1s steps(1) infinite;\n",
              "  }\n",
              "\n",
              "  @keyframes spin {\n",
              "    0% {\n",
              "      border-color: transparent;\n",
              "      border-bottom-color: var(--fill-color);\n",
              "      border-left-color: var(--fill-color);\n",
              "    }\n",
              "    20% {\n",
              "      border-color: transparent;\n",
              "      border-left-color: var(--fill-color);\n",
              "      border-top-color: var(--fill-color);\n",
              "    }\n",
              "    30% {\n",
              "      border-color: transparent;\n",
              "      border-left-color: var(--fill-color);\n",
              "      border-top-color: var(--fill-color);\n",
              "      border-right-color: var(--fill-color);\n",
              "    }\n",
              "    40% {\n",
              "      border-color: transparent;\n",
              "      border-right-color: var(--fill-color);\n",
              "      border-top-color: var(--fill-color);\n",
              "    }\n",
              "    60% {\n",
              "      border-color: transparent;\n",
              "      border-right-color: var(--fill-color);\n",
              "    }\n",
              "    80% {\n",
              "      border-color: transparent;\n",
              "      border-right-color: var(--fill-color);\n",
              "      border-bottom-color: var(--fill-color);\n",
              "    }\n",
              "    90% {\n",
              "      border-color: transparent;\n",
              "      border-bottom-color: var(--fill-color);\n",
              "    }\n",
              "  }\n",
              "</style>\n",
              "\n",
              "      <script>\n",
              "        async function quickchart(key) {\n",
              "          const quickchartButtonEl =\n",
              "            document.querySelector('#' + key + ' button');\n",
              "          quickchartButtonEl.disabled = true;  // To prevent multiple clicks.\n",
              "          quickchartButtonEl.classList.add('colab-df-spinner');\n",
              "          try {\n",
              "            const charts = await google.colab.kernel.invokeFunction(\n",
              "                'suggestCharts', [key], {});\n",
              "          } catch (error) {\n",
              "            console.error('Error during call to suggestCharts:', error);\n",
              "          }\n",
              "          quickchartButtonEl.classList.remove('colab-df-spinner');\n",
              "          quickchartButtonEl.classList.add('colab-df-quickchart-complete');\n",
              "        }\n",
              "        (() => {\n",
              "          let quickchartButtonEl =\n",
              "            document.querySelector('#df-1baf4443-d156-44dd-94d9-542815c53631 button');\n",
              "          quickchartButtonEl.style.display =\n",
              "            google.colab.kernel.accessAllowed ? 'block' : 'none';\n",
              "        })();\n",
              "      </script>\n",
              "    </div>\n",
              "\n",
              "  <div id=\"id_88aa3ae1-a614-48c5-988c-9b2899495a1e\">\n",
              "    <style>\n",
              "      .colab-df-generate {\n",
              "        background-color: #E8F0FE;\n",
              "        border: none;\n",
              "        border-radius: 50%;\n",
              "        cursor: pointer;\n",
              "        display: none;\n",
              "        fill: #1967D2;\n",
              "        height: 32px;\n",
              "        padding: 0 0 0 0;\n",
              "        width: 32px;\n",
              "      }\n",
              "\n",
              "      .colab-df-generate:hover {\n",
              "        background-color: #E2EBFA;\n",
              "        box-shadow: 0px 1px 2px rgba(60, 64, 67, 0.3), 0px 1px 3px 1px rgba(60, 64, 67, 0.15);\n",
              "        fill: #174EA6;\n",
              "      }\n",
              "\n",
              "      [theme=dark] .colab-df-generate {\n",
              "        background-color: #3B4455;\n",
              "        fill: #D2E3FC;\n",
              "      }\n",
              "\n",
              "      [theme=dark] .colab-df-generate:hover {\n",
              "        background-color: #434B5C;\n",
              "        box-shadow: 0px 1px 3px 1px rgba(0, 0, 0, 0.15);\n",
              "        filter: drop-shadow(0px 1px 2px rgba(0, 0, 0, 0.3));\n",
              "        fill: #FFFFFF;\n",
              "      }\n",
              "    </style>\n",
              "    <button class=\"colab-df-generate\" onclick=\"generateWithVariable('lakes_bodies_water')\"\n",
              "            title=\"Generate code using this dataframe.\"\n",
              "            style=\"display:none;\">\n",
              "\n",
              "  <svg xmlns=\"http://www.w3.org/2000/svg\" height=\"24px\"viewBox=\"0 0 24 24\"\n",
              "       width=\"24px\">\n",
              "    <path d=\"M7,19H8.4L18.45,9,17,7.55,7,17.6ZM5,21V16.75L18.45,3.32a2,2,0,0,1,2.83,0l1.4,1.43a1.91,1.91,0,0,1,.58,1.4,1.91,1.91,0,0,1-.58,1.4L9.25,21ZM18.45,9,17,7.55Zm-12,3A5.31,5.31,0,0,0,4.9,8.1,5.31,5.31,0,0,0,1,6.5,5.31,5.31,0,0,0,4.9,4.9,5.31,5.31,0,0,0,6.5,1,5.31,5.31,0,0,0,8.1,4.9,5.31,5.31,0,0,0,12,6.5,5.46,5.46,0,0,0,6.5,12Z\"/>\n",
              "  </svg>\n",
              "    </button>\n",
              "    <script>\n",
              "      (() => {\n",
              "      const buttonEl =\n",
              "        document.querySelector('#id_88aa3ae1-a614-48c5-988c-9b2899495a1e button.colab-df-generate');\n",
              "      buttonEl.style.display =\n",
              "        google.colab.kernel.accessAllowed ? 'block' : 'none';\n",
              "\n",
              "      buttonEl.onclick = () => {\n",
              "        google.colab.notebook.generateWithVariable('lakes_bodies_water');\n",
              "      }\n",
              "      })();\n",
              "    </script>\n",
              "  </div>\n",
              "\n",
              "    </div>\n",
              "  </div>\n"
            ],
            "application/vnd.google.colaboratory.intrinsic+json": {
              "type": "dataframe",
              "variable_name": "lakes_bodies_water",
              "summary": "{\n  \"name\": \"lakes_bodies_water\",\n  \"rows\": 433,\n  \"fields\": [\n    {\n      \"column\": \"OBJECTID\",\n      \"properties\": {\n        \"dtype\": \"number\",\n        \"std\": 187.4295507031295,\n        \"min\": 29677.0,\n        \"max\": 31709.0,\n        \"num_unique_values\": 433,\n        \"samples\": [\n          30062.0,\n          30054.0,\n          29682.0\n        ],\n        \"semantic_type\": \"\",\n        \"description\": \"\"\n      }\n    },\n    {\n      \"column\": \"NOMESPACQ\",\n      \"properties\": {\n        \"dtype\": \"string\",\n        \"num_unique_values\": 430,\n        \"samples\": [\n          \"LAGHETTO D'ARZON\",\n          \"LAGHETTO LAGO CORVO I\",\n          \"LAGO EL BUS\"\n        ],\n        \"semantic_type\": \"\",\n        \"description\": \"\"\n      }\n    },\n    {\n      \"column\": \"geometry\",\n      \"properties\": {\n        \"dtype\": \"geometry\",\n        \"num_unique_values\": 433,\n        \"samples\": [\n          \"POLYGON ((1713079.2173043115 5120853.956366048, 1713079.298305823 5120853.953365661, 1713079.5233099426 5120853.925364211, 1713080.4653270505 5120853.774357513, 1713084.0143910423 5120853.092330132, 1713084.689403245 5120852.970325071, 1713085.5534189467 5120852.834318971, 1713086.1984307282 5120852.7473146925, 1713087.0944471913 5120852.650309195, 1713087.8474611277 5120852.593305039, 1713091.0895214255 5120852.420288509, 1713092.4325463206 5120852.328281277, 1713094.6455873416 5120852.176269354, 1713095.0775952705 5120852.12726666, 1713095.4186014824 5120852.077264324, 1713095.8166086772 5120852.00526134, 1713096.2096157204 5120851.919258108, 1713096.598622623 5120851.8172545945, 1713097.0466304803 5120851.677250121, 1713097.5356389168 5120851.490244598, 1713097.9516460123 5120851.311239523, 1713098.7786600029 5120850.9272289, 1713099.198667153 5120850.743223716, 1713099.6926757002 5120850.560218244, 1713100.0436818507 5120850.449214716, 1713100.3996881363 5120850.348211357, 1713101.1067007077 5120850.16920509, 1713102.1377191225 5120849.928196331, 1713102.54572637 5120849.823192682, 1713102.9487334667 5120849.704188787, 1713103.1907376766 5120849.620186215, 1713103.5887445235 5120849.463181627, 1713103.9807511794 5120849.287176705, 1713104.3687577073 5120849.098171557, 1713105.0627692975 5120848.739161952, 1713106.3807911156 5120848.010142823, 1713106.9508005278 5120847.689134441, 1713108.180820727 5120846.96911584, 1713109.0738354353 5120846.457102539, 1713109.4738419722 5120846.215096341, 1713109.8848486296 5120845.9520897055, 1713110.2818549585 5120845.673082825, 1713110.6598608354 5120845.371075585, 1713111.0168662602 5120845.05506817, 1713111.348871194 5120844.734060763, 1713111.972880276 5120844.084045962, 1713112.445886983 5120843.548033929, 1713113.8509064976 5120841.8559963, 1713114.1539107668 5120841.505988465, 1713114.463915209 5120841.16598079, 1713114.7229190064 5120840.902974777, 1713114.9899229954 5120840.649968914, 1713115.2639271652 5120840.408963252, 1713116.128940516 5120839.6939462405, 1713116.344943758 5120839.492941571, 1713116.5479467148 5120839.281936765, 1713116.7059489226 5120839.094932595, 1713116.8499508302 5120838.898928312, 1713117.053953265 5120838.5559210135, 1713117.2099547114 5120838.191913517, 1713117.2729550253 5120837.978909247, 1713117.3189549984 5120837.760904952, 1713117.3609540046 5120837.324896565, 1713117.3579522665 5120836.913888834, 1713117.326949968 5120836.494881066, 1713117.2739472357 5120836.070873298, 1713117.0299365385 5120834.578846186, 1713116.9839341224 5120834.1998392325, 1713116.9559321054 5120833.835832489, 1713116.9459302928 5120833.438825051, 1713116.9619286254 5120832.957815922, 1713117.001927414 5120832.477806716, 1713117.0769263369 5120831.869794954, 1713117.2559248686 5120830.687771952, 1713117.2999240106 5120830.275764011, 1713117.3169225215 5120829.833755614, 1713117.2959202933 5120829.3857472595, 1713117.2519178856 5120828.999740167, 1713117.0799103687 5120827.953721166, 1713117.0249077578 5120827.568714134, 1713116.9759049902 5120827.117705839, 1713116.943902526 5120826.662697398, 1713116.932900457 5120826.207688872, 1713116.9408991018 5120825.839681905, 1713116.9608981686 5120825.519675796, 1713117.0798953986 5120824.295652244, 1713117.1068939015 5120823.805642905, 1713117.1038916437 5120823.267632781, 1713117.0828897096 5120822.891625782, 1713117.048887535 5120822.516618854, 1713117.0008851017 5120822.142612005, 1713116.957883216 5120821.8796072295, 1713116.861879474 5120821.40659871, 1713116.7738763364 5120821.044592251, 1713116.6748730047 5120820.685585893, 1713116.5638694633 5120820.330579658, 1713116.4028645551 5120819.871571668, 1713116.2768608911 5120819.555566231, 1713115.9988531065 5120818.931555613, 1713115.63684325 5120818.187543078, 1713115.330835118 5120817.607533404, 1713114.857822739 5120816.757519326, 1713113.3657842241 5120814.206477371, 1713113.1707792736 5120813.893472273, 1713112.930773309 5120813.539466587, 1713112.709767943 5120813.244461933, 1713112.47676238 5120812.956457459, 1713112.007751353 5120812.418449244, 1713111.5347404066 5120811.918441761, 1713110.5347176031 5120810.944427504, 1713110.261711324 5120810.665423365, 1713109.752699442 5120810.102414843, 1713108.9646808736 5120809.188400848, 1713108.6676739587 5120808.864395961, 1713108.3606668848 5120808.547391245, 1713107.7116520614 5120807.909381882, 1713106.2946200976 5120806.614363284, 1713105.5196025635 5120805.893352875, 1713105.0045909905 5120805.433346315, 1713103.816564559 5120804.437332411, 1713102.3315314266 5120803.169314606, 1713102.0265245494 5120802.8913106145, 1713101.1845053453 5120802.070298596, 1713100.877498386 5120801.781294408, 1713099.9514775602 5120800.950282542, 1713098.9924558394 5120800.052269548, 1713098.5014448606 5120799.6272635525, 1713097.0154119055 5120798.407246652, 1713096.7434059316 5120798.198243826, 1713095.807385565 5120797.52523498, 1713095.3163748279 5120797.159230095, 1713094.7693627381 5120796.720224063, 1713094.0793473434 5120796.131215788, 1713093.394331912 5120795.510206894, 1713092.871320004 5120795.00519952, 1713092.3943090641 5120794.52519243, 1713091.7532942886 5120793.862182563, 1713090.9832766443 5120793.091171191, 1713090.6842698925 5120792.8161672335, 1713090.3752629936 5120792.551163504, 1713090.0162550635 5120792.264159568, 1713089.6442469626 5120791.995156021, 1713089.4302423587 5120791.854154241, 1713088.7832285922 5120791.465149562, 1713087.8702093614 5120790.964143859, 1713087.4992015003 5120790.749141329, 1713087.134193707 5120790.523138565, 1713086.6611835544 5120790.217134737, 1713086.326176309 5120789.987131776, 1713085.7511637867 5120789.5711262915, 1713084.7221411741 5120788.777115544, 1713084.3861338284 5120788.527112211, 1713083.7861208194 5120788.107106754, 1713083.4781142091 5120787.908104265, 1713083.0291046554 5120787.638101016, 1713082.5740950785 5120787.390098206, 1713081.8790806131 5120787.051094662, 1713081.4860725019 5120786.876092978, 1713080.7630576731 5120786.577090303, 1713080.0300427135 5120786.292087934, 1713079.2120260973 5120785.993085652, 1713078.7390165585 5120785.837084647, 1713077.863999005 5120785.571083219, 1713076.80097777 5120785.2700819, 1713075.8549589128 5120785.012080912, 1713075.069943327 5120784.813080378, 1713074.657935189 5120784.719080292, 1713073.8769198465 5120784.561080513, 1713073.0879044468 5120784.426081199, 1713072.5998949858 5120784.358081915, 1713072.1988872883 5120784.321082858, 1713071.799879719 5120784.306084212, 1713071.404872331 5120784.317086034, 1713071.112866955 5120784.346087777, 1713070.7308600533 5120784.416090658, 1713070.289852266 5120784.541094819, 1713069.859844854 5120784.707099706, 1713069.5128390037 5120784.873104257, 1713069.1758334315 5120785.061109179, 1713068.9148291913 5120785.225113336, 1713068.6618251507 5120785.401117687, 1713068.3618204468 5120785.631123249, 1713067.5818084704 5120786.291138877, 1713067.3418046907 5120786.471143251, 1713067.0928006638 5120786.632147303, 1713066.8317963132 5120786.769150954, 1713066.608792485 5120786.859153561, 1713066.3787884559 5120786.932155879, 1713065.956780883 5120787.022159301, 1713065.5257729571 5120787.067161916, 1713065.1107651643 5120787.071163688, 1713064.789759034 5120787.049164588, 1713064.477753012 5120787.012165169, 1713064.2367483294 5120786.976165475, 1713063.7037379064 5120786.880165849, 1713063.4237324821 5120786.842166281, 1713063.1607275703 5120786.851167527, 1713062.9167232853 5120786.926169937, 1713062.6897195622 5120787.060173393, 1713062.4807163621 5120787.23917762, 1713061.9037082135 5120787.901192454, 1713061.1076966561 5120788.737211464, 1713060.8676932855 5120789.017217719, 1713060.643690298 5120789.31722429, 1713060.4586879953 5120789.605230474, 1713060.2946861533 5120789.909236872, 1713060.1466847395 5120790.24424379, 1713060.0236838488 5120790.59225085, 1713059.893683363 5120791.071260407, 1713059.8166833874 5120791.431267505, 1713059.707683992 5120792.080280177, 1713059.5746858679 5120793.150300881, 1713059.489686769 5120793.761312742, 1713059.4086871804 5120794.2343219835, 1713059.172687797 5120795.470346238, 1713059.1216881145 5120795.782352322, 1713059.0476888947 5120796.313362628, 1713058.9516906939 5120797.194379621, 1713058.8566938047 5120798.391402561, 1713058.7726980718 5120799.82042983, 1713058.689704699 5120801.821467868, 1713058.5507142334 5120804.790524376, 1713058.5137177724 5120805.825544027, 1713058.4917213977 5120806.812562711, 1713058.4827253697 5120807.824581814, 1713058.5047339723 5120809.825619423, 1713058.5077434203 5120812.120662649, 1713058.5237483378 5120813.248683835, 1713058.5737598245 5120815.825732182, 1713058.552773597 5120819.287797491, 1713058.5667820037 5120821.277834928, 1713058.6077884962 5120822.675861097, 1713058.7498053522 5120826.1419258155, 1713058.8358181224 5120828.866976805, 1713058.8618233094 5120830.014998327, 1713058.8848320248 5120832.039036366, 1713058.9088358814 5120832.871051941, 1713058.968841557 5120833.982072627, 1713059.0068440808 5120834.424080798, 1713059.0548467888 5120834.865088912, 1713059.1138496916 5120835.303096921, 1713059.181852706 5120835.727104633, 1713059.3258584766 5120836.475118135, 1713059.4358624741 5120836.946126558, 1713059.5658668196 5120837.410134765, 1713059.6848705115 5120837.765140968, 1713059.8208744703 5120838.107146855, 1713059.9718786867 5120838.443152567, 1713060.2668866564 5120839.034162494, 1713060.4778922228 5120839.424168979, 1713060.7018980093 5120839.8081752965, 1713060.8559019216 5120840.056179338, 1713061.1289087369 5120840.466185945, 1713061.400915386 5120840.840191877, 1713061.6849222153 5120841.203197555, 1713061.9019273627 5120841.463201563, 1713062.127932651 5120841.716205403, 1713062.3849385753 5120841.982209364, 1713062.6519446475 5120842.238213093, 1713062.8949501202 5120842.458216245, 1713063.1439556815 5120842.672219256, 1713064.0879765474 5120843.430229674, 1713064.4129837803 5120843.703233487, 1713064.8289931633 5120844.0832389435, 1713065.2320024285 5120844.494245036, 1713065.50800887 5120844.799249651, 1713066.3160279992 5120845.758264411, 1713066.7140373262 5120846.207271242, 1713067.1850482065 5120846.7002786, 1713067.4470541761 5120846.954282315, 1713068.0420675536 5120847.48728992, 1713068.374074943 5120847.766293817, 1713069.0660902031 5120848.313301289, 1713070.558123005 5120849.468316941, 1713071.05313376 5120849.820321547, 1713071.489143086 5120850.094324925, 1713072.0661552818 5120850.421328722, 1713074.034196591 5120851.466340355, 1713075.6862313724 5120852.369350605, 1713076.9672581947 5120853.033357869, 1713077.7312740814 5120853.402361696, 1713078.1962836785 5120853.609363689, 1713078.6242924524 5120853.785365255, 1713078.9542991454 5120853.903366128, 1713079.0943019474 5120853.944366326, 1713079.183303696 5120853.962366299, 1713079.2173043115 5120853.956366048))\",\n          \"POLYGON ((1639672.1252649496 5144778.138904033, 1639671.8082511206 5144776.233869448, 1639672.3372484082 5144773.16480944, 1639672.020231521 5144770.518760895, 1639670.644201259 5144769.460746639, 1639669.6911806997 5144768.824738591, 1639668.8441590848 5144767.449716182, 1639668.2101419116 5144766.1796948705, 1639666.1991031924 5144765.967699181, 1639664.5050708759 5144765.861704177, 1639662.2830290608 5144765.861713351, 1639660.271995583 5144766.919741586, 1639659.107979358 5144768.29577232, 1639657.096944135 5144768.930792587, 1639654.9799069169 5144769.56581329, 1639652.3348650043 5144771.470860101, 1639647.7837872235 5144773.375914788, 1639644.2907271697 5144774.751955135, 1639641.962690352 5144776.4459966635, 1639641.9626986485 5144778.456034536, 1639641.3276945616 5144780.361073046, 1639639.3166667684 5144782.79612723, 1639637.199636976 5144785.230181833, 1639634.4485935024 5144787.2402310595, 1639634.0245973202 5144790.09828666, 1639634.2366131064 5144792.956339634, 1639633.4956092082 5144795.390388551, 1639632.331594729 5144797.189427257, 1639631.3795838016 5144798.882463084, 1639631.167588113 5144800.893501848, 1639631.6966085522 5144803.433547522, 1639632.5436380347 5144806.714605843, 1639631.908636569 5144809.254656324, 1639631.273633791 5144811.47670081, 1639631.8026564177 5144814.54675647, 1639632.8606894333 5144817.721811921, 1639634.0247279354 5144821.7428828785, 1639635.8237757706 5144825.1299392665, 1639636.3537962292 5144827.669984936, 1639636.0358020372 5144830.527040078, 1639636.035813834 5144833.385093926, 1639637.0938442287 5144835.925137418, 1639639.2108932433 5144838.148170559, 1639641.6449482199 5144840.3702023765, 1639644.8200162696 5144842.381227158, 1639648.6300910271 5144843.122225388, 1639651.911155826 5144843.862225787, 1639656.5682421562 5144843.545200585, 1639664.0823844345 5144843.757173557, 1639668.4214647762 5144843.439149652, 1639671.173516565 5144843.439138288, 1639673.0785532896 5144843.651134418, 1639673.5015647418 5144844.497148612, 1639674.6655932015 5144846.085173725, 1639676.5706329846 5144847.038183817, 1639679.4286872016 5144847.143173996, 1639681.968735001 5144847.143163507, 1639683.555762683 5144846.614146989, 1639684.4027738178 5144845.450121561, 1639685.6727924752 5144844.180092389, 1639686.9428128789 5144843.333071184, 1639688.5308348995 5144841.428028735, 1639690.0118501023 5144838.358964798, 1639691.5998686273 5144835.606906391, 1639693.6108986083 5144833.701862195, 1639695.409925475 5144832.0088228695, 1639695.620922458 5144830.3157901, 1639695.0919055103 5144828.621760367, 1639695.7269087264 5144826.505717874, 1639697.2089335567 5144825.764697796, 1639700.0669834067 5144824.811668038, 1639703.241037462 5144823.436629026, 1639704.61705811 5144822.165599399, 1639706.6280894037 5144820.578561194, 1639707.6861027633 5144818.991526926, 1639707.6860988296 5144818.03850897, 1639707.7920964577 5144816.980488599, 1639707.157080574 5144816.027473264, 1639706.8400684956 5144814.546446668, 1639706.840057574 5144811.900396815, 1639706.6280452837 5144809.889359799, 1639706.8400392265 5144807.455313064, 1639705.9930097444 5144804.174254742, 1639703.4529575738 5144803.115245275, 1639698.9018706218 5144802.798258094, 1639696.044812052 5144801.634247959, 1639693.6107614427 5144800.470236075, 1639689.80068756 5144799.941241836, 1639685.9906114899 5144798.882237618, 1639683.8735642252 5144797.083212459, 1639682.921538009 5144795.072178498, 1639682.1805170765 5144793.379149661, 1639681.5454942049 5144790.733102428, 1639680.698462539 5144786.923034142, 1639679.1104261042 5144785.336010795, 1639676.7823744314 5144783.430984512, 1639674.4543245044 5144781.948966202, 1639673.1842958003 5144780.784949515, 1639672.1252649496 5144778.138904033))\",\n          \"POLYGON ((1672959.8061545866 5104767.51171406, 1672959.8621599497 5104768.560733609, 1672959.8691611327 5104768.816738407, 1672959.8641620982 5104769.074743292, 1672959.838163046 5104769.4247499965, 1672959.796163471 5104769.720755752, 1672959.725163452 5104770.041762094, 1672959.677163193 5104770.198765252, 1672959.5441620194 5104770.522771909, 1672959.3821600776 5104770.792777666, 1672959.2461582026 5104770.95978137, 1672959.094155944 5104771.1067847675, 1672958.9121530834 5104771.244788118, 1672958.6701491466 5104771.395791958, 1672958.4291451795 5104771.534795569, 1672958.1281402996 5104771.726800426, 1672958.0371388653 5104771.794802081, 1672957.801135292 5104772.006807048, 1672957.617132751 5104772.231812045, 1672957.5341317097 5104772.358814781, 1672957.4201304088 5104772.564819136, 1672957.3181293875 5104772.783823683, 1672957.2371286836 5104772.983827786, 1672957.058127428 5104773.498838231, 1672956.8371264408 5104774.271853713, 1672956.5661257284 5104775.34087498, 1672956.4091251418 5104775.917886506, 1672956.3121246335 5104776.2388929585, 1672956.1291234298 5104776.784904002, 1672956.0511228314 5104776.996908318, 1672955.8821213457 5104777.4099167995, 1672955.7421199456 5104777.71092305, 1672955.5471177644 5104778.073930695, 1672955.1821132812 5104778.655943168, 1672954.4101034666 5104779.80596802, 1672954.3021021641 5104779.983971822, 1672954.0370991658 5104780.468982055, 1672953.8220969324 5104780.910991273, 1672953.5730945517 5104781.47300289, 1672953.3940929675 5104781.908011828, 1672952.7450875351 5104783.56104566, 1672952.5180853799 5104784.077056321, 1672952.3610837169 5104784.392062904, 1672952.1680815204 5104784.742070298, 1672951.9540789402 5104785.09507783, 1672951.2510699283 5104786.124100119, 1672951.0390672954 5104786.455107232, 1672950.8960656046 5104786.699112421, 1672950.7630641186 5104786.947117642, 1672950.618062641 5104787.252123988, 1672950.5280618495 5104787.472128506, 1672950.4470612362 5104787.694133026, 1672950.3710608396 5104787.946138085, 1672950.3020607808 5104788.248144062, 1672950.2480610372 5104788.558150131, 1672950.2070615178 5104788.8631560495, 1672950.0920634759 5104789.867175452, 1672950.0230637083 5104790.2401827695, 1672949.925063329 5104790.597189903, 1672949.8250625099 5104790.856195197, 1672949.662060763 5104791.178201936, 1672949.5780597394 5104791.3142048465, 1672949.042052866 5104792.09822183, 1672948.4790463427 5104793.091242865, 1672947.3650327246 5104794.883281229, 1672947.1460301983 5104795.2722894605, 1672947.0510293005 5104795.489293944, 1672946.97902884 5104795.70729835, 1672946.9410288718 5104795.889301937, 1672946.9130296137 5104796.1983078765, 1672946.900031094 5104796.618315849, 1672946.8650324435 5104797.107325212, 1672946.8300327822 5104797.350329938, 1672946.7780328093 5104797.595334771, 1672946.7310326265 5104797.766338187, 1672946.6490320638 5104798.005343031, 1672946.5510311879 5104798.241347885, 1672946.4690303542 5104798.414351481, 1672946.2540279357 5104798.811359848, 1672945.8190227097 5104799.533375252, 1672945.6080202644 5104799.90538313, 1672945.3880180065 5104800.364392689, 1672945.19301631 5104800.845402559, 1672945.0360151362 5104801.279411388, 1672944.9220144842 5104801.643418717, 1672944.835014386 5104802.018426144, 1672944.7870148334 5104802.347432544, 1672944.7550163257 5104802.857442292, 1672944.765019089 5104803.484454073, 1672944.8110239021 5104804.445472003, 1672944.8150255834 5104804.836479358, 1672944.8020266732 5104805.161485538, 1672944.7780274656 5104805.4644913515, 1672944.7370280735 5104805.800497853, 1672944.5730289568 5104806.767516759, 1672944.5340293604 5104807.044522142, 1672944.5010301888 5104807.397528935, 1672944.4850313491 5104807.75353571, 1672944.4870334736 5104808.261545281, 1672944.5520401967 5104809.600570259, 1672944.556041459 5104809.889575692, 1672944.5470426653 5104810.224582046, 1672944.5250434505 5104810.516587641, 1672944.4830440641 5104810.858594262, 1672944.4420442819 5104811.099598973, 1672944.2840441158 5104811.783612518, 1672944.0700432814 5104812.561628068, 1672943.9750427862 5104812.876634396, 1672943.8270418062 5104813.3166433005, 1672943.646040246 5104813.766652526, 1672942.2100528788 5104823.426840558, 1672942.1810540948 5104823.855848765, 1672941.4780678197 5104830.420975428, 1672941.5360705096 5104830.809982525, 1672941.5200717319 5104831.180989587, 1672941.465072109 5104831.524996297, 1672941.3700720042 5104831.935004418, 1672941.154071325 5104832.76002086, 1672940.7870709072 5104834.341052175, 1672940.7210712577 5104834.72905976, 1672940.69807186 5104834.98106461, 1672940.6940735832 5104835.419072883, 1672940.716075891 5104835.880081483, 1672940.7680794743 5104836.514093224, 1672940.8960874411 5104837.867118206, 1672940.937090665 5104838.464129293, 1672940.9600942158 5104839.223143511, 1672940.9460965353 5104839.8521554265, 1672940.9190976946 5104840.258163192, 1672940.856098841 5104840.826174161, 1672940.7800993274 5104841.293183278, 1672939.1240780992 5104843.717235782, 1672938.2390667652 5104845.015263892, 1672938.2040683317 5104845.557274255, 1672937.7970870105 5104851.971396855, 1672937.447083615 5104852.749412964, 1672935.8200678362 5104856.36748786, 1672937.612117229 5104860.177552333, 1672940.918181542 5104860.678548197, 1672941.196185964 5104860.48054332, 1672941.336188354 5104860.420541614, 1672941.4681907126 5104860.389540488, 1672941.589192954 5104860.380539818, 1672941.7021951105 5104860.387539488, 1672941.880198598 5104860.420539378, 1672942.064202285 5104860.474539641, 1672943.1362241306 5104860.878542855, 1672944.080243065 5104861.160544291, 1672944.3702489124 5104861.254544872, 1672944.8702591495 5104861.454546589, 1672945.2812677473 5104861.663548842, 1672945.4952723065 5104861.792550395, 1672945.7962788418 5104862.003553135, 1672946.0172837425 5104862.1835556235, 1672946.2282884922 5104862.372558318, 1672946.7813011603 5104862.921566397, 1672946.9623053654 5104863.115569312, 1672947.1323093842 5104863.314572368, 1672947.3453146152 5104863.611577092, 1672947.5133191214 5104863.938582566, 1672947.6063220352 5104864.221587518, 1672947.6443235022 5104864.404590814, 1672947.6673246708 5104864.583594094, 1672947.6723254751 5104864.7565973345, 1672947.649327063 5104865.248606706, 1672947.6643286473 5104865.56561262, 1672947.7083302725 5104865.759616097, 1672947.7773322705 5104865.92961902, 1672947.8503341742 5104866.05862115, 1672947.9573368097 5104866.209623557, 1672948.0803397214 5104866.354625787, 1672948.2193429137 5104866.494627858, 1672948.3713463226 5104866.627629738, 1672948.50734929 5104866.726631044, 1672948.6153516113 5104866.796631922, 1672948.8433564182 5104866.921633342, 1672949.097361661 5104867.033634411, 1672949.4303684125 5104867.150635249, 1672949.8633770347 5104867.26463562, 1672950.8463963831 5104867.468635427, 1672951.1994033917 5104867.556635635, 1672951.6034115131 5104867.681636331, 1672952.0294201432 5104867.829637373, 1672952.2774252072 5104867.925638166, 1672953.4764499702 5104868.457643268, 1672953.9964605677 5104868.653644828, 1672954.4454696388 5104868.80364581, 1672955.7884966577 5104869.224648231, 1672957.057522275 5104869.643650919, 1672957.371528578 5104869.738651417, 1672957.9105392701 5104869.870651693, 1672958.2975468494 5104869.941651442, 1672958.5735522152 5104869.98265108, 1672959.1295629232 5104870.040649889, 1672959.4175683958 5104870.052648932, 1672959.739574447 5104870.049647554, 1672960.2935846988 5104870.005644446, 1672960.82659444 5104869.933640901, 1672961.3376036766 5104869.839637029, 1672961.7246105822 5104869.746633685, 1672962.0736167233 5104869.641630271, 1672962.2356195436 5104869.585628549, 1672962.4976240422 5104869.479625476, 1672962.7046275293 5104869.379622739, 1672962.900630744 5104869.263619747, 1672963.164634861 5104869.05561474, 1672963.448639059 5104868.775608294, 1672963.613641435 5104868.597604261, 1672963.862644941 5104868.309597809, 1672964.5096537939 5104867.498579861, 1672964.7506571368 5104867.207573381, 1672965.6746702204 5104866.15654977, 1672965.8376724888 5104865.961545424, 1672966.488681335 5104865.130527083, 1672966.8596864687 5104864.679517056, 1672967.9317015298 5104863.431489121, 1672968.3147069681 5104862.999479404, 1672968.6097113034 5104862.702472591, 1672968.8467149613 5104862.506467922, 1672969.100719079 5104862.344463823, 1672969.33972314 5104862.237460826, 1672969.4847256858 5104862.19245938, 1672969.7387302592 5104862.141457377, 1672970.8147501065 5104862.040451051, 1672971.2557580662 5104861.956447656, 1672971.6077642387 5104861.845444118, 1672972.5277800767 5104861.483433512, 1672972.8607859118 5104861.377430145, 1672973.8098027557 5104861.127421534, 1672974.1958095275 5104861.006417665, 1672974.540815412 5104860.85741344, 1672975.3028279664 5104860.420402067, 1672975.5488321227 5104860.304398872, 1672975.8328371379 5104860.223396178, 1672976.091841925 5104860.201394698, 1672976.2838456223 5104860.221394287, 1672976.4458488454 5104860.263394414, 1672976.5778515406 5104860.3143948335, 1672976.896858246 5104860.48439673, 1672977.5488722285 5104860.899401872, 1672977.8948795572 5104861.097404185, 1672978.2048860479 5104861.256405907, 1672978.567893532 5104861.414407396, 1672978.8818998884 5104861.522408144, 1672979.1289048025 5104861.586408335, 1672979.3719095308 5104861.623408035, 1672979.6259143385 5104861.629407103, 1672980.4959304258 5104861.557402172, 1672981.397947222 5104861.511397597, 1672982.5259678722 5104861.367390249, 1672982.6949710173 5104861.358389385, 1672982.8429738416 5104861.367388947, 1672982.9589761533 5104861.398389055, 1672983.055978222 5104861.457389769, 1672983.1029792964 5104861.503390444, 1672983.1829812957 5104861.623392377, 1672983.2389829452 5104861.768394881, 1672983.2759844062 5104861.954398235, 1672983.3209868963 5104862.354405591, 1672983.351988121 5104862.510408404, 1672983.4029897302 5104862.668411175, 1672983.473991679 5104862.817413693, 1672983.5649939922 5104862.963416072, 1672983.763998746 5104863.208419873, 1672984.455014522 5104863.8814297225, 1672984.7290209506 5104864.190434422, 1672984.965026615 5104864.487439051, 1672985.1940322004 5104864.797443956, 1672985.871048826 5104865.741458974, 1672986.068053817 5104866.053464048, 1672986.2170578798 5104866.359469203, 1672986.3280612386 5104866.6684745755, 1672986.3940635577 5104866.930479243, 1672986.4380654376 5104867.186483889, 1672986.4680670993 5104867.453488799, 1672986.48706857 5104867.72449383, 1672986.541075998 5104869.285523041, 1672986.6830865822 5104871.211558769, 1672986.7070896875 5104871.857570851, 1672986.7060912824 5104872.250578263, 1672986.690093466 5104872.855589736, 1672986.6070989715 5104874.576622525, 1672986.6111005335 5104874.938629333, 1672986.6391025232 5104875.29463593, 1672986.6951049985 5104875.640642224, 1672986.7381065558 5104875.822645478, 1672986.8811111134 5104876.276653453, 1672987.10411799 5104876.928664829, 1672987.1881207796 5104877.222670026, 1672987.266123809 5104877.60267687, 1672987.2861250439 5104877.811680729, 1672989.3721735007 5104880.045714279, 1672991.7072277428 5104882.546751837, 1672991.6862281398 5104882.739755563, 1672991.7132293917 5104882.920758867, 1672991.7882313258 5104883.047760952, 1672991.894233568 5104883.10776165, 1672992.031236255 5104883.133761576, 1672992.3702427985 5104883.172760918, 1672992.6042474515 5104883.232761089, 1672992.8032516504 5104883.342762345, 1672992.9252545517 5104883.489764613, 1672992.991256505 5104883.662767606, 1672992.9972572913 5104883.8267706735, 1672992.9392569098 5104883.999774173, 1672992.7112542142 5104884.3887824435, 1672992.6042530164 5104884.587786635, 1672992.5052521871 5104884.8397917915, 1672992.451252226 5104885.09679686, 1672992.4352528695 5104885.326801262, 1672992.4412538363 5104885.534805159, 1672992.4632551214 5104885.746809066, 1672992.5062569375 5104885.99181351, 1672992.5672590714 5104886.231817782, 1672992.691262906 5104886.596824153, 1672992.7822655435 5104886.8218280235, 1672992.9662705609 5104887.199834393, 1672993.0232720613 5104887.303836118, 1672993.2262771737 5104887.617841207, 1672993.3552802603 5104887.777843694, 1672993.5042837025 5104887.932846004, 1672993.6672873306 5104888.068847897, 1672993.4313108143 5104894.868977076, 1672993.2553089827 5104895.229984605, 1672993.1453079628 5104895.485989883, 1672993.00630698 5104895.883997957, 1672992.9133067278 5104896.249005223, 1672992.865306863 5104896.502010187, 1672992.8223073962 5104896.829016531, 1672992.80130811 5104897.099021708, 1672992.7973099854 5104897.574030681, 1672992.810311138 5104897.795034796, 1672992.8493132151 5104898.122040797, 1672992.894315155 5104898.38804563, 1672992.9873186518 5104898.813053259, 1672993.1673248014 5104899.485065189, 1672993.5273365006 5104900.683086296, 1672993.785344423 5104901.429099304, 1672994.1103541448 5104902.306114502, 1672994.2343582008 5104902.725121894, 1672994.3203614382 5104903.1191289695, 1672994.4763686268 5104904.15414784, 1672994.7343793174 5104905.574173554, 1672994.7933815618 5104905.850178517, 1672994.8903849903 5104906.2401854675, 1672995.0703908685 5104906.846196156, 1672995.1803942625 5104907.168201776, 1672995.3063979987 5104907.500207517, 1672995.60040634 5104908.183219185, 1672996.3914282382 5104909.888248083, 1672996.588433582 5104910.286254775, 1672996.8484404786 5104910.77326289, 1672997.3544535595 5104911.638277119, 1672997.7094629554 5104912.298288107, 1672997.8274659659 5104912.49029124, 1672997.9054678539 5104912.5922928415, 1672998.049471202 5104912.747295173, 1672998.3734786217 5104913.068299896, 1672998.6134842704 5104913.343304095, 1672998.739487329 5104913.510306724, 1672998.8414898696 5104913.661309152, 1672998.931492197 5104913.815311685, 1672998.9984940381 5104913.956314069, 1672999.0454954405 5104914.082316253, 1672999.0884969316 5104914.248319205, 1672999.1174982418 5104914.434322593, 1672999.458510068 5104915.750346007, 1673000.7145536516 5104920.603432343, 1673000.6125524328 5104920.774435987, 1673000.5265516269 5104920.9724400705, 1673000.4655514183 5104921.20144464, 1673000.4345517755 5104921.430449087, 1673000.4265525981 5104921.667453585, 1673000.4315532546 5104921.804456148, 1673000.4755558167 5104922.226463926, 1673000.5165576686 5104922.489468711, 1673000.6205620875 5104923.088479581, 1673000.7095654146 5104923.490486791, 1673000.780567782 5104923.741491233, 1673000.9405725654 5104924.172498704, 1673001.0805764461 5104924.4755038405, 1673001.197579549 5104924.694507488, 1673001.301582234 5104924.871510398, 1673001.554588522 5104925.242516352, 1673001.7085922188 5104925.43651938, 1673001.9255973115 5104925.681523108, 1673002.718615571 5104926.4915351225, 1673002.9466209363 5104926.752539106, 1673003.1776264692 5104927.040543587, 1673003.597636715 5104927.609552587, 1673003.9956465345 5104928.1755616255, 1673004.3716559638 5104928.747570865, 1673004.800666938 5104929.452582393, 1673004.9636710302 5104929.70158642, 1673005.2246773662 5104930.047591869, 1673005.4276821376 5104930.278595392, 1673005.6826879578 5104930.52659902, 1673006.007695154 5104930.788602624, 1673006.2757009892 5104930.980605144, 1673006.8827141158 5104931.3936104365, 1673007.215721368 5104931.632613573, 1673007.459726776 5104931.830616306, 1673007.711732462 5104932.059619589, 1673007.9357376208 5104932.288622985, 1673008.1567428252 5104932.542626864, 1673008.3537475825 5104932.797630864, 1673008.4927510254 5104932.998634082, 1673008.723756895 5104933.368640108, 1673008.9827635707 5104933.806647302, 1673009.1957689826 5104934.147652858, 1673009.4557753117 5104934.496658367, 1673009.6767804758 5104934.740662062, 1673009.9457865679 5104934.99066567, 1673010.1757916755 5104935.179668289, 1673010.4897985614 5104935.416671465, 1673010.7328038318 5104935.585673656, 1673011.0768112338 5104935.810676483, 1673011.4958201423 5104936.058679438, 1673012.3458379435 5104936.495684183, 1673012.7378461917 5104936.706686553, 1673013.4568614233 5104937.118691367, 1673014.481882988 5104937.669697545, 1673014.8738910803 5104937.842699196, 1673015.1438965301 5104937.931699764, 1673025.8791157738 5104942.093734129, 1673034.1342816548 5104944.633748107, 1673037.4813412074 5104943.787718403, 1673038.034351083 5104943.656713663, 1673046.6225046462 5104941.670640937, 1673051.0675779176 5104939.130574786, 1673055.7246543106 5104936.378503769, 1673059.6616916733 5104927.424318776, 1673059.9986961344 5104926.965308737, 1673060.1996986135 5104926.647301914, 1673060.3817006156 5104926.300294625, 1673060.4837015304 5104926.055289587, 1673060.5737020297 5104925.764283732, 1673060.6277017076 5104925.438277362, 1673060.6337012374 5104925.296274658, 1673060.6016992754 5104924.96526855, 1673064.5997346493 5104915.247068903, 1673064.9537375823 5104914.338050309, 1673067.2447565661 5104908.455929998, 1673067.4997587516 5104907.818916941, 1673068.0977633721 5104906.201883998, 1673068.2317641785 5104905.783875567, 1673068.348764398 5104905.300865978, 1673068.4247641368 5104904.888857899, 1673068.4987634728 5104904.38784815, 1673068.5837619686 5104903.631833546, 1673068.6207605873 5104903.125823854, 1673068.6437588602 5104902.599813844, 1673068.660755759 5104901.766798068, 1673068.7027514777 5104900.53177461, 1673068.706750485 5104900.271769693, 1673068.6997486735 5104899.862762008, 1673068.6737465821 5104899.472754764, 1673068.6027426578 5104898.842743176, 1673068.4047329042 5104897.375716332, 1673068.3317296854 5104896.926708166, 1673068.2497266012 5104896.551701433, 1673068.1837243482 5104896.305697066, 1673067.9207160277 5104895.485682685, 1673067.8497136394 5104895.22967815, 1673067.7687104875 5104894.833671017, 1673067.7207076533 5104894.363662353, 1673067.6457012594 5104893.150639791, 1673067.5866977703 5104892.571629119, 1673067.5166944275 5104892.078620111, 1673067.4536918039 5104891.72861377, 1673067.3226869383 5104891.144603298, 1673067.2156832642 5104890.740596118, 1673067.125680337 5104890.440590834, 1673067.0266772571 5104890.144585659, 1673066.8496721005 5104889.700578015, 1673066.740669079 5104889.464574015, 1673066.4646617007 5104888.933565136, 1673066.3216579931 5104888.686561066, 1673065.7356430897 5104887.744545714, 1673065.2626308065 5104886.92253216, 1673065.0416251582 5104886.560526241, 1673064.8776210472 5104886.311522222, 1673064.6246148208 5104885.955516548, 1673063.860596405 5104884.974501192, 1673063.6815920365 5104884.731497346, 1673063.4245856071 5104884.3444911055, 1673063.2685815895 5104884.081486788, 1673063.1085773443 5104883.781481787, 1673062.6895658898 5104882.913467145, 1673062.2665544248 5104882.061452819, 1673062.1345507645 5104881.77544797, 1673061.77054039 5104880.918433307, 1673061.5845353026 5104880.532426793, 1673061.411530792 5104880.227421752, 1673061.280527479 5104880.021418407, 1673061.1305237715 5104879.806414972, 1673060.5575098067 5104879.03340275, 1673060.4415069325 5104878.865400059, 1673059.851491994 5104877.93338491, 1673059.5984857471 5104877.572379146, 1673059.017471788 5104876.837367673, 1673058.5974617805 5104876.326359766, 1673058.262453981 5104875.963354297, 1673057.9384466517 5104875.664349991, 1673057.422435095 5104875.216343663, 1673057.1814296122 5104874.986340319, 1673056.7204189599 5104874.506333162, 1673056.4344122598 5104874.186328304, 1673056.2794085648 5104873.997325376, 1673056.1394051276 5104873.802322273, 1673056.0184020111 5104873.598318927, 1673055.9363997441 5104873.422315943, 1673055.815395991 5104873.063309672, 1673055.7573938887 5104872.817305272, 1673055.7173922155 5104872.593301214, 1673055.6823902011 5104872.263295135, 1673055.689388871 5104871.907288397, 1673055.751388605 5104871.558281561, 1673055.8553892327 5104871.234275025, 1673056.3103932464 5104870.125252245, 1673056.3923938454 5104869.895247573, 1673056.5813949406 5104869.295235486, 1673056.6793957755 5104869.049230443, 1673056.7993970904 5104868.819225615, 1673057.0023997717 5104868.541219539, 1673057.1244015598 5104868.417216701, 1673057.6664098937 5104867.9612058755, 1673057.7824116137 5104867.848203269, 1673057.8834130103 5104867.725200535, 1673057.960413918 5104867.59319773, 1673058.02441445 5104867.429194375, 1673058.0654143183 5104867.2091900585, 1673058.0684134138 5104866.9751856355, 1673058.0574127715 5104866.86918368, 1673058.0274115286 5104866.704180691, 1673057.9404086336 5104866.3981752815, 1673057.7094013677 5104865.688162843, 1673057.4063908197 5104864.5091418605, 1673057.2143843868 5104863.823129717, 1673057.024378435 5104863.245119596, 1673056.5683647268 5104861.998097961, 1673056.4473609326 5104861.629091502, 1673056.3233567125 5104861.170083356, 1673056.2543541112 5104860.853077662, 1673056.1013475666 5104859.961061472, 1673055.994343568 5104859.478052804, 1673055.9093407313 5104859.177047481, 1673055.8233380315 5104858.914042878, 1673055.67133351 5104858.510035883, 1673054.771307547 5104856.3149981955, 1673054.5973026524 5104855.920991481, 1673054.4822995053 5104855.6819874495, 1673054.2742939661 5104855.286980855, 1673054.0632884775 5104854.917974767, 1673053.7772811777 5104854.451967153, 1673053.2102668697 5104853.567952817, 1673053.0432625795 5104853.288948243, 1673052.8902585441 5104853.0079435725, 1673052.7472546396 5104852.712938599, 1673052.601250416 5104852.353932429, 1673052.4382453547 5104851.868923955, 1673052.0222314917 5104850.400897985, 1673051.8572263394 5104849.902889275, 1673051.6852212688 5104849.456881574, 1673051.5692179755 5104849.18687696, 1673050.780195914 5104847.432847131, 1673050.5241888715 5104846.891837982, 1673050.3291836309 5104846.509831582, 1673050.135178499 5104846.1498255925, 1673049.4991619927 5104845.046807407, 1673049.4001593476 5104844.856804233, 1673049.1351519506 5104844.270794273, 1673049.0201488817 5104844.050790597, 1673048.8611449266 5104843.816786841, 1673048.4471351097 5104843.324779263, 1673048.179128675 5104842.986773994, 1673047.7961193067 5104842.461765668, 1673047.6021144583 5104842.170760978, 1673047.4591107839 5104841.931757059, 1673047.3331074254 5104841.691753051, 1673047.1961035887 5104841.385747844, 1673046.9780973352 5104840.8627388785, 1673046.8640941703 5104840.614734672, 1673046.738090796 5104840.370730588, 1673046.5270853848 5104840.020724859, 1673046.3610813017 5104839.787721147, 1673046.1960773487 5104839.581717939, 1673045.9240709862 5104839.279713363, 1673045.6150639027 5104838.971708827, 1673045.4350598354 5104838.806706455, 1673044.289034296 5104837.84269299, 1673043.8110237014 5104837.454687636, 1673043.5430178535 5104837.259685062, 1673043.267011909 5104837.077682764, 1673042.9500051674 5104836.889680523, 1673041.882982787 5104836.332674404, 1673041.6219772194 5104836.17367248, 1673041.293969983 5104835.915668962, 1673041.1329662614 5104835.747666457, 1673040.990962831 5104835.563663569, 1673040.904960678 5104835.433661471, 1673040.7569567782 5104835.162656972, 1673040.6319532497 5104834.876652091, 1673040.2689422579 5104833.864634505, 1673040.127938247 5104833.53462886, 1673039.9439334022 5104833.19862328, 1673039.7449284887 5104832.914618745, 1673039.3109179833 5104832.346609818, 1673039.1799147113 5104832.150606662, 1673039.0369109958 5104831.901602553, 1673038.9179076748 5104831.638598084, 1673038.8159044643 5104831.324592583, 1673038.739901752 5104831.012587013, 1673038.5008924995 5104829.85556618, 1673038.3818882299 5104829.361557355, 1673038.2388836313 5104828.897549193, 1673038.0708787958 5104828.490542212, 1673037.9138746448 5104828.199537369, 1673037.6868690266 5104827.872532139, 1673037.5048646957 5104827.652528737, 1673037.304860018 5104827.430525374, 1673037.0478540778 5104827.162521375, 1673035.822826028 5104825.949503538, 1673035.2538131527 5104825.423495958, 1673034.4667955567 5104824.747486447, 1673034.1887892003 5104824.474482445, 1673034.0097850207 5104824.277479463, 1673033.8307807585 5104824.0604761075, 1673033.6137754563 5104823.764471416, 1673033.151763779 5104823.039459649, 1673032.7427535474 5104822.423449713, 1673032.6087500833 5104822.194445945, 1673032.4347453527 5104821.8404399855, 1673032.2997414386 5104821.506434244, 1673032.2177389541 5104821.277430262, 1673032.0587339352 5104820.784421621, 1673031.824726387 5104820.019408159, 1673031.3027088158 5104818.134374765, 1673031.2267063495 5104817.882370326, 1673031.1137029852 5104817.581365115, 1673031.003700101 5104817.383361834, 1673030.962699103 5104817.328360965, 1673030.8716969946 5104817.232359529, 1673030.787695142 5104817.166358629, 1673030.649692219 5104817.087357708, 1673030.4976891223 5104817.030357256, 1673030.2616845057 5104816.988357434, 1673030.0526805576 5104816.985358235, 1673029.8156762018 5104817.011359701, 1673029.511670736 5104817.074362137, 1673028.764657478 5104817.271368921, 1673028.5426534496 5104817.30837053, 1673028.3636501199 5104817.318371453, 1673028.2666482811 5104817.3153717965, 1673028.0846447635 5104817.29337213, 1673027.736637812 5104817.196371729, 1673027.4776324786 5104817.085370699, 1673027.2136269037 5104816.938369013, 1673026.9656215315 5104816.767366809, 1673026.7356163827 5104816.568364002, 1673026.5466120022 5104816.3683610065, 1673025.9855986577 5104815.691350549, 1673025.7775937635 5104815.453346915, 1673025.3955849109 5104815.049340868, 1673025.092578018 5104814.760336665, 1673024.8625728572 5104814.558333801, 1673024.5975669755 5104814.3413307965, 1673024.3565616943 5104814.160328374, 1673023.808549847 5104813.788323612, 1673023.6575465105 5104813.66832197, 1673023.5175433364 5104813.537320076, 1673023.3615396963 5104813.366317495, 1673023.2185362768 5104813.189314742, 1673022.6745229275 5104812.433302726, 1673022.3045139476 5104811.943295006, 1673022.0315074513 5104811.613289906, 1673021.4444936463 5104810.943279685, 1673020.9854830024 5104810.45627239, 1673020.679476008 5104810.1562679885, 1673020.4504708746 5104809.956265159, 1673019.9244593757 5104809.568260007, 1673019.825457146 5104809.479258735, 1673019.6964540759 5104809.323256321, 1673019.3354449205 5104808.749246985, 1673019.1294399283 5104808.4782427205, 1673018.8604335813 5104808.166237945, 1673018.5614266612 5104807.852233252, 1673018.2994206885 5104807.599229561, 1673017.9494128288 5104807.290225171, 1673017.579404654 5104806.996221149, 1673017.2583977012 5104806.7752183, 1673016.8743895788 5104806.558215788, 1673016.5803835047 5104806.427214523, 1673016.2713772587 5104806.3232138315, 1673015.9083700865 5104806.241213778, 1673015.5413629618 5104806.189214305, 1673014.5313435358 5104806.090216586, 1673014.3303396234 5104806.059216829, 1673014.1383358396 5104806.018216843, 1673013.9483320238 5104805.960216531, 1673013.7813285748 5104805.886215824, 1673013.524322992 5104805.705213465, 1673013.352318956 5104805.511210514, 1673013.2053152104 5104805.273206632, 1673013.1233129888 5104805.108203857, 1673012.897306614 5104804.592195058, 1673012.7433023916 5104804.270189621, 1673012.6523000125 5104804.108186938, 1673012.536297101 5104803.931184076, 1673012.4082939844 5104803.7591813635, 1673012.1732884296 5104803.484177141, 1673011.6822771055 5104802.978169616, 1673011.403270603 5104802.674165035, 1673011.0182614145 5104802.202157715, 1673010.3002441481 5104801.290143473, 1673009.4672243635 5104800.292128078, 1673009.2122183577 5104799.999123599, 1673008.9812129894 5104799.751119874, 1673008.521202467 5104799.298113222, 1673007.5211799268 5104798.395100305, 1673007.2151728587 5104798.077095568, 1673007.0301684593 5104797.854092124, 1673006.8621643302 5104797.619088383, 1673006.6341583938 5104797.219081777, 1673006.469153829 5104796.864075763, 1673006.2891486487 5104796.428068281, 1673005.601128588 5104794.698038491, 1673005.474124915 5104794.386033129, 1673005.338121097 5104794.080027918, 1673005.2351183156 5104793.875024473, 1673005.0781142544 5104793.606020051, 1673004.8621089342 5104793.301015186, 1673004.664104257 5104793.070011646, 1673004.4080984013 5104792.818007945, 1673004.050090436 5104792.520003798, 1673003.6850824743 5104792.255000303, 1673002.6380599327 5104791.566991631, 1673002.2610517694 5104791.307988296, 1673001.8310423412 5104790.983983954, 1673001.500034983 5104790.709980149, 1673001.2480293012 5104790.4819768835, 1673000.862020451 5104790.096971212, 1673000.228005617 5104789.391960526, 1672999.3999860615 5104788.426945733, 1672999.2009814477 5104788.215942572, 1672999.0529780732 5104788.072940483, 1672998.8419733322 5104787.885937825, 1672998.621968483 5104787.713935486, 1672998.4169640471 5104787.57393369, 1672998.2049595336 5104787.446932165, 1672998.0659566163 5104787.3739313595, 1672997.8289517057 5104787.264930279, 1672997.5889468042 5104787.171929511, 1672997.4069431305 5104787.111929126, 1672996.7109292278 5104786.917928329, 1672996.4799245654 5104786.841927844, 1672996.2639201405 5104786.754927092, 1672995.9849142872 5104786.608925485, 1672995.7259086787 5104786.430923193, 1672995.447902376 5104786.170919434, 1672995.2228970507 5104785.905915362, 1672994.961890678 5104785.550909739, 1672994.6538829843 5104785.089902314, 1672994.4648781728 5104784.7848973395, 1672994.2838734786 5104784.471892182, 1672994.1298694042 5104784.185887423, 1672993.9518645578 5104783.821881294, 1672993.4518506364 5104782.724862665, 1672993.1388422288 5104782.112852409, 1672992.4518240187 5104780.828831024, 1672992.2118178809 5104780.434824582, 1672992.039813648 5104780.192820727, 1672991.8088081728 5104779.918816508, 1672991.6168037811 5104779.729813734, 1672991.2927965913 5104779.464810069, 1672990.5847811725 5104778.9568034, 1672990.3547760407 5104778.76180067, 1672990.1627716774 5104778.579798026, 1672989.890765373 5104778.291793712, 1672989.5077562877 5104777.835786686, 1672988.8187395963 5104776.930772457, 1672988.5877340839 5104776.64776807, 1672988.3967296123 5104776.434764839, 1672988.1957249937 5104776.231761836, 1672987.9257189233 5104775.991758422, 1672987.201702912 5104775.412750481, 1672986.7286925882 5104775.067745917, 1672985.7946724535 5104774.447738066, 1672984.4866444257 5104773.620727849, 1672983.9346324543 5104773.236722874, 1672982.8466086676 5104772.433712206, 1672982.287596589 5104772.055707375, 1672981.5615811106 5104771.61570206, 1672979.1365298352 5104770.249686271, 1672979.4145356452 5104770.389687768, 1672976.5864627305 5104765.602609132, 1672976.482459889 5104765.387605505, 1672976.2794544895 5104765.003599098, 1672975.9544460734 5104764.444589894, 1672975.324430144 5104763.454573817, 1672974.8464182145 5104762.741562339, 1672974.52041033 5104762.316555664, 1672973.6223891117 5104761.267539578, 1672973.3433824694 5104760.929534351, 1672973.064375758 5104760.574528801, 1672972.7713686014 5104760.175522483, 1672967.9392657487 5104757.287487884, 1672962.826181787 5104760.287565452, 1672960.9761605603 5104763.601635538, 1672959.8061545866 5104767.51171406))\"\n        ],\n        \"semantic_type\": \"\",\n        \"description\": \"\"\n      }\n    }\n  ]\n}"
            }
          },
          "metadata": {},
          "execution_count": 140
        }
      ],
      "source": [
        "lakes_bodies_water.set_crs(epsg=3003,inplace=True,allow_override=True)"
      ]
    },
    {
      "cell_type": "code",
      "execution_count": 141,
      "metadata": {
        "colab": {
          "base_uri": "https://localhost:8080/",
          "height": 424
        },
        "id": "dfDrTAqpdaV3",
        "outputId": "3d332ab6-ad7a-4537-f3d6-b7a5ad3390f7"
      },
      "outputs": [
        {
          "output_type": "execute_result",
          "data": {
            "text/plain": [
              "     OBJECTID                                NOMESPACQ  \\\n",
              "0     29690.0                          LAGO DI MOLVENO   \n",
              "1     29743.0  LAGO BACINO S.I.T. - BACINO DI PONTARSO   \n",
              "2     29723.0                         LAGO DEL CARESER   \n",
              "3     29758.0                       LAGO DI PONTE PIA'   \n",
              "4     29861.0                    LAGO DI COSTABRUNELLA   \n",
              "..        ...                                      ...   \n",
              "428   30056.0                  LAGHETTO FORCELLA MAGNA   \n",
              "429   29704.0         LAGHETTO CIMA LAVAZZE' INFERIORE   \n",
              "430   29863.0                             LAGO SPINALE   \n",
              "431   29886.0                 LAGHETTO DI PASSO PORDOI   \n",
              "432   29732.0                            LAGO DI MANNA   \n",
              "\n",
              "                                              geometry  \n",
              "0    POLYGON ((10.96868 46.14153, 10.96867 46.14152...  \n",
              "1    POLYGON ((11.49516 46.11577, 11.49516 46.11576...  \n",
              "2    POLYGON ((10.69561 46.42636, 10.6956 46.42636,...  \n",
              "3    POLYGON ((10.80462 46.05568, 10.80462 46.05568...  \n",
              "4    POLYGON ((11.58239 46.1335, 11.58239 46.1335, ...  \n",
              "..                                                 ...  \n",
              "428  POLYGON ((11.57815 46.16453, 11.57814 46.16453...  \n",
              "429  POLYGON ((10.98612 46.48898, 10.98614 46.48897...  \n",
              "430  POLYGON ((10.86575 46.22061, 10.86576 46.22061...  \n",
              "431  POLYGON ((11.80038 46.48572, 11.80041 46.48567...  \n",
              "432  POLYGON ((11.86471 46.26924, 11.86471 46.26924...  \n",
              "\n",
              "[433 rows x 3 columns]"
            ],
            "text/html": [
              "\n",
              "  <div id=\"df-f55e208f-9859-416e-8438-52e953a1cbd7\" class=\"colab-df-container\">\n",
              "    <div>\n",
              "<style scoped>\n",
              "    .dataframe tbody tr th:only-of-type {\n",
              "        vertical-align: middle;\n",
              "    }\n",
              "\n",
              "    .dataframe tbody tr th {\n",
              "        vertical-align: top;\n",
              "    }\n",
              "\n",
              "    .dataframe thead th {\n",
              "        text-align: right;\n",
              "    }\n",
              "</style>\n",
              "<table border=\"1\" class=\"dataframe\">\n",
              "  <thead>\n",
              "    <tr style=\"text-align: right;\">\n",
              "      <th></th>\n",
              "      <th>OBJECTID</th>\n",
              "      <th>NOMESPACQ</th>\n",
              "      <th>geometry</th>\n",
              "    </tr>\n",
              "  </thead>\n",
              "  <tbody>\n",
              "    <tr>\n",
              "      <th>0</th>\n",
              "      <td>29690.0</td>\n",
              "      <td>LAGO DI MOLVENO</td>\n",
              "      <td>POLYGON ((10.96868 46.14153, 10.96867 46.14152...</td>\n",
              "    </tr>\n",
              "    <tr>\n",
              "      <th>1</th>\n",
              "      <td>29743.0</td>\n",
              "      <td>LAGO BACINO S.I.T. - BACINO DI PONTARSO</td>\n",
              "      <td>POLYGON ((11.49516 46.11577, 11.49516 46.11576...</td>\n",
              "    </tr>\n",
              "    <tr>\n",
              "      <th>2</th>\n",
              "      <td>29723.0</td>\n",
              "      <td>LAGO DEL CARESER</td>\n",
              "      <td>POLYGON ((10.69561 46.42636, 10.6956 46.42636,...</td>\n",
              "    </tr>\n",
              "    <tr>\n",
              "      <th>3</th>\n",
              "      <td>29758.0</td>\n",
              "      <td>LAGO DI PONTE PIA'</td>\n",
              "      <td>POLYGON ((10.80462 46.05568, 10.80462 46.05568...</td>\n",
              "    </tr>\n",
              "    <tr>\n",
              "      <th>4</th>\n",
              "      <td>29861.0</td>\n",
              "      <td>LAGO DI COSTABRUNELLA</td>\n",
              "      <td>POLYGON ((11.58239 46.1335, 11.58239 46.1335, ...</td>\n",
              "    </tr>\n",
              "    <tr>\n",
              "      <th>...</th>\n",
              "      <td>...</td>\n",
              "      <td>...</td>\n",
              "      <td>...</td>\n",
              "    </tr>\n",
              "    <tr>\n",
              "      <th>428</th>\n",
              "      <td>30056.0</td>\n",
              "      <td>LAGHETTO FORCELLA MAGNA</td>\n",
              "      <td>POLYGON ((11.57815 46.16453, 11.57814 46.16453...</td>\n",
              "    </tr>\n",
              "    <tr>\n",
              "      <th>429</th>\n",
              "      <td>29704.0</td>\n",
              "      <td>LAGHETTO CIMA LAVAZZE' INFERIORE</td>\n",
              "      <td>POLYGON ((10.98612 46.48898, 10.98614 46.48897...</td>\n",
              "    </tr>\n",
              "    <tr>\n",
              "      <th>430</th>\n",
              "      <td>29863.0</td>\n",
              "      <td>LAGO SPINALE</td>\n",
              "      <td>POLYGON ((10.86575 46.22061, 10.86576 46.22061...</td>\n",
              "    </tr>\n",
              "    <tr>\n",
              "      <th>431</th>\n",
              "      <td>29886.0</td>\n",
              "      <td>LAGHETTO DI PASSO PORDOI</td>\n",
              "      <td>POLYGON ((11.80038 46.48572, 11.80041 46.48567...</td>\n",
              "    </tr>\n",
              "    <tr>\n",
              "      <th>432</th>\n",
              "      <td>29732.0</td>\n",
              "      <td>LAGO DI MANNA</td>\n",
              "      <td>POLYGON ((11.86471 46.26924, 11.86471 46.26924...</td>\n",
              "    </tr>\n",
              "  </tbody>\n",
              "</table>\n",
              "<p>433 rows × 3 columns</p>\n",
              "</div>\n",
              "    <div class=\"colab-df-buttons\">\n",
              "\n",
              "  <div class=\"colab-df-container\">\n",
              "    <button class=\"colab-df-convert\" onclick=\"convertToInteractive('df-f55e208f-9859-416e-8438-52e953a1cbd7')\"\n",
              "            title=\"Convert this dataframe to an interactive table.\"\n",
              "            style=\"display:none;\">\n",
              "\n",
              "  <svg xmlns=\"http://www.w3.org/2000/svg\" height=\"24px\" viewBox=\"0 -960 960 960\">\n",
              "    <path d=\"M120-120v-720h720v720H120Zm60-500h600v-160H180v160Zm220 220h160v-160H400v160Zm0 220h160v-160H400v160ZM180-400h160v-160H180v160Zm440 0h160v-160H620v160ZM180-180h160v-160H180v160Zm440 0h160v-160H620v160Z\"/>\n",
              "  </svg>\n",
              "    </button>\n",
              "\n",
              "  <style>\n",
              "    .colab-df-container {\n",
              "      display:flex;\n",
              "      gap: 12px;\n",
              "    }\n",
              "\n",
              "    .colab-df-convert {\n",
              "      background-color: #E8F0FE;\n",
              "      border: none;\n",
              "      border-radius: 50%;\n",
              "      cursor: pointer;\n",
              "      display: none;\n",
              "      fill: #1967D2;\n",
              "      height: 32px;\n",
              "      padding: 0 0 0 0;\n",
              "      width: 32px;\n",
              "    }\n",
              "\n",
              "    .colab-df-convert:hover {\n",
              "      background-color: #E2EBFA;\n",
              "      box-shadow: 0px 1px 2px rgba(60, 64, 67, 0.3), 0px 1px 3px 1px rgba(60, 64, 67, 0.15);\n",
              "      fill: #174EA6;\n",
              "    }\n",
              "\n",
              "    .colab-df-buttons div {\n",
              "      margin-bottom: 4px;\n",
              "    }\n",
              "\n",
              "    [theme=dark] .colab-df-convert {\n",
              "      background-color: #3B4455;\n",
              "      fill: #D2E3FC;\n",
              "    }\n",
              "\n",
              "    [theme=dark] .colab-df-convert:hover {\n",
              "      background-color: #434B5C;\n",
              "      box-shadow: 0px 1px 3px 1px rgba(0, 0, 0, 0.15);\n",
              "      filter: drop-shadow(0px 1px 2px rgba(0, 0, 0, 0.3));\n",
              "      fill: #FFFFFF;\n",
              "    }\n",
              "  </style>\n",
              "\n",
              "    <script>\n",
              "      const buttonEl =\n",
              "        document.querySelector('#df-f55e208f-9859-416e-8438-52e953a1cbd7 button.colab-df-convert');\n",
              "      buttonEl.style.display =\n",
              "        google.colab.kernel.accessAllowed ? 'block' : 'none';\n",
              "\n",
              "      async function convertToInteractive(key) {\n",
              "        const element = document.querySelector('#df-f55e208f-9859-416e-8438-52e953a1cbd7');\n",
              "        const dataTable =\n",
              "          await google.colab.kernel.invokeFunction('convertToInteractive',\n",
              "                                                    [key], {});\n",
              "        if (!dataTable) return;\n",
              "\n",
              "        const docLinkHtml = 'Like what you see? Visit the ' +\n",
              "          '<a target=\"_blank\" href=https://colab.research.google.com/notebooks/data_table.ipynb>data table notebook</a>'\n",
              "          + ' to learn more about interactive tables.';\n",
              "        element.innerHTML = '';\n",
              "        dataTable['output_type'] = 'display_data';\n",
              "        await google.colab.output.renderOutput(dataTable, element);\n",
              "        const docLink = document.createElement('div');\n",
              "        docLink.innerHTML = docLinkHtml;\n",
              "        element.appendChild(docLink);\n",
              "      }\n",
              "    </script>\n",
              "  </div>\n",
              "\n",
              "\n",
              "    <div id=\"df-d9e27950-86b0-480b-894a-f27e75e78f3f\">\n",
              "      <button class=\"colab-df-quickchart\" onclick=\"quickchart('df-d9e27950-86b0-480b-894a-f27e75e78f3f')\"\n",
              "                title=\"Suggest charts\"\n",
              "                style=\"display:none;\">\n",
              "\n",
              "<svg xmlns=\"http://www.w3.org/2000/svg\" height=\"24px\"viewBox=\"0 0 24 24\"\n",
              "     width=\"24px\">\n",
              "    <g>\n",
              "        <path d=\"M19 3H5c-1.1 0-2 .9-2 2v14c0 1.1.9 2 2 2h14c1.1 0 2-.9 2-2V5c0-1.1-.9-2-2-2zM9 17H7v-7h2v7zm4 0h-2V7h2v10zm4 0h-2v-4h2v4z\"/>\n",
              "    </g>\n",
              "</svg>\n",
              "      </button>\n",
              "\n",
              "<style>\n",
              "  .colab-df-quickchart {\n",
              "      --bg-color: #E8F0FE;\n",
              "      --fill-color: #1967D2;\n",
              "      --hover-bg-color: #E2EBFA;\n",
              "      --hover-fill-color: #174EA6;\n",
              "      --disabled-fill-color: #AAA;\n",
              "      --disabled-bg-color: #DDD;\n",
              "  }\n",
              "\n",
              "  [theme=dark] .colab-df-quickchart {\n",
              "      --bg-color: #3B4455;\n",
              "      --fill-color: #D2E3FC;\n",
              "      --hover-bg-color: #434B5C;\n",
              "      --hover-fill-color: #FFFFFF;\n",
              "      --disabled-bg-color: #3B4455;\n",
              "      --disabled-fill-color: #666;\n",
              "  }\n",
              "\n",
              "  .colab-df-quickchart {\n",
              "    background-color: var(--bg-color);\n",
              "    border: none;\n",
              "    border-radius: 50%;\n",
              "    cursor: pointer;\n",
              "    display: none;\n",
              "    fill: var(--fill-color);\n",
              "    height: 32px;\n",
              "    padding: 0;\n",
              "    width: 32px;\n",
              "  }\n",
              "\n",
              "  .colab-df-quickchart:hover {\n",
              "    background-color: var(--hover-bg-color);\n",
              "    box-shadow: 0 1px 2px rgba(60, 64, 67, 0.3), 0 1px 3px 1px rgba(60, 64, 67, 0.15);\n",
              "    fill: var(--button-hover-fill-color);\n",
              "  }\n",
              "\n",
              "  .colab-df-quickchart-complete:disabled,\n",
              "  .colab-df-quickchart-complete:disabled:hover {\n",
              "    background-color: var(--disabled-bg-color);\n",
              "    fill: var(--disabled-fill-color);\n",
              "    box-shadow: none;\n",
              "  }\n",
              "\n",
              "  .colab-df-spinner {\n",
              "    border: 2px solid var(--fill-color);\n",
              "    border-color: transparent;\n",
              "    border-bottom-color: var(--fill-color);\n",
              "    animation:\n",
              "      spin 1s steps(1) infinite;\n",
              "  }\n",
              "\n",
              "  @keyframes spin {\n",
              "    0% {\n",
              "      border-color: transparent;\n",
              "      border-bottom-color: var(--fill-color);\n",
              "      border-left-color: var(--fill-color);\n",
              "    }\n",
              "    20% {\n",
              "      border-color: transparent;\n",
              "      border-left-color: var(--fill-color);\n",
              "      border-top-color: var(--fill-color);\n",
              "    }\n",
              "    30% {\n",
              "      border-color: transparent;\n",
              "      border-left-color: var(--fill-color);\n",
              "      border-top-color: var(--fill-color);\n",
              "      border-right-color: var(--fill-color);\n",
              "    }\n",
              "    40% {\n",
              "      border-color: transparent;\n",
              "      border-right-color: var(--fill-color);\n",
              "      border-top-color: var(--fill-color);\n",
              "    }\n",
              "    60% {\n",
              "      border-color: transparent;\n",
              "      border-right-color: var(--fill-color);\n",
              "    }\n",
              "    80% {\n",
              "      border-color: transparent;\n",
              "      border-right-color: var(--fill-color);\n",
              "      border-bottom-color: var(--fill-color);\n",
              "    }\n",
              "    90% {\n",
              "      border-color: transparent;\n",
              "      border-bottom-color: var(--fill-color);\n",
              "    }\n",
              "  }\n",
              "</style>\n",
              "\n",
              "      <script>\n",
              "        async function quickchart(key) {\n",
              "          const quickchartButtonEl =\n",
              "            document.querySelector('#' + key + ' button');\n",
              "          quickchartButtonEl.disabled = true;  // To prevent multiple clicks.\n",
              "          quickchartButtonEl.classList.add('colab-df-spinner');\n",
              "          try {\n",
              "            const charts = await google.colab.kernel.invokeFunction(\n",
              "                'suggestCharts', [key], {});\n",
              "          } catch (error) {\n",
              "            console.error('Error during call to suggestCharts:', error);\n",
              "          }\n",
              "          quickchartButtonEl.classList.remove('colab-df-spinner');\n",
              "          quickchartButtonEl.classList.add('colab-df-quickchart-complete');\n",
              "        }\n",
              "        (() => {\n",
              "          let quickchartButtonEl =\n",
              "            document.querySelector('#df-d9e27950-86b0-480b-894a-f27e75e78f3f button');\n",
              "          quickchartButtonEl.style.display =\n",
              "            google.colab.kernel.accessAllowed ? 'block' : 'none';\n",
              "        })();\n",
              "      </script>\n",
              "    </div>\n",
              "\n",
              "    </div>\n",
              "  </div>\n"
            ],
            "application/vnd.google.colaboratory.intrinsic+json": {
              "type": "dataframe",
              "summary": "{\n  \"name\": \"lakes_bodies_water\",\n  \"rows\": 433,\n  \"fields\": [\n    {\n      \"column\": \"OBJECTID\",\n      \"properties\": {\n        \"dtype\": \"number\",\n        \"std\": 187.4295507031295,\n        \"min\": 29677.0,\n        \"max\": 31709.0,\n        \"num_unique_values\": 433,\n        \"samples\": [\n          30062.0,\n          30054.0,\n          29682.0\n        ],\n        \"semantic_type\": \"\",\n        \"description\": \"\"\n      }\n    },\n    {\n      \"column\": \"NOMESPACQ\",\n      \"properties\": {\n        \"dtype\": \"string\",\n        \"num_unique_values\": 430,\n        \"samples\": [\n          \"LAGHETTO D'ARZON\",\n          \"LAGHETTO LAGO CORVO I\",\n          \"LAGO EL BUS\"\n        ],\n        \"semantic_type\": \"\",\n        \"description\": \"\"\n      }\n    },\n    {\n      \"column\": \"geometry\",\n      \"properties\": {\n        \"dtype\": \"geometry\",\n        \"num_unique_values\": 433,\n        \"samples\": [\n          \"POLYGON ((11.761794053668284 46.20770373667187, 11.76179510110488 46.207703684347365, 11.761798001783696 46.207703362207035, 11.761810130730868 46.207701709905166, 11.761855775727687 46.20769446805659, 11.76186446062751 46.20769316002811, 11.761875586388594 46.207691666979926, 11.761883898628334 46.207690682975404, 11.761895456309508 46.2076895305001, 11.76190518046051 46.207688782371356, 11.76194707990324 46.207686212271, 11.76196442759641 46.20768496480182, 11.761993013001367 46.20768290559758, 11.761998584446234 46.20768232986876, 11.762002977171356 46.207681773638534, 11.76200809801274 46.207681001793745, 11.762013147801145 46.20768010566037, 11.762018138582729 46.207679066946355, 11.762023876161741 46.20767766815878, 11.762030123415652 46.20767583402682, 11.76203542907206 46.20767409466444, 11.762045963919944 46.20767038377612, 11.762051319112722 46.20766859821307, 11.762057632908338 46.207666798472474, 11.762062127605379 46.20766569074713, 11.762066691551462 46.207664671351736, 11.762075765074322 46.20766284088524, 11.762089005791818 46.20766035163217, 11.76209424122929 46.20765927999795, 11.762099405613576 46.2076580840752, 11.762102501151938 46.2076572531906, 11.762107583660553 46.20765571723018, 11.762112579913223 46.2076540123466, 11.762117518511493 46.20765219185111, 11.762126342538835 46.2076487473327, 11.762143079270091 46.2076417813242, 11.762150314878129 46.2076387172279, 11.762165916238141 46.20763185967268, 11.762177247916059 46.20762697744797, 11.762182317985769 46.20762467674698, 11.762187521013201 46.20762218382152, 11.762192535553217 46.20761955144622, 11.762197293709255 46.207616718259736, 11.762201773643833 46.20761376579418, 11.762205927623471 46.20761077620779, 11.762213714054356 46.20760473764151, 11.762219596745473 46.20759977115825, 11.762237025661081 46.20758412096825, 11.762240791067605 46.20758087976338, 11.762244651619056 46.207577726262215, 11.762247886546225 46.20757528092316, 11.762251229566449 46.207572922974705, 11.762254668633645 46.20757067070911, 11.762265546204192 46.20756397236525, 11.762268252325722 46.20756209784008, 11.762270785613838 46.20756013748958, 11.762272747065746 46.207558406977036, 11.762274523187298 46.20755659994182, 11.762277009896945 46.20755345265843, 11.76227886563353 46.20755013162291, 11.762279585302544 46.207548197125654, 11.762280082601192 46.207546223003206, 11.762280429799809 46.207542290412775, 11.762280205613555 46.20753859664996, 11.762279615276531 46.207534839737285, 11.762278737829513 46.2075310447649, 11.762274905702327 46.20751770876072, 11.762274139184612 46.20751431612604, 11.762273612494646 46.20751105269889, 11.762273303986671 46.20750748698126, 11.762273294245732 46.207503158001686, 11.762273595706855 46.20749883049754, 11.7622742926246 46.207493341373805, 11.762276077282936 46.20748265969118, 11.762276461200434 46.20747894222359, 11.762276481994473 46.20747496352311, 11.762276008060521 46.20747094278273, 11.762275264282753 46.20746748659505, 11.762272565538629 46.20745813738433, 11.762271679784773 46.207454693630105, 11.762270841955939 46.20745065468754, 11.762270222438572 46.207446574464306, 11.762269874828236 46.20744248766618, 11.762269812461737 46.20743917700965, 11.762269927116277 46.20743629409412, 11.762270915957483 46.20742525363593, 11.762271044585871 46.20742084030649, 11.762270763130324 46.20741600487156, 11.762270321665955 46.207412631378226, 11.762269712329365 46.207409270944524, 11.76226892217266 46.207405923883634, 11.76226824681125 46.20740357309655, 11.762266790509603 46.20739935109908, 11.76226548784712 46.207396124436144, 11.762264044110355 46.20739292818579, 11.762262446802316 46.2073897716506, 11.762260155199003 46.207385695857226, 11.762258381259393 46.207382894610454, 11.762254500342037 46.20737737217344, 11.762249477685534 46.20737079729022, 11.762245254069526 46.20736567915908, 11.76223874639492 46.20735818613612, 11.762218277732496 46.207335720930125, 11.762215611742816 46.20733296825386, 11.76221234460833 46.20732986109489, 11.762209350090162 46.20732727837031, 11.762206203353802 46.207324762329414, 11.76219988817383 46.207320072789315, 11.762193538338867 46.2073157261038, 11.762180151208666 46.20730728336593, 11.7621764906165 46.207304860753155, 11.762169646251376 46.20729995899571, 11.762159031142366 46.20729198925571, 11.76215503951035 46.207289169626506, 11.762150921556124 46.20728641605471, 11.762142230668266 46.207280883909974, 11.762123299528948 46.20726968607242, 11.762112939783416 46.20726344724001, 11.762106064186597 46.20725947327998, 11.762090232956941 46.20725089161773, 11.762070433555717 46.20723995777716, 11.76206635909086 46.20723755416822, 11.762055086757071 46.20723043735105, 11.762050981437746 46.207227935482635, 11.762038616975271 46.20722075506546, 11.762025795024561 46.20721298267827, 11.762019245971503 46.20720931583339, 11.761999455294609 46.20719881379101, 11.761995839228652 46.207197020127175, 11.761983416543616 46.20719126318243, 11.761976894099 46.207188126718165, 11.761969613657621 46.2071843515476, 11.761960414034377 46.20717927271107, 11.761951264723619 46.207173904643064, 11.761944265276162 46.20716952864756, 11.761937872704952 46.207165362990004, 11.761929274168224 46.207159603585005, 11.761918956660113 46.207152913691395, 11.761914961248207 46.207150535167074, 11.761910840866703 46.20714824966855, 11.761906063171859 46.20714578205209, 11.761901125270933 46.207143480316866, 11.761898290849157 46.207142279782346, 11.761889738175245 46.20713898538817, 11.761877690867179 46.20713476743332, 11.761872790263883 46.207132950819265, 11.761867962388482 46.207131033441726, 11.761861700072059 46.20712843070863, 11.76185725883028 46.20712646798123, 11.761849626234707 46.20712290832732, 11.761835944872816 46.20711609274314, 11.761831481667562 46.207113950536844, 11.76182352357497 46.20711036274881, 11.761819445905658 46.207108670243876, 11.76181351057436 46.207106383618836, 11.76180750747545 46.20710429664172, 11.761798355858181 46.20710146674339, 11.76179318844188 46.20710001659442, 11.761783692320234 46.207097555041656, 11.761774073032802 46.207095222472056, 11.761763346864944 46.20709279065544, 11.761757152186957 46.20709153634846, 11.761745702870224 46.20708941902781, 11.761731803574534 46.20708704592058, 11.761719438567624 46.207085022738404, 11.761709184769094 46.20708347954158, 11.761703807866246 46.20708276348924, 11.761693624344913 46.207081587610396, 11.761683347610553 46.207080620994354, 11.761676998392234 46.20708016245849, 11.761671789614969 46.207079955365664, 11.761666616652123 46.20707994541666, 11.761661507202748 46.20708016794357, 11.761657739499181 46.20708052004144, 11.761652824971874 46.20708126888208, 11.761647171316467 46.20708253061562, 11.761641678571964 46.20708415747721, 11.761637260500462 46.20708575835835, 11.761632981825949 46.20708755387924, 11.761629676369278 46.207089109861776, 11.761626479905495 46.207090771214716, 11.761622699236842 46.20709293271479, 11.761612897448943 46.20709910996639, 11.761609871109796 46.20710080320792, 11.761606719673662 46.20710232846505, 11.76160340204274 46.207103641729056, 11.761600555241634 46.207104520589766, 11.761597610141083 46.20710524881917, 11.761592186712273 46.207106189968684, 11.761586626464817 46.20710672940533, 11.761581254899092 46.20710689526203, 11.761577088712139 46.20710679796753, 11.761573032293608 46.20710656301256, 11.761569895625218 46.20710631482352, 11.761562951126832 46.20710561865931, 11.761559308589664 46.20710536469813, 11.761555907355426 46.20710552792451, 11.761552781885541 46.20710627851393, 11.761549903128387 46.20710755416561, 11.761547277720176 46.207109228712824, 11.761540105241945 46.2071153603976, 11.761530175619784 46.20712312481111, 11.761527194359228 46.20712571700542, 11.76152442928102 46.207128483982636, 11.761522163760105 46.20713113087814, 11.761520177357733 46.20713391503334, 11.76151841209687 46.20713697285654, 11.761516976393667 46.207140139718796, 11.761515509112996 46.20714448640301, 11.761514674422171 46.2071477467418, 11.761513555686781 46.20715361507634, 11.761512315998443 46.2071632755231, 11.761511490880702 46.207168794742756, 11.761510655340786 46.207173072152564, 11.761508156854996 46.20718425710353, 11.761507637169053 46.207187077805884, 11.761506918411634 46.20719187441851, 11.761506072588352 46.207199824259405, 11.76150538217284 46.20721061448481, 11.761504938775065 46.207223486842636, 11.76150476619608 46.20724150090954, 11.761504304931341 46.20726823438796, 11.76150429246104 46.20727755015231, 11.761504452570069 46.20728642972323, 11.76150479227281 46.20729552996392, 11.761505979226929 46.20731351116554, 11.761507052714018 46.20733414124151, 11.761507768411947 46.20734427644474, 11.761509577586924 46.20736742686231, 11.761510866441476 46.20739855525359, 11.761511944858649 46.20741644007377, 11.761513105981537 46.2074289946299, 11.761516507162094 46.20746010795955, 11.761518849196356 46.207484577561495, 11.761519703395972 46.20749488942526, 11.761520913679332 46.2075130770726, 11.761521599521615 46.20752054886491, 11.761522877273105 46.20753051747317, 11.76152356856356 46.207534478959474, 11.761524388883085 46.20753842832621, 11.761525350278033 46.207542347281226, 11.761526421893315 46.20754613756552, 11.761528623624999 46.207552816675154, 11.761530260245177 46.207557016321964, 11.76153215266948 46.207561146781785, 11.761533853525417 46.20756430082388, 11.761535768636486 46.20756733268073, 11.761537875262569 46.20757030590514, 11.761541961361903 46.20757552639147, 11.761544869213056 46.20757896627098, 11.761547942683427 46.207582348144015, 11.761550048481146 46.20758452934891, 11.761553768125461 46.20758812961268, 11.761557458592122 46.20759140656558, 11.761561299475913 46.207594580877235, 11.76156422640824 46.20759685023686, 11.761567266716884 46.2075990538525, 11.761570714274477 46.20760136462888, 11.761574286803905 46.20760358237956, 11.761577532351474 46.20760548401869, 11.761580852882178 46.20760732984231, 11.761593417528733 46.207613848436814, 11.76159774870804 46.20761620085433, 11.761603306395928 46.20761948666908, 11.76160870973673 46.2076230552287, 11.76161242089257 46.20762571064883, 11.761623315239582 46.20763407870888, 11.761628670975407 46.207637990435394, 11.761634991753601 46.207642274851445, 11.761638498646542 46.207644476186005, 11.761646443012852 46.20764908136913, 11.761650867538327 46.207651485530654, 11.761660074175182 46.207656186203586, 11.761679913340739 46.207666102103104, 11.761686481307105 46.207669111477486, 11.761692250174518 46.207671438135186, 11.76169986860739 46.2076741971021, 11.761725821444555 46.2076829751433, 11.76174761869415 46.20769057558034, 11.761764504477718 46.20769614364646, 11.761774563132875 46.2076992216322, 11.76178067729078 46.207700936907656, 11.761786298395325 46.207702385089185, 11.76179062444378 46.20770334255418, 11.761792455651877 46.207703667300656, 11.761793616141036 46.20770380125235, 11.761794053668284 46.20770373667187))\",\n          \"POLYGON ((10.81794084281754 46.441930329041625, 10.817936147876988 46.44191325894511, 10.817942112691997 46.441885543506984, 10.817937195983044 46.44186180803449, 10.817918974883158 46.44185257589678, 10.81790638414379 46.44184705217673, 10.817894951505826 46.44183485913895, 10.817886321842803 46.441823566518785, 10.817860091363006 46.44182207560911, 10.817838017395514 46.441821472592586, 10.817809104840583 46.44182193228713, 10.817783254425928 46.441831865149354, 10.817768520293216 46.441844483226554, 10.81774254327523 46.44185061114825, 10.81771518698349 46.44185676099245, 10.817681340411662 46.44187444384646, 10.81762269300471 46.44189252096979, 10.817577653934391 46.44190562079747, 10.81754786894743 46.44192134007121, 10.817548470388617 46.44193942024431, 10.817540777801257 46.44195668728166, 10.817515339298192 46.44197900635258, 10.817488521203641 46.44200133834863, 10.817453326613228 46.44201998754939, 10.817448664664473 46.442045783278346, 10.817452278351997 46.44207144745594, 10.817443364724381 46.44209349482615, 10.817428757007521 46.44210991779326, 10.81741687611583 46.44212534342709, 10.817414719266713 46.442143476445565, 10.81742236261417 46.442166214610786, 10.817434365510813 46.44219555237756, 10.817426862850278 46.442218531303155, 10.81741926503604 46.44223864978288, 10.817427066980128 46.44226615535608, 10.817441783732544 46.44229449599623, 10.817458132915185 46.44233042457253, 10.817482555088368 46.44236051889869, 10.817490211509108 46.442383256850846, 10.81748692853463 46.44240902165906, 10.817487783704227 46.44243472968491, 10.817502310529687 46.44245735842029, 10.817530522336604 46.442476916647976, 10.817562858704454 46.44249640030005, 10.817604773934955 46.442513832691056, 10.817654571843548 46.44251970991724, 10.817697486051816 46.44252568756162, 10.817757988623361 46.44252187269649, 10.817855825122196 46.442522225135285, 10.817912189524112 46.44251846698435, 10.817947998867227 46.44251789760183, 10.817972850399197 46.442519410418015, 10.817978607733279 46.44252693275937, 10.817994229133157 46.44254097615418, 10.818019302464162 46.442549154334905, 10.818056522538248 46.442549507472165, 10.818089573328951 46.44254898191037, 10.818110065224534 46.442543895121176, 10.818120738076392 46.442533249556114, 10.818136883320268 46.44252156298118, 10.818153155173878 46.4425136813343, 10.81817324817947 46.44249621705983, 10.818191600449905 46.44246830461876, 10.818211439886587 46.442443221482314, 10.818237036962817 46.44242566966578, 10.81825993892155 46.442410068676566, 10.818262177677695 46.442394796297656, 10.818254787193732 46.4423796680553, 10.818262416447377 46.44236050300593, 10.818281478525805 46.442353530952644, 10.818318381747439 46.442344367183786, 10.818359270439448 46.442331342073466, 10.818376794552483 46.442319624534505, 10.818402486717083 46.44230493312593, 10.81841577837638 46.442290438937896, 10.818415493075864 46.44228186660179, 10.818416555619272 46.442272327842595, 10.818408007665838 46.44226388692079, 10.818403439480349 46.442250630771944, 10.818402647351611 46.44222682972085, 10.818399286770216 46.44220878443558, 10.818401316661406 46.442186846473405, 10.818389313250599 46.44215750881558, 10.818355945680134 46.442148508642696, 10.81829663305952 46.44214659898476, 10.81825910926786 46.44213671989638, 10.81822708957419 46.442126753264105, 10.818177355428965 46.44212278324544, 10.818127462649784 46.44211404579793, 10.81809937773528 46.44209830164247, 10.818086388375168 46.44208040946309, 10.818076239738517 46.44206533406793, 10.818067185136444 46.442041664400946, 10.818055023603945 46.442007568292006, 10.81803388556077 46.4419936216264, 10.818003023480502 46.44197696762165, 10.817972288020565 46.441964118539346, 10.81795541442541 46.44195391099519, 10.81794084281754 46.441930329041625))\",\n          \"POLYGON ((11.236306834778803 46.07441496304837, 11.236307939663362 46.07442438291944, 11.236308123159107 46.07442668344932, 11.236308152317866 46.07442900500131, 11.236307943551722 46.074432159254464, 11.236307508407679 46.07443483191325, 11.236306707611913 46.074437736741544, 11.236306144417025 46.07443916084076, 11.236304543547845 46.07444210833191, 11.23630254831467 46.07444457751697, 11.236300851618498 46.07444611380912, 11.236298940901445 46.074447474281186, 11.236296639253432 46.07444876140137, 11.236293567010316 46.07445018061199, 11.236290503327734 46.074451491649235, 11.236286683587595 46.074453294511294, 11.236285532399899 46.0744539290779, 11.236282559858083 46.07445589536563, 11.236280263984659 46.07445796541381, 11.236279237615754 46.07445912856514, 11.236277839376621 46.07446101003333, 11.236276600926109 46.074463005379826, 11.236275626932144 46.07446482454063, 11.236273501065556 46.07446950139882, 11.236270926241865 46.074476509167944, 11.236267812895239 46.07448619161918, 11.236265993844558 46.074491420500934, 11.23626485707372 46.07449433190551, 11.23626269078373 46.074499288569484, 11.236261759915989 46.0745012148917, 11.236259726196385 46.07450497189735, 11.236258026509804 46.07450771431116, 11.236255638645584 46.074511028225174, 11.236251133631752 46.07451635468548, 11.236241575788823 46.074526892321956, 11.236240244902687 46.07452852045794, 11.236236996834448 46.07453294926754, 11.236234379238878 46.07453697871555, 11.236231365906365 46.07454209596679, 11.23622921095862 46.07454605335529, 11.236221425321569 46.07456108353965, 11.236218679553271 46.07456578153133, 11.236216765276497 46.07456865415155, 11.236214398526732 46.0745718506452, 11.236211761504443 46.074575079430566, 11.236203051289156 46.074584511414585, 11.236200432114234 46.07458754183988, 11.23619867294075 46.07458977239006, 11.236197044441147 46.07459203638428, 11.236195281592469 46.074594816035344, 11.236194198563927 46.07459681733917, 11.236193232560451 46.07459883435328, 11.236192342069907 46.074601119903534, 11.236191560204924 46.07460385335136, 11.236190975077786 46.07460665495206, 11.236190556119903 46.07460940829778, 11.236189434967379 46.074618466720615, 11.236188678905398 46.07462183869712, 11.236187542289397 46.074625074114934, 11.236186344213314 46.074627428689155, 11.236184354944589 46.074630365780024, 11.236183318919371 46.074631610123745, 11.236176677632187 46.07463879649218, 11.236169763403955 46.07464786930208, 11.236156019501326 46.07466426717333, 11.236153330944347 46.07466782098311, 11.236152182212436 46.074669796571136, 11.23615133105099 46.07467177533509, 11.236150906155972 46.07467342173837, 11.236150656636037 46.07467620776928, 11.23615064128672 46.07467998826943, 11.236150366728408 46.07468439487601, 11.236150002768186 46.07468658911557, 11.236149419859887 46.07468880564167, 11.236148874668572 46.074690355394324, 11.23614790191804 46.07469252554816, 11.23614672132431 46.07469467276883, 11.2361457245878 46.074696249360734, 11.236143090624262 46.07469987410547, 11.236137731919625 46.07470647733745, 11.236135140557828 46.074709876236234, 11.236132464514702 46.074714059833866, 11.236130119517911 46.07471843496215, 11.236128248478378 46.074722377791105, 11.236126907647927 46.074725680208765, 11.236125919710611 46.07472907472431, 11.236125419016384 46.074732045681, 11.236125190853949 46.07473664038937, 11.236125547938242 46.07474227669808, 11.236126491599055 46.07475090768429, 11.236126685384264 46.07475442307713, 11.23612663550864 46.07475734920784, 11.23612643549503 46.07476008026684, 11.236126027799045 46.07476311240655, 11.236124260005699 46.07477185046789, 11.236123856711956 46.07477435149337, 11.236123558570469 46.07477753449681, 11.236123481194475 46.074780740180515, 11.236123691655562 46.074785308302566, 11.23612501820913 46.07479733397388, 11.236125174925709 46.074799932043774, 11.23612518037258 46.074802947096416, 11.236125002205366 46.074805578722525, 11.236124583767491 46.07480866507531, 11.236124141546286 46.0748108428456, 11.236122348436206 46.07481703426789, 11.23611986585041 46.07482408523015, 11.23611875272931 46.07482694216733, 11.236117000164871 46.07483093667993, 11.236114824805489 46.07483502947273, 11.236099779288544 46.074922268552264, 11.236099560453319 46.074926134039366, 11.236092862037937 46.07498535326719, 11.236093752890223 46.074988837015255, 11.236093680963924 46.074992177599334, 11.236093095262486 46.074995285226706, 11.236092016661475 46.07499899653302, 11.236089525300809 46.07500647068848, 11.236085357440386 46.07502078201715, 11.236084645585096 46.07502428813462, 11.236084439956866 46.07502656027909, 11.236084547444502 46.075030500383285, 11.236084999266227 46.075034640758716, 11.23608590162311 46.07504032939801, 11.236088047359223 46.07505246504207, 11.236088794126806 46.0750578237091, 11.236089367169603 46.075064643853416, 11.23608941484904 46.07507030421892, 11.23608921349859 46.075073962352775, 11.236088605824508 46.075079086516574, 11.236087793457312 46.075083305638856, 11.23606727529931 46.07510552439081, 11.236056310904923 46.0751174216112, 11.236056055599079 46.07512230486563, 11.236053127207796 46.075180091227764, 11.236048887183427 46.07518717658594, 11.23602917762632 46.075220126070946, 11.236053718774254 46.075253937544836, 11.236096621592964 46.075257607049146, 11.236100142003274 46.075255756049714, 11.23610192930398 46.075255181038116, 11.236103623766391 46.07525486885742, 11.236105184080028 46.07525475731285, 11.236106646830935 46.07525479168547, 11.236108958972887 46.07525504344508, 11.236111356279858 46.07525548254769, 11.236125355686523 46.07525884472489, 11.236137656716751 46.075261142085544, 11.236141438313117 46.07526191411115, 11.236147972092319 46.07526358631697, 11.236153359068092 46.07526536197377, 11.236156171298736 46.075266467989465, 11.236160137561228 46.075268289455394, 11.236163058782498 46.0752698523618, 11.236165854052942 46.07527149873772, 11.236173199548261 46.07527629621942, 11.236175608970788 46.075277995149996, 11.236177878066542 46.07527974182961, 11.23618073843326 46.07528235898226, 11.23618302820467 46.075285257317816, 11.236184332820729 46.07528777891575, 11.236184890372735 46.07528941508917, 11.23618525263815 46.075291019083174, 11.236185380123477 46.07529257366991, 11.236185261723366 46.07529700422099, 11.236185570765418 46.07529985132229, 11.236186209848567 46.07530158490504, 11.236187163264203 46.07530309632368, 11.23618815346777 46.07530423800274, 11.236189591021683 46.07530556893585, 11.23619123315019 46.07530684186176, 11.236193080216731 46.07530806577386, 11.23619509272787 46.075309223444144, 11.236196886127038 46.07531007938716, 11.236198307165028 46.075310681605, 11.236201298855896 46.07531174810494, 11.236204621799317 46.075312691114696, 11.236208967413718 46.07531365910884, 11.236214604157784 46.07531457482866, 11.236227380821056 46.07531616083256, 11.236231974340205 46.075316862959504, 11.236237240339054 46.075317884940496, 11.236242798985716 46.0753191082038, 11.236246038581912 46.07531990883621, 11.236261725653398 46.07532439002233, 11.23626851643365 46.075326021188665, 11.236274373019283 46.07532725661929, 11.23629188054874 46.07533070311375, 11.236308431110418 46.07533415033719, 11.236312523210282 46.07533492527948, 11.236319536253754 46.0753359760616, 11.236324562951676 46.075336516697284, 11.236328144381414 46.07533681560979, 11.236335350206746 46.0753371965821, 11.23633907616263 46.075337231651396, 11.236343236021469 46.075337123219704, 11.23635037892928 46.07533658737426, 11.236357240293696 46.07533580502642, 11.236363809373225 46.0753348303893, 11.236368776462985 46.07533389611204, 11.236373248147318 46.075332863526675, 11.236375321189765 46.075332318919166, 11.236378668278903 46.07533129934771, 11.236381306827676 46.075330347649086, 11.236383797416668 46.075329254839225, 11.236387133276024 46.07532731743892, 11.23639070140934 46.07532472745743, 11.236392768874595 46.075323084900866, 11.236395881822673 46.07532043182597, 11.23640394770948 46.07531297454509, 11.236406956188477 46.075310296513535, 11.236418514286372 46.07530061075471, 11.23642054972646 46.07529881581649, 11.236428660026105 46.075291177654925, 11.236433290231346 46.07528702779977, 11.236446689198443 46.07527553290754, 11.23645148137338 46.075271550889894, 11.236455185464994 46.07526880523671, 11.236458176780966 46.07526698258488, 11.236461400132203 46.075265461406694, 11.236464449641925 46.075264438657726, 11.236466307002045 46.075263997276046, 11.236469570699315 46.07526347436052, 11.236483438257597 46.07526229383515, 11.236489106407955 46.075261426832625, 11.236493614669694 46.07526033952363, 11.236505371495879 46.0752568511926, 11.236509636052883 46.075255813656256, 11.236521808331153 46.07525332524353, 11.236526752310803 46.075252139398486, 11.236531156303057 46.075250712111234, 11.236540844158338 46.07524658924499, 11.236543980849305 46.07524548378287, 11.236547621305242 46.075244683475056, 11.236550960152758 46.07524442009971, 11.236553448481038 46.07524455139497, 11.236555557140838 46.07524488813344, 11.236557281406753 46.075245313401446, 11.23656146537626 46.07524676157191, 11.236570041488772 46.07525032887249, 11.236574584535811 46.07525202202603, 11.236578648208143 46.07525337354569, 11.236583396392772 46.07525470266382, 11.236587493215708 46.07525559451, 11.236590708258563 46.07525610759813, 11.236593861798212 46.07525637887745, 11.236597146213317 46.07525636857968, 11.236608362338835 46.07525550096132, 11.236620001424887 46.07525485907355, 11.236634525299667 46.07525327866028, 11.236636705876574 46.07525315496502, 11.236638621630846 46.07525319846297, 11.236640131872543 46.07525344791036, 11.236641406771083 46.07525395397857, 11.236642030835 46.07525435578257, 11.236643108230592 46.075255414746415, 11.236643884581616 46.07525670461593, 11.236644430315133 46.07525836801991, 11.23664515721727 46.07526195397862, 11.236645614512485 46.075263349099785, 11.23664633097841 46.0752647571479, 11.236647302616435 46.075266079195984, 11.236648531607658 46.07526736920419, 11.236651192182382 46.0752695222319, 11.23666036605545 46.07527539994526, 11.236664019059804 46.075278109573205, 11.236667176659262 46.07528072089441, 11.236670248529398 46.07528345090018, 11.236679340008967 46.0752917693538, 11.23668199909728 46.07529452544168, 11.236684035739641 46.07529723971305, 11.236685582429494 46.07529999057829, 11.236686530535588 46.07530233014039, 11.23668719217244 46.07530462130821, 11.236687676897347 46.07530701494488, 11.236688020932242 46.07530944733793, 11.2366892861819 46.07532347230756, 11.236691821270146 46.075340757589125, 11.236692366236 46.07534656122628, 11.236692496176648 46.075350095868785, 11.236692509350275 46.07535554089807, 11.236692062423229 46.07537103946507, 11.236692245705937 46.07537429404852, 11.236692736940574 46.07537748859997, 11.236693586361946 46.07538058613394, 11.236694208177491 46.07538221204622, 11.2366962210915 46.07538625885218, 11.236699339759788 46.075392066103184, 11.236700532100675 46.075394688898605, 11.236701678171185 46.07539808664074, 11.23670201259133 46.07539996119252, 11.236729780445426 46.075419524599006, 11.236760863015386 46.075441426226895, 11.236760661810175 46.075443167257866, 11.236761076509346 46.07544478822443, 11.236762091844612 46.07544591140552, 11.236763483412272 46.075446424188584, 11.236765263208834 46.07544662335436, 11.23676965802065 46.075446888326915, 11.236772703633136 46.07544736872529, 11.236775315144486 46.07544830764661, 11.236776945095356 46.07544959880347, 11.236777860853564 46.07545113795588, 11.236777998006481 46.075452611348396, 11.236777311408748 46.07545418187344, 11.23677450655571 46.07545773797444, 11.236773196220543 46.07545955472397, 11.23677200853037 46.07546184609736, 11.236771404158047 46.07546417105234, 11.236771281014992 46.075466243572514, 11.236771434163233 46.07546811267273, 11.23677179552131 46.075470013698315, 11.236772440242845 46.07547220619158, 11.23677331574691 46.07547434916391, 11.23677505079335 46.07547760036656, 11.236776308511564 46.07547960084844, 11.236778823618264 46.07548295378434, 11.236779597993126 46.07548387467213, 11.23678233535642 46.075486647226036, 11.236784060490214 46.07548805352537, 11.236786042251094 46.07548940979777, 11.236788198016168 46.07549059165423, 11.23678762041487 46.07555180618971, 11.236785477335742 46.075555097320645, 11.236784148953573 46.07555742745067, 11.236782497448148 46.0755610419745, 11.236781428369413 46.0755643480793, 11.2367809000759 46.0755666355428, 11.23678046329526 46.07556958724972, 11.23678029008262 46.075572020769165, 11.236780411073145 46.07557629362566, 11.236780659403896 46.075578277868395, 11.236781282248138 46.07558120882877, 11.236781960450276 46.0755835896764, 11.236783316723114 46.07558738832339, 11.236785887026219 46.07559338631789, 11.236790974557623 46.07560406927659, 11.23679457970071 46.07561071304467, 11.236799098260043 46.07561851799075, 11.236800852943974 46.07562225483409, 11.236802107493531 46.075625776457805, 11.2368044996314 46.075635045112385, 11.236808349805093 46.075647750402155, 11.23680921255653 46.07565021764099, 11.236810607798155 46.07565370050802, 11.236813154113756 46.075659104940236, 11.23681469262454 46.075661972969854, 11.23681644152732 46.07566492688486, 11.236820488976381 46.075670994962096, 11.236831330341799 46.07568612850236, 11.236834020722208 46.07568965801467, 11.236837557562348 46.07569397199585, 11.23684441070561 46.07570162322412, 11.236849238058278 46.07570746901918, 11.236850832689264 46.075709165887815, 11.236851877709505 46.07571006347499, 11.236853794868738 46.07571142101108, 11.236858098388828 46.07571422590146, 11.236861299713935 46.07571663835062, 11.23686298863508 46.075718108361066, 11.236864361604585 46.07571944055019, 11.236865580597375 46.07572080275554, 11.236866497651437 46.075722053866635, 11.236867150806491 46.07572317513774, 11.236867766814498 46.07572465715511, 11.236868209181543 46.075726322581815, 11.236873094117618 46.07573807155947, 11.236891088853149 46.07578139852418, 11.236889832946527 46.075782962195944, 11.236888793612687 46.075784764640034, 11.236888088606584 46.07578683955264, 11.236887771269538 46.07578890687472, 11.236887754053893 46.07579104032415, 11.236887868472593 46.0757922711488, 11.236888590474702 46.07579605521207, 11.23688921590452 46.07579841009081, 11.236890777594736 46.07580377079686, 11.236892073829916 46.07580736360708, 11.236893082566587 46.07580960297496, 11.236895306829163 46.07581343862808, 11.236897226110447 46.07581612819201, 11.236898817639892 46.07581806813351, 11.236900225909961 46.07581963364331, 11.236903630134847 46.07582290616397, 11.236905690701256 46.07582461190971, 11.236908583914996 46.07582676037618, 11.236919125793156 46.07583384434755, 11.23692216697034 46.07583613392407, 11.236925256730919 46.07583866556205, 11.236930890970724 46.07584367651126, 11.236936239829898 46.07584866604664, 11.236941306580437 46.07585371510847, 11.236947106569179 46.07585994687587, 11.236949303435383 46.075862144978075, 11.236952801955198 46.07586519063902, 11.236955509170452 46.07586721673964, 11.23695889452728 46.07586938256976, 11.236963189536871 46.075871656594806, 11.236966722524542 46.07587331550747, 11.236974716529007 46.07587687617464, 11.236979106556245 46.075878941327645, 11.236982331590523 46.07588066027266, 11.236985671274349 46.07588265598733, 11.23698864913333 46.07588465878671, 11.236991597314894 46.07588688717899, 11.236994235724472 46.07588913063733, 11.236996105006288 46.07589090313026, 11.236999224586516 46.07589417222119, 11.237002730715457 46.07589804577525, 11.23700560715086 46.075901058613304, 11.237009093844653 46.0759041315055, 11.237012038392322 46.075906269963696, 11.237015605393523 46.07590845023631, 11.23701864624581 46.07591009178248, 11.237022790025865 46.07591214375468, 11.237025991597271 46.07591360214415, 11.237030518684831 46.075915538604725, 11.237036023309987 46.07591766293458, 11.23704716617809 46.07592137794905, 11.23705230844881 46.075923176356014, 11.237061749403686 46.07592669968318, 11.237075195132888 46.07593139565538, 11.237080323589032 46.07593285231357, 11.237083844978988 46.07593358440086, 11.23722407959329 46.07596829824961, 11.237331677142768 46.07598905232338, 11.23737462059638 46.0759805969135, 11.237381719015714 46.075979278833735, 11.23749197387142 46.07595924456935, 11.23754848995016 46.07593527646588, 11.23760766841326 46.07590934808744, 11.237655287196668 46.075827825154086, 11.237659475083628 46.075823611909215, 11.237661956815874 46.07582070114919, 11.237664182477312 46.075817534391, 11.237665411449951 46.07581530520311, 11.237666468625457 46.075812665358356, 11.237667047869122 46.075809719858164, 11.237667073759955 46.075808441283684, 11.237666539867327 46.07580547258396, 11.237714668879725 46.075717063268094, 11.237718912772209 46.07570879871045, 11.237746378458624 46.07565531993725, 11.237749441962771 46.075649526628375, 11.237756581380644 46.07563483301688, 11.237758160938718 46.07563103987871, 11.237759497177986 46.075626666475664, 11.237760329426925 46.07562294197833, 11.237761103462336 46.075618417579015, 11.237761926899994 46.07561159709097, 11.237762220993304 46.07560703709024, 11.237762326901137 46.07560230076613, 11.237762243620898 46.07559480500204, 11.237762337191313 46.075583687583055, 11.237762294319475 46.07558134829943, 11.237762055112315 46.07557767179079, 11.237761577292746 46.0755741709651, 11.237760430685437 46.075568523125455, 11.237757338541325 46.07555537999701, 11.237756231919063 46.07555136046001, 11.237755035910158 46.07554800870902, 11.237754093573715 46.07554581305038, 11.23775039679658 46.07553850507216, 11.237749386212382 46.07553622074553, 11.237748195488944 46.07553267988096, 11.237747404286186 46.07552846515559, 11.237745993960033 46.07551757520464, 11.237745020970754 46.07551238298828, 11.237743937114615 46.07550796698431, 11.23774299572213 46.07550483525769, 11.237741090514518 46.07549961629874, 11.237739560905048 46.075496010068186, 11.237738288797445 46.07549333484317, 11.23773690184469 46.07549069786954, 11.237734453132402 46.07548674962284, 11.23773295877914 46.07548465478139, 11.23772919912633 46.075479949171196, 11.23772726141728 46.075477764008596, 11.237719346401182 46.07546944059562, 11.237712935240587 46.07546216778266, 11.237709947775913 46.07545896812701, 11.237707737974427 46.07545677029269, 11.237704339181487 46.075453632696515, 11.237694109834317 46.075445003594474, 11.23769170838289 46.075442863516564, 11.237688246628734 46.07543944813841, 11.237686135115082 46.07543712237185, 11.237683958456557 46.075434464863655, 11.237678228374943 46.07542676468657, 11.237672452424956 46.07541920941519, 11.237670642681183 46.075416670726696, 11.237665627325189 46.0754090555549, 11.237663083415182 46.075405631198784, 11.237660736951982 46.075402932013695, 11.237658969225619 46.07540111253998, 11.23765695270438 46.07539921693509, 11.237649267160021 46.07539241010282, 11.237647707087058 46.075390928579715, 11.23763974404355 46.07538269610659, 11.23763634344074 46.075379513541456, 11.2376285683436 46.07537305047984, 11.237622955184303 46.07536856117938, 11.237618494235768 46.07536538138118, 11.237614198706707 46.07536277437324, 11.237607367929822 46.07535887595063, 11.23760417003707 46.0753568684764, 11.237598038345034 46.07535266834554, 11.237594226224342 46.07534986285873, 11.237592154551535 46.07534820234519, 11.237590274529765 46.075346484075055, 11.237588636756811 46.07534468005594, 11.23758751313208 46.07534311797985, 11.237585818991434 46.075339919991066, 11.237584980043042 46.075337722306024, 11.237584381694752 46.075335717918975, 11.23758380940915 46.07533275897112, 11.237583770400349 46.07532955556611, 11.237584444657594 46.07532640119423, 11.237585670738271 46.075323461026166, 11.237591147030184 46.0753133722398, 11.237592123006612 46.0753112830149, 11.23759434710082 46.07530583916834, 11.237595524013308 46.0753036020002, 11.237596991032373 46.07530150315757, 11.237599513136555 46.07529895162691, 11.237601044548278 46.07529780557336, 11.237607882538992 46.07529356742568, 11.237609340417638 46.07529252181749, 11.23761060082685 46.07529139007222, 11.237611547830676 46.07529018346115, 11.237612315208771 46.07528869235309, 11.237612765011306 46.075286703438586, 11.237612718679667 46.075284598234916, 11.237612537986962 46.075283647723666, 11.237612090316482 46.075282171413534, 11.23761085480483 46.07527944146741, 11.237607611578518 46.075273114653164, 11.237603267397185 46.07526258817969, 11.237600536865482 46.075256467334846, 11.237597871454525 46.075251317265725, 11.23759152545593 46.07524021796761, 11.237589827681795 46.07523693004527, 11.237588058411722 46.075232833480456, 11.237587051501144 46.07523000005139, 11.237584750023018 46.075222016704735, 11.237583191702743 46.07521769999676, 11.23758198385669 46.07521501451082, 11.237580776907729 46.07521267102533, 11.237578665819989 46.07520907618137, 11.237566237643172 46.07518956355732, 11.237563845906442 46.07518606421462, 11.237562272944189 46.07518394390908, 11.23755944149103 46.075180444178066, 11.237556580726851 46.07517717903345, 11.23755271552682 46.07517306051539, 11.237545067194704 46.07516525389439, 11.237542807735736 46.07516278701512, 11.23754072845977 46.07516029860584, 11.237538773314338 46.07515768175868, 11.23753675612883 46.07515449009615, 11.237534473446756 46.075150169573696, 11.23752856399187 46.075137072616855, 11.237526250739446 46.0751326356868, 11.237523865942242 46.075128668182636, 11.2375222687879 46.075126269335584, 11.237511435376897 46.0751106946805, 11.237507930575548 46.07510589406665, 11.237505271845166 46.07510250795763, 11.237502634037485 46.07509931944917, 11.237494014457175 46.0750895607429, 11.237492666073214 46.0750878770612, 11.237489028611776 46.07508267402359, 11.23748746256469 46.07508072459056, 11.237485322852878 46.07507866038625, 11.237479794177704 46.07507434043294, 11.237476208135357 46.075071368505746, 11.237471068047475 46.0750667439258, 11.237468455334765 46.07506417595787, 11.237466520560154 46.075062062737054, 11.237464805098238 46.07505993622052, 11.2374629234928 46.0750572189265, 11.237459916285472 46.075052570574314, 11.237458352980509 46.07505036907387, 11.237456636064733 46.075048206583766, 11.237453782222786 46.07504511231, 11.237451552422396 46.07504305886986, 11.237449345362528 46.07504124799714, 11.237445720726436 46.075038600841964, 11.237441615790344 46.075035909090424, 11.23743922980833 46.0750344707412, 11.237424070513374 46.07502609117499, 11.237417752650407 46.07502272272414, 11.237414218614113 46.07502103684442, 11.237410585928298 46.075019469902784, 11.237406421254034 46.075017859376985, 11.23739243081241 46.07501312010845, 11.237389000322903 46.075011756217165, 11.237384668052652 46.07500951893954, 11.237382526502582 46.07500804880067, 11.237380624654799 46.075006429959686, 11.23737946608143 46.07500528258782, 11.237377455065719 46.07500288284346, 11.237375735804441 46.07500034237807, 11.237370677088794 46.074991332968494, 11.237368735074954 46.074988400844546, 11.237366235228789 46.074985425642424, 11.237363560459649 46.07498292189077, 11.23735774572613 46.074977923497634, 11.237355981659878 46.07497619395223, 11.237354043256484 46.07497399079581, 11.237352409893159 46.07497165565881, 11.237350977661134 46.07496885755852, 11.237349882131294 46.074966070865194, 11.237346373039273 46.07495572603756, 11.237344655680692 46.074951313435584, 11.23734263910051 46.07494717670778, 11.237340320194368 46.07494355892783, 11.237338185611396 46.07494098159317, 11.23733513339132 46.07493809821236, 11.237332701573134 46.07493616573239, 11.237330036430105 46.07493421982086, 11.237326618001232 46.074931874639645, 11.237310347365959 46.07492127570427, 11.237302803432618 46.07491668919247, 11.237292387942228 46.07491080884434, 11.237288696334364 46.07490842400947, 11.237286311648417 46.07490669761643, 11.237283919690427 46.07490479135624, 11.237281007967994 46.074902184237246, 11.237274774345584 46.074895780968546, 11.237269265228512 46.07489034456301, 11.237267450402587 46.07488831899457, 11.237265073242492 46.07488517937905, 11.237263207316227 46.07488220976137, 11.23726206443937 46.07488017103381, 11.237259830570178 46.07487577754601, 11.237256528644535 46.07486895684485, 11.237249097924337 46.07485213646626, 11.237248024218273 46.07484988937305, 11.237246454578814 46.07484721096851, 11.237244961156774 46.074845458120315, 11.237244411353384 46.074844973861055, 11.237243200538352 46.07484413352701, 11.23724209108597 46.07484356122222, 11.237240279114504 46.074842885668765, 11.237238294233194 46.07484241151185, 11.23723522935128 46.074842093511805, 11.237232527545936 46.07484211942006, 11.237229474466766 46.07484241322106, 11.237225569061398 46.0748430567307, 11.237215987896692 46.07484501745204, 11.237213132648018 46.07484540638374, 11.23721082323164 46.074845541613534, 11.237209568699079 46.07484553917948, 11.237207208881374 46.07484538738101, 11.237202676728737 46.07484460308725, 11.237199289550995 46.074843670364885, 11.237195824673593 46.07484241514689, 11.23719255782336 46.074840940039465, 11.237189513390117 46.07483920856309, 11.23718699839869 46.07483745771828, 11.237179502961295 46.07483151117687, 11.237176728634623 46.074829423392195, 11.237171645510962 46.07482588674068, 11.23716762504465 46.07482336433416, 11.237164579522378 46.07482160587702, 11.237161076273871 46.074819721376045, 11.237157896244538 46.074818154562706, 11.237150679693682 46.074814947703125, 11.237148684830244 46.07481390671017, 11.237146828110248 46.074812764006786, 11.237144750093746 46.07481126561788, 11.237142837882782 46.07480970997916, 11.237135533405981 46.07480304865783, 11.23713057408408 46.07479873553926, 11.237126926376813 46.074795836812356, 11.237119097522832 46.07478995979926, 11.237112989230166 46.0747856961806, 11.237108926003872 46.07478307560406, 11.237105894134906 46.07478133487894, 11.237098956060018 46.0747779785554, 11.237097644417164 46.07477720319753, 11.237095920752735 46.074775832875915, 11.237091047194557 46.074770762036295, 11.237088286720406 46.07476837696253, 11.237084697249964 46.07476563910244, 11.237080719390868 46.07476289084661, 11.237077241826453 46.07476068182305, 11.237072606760842 46.07475799143852, 11.237067718708058 46.07475544101486, 11.237063490377366 46.074753534707305, 11.237058449411494 46.07475168031415, 11.237054602698304 46.07475057657636, 11.237050571970736 46.0747497194546, 11.23704585145062 46.0747490738503, 11.237041090149397 46.074748699058595, 11.237028002876677 46.074748064277884, 11.237025394272289 46.07474783634293, 11.237022898330807 46.07474751619709, 11.237020422052874 46.074747042658075, 11.237018237165307 46.07474641940564, 11.237014850391224 46.07474485663659, 11.237012557265944 46.07474315544639, 11.237010571195489 46.07474105222275, 11.237009451598954 46.07473958906722, 11.23700634361604 46.07473500567958, 11.237004236552556 46.074732148785046, 11.23700300174856 46.07473071488676, 11.237001438439847 46.0747291524138, 11.236999721884372 46.07472763794399, 11.23699658522249 46.07472522423223, 11.236990056533038 46.074720797829706, 11.236986340758458 46.074718134443486, 11.236981194169077 46.07471398699385, 11.236971584572995 46.074705966724, 11.236960457678567 46.074697202122174, 11.236957056035218 46.074694631589274, 11.236953980881195 46.07469245968487, 11.236947872050694 46.07468850208402, 11.23693462171942 46.074680634102975, 11.236930551965365 46.074677851639336, 11.236928080316002 46.0746758929292, 11.236925823978961 46.07467382199744, 11.236922732334214 46.07467028234272, 11.236920471138074 46.074667131448884, 11.236917986664311 46.07466325588832, 11.236908467367613 46.07464787145592, 11.236906712843021 46.074645097661495, 11.236904844201558 46.074642380104336, 11.23690343870538 46.0746405625267, 11.23690131215263 46.07463818303707, 11.236898410112511 46.07463549471441, 11.236895767571431 46.07463346734587, 11.236892367918248 46.07463126579157, 11.236887633495122 46.074628676350194, 11.236882820615055 46.074626385460505, 11.236869041133257 46.07462046293486, 11.23686407537151 46.074618229040624, 11.236858401112721 46.0746154239875, 11.23685402431216 46.074613043553946, 11.236850685074828 46.074611056826924, 11.236845557211092 46.074607692045866, 11.23683710835476 46.07460151213617, 11.236826058109406 46.07459304303612, 11.236823409921588 46.07459119578594, 11.236821445477199 46.07458994718071, 11.236818650950115 46.07458831880713, 11.23681574557792 46.074586827610865, 11.236813045669123 46.074585620406886, 11.23681026003217 46.07458453188755, 11.236808437333465 46.07458391054012, 11.236805335189615 46.074582990226226, 11.236802200096223 46.074582214565005, 11.236799826476574 46.07458172101025, 11.236790762225244 46.07458015238923, 11.23678774961031 46.07457952733765, 11.236784926827012 46.074578799564016, 11.236781268508551 46.074577557121295, 11.236777856997936 46.074576021830964, 11.236774170160306 46.07457375389218, 11.236771166372423 46.07457142757742, 11.236767664675199 46.074568300968316, 11.23676351711033 46.07456423295413, 11.236760963975273 46.074561537796754, 11.236758511308443 46.07455876866846, 11.236756417351328 46.0745562355298, 11.236753984911573 46.074553006981134, 11.236747125124898 46.074543267766, 11.236742858062383 46.07453784301878, 11.236733513886406 46.074526469355185, 11.236730269379331 46.07452298669093, 11.236727958823368 46.07452085381341, 11.236724874236671 46.07451844807506, 11.236722324507149 46.07451679690533, 11.236718041445863 46.074514495635555, 11.236708708001213 46.07451010612902, 11.236705665055274 46.074508410612495, 11.236703117871341 46.074506822395826, 11.236699498395172 46.07450430112242, 11.236694383507436 46.0745002970467, 11.236685151272926 46.0744923323678, 11.236682063418126 46.07448984568801, 11.236679517889057 46.07448797842364, 11.236676846775204 46.074486203622726, 11.236673270593803 46.07448411352373, 11.236663704597085 46.07447908953266, 11.236657467083129 46.07447610648696, 11.23664517256618 46.074470766893896, 11.23662796998097 46.07446366029023, 11.236620697456656 46.07446034648718, 11.236606346440242 46.0744534000644, 11.236598985645545 46.074450141990944, 11.236589444342526 46.074446368576325, 11.236557611989282 46.07443469711818, 11.236561255190523 46.07443588586117, 11.23652297182493 46.07439355005783, 11.236521549790977 46.07439164279446, 11.236518787053276 46.074388240697374, 11.236514384225933 46.074383295624656, 11.236505883538102 46.074374551569356, 11.236499447675655 46.07436826022289, 11.236495080635235 46.074364520512596, 11.236483095419977 46.07435531364277, 11.23647936733636 46.07435234446473, 11.23647563307415 46.07434922239943, 11.236471701912087 46.074345708167655, 11.23640821327912 46.07432095765557, 11.236343233618106 46.07434923109815, 11.23632053242889 46.074379503055674, 11.236306834778803 46.07441496304837))\"\n        ],\n        \"semantic_type\": \"\",\n        \"description\": \"\"\n      }\n    }\n  ]\n}"
            }
          },
          "metadata": {},
          "execution_count": 141
        }
      ],
      "source": [
        "lakes_bodies_water.to_crs(epsg=4326)"
      ]
    },
    {
      "cell_type": "markdown",
      "metadata": {
        "id": "kviLMJYrduPV"
      },
      "source": [
        "this approach solves the problem but keeps the error in the data source.<br/>\n",
        "Keeping this approach, it is advisable to apply the assignment of the CRS to the initial geodataframe and, if necessary, to export the geodatrafame in ESRi Shapefile (or other format)"
      ]
    },
    {
      "cell_type": "markdown",
      "metadata": {
        "id": "3lHiWvN8dinh"
      },
      "source": [
        "2 - create a file with the name *lakes_bodies_of_water_trentino_use.prj* that contains the right string in WKT for the proj conversion.\n",
        "\n",
        "You can obtain the right file by simple download the right string from epsg.io in this way\n",
        "\n",
        "https://epsg.io/3003.wkt\n",
        "\n",
        "simple by adding .wkt to the url\n",
        "\n",
        "this is the answer\n",
        "\n",
        "``` javascript\n",
        "PROJCS[\"Monte Mario / Italy zone 1\",\n",
        "    GEOGCS[\"Monte Mario\",\n",
        "        DATUM[\"Monte_Mario\",\n",
        "            SPHEROID[\"International 1924\",6378388,297],\n",
        "            TOWGS84[-104.1,-49.1,-9.9,0.971,-2.917,0.714,-11.68]],\n",
        "        PRIMEM[\"Greenwich\",0,\n",
        "            AUTHORITY[\"EPSG\",\"8901\"]],\n",
        "        UNIT[\"degree\",0.0174532925199433,\n",
        "            AUTHORITY[\"EPSG\",\"9122\"]],\n",
        "        AUTHORITY[\"EPSG\",\"4265\"]],\n",
        "    PROJECTION[\"Transverse_Mercator\"],\n",
        "    PARAMETER[\"latitude_of_origin\",0],\n",
        "    PARAMETER[\"central_meridian\",9],\n",
        "    PARAMETER[\"scale_factor\",0.9996],\n",
        "    PARAMETER[\"false_easting\",1500000],\n",
        "    PARAMETER[\"false_northing\",0],\n",
        "    UNIT[\"metre\",1,\n",
        "        AUTHORITY[\"EPSG\",\"9001\"]],\n",
        "    AXIS[\"Easting\",EAST],\n",
        "    AXIS[\"Northing\",NORTH],\n",
        "    AUTHORITY[\"EPSG\",\"3003\"]]\n",
        "```"
      ]
    },
    {
      "cell_type": "code",
      "execution_count": 142,
      "metadata": {
        "id": "y28Nd8wogAs0"
      },
      "outputs": [],
      "source": [
        "url = \"https://epsg.io/3003.wkt\"\n",
        "opener = urllib.request.URLopener()\n",
        "opener.addheader('User-Agent', 'Geospatial Course Unitn')\n",
        "filename, headers = opener.retrieve(url, '3003.prj')"
      ]
    },
    {
      "cell_type": "markdown",
      "metadata": {
        "id": "6eFifaCblvP0"
      },
      "source": [
        ".. it's better create a copy also for the original .shp file"
      ]
    },
    {
      "cell_type": "code",
      "execution_count": 143,
      "metadata": {
        "colab": {
          "base_uri": "https://localhost:8080/",
          "height": 35
        },
        "id": "ELLCXhIjlzUi",
        "outputId": "8f4e7eb1-4507-4d8c-e368-465c1b7c9f14"
      },
      "outputs": [
        {
          "output_type": "execute_result",
          "data": {
            "text/plain": [
              "'lakes_bodies_of_water_trentino.prj'"
            ],
            "application/vnd.google.colaboratory.intrinsic+json": {
              "type": "string"
            }
          },
          "metadata": {},
          "execution_count": 143
        }
      ],
      "source": [
        "from shutil import copyfile\n",
        "\n",
        "\n",
        "copyfile(\"3003.prj\",\"lakes_bodies_of_water_trentino.prj\")"
      ]
    },
    {
      "cell_type": "markdown",
      "metadata": {
        "id": "HK6d-eWdl9mo"
      },
      "source": [
        ".. and now it's necessary to recreate the geodataframe and repeat the operations"
      ]
    },
    {
      "cell_type": "code",
      "execution_count": 144,
      "metadata": {
        "id": "HJSJ8V7rmKAe"
      },
      "outputs": [],
      "source": [
        "lakes_bodies_water_trentino = gpd.read_file(\"lakes_bodies_of_water_trentino.shp\")"
      ]
    },
    {
      "cell_type": "code",
      "execution_count": 145,
      "metadata": {
        "colab": {
          "base_uri": "https://localhost:8080/"
        },
        "id": "N-KckKK6mU8x",
        "outputId": "1fb6af3c-b9f7-4613-fdaa-2f676543fd08"
      },
      "outputs": [
        {
          "output_type": "execute_result",
          "data": {
            "text/plain": [
              "<Projected CRS: EPSG:3003>\n",
              "Name: Monte Mario / Italy zone 1\n",
              "Axis Info [cartesian]:\n",
              "- X[east]: Easting (metre)\n",
              "- Y[north]: Northing (metre)\n",
              "Area of Use:\n",
              "- name: Italy - onshore and offshore - west of 12°E.\n",
              "- bounds: (5.93, 36.53, 12.0, 47.04)\n",
              "Coordinate Operation:\n",
              "- name: Italy zone 1\n",
              "- method: Transverse Mercator\n",
              "Datum: Monte Mario\n",
              "- Ellipsoid: International 1924\n",
              "- Prime Meridian: Greenwich"
            ]
          },
          "metadata": {},
          "execution_count": 145
        }
      ],
      "source": [
        "lakes_bodies_water_trentino.crs"
      ]
    },
    {
      "cell_type": "markdown",
      "metadata": {
        "id": "KZeS_7HsmZ9b"
      },
      "source": [
        "Now it's ok ;)"
      ]
    },
    {
      "cell_type": "markdown",
      "metadata": {
        "id": "KbImvB-gmsAn"
      },
      "source": [
        "... and create the geojson file in wgs84"
      ]
    },
    {
      "cell_type": "code",
      "execution_count": 146,
      "metadata": {
        "id": "YCWTzbfBmf9Y"
      },
      "outputs": [],
      "source": [
        "lakes_bodies_water_trentino.to_crs(epsg=4326).to_file(\"lakes_bodies_water_trentino.kml\",driver=\"KML\")"
      ]
    }
  ],
  "metadata": {
    "colab": {
      "collapsed_sections": [
        "9T1Sft2nHpK8"
      ],
      "provenance": []
    },
    "kernelspec": {
      "display_name": "Python 3",
      "language": "python",
      "name": "python3"
    },
    "language_info": {
      "codemirror_mode": {
        "name": "ipython",
        "version": 3
      },
      "file_extension": ".py",
      "mimetype": "text/x-python",
      "name": "python",
      "nbconvert_exporter": "python",
      "pygments_lexer": "ipython3",
      "version": "3.13.7"
    }
  },
  "nbformat": 4,
  "nbformat_minor": 0
}