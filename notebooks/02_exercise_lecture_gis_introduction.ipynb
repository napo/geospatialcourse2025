{
  "cells": [
    {
      "cell_type": "markdown",
      "metadata": {
        "id": "T6-YLqx4OCrj"
      },
      "source": [
        "# Setup"
      ]
    },
    {
      "cell_type": "code",
      "execution_count": 196,
      "metadata": {
        "colab": {
          "base_uri": "https://localhost:8080/"
        },
        "id": "hlP03EfNHGeb",
        "outputId": "9637527c-8b43-403e-e3e5-9707611f031b"
      },
      "outputs": [
        {
          "name": "stdout",
          "output_type": "stream",
          "text": [
            "Defaulting to user installation because normal site-packages is not writeable\n",
            "Requirement already satisfied: geopandas==1.1.0 in /home/napo/.local/lib/python3.13/site-packages (from -r https://napo.github.io/geospatialcourse2025/requirements.txt (line 1)) (1.1.0)\n",
            "Requirement already satisfied: mapclassify==2.9.0 in /home/napo/.local/lib/python3.13/site-packages (from -r https://napo.github.io/geospatialcourse2025/requirements.txt (line 2)) (2.9.0)\n",
            "Requirement already satisfied: matplotlib==3.10.1+dfsg1 in /usr/lib/python3/dist-packages (from -r https://napo.github.io/geospatialcourse2025/requirements.txt (line 3)) (3.10.1+dfsg1)\n",
            "Requirement already satisfied: numpy>=1.24 in /home/napo/.local/lib/python3.13/site-packages (from geopandas==1.1.0->-r https://napo.github.io/geospatialcourse2025/requirements.txt (line 1)) (2.2.6)\n",
            "Requirement already satisfied: pyogrio>=0.7.2 in /home/napo/.local/lib/python3.13/site-packages (from geopandas==1.1.0->-r https://napo.github.io/geospatialcourse2025/requirements.txt (line 1)) (0.11.0)\n",
            "Requirement already satisfied: packaging in /usr/lib/python3/dist-packages (from geopandas==1.1.0->-r https://napo.github.io/geospatialcourse2025/requirements.txt (line 1)) (25.0)\n",
            "Requirement already satisfied: pandas>=2.0.0 in /usr/lib/python3/dist-packages (from geopandas==1.1.0->-r https://napo.github.io/geospatialcourse2025/requirements.txt (line 1)) (2.2.3+dfsg)\n",
            "Requirement already satisfied: pyproj>=3.5.0 in /usr/lib/python3/dist-packages (from geopandas==1.1.0->-r https://napo.github.io/geospatialcourse2025/requirements.txt (line 1)) (3.7.1)\n",
            "Requirement already satisfied: shapely>=2.0.0 in /home/napo/.local/lib/python3.13/site-packages (from geopandas==1.1.0->-r https://napo.github.io/geospatialcourse2025/requirements.txt (line 1)) (2.1.1)\n",
            "Requirement already satisfied: networkx>=3.2 in /home/napo/.local/lib/python3.13/site-packages (from mapclassify==2.9.0->-r https://napo.github.io/geospatialcourse2025/requirements.txt (line 2)) (3.4.2)\n",
            "Requirement already satisfied: scikit-learn>=1.4 in /usr/lib/python3/dist-packages (from mapclassify==2.9.0->-r https://napo.github.io/geospatialcourse2025/requirements.txt (line 2)) (1.4.2)\n",
            "Requirement already satisfied: scipy>=1.12 in /usr/lib/python3/dist-packages (from mapclassify==2.9.0->-r https://napo.github.io/geospatialcourse2025/requirements.txt (line 2)) (1.15.3)\n",
            "Requirement already satisfied: contourpy>=1.0.1 in /usr/lib/python3/dist-packages (from matplotlib==3.10.1+dfsg1->-r https://napo.github.io/geospatialcourse2025/requirements.txt (line 3)) (1.3.1)\n",
            "Requirement already satisfied: cycler>=0.10 in /usr/lib/python3/dist-packages (from matplotlib==3.10.1+dfsg1->-r https://napo.github.io/geospatialcourse2025/requirements.txt (line 3)) (0.12.1)\n",
            "Requirement already satisfied: fonttools>=4.22.0 in /usr/lib/python3/dist-packages (from matplotlib==3.10.1+dfsg1->-r https://napo.github.io/geospatialcourse2025/requirements.txt (line 3)) (4.55.3)\n",
            "Requirement already satisfied: kiwisolver>=1.3.1 in /usr/lib/python3/dist-packages (from matplotlib==3.10.1+dfsg1->-r https://napo.github.io/geospatialcourse2025/requirements.txt (line 3)) (1.4.7)\n",
            "Requirement already satisfied: pillow>=8 in /usr/lib/python3/dist-packages (from matplotlib==3.10.1+dfsg1->-r https://napo.github.io/geospatialcourse2025/requirements.txt (line 3)) (11.3.0)\n",
            "Requirement already satisfied: pyparsing>=2.3.1 in /usr/lib/python3/dist-packages (from matplotlib==3.10.1+dfsg1->-r https://napo.github.io/geospatialcourse2025/requirements.txt (line 3)) (3.1.2)\n",
            "Requirement already satisfied: python-dateutil>=2.7 in /usr/lib/python3/dist-packages (from matplotlib==3.10.1+dfsg1->-r https://napo.github.io/geospatialcourse2025/requirements.txt (line 3)) (2.9.0)\n",
            "Requirement already satisfied: pytz>=2020.1 in /usr/lib/python3/dist-packages (from pandas>=2.0.0->geopandas==1.1.0->-r https://napo.github.io/geospatialcourse2025/requirements.txt (line 1)) (2025.2)\n",
            "Requirement already satisfied: certifi in /usr/lib/python3/dist-packages (from pyogrio>=0.7.2->geopandas==1.1.0->-r https://napo.github.io/geospatialcourse2025/requirements.txt (line 1)) (2025.1.31)\n",
            "Requirement already satisfied: joblib>=1.2.0 in /usr/lib/python3/dist-packages (from scikit-learn>=1.4->mapclassify==2.9.0->-r https://napo.github.io/geospatialcourse2025/requirements.txt (line 2)) (1.4.2)\n",
            "Requirement already satisfied: threadpoolctl>=2.0.0 in /usr/lib/python3/dist-packages (from scikit-learn>=1.4->mapclassify==2.9.0->-r https://napo.github.io/geospatialcourse2025/requirements.txt (line 2)) (3.1.0)\n",
            "Note: you may need to restart the kernel to use updated packages.\n"
          ]
        }
      ],
      "source": [
        "pip install -r https://napo.github.io/geospatialcourse2025/requirements.txt --break-system-packages"
      ]
    },
    {
      "cell_type": "markdown",
      "metadata": {
        "id": "9T1Sft2nHpK8"
      },
      "source": [
        "# Exercise\n",
        "1. load the shapefile of ISTAT with the information of the provinces\n",
        "    - filter it for an italian provice at your choice (eg. Trento)\n",
        "    - plot it\n",
        "2. load the shapefile of ISTAT with the informations of the muncipalities\n",
        "    - identify the cities of the province selected with the biggest and smallest area\n",
        "    - extract all the centroids of the areas expressed in WGS84\n",
        "    - select all the muncipalities of the Province of Trento\n",
        "    - extract a representative point for the area of each municipality converted in WGS84\n",
        "    - suggestion: .representative_point()\n",
        "    - save the points in a GeoJSON file\n",
        "    - calculate the distance on the geodentic between the municipality with the big area and smallest area by using the centroid\n",
        "3.  download the shapefile of the [lakes and bodies of water of Trentino](https://github.com/napo/geospatialcourse2025/raw/refs/heads/main/data/lakes_bodies_of_water_trentino.zip) - projection Monte Mario zone 1\n",
        "    - convert in WGS84 and create a geojson\n",
        "\n",
        "\n",
        "---"
      ]
    },
    {
      "cell_type": "markdown",
      "metadata": {
        "id": "r2J9dbENPJND"
      },
      "source": [
        "# Solutions\n",
        "\n",
        "## learning objectives\n",
        "* repeat the concepts on the previous lesson\n",
        "* introduce geopackage\n",
        "* centroid vs representative point"
      ]
    },
    {
      "cell_type": "markdown",
      "metadata": {
        "id": "3fk_8ro1RUbo"
      },
      "source": [
        "---\n",
        "\n",
        "### Import of the packages"
      ]
    },
    {
      "cell_type": "code",
      "execution_count": 136,
      "metadata": {
        "id": "bFmuagH7H4lZ"
      },
      "outputs": [],
      "source": [
        "import geopandas as gpd\n",
        "import pandas as pd\n",
        "import os\n",
        "import urllib\n",
        "from matplotlib import pyplot as plt  #to avoid the warning message by plotting the geometries\n",
        "import warnings\n",
        "warnings.simplefilter(\"ignore\")"
      ]
    },
    {
      "cell_type": "markdown",
      "metadata": {
        "id": "kP_05UmNVWWj"
      },
      "source": [
        "## 1. load the shapefile of ISTAT with the information of the provinces\n",
        "\n",
        "### This request is replaced with the use of geopackage\n",
        "\n",
        "In the course material a geopackage file is available with all the shapefiles of the administrative limits of ISTAT (2025) with generalized geometries\n",
        "\n",
        "[download](https://github.com/napo/geospatialcourse2025/raw/refs/heads/main/data/istat_administrative_units_generalized_2025.gpkg) the file *istat_administrative_units_generalized_2025.gpkg* from the repository from\n",
        "directory \"data\""
      ]
    },
    {
      "cell_type": "code",
      "execution_count": 137,
      "metadata": {
        "id": "RWje98iX3dTo"
      },
      "outputs": [],
      "source": [
        "url = 'https://github.com/napo/geospatialcourse2025/raw/refs/heads/main/data/istat_administrative_units_generalized_2025.gpkg'"
      ]
    },
    {
      "cell_type": "code",
      "execution_count": 138,
      "metadata": {
        "colab": {
          "base_uri": "https://localhost:8080/"
        },
        "id": "cdHsCvOThs8P",
        "outputId": "84422d2f-df91-4fb9-a011-6d202a087682"
      },
      "outputs": [
        {
          "data": {
            "text/plain": [
              "('istat_administrative_units_generalized_2025.gpkg',\n",
              " <http.client.HTTPMessage at 0x758de47102d0>)"
            ]
          },
          "execution_count": 138,
          "metadata": {},
          "output_type": "execute_result"
        }
      ],
      "source": [
        "urllib.request.urlretrieve(url ,\"istat_administrative_units_generalized_2025.gpkg\")"
      ]
    },
    {
      "cell_type": "markdown",
      "metadata": {
        "id": "gNWFco5RSlpo"
      },
      "source": [
        "### Geopackage\n",
        "![](https://www.ogc.org/pub/www/files/blog/Geopackage_layers.png)\n",
        "\n",
        "[GeoPackage](http://opengeospatial.github.io/e-learning/geopackage/text/basic-index.html) is used for storing and accessing:\n",
        "* Vector feature data\n",
        "* Imagery tile matrix sets\n",
        "* Raster map tile matrix sets\n",
        "* non-spatial tabular data\n",
        "* Metadata that describes other stored data\n",
        "\n",
        "\n",
        "![](https://napo.github.io/geospatial_unitn_2025/images/gpkg.png)\n",
        "\n",
        "To have a look at the structure of the files, download the files and open them using the basic SQLite3 command-line utility.\n",
        "\n",
        "```\n",
        "sqlite3 istat_administrative_units_generalized_2025.gpkg\n",
        "```\n",
        "```\n",
        "SQLite version 3.46.1 2024-08-13 09:16:08\n",
        "Enter \".help\" for usage hints.\n",
        "sqlite>.table\n",
        "```\n",
        "```\n",
        "gpkg_contents                     rtree_macroregions_geom_parent  \n",
        "gpkg_extensions                   rtree_macroregions_geom_rowid   \n",
        "gpkg_geometry_columns             rtree_municipalities_geom       \n",
        "gpkg_metadata                     rtree_municipalities_geom_node  \n",
        "gpkg_metadata_reference           rtree_municipalities_geom_parent\n",
        "gpkg_ogr_contents                 rtree_municipalities_geom_rowid\n",
        "gpkg_spatial_ref_sys              rtree_provincies_geom           \n",
        "gpkg_tile_matrix                  rtree_provincies_geom_node      \n",
        "gpkg_tile_matrix_set              rtree_provincies_geom_parent    \n",
        "macroregions                      rtree_provincies_geom_rowid     \n",
        "municipalities                    rtree_regions_geom              \n",
        "provincies                        rtree_regions_geom_node         \n",
        "regions                           rtree_regions_geom_parent       \n",
        "rtree_macroregions_geom           rtree_regions_geom_rowid        \n",
        "rtree_macroregions_geom_node     \n",
        "```\n",
        "```\n",
        "sqlite> .header on\n",
        "```\n",
        "\n",
        "\n",
        "```\n",
        "sqlite> select * from macroregions;\n",
        "```\n",
        "```\n",
        "fid|geom|COD_RIP|DEN_RIP\n",
        "1|GP|1|Nord-ovest\n",
        "2|GP|2|Nord-est\n",
        "3|GP|3|Centro\n",
        "4|GP|4|Sud\n",
        "5|GP|5|Isole\n",
        "```\n",
        "```\n",
        "sqlite> .q\n",
        "```"
      ]
    },
    {
      "cell_type": "markdown",
      "metadata": {
        "id": "gTbuN8zPT7KU"
      },
      "source": [
        "Geopandas can manage geopackage by using [pyogrio](https://pyogrio.readthedocs.io/en/latest/)"
      ]
    },
    {
      "cell_type": "code",
      "execution_count": 139,
      "metadata": {
        "id": "Cf37VTckXGso"
      },
      "outputs": [],
      "source": [
        "from pyogrio import list_drivers\n"
      ]
    },
    {
      "cell_type": "code",
      "execution_count": 140,
      "metadata": {
        "colab": {
          "base_uri": "https://localhost:8080/"
        },
        "id": "igu8jGNSURc8",
        "outputId": "c35207ea-b1c2-4499-8ce2-ede20ce005b1"
      },
      "outputs": [
        {
          "data": {
            "text/plain": [
              "{'PCIDSK': 'rw',\n",
              " 'PDS4': 'rw',\n",
              " 'VICAR': 'rw',\n",
              " 'PDF': 'rw',\n",
              " 'MBTiles': 'rw',\n",
              " 'EEDA': 'r',\n",
              " 'OGCAPI': 'r',\n",
              " 'ESRI Shapefile': 'rw',\n",
              " 'MapInfo File': 'rw',\n",
              " 'UK .NTF': 'r',\n",
              " 'LVBAG': 'r',\n",
              " 'OGR_SDTS': 'r',\n",
              " 'S57': 'rw',\n",
              " 'DGN': 'rw',\n",
              " 'OGR_VRT': 'r',\n",
              " 'Memory': 'rw',\n",
              " 'CSV': 'rw',\n",
              " 'GML': 'rw',\n",
              " 'GPX': 'rw',\n",
              " 'KML': 'rw',\n",
              " 'GeoJSON': 'rw',\n",
              " 'GeoJSONSeq': 'rw',\n",
              " 'ESRIJSON': 'r',\n",
              " 'TopoJSON': 'r',\n",
              " 'OGR_GMT': 'rw',\n",
              " 'GPKG': 'rw',\n",
              " 'SQLite': 'rw',\n",
              " 'WAsP': 'rw',\n",
              " 'OpenFileGDB': 'rw',\n",
              " 'DXF': 'rw',\n",
              " 'FlatGeobuf': 'rw',\n",
              " 'Geoconcept': 'rw',\n",
              " 'GeoRSS': 'rw',\n",
              " 'VFK': 'r',\n",
              " 'PGDUMP': 'rw',\n",
              " 'OSM': 'r',\n",
              " 'GPSBabel': 'rw',\n",
              " 'OGR_PDS': 'r',\n",
              " 'WFS': 'r',\n",
              " 'OAPIF': 'r',\n",
              " 'EDIGEO': 'r',\n",
              " 'SVG': 'r',\n",
              " 'Idrisi': 'r',\n",
              " 'ODS': 'rw',\n",
              " 'XLSX': 'rw',\n",
              " 'Elasticsearch': 'rw',\n",
              " 'Carto': 'rw',\n",
              " 'AmigoCloud': 'rw',\n",
              " 'SXF': 'r',\n",
              " 'Selafin': 'rw',\n",
              " 'JML': 'rw',\n",
              " 'PLSCENES': 'r',\n",
              " 'CSW': 'r',\n",
              " 'VDV': 'rw',\n",
              " 'MVT': 'rw',\n",
              " 'NGW': 'rw',\n",
              " 'MapML': 'rw',\n",
              " 'GTFS': 'r',\n",
              " 'PMTiles': 'rw',\n",
              " 'JSONFG': 'rw',\n",
              " 'MiraMonVector': 'rw',\n",
              " 'TIGER': 'r',\n",
              " 'AVCBin': 'r',\n",
              " 'AVCE00': 'r',\n",
              " 'HTTP': 'r'}"
            ]
          },
          "execution_count": 140,
          "metadata": {},
          "output_type": "execute_result"
        }
      ],
      "source": [
        "list_drivers()\n"
      ]
    },
    {
      "cell_type": "markdown",
      "metadata": {
        "id": "zmEbOUq1UXVS"
      },
      "source": [
        "```\n",
        "'GPKG': 'rw',\n",
        "```\n",
        "**rw** => **r**ead **w**rite\n",
        "\n",
        "geopandas can:\n",
        "* **r**ead *geopackage* files\n",
        "* **w**rite data to a *geopackage* file"
      ]
    },
    {
      "cell_type": "markdown",
      "metadata": {
        "id": "NYsMWOMmVM03"
      },
      "source": [
        "geopackage can store more layers, so we have to investigate the contents"
      ]
    },
    {
      "cell_type": "code",
      "execution_count": 141,
      "metadata": {
        "id": "HQ7pIKajtL3D"
      },
      "outputs": [],
      "source": [
        "from pyogrio import list_layers\n"
      ]
    },
    {
      "cell_type": "code",
      "execution_count": 142,
      "metadata": {
        "colab": {
          "base_uri": "https://localhost:8080/"
        },
        "id": "wpSZ5tBIXB47",
        "outputId": "ac12bf25-58c0-49a1-aa47-abc3d0ffbff9"
      },
      "outputs": [
        {
          "data": {
            "text/plain": [
              "array([['municipalities', 'MultiPolygon'],\n",
              "       ['provinces', 'MultiPolygon'],\n",
              "       ['regions', 'MultiPolygon'],\n",
              "       ['macroregions', 'MultiPolygon']], dtype=object)"
            ]
          },
          "execution_count": 142,
          "metadata": {},
          "output_type": "execute_result"
        }
      ],
      "source": [
        "list_layers('istat_administrative_units_generalized_2025.gpkg')"
      ]
    },
    {
      "cell_type": "code",
      "execution_count": 143,
      "metadata": {
        "id": "a3qnyANlWbyD"
      },
      "outputs": [],
      "source": [
        "provinces = gpd.read_file(\"istat_administrative_units_generalized_2025.gpkg\",layer=\"provinces\")"
      ]
    },
    {
      "cell_type": "markdown",
      "metadata": {
        "id": "oAK_mXvi_4oP"
      },
      "source": [
        "*TIP*: you can also download the file directly from geopandas with this function"
      ]
    },
    {
      "cell_type": "code",
      "execution_count": 144,
      "metadata": {
        "id": "lobH1r9w_tk0"
      },
      "outputs": [],
      "source": [
        "provinces = gpd.read_file(url,layer=\"provinces\")"
      ]
    },
    {
      "cell_type": "code",
      "execution_count": 145,
      "metadata": {
        "colab": {
          "base_uri": "https://localhost:8080/",
          "height": 143
        },
        "id": "gcHUE-7VWqaY",
        "outputId": "932a905e-8177-4b39-d8e2-00d1bf85e47e"
      },
      "outputs": [
        {
          "data": {
            "text/html": [
              "<div>\n",
              "<style scoped>\n",
              "    .dataframe tbody tr th:only-of-type {\n",
              "        vertical-align: middle;\n",
              "    }\n",
              "\n",
              "    .dataframe tbody tr th {\n",
              "        vertical-align: top;\n",
              "    }\n",
              "\n",
              "    .dataframe thead th {\n",
              "        text-align: right;\n",
              "    }\n",
              "</style>\n",
              "<table border=\"1\" class=\"dataframe\">\n",
              "  <thead>\n",
              "    <tr style=\"text-align: right;\">\n",
              "      <th></th>\n",
              "      <th>COD_RIP</th>\n",
              "      <th>COD_REG</th>\n",
              "      <th>COD_PROV</th>\n",
              "      <th>COD_CM</th>\n",
              "      <th>COD_UTS</th>\n",
              "      <th>DEN_PROV</th>\n",
              "      <th>DEN_CM</th>\n",
              "      <th>DEN_UTS</th>\n",
              "      <th>SIGLA</th>\n",
              "      <th>TIPO_UTS</th>\n",
              "      <th>geometry</th>\n",
              "    </tr>\n",
              "  </thead>\n",
              "  <tbody>\n",
              "    <tr>\n",
              "      <th>0</th>\n",
              "      <td>1</td>\n",
              "      <td>1</td>\n",
              "      <td>1</td>\n",
              "      <td>201</td>\n",
              "      <td>201</td>\n",
              "      <td>-</td>\n",
              "      <td>Torino</td>\n",
              "      <td>Torino</td>\n",
              "      <td>TO</td>\n",
              "      <td>Città metropolitana</td>\n",
              "      <td>MULTIPOLYGON (((411579.252 5050002.233, 411904...</td>\n",
              "    </tr>\n",
              "    <tr>\n",
              "      <th>1</th>\n",
              "      <td>1</td>\n",
              "      <td>1</td>\n",
              "      <td>2</td>\n",
              "      <td>0</td>\n",
              "      <td>2</td>\n",
              "      <td>Vercelli</td>\n",
              "      <td>-</td>\n",
              "      <td>Vercelli</td>\n",
              "      <td>VC</td>\n",
              "      <td>Provincia</td>\n",
              "      <td>MULTIPOLYGON (((437947.102 5088766.026, 438463...</td>\n",
              "    </tr>\n",
              "    <tr>\n",
              "      <th>2</th>\n",
              "      <td>1</td>\n",
              "      <td>1</td>\n",
              "      <td>3</td>\n",
              "      <td>0</td>\n",
              "      <td>3</td>\n",
              "      <td>Novara</td>\n",
              "      <td>-</td>\n",
              "      <td>Novara</td>\n",
              "      <td>NO</td>\n",
              "      <td>Provincia</td>\n",
              "      <td>MULTIPOLYGON (((459113.048 5079262.983, 459111...</td>\n",
              "    </tr>\n",
              "  </tbody>\n",
              "</table>\n",
              "</div>"
            ],
            "text/plain": [
              "   COD_RIP  COD_REG  COD_PROV  COD_CM  COD_UTS  DEN_PROV  DEN_CM   DEN_UTS  \\\n",
              "0        1        1         1     201      201         -  Torino    Torino   \n",
              "1        1        1         2       0        2  Vercelli       -  Vercelli   \n",
              "2        1        1         3       0        3    Novara       -    Novara   \n",
              "\n",
              "  SIGLA             TIPO_UTS  \\\n",
              "0    TO  Città metropolitana   \n",
              "1    VC            Provincia   \n",
              "2    NO            Provincia   \n",
              "\n",
              "                                            geometry  \n",
              "0  MULTIPOLYGON (((411579.252 5050002.233, 411904...  \n",
              "1  MULTIPOLYGON (((437947.102 5088766.026, 438463...  \n",
              "2  MULTIPOLYGON (((459113.048 5079262.983, 459111...  "
            ]
          },
          "execution_count": 145,
          "metadata": {},
          "output_type": "execute_result"
        }
      ],
      "source": [
        "provinces.head(3)"
      ]
    },
    {
      "cell_type": "code",
      "execution_count": 146,
      "metadata": {
        "colab": {
          "base_uri": "https://localhost:8080/"
        },
        "id": "i1MtGFC0VvQu",
        "outputId": "99485b4b-c576-4d5c-a280-d8979ad5bfd8"
      },
      "outputs": [
        {
          "data": {
            "text/plain": [
              "Index(['COD_RIP', 'COD_REG', 'COD_PROV', 'COD_CM', 'COD_UTS', 'DEN_PROV',\n",
              "       'DEN_CM', 'DEN_UTS', 'SIGLA', 'TIPO_UTS', 'geometry'],\n",
              "      dtype='object')"
            ]
          },
          "execution_count": 146,
          "metadata": {},
          "output_type": "execute_result"
        }
      ],
      "source": [
        "provinces.columns"
      ]
    },
    {
      "cell_type": "markdown",
      "metadata": {
        "id": "9dv1SuJKVsgl"
      },
      "source": [
        "**COD_RIP**<br/>\n",
        "*codice ripartizione*<br/>\n",
        "numeric code of the macroregion of belonging\n",
        "\n",
        "**COD_REG**<br/>\n",
        "*codice regione*<br/>\n",
        "numeric code of the region of belonging\n",
        "\n",
        "**COD_PROV**<br/>\n",
        "*codice provincia*<br/>\n",
        "numeric code of the region of belonging\n",
        "\n",
        "**COD_CM**<br/>\n",
        "*codice comune*<br/>\n",
        "Istat code of the metropolitan city (three characters in\n",
        "reference to all official statistics are\n",
        "numeric format) obtained by adding the value 200 to\n",
        "adopted the statistical codes of the cities\n",
        "corresponding code of the province.\n",
        "\n",
        "**COD_UTS**<br/>\n",
        "*codice unità territoriali sovracomunali*<br/>\n",
        "Numeric code that uniquely identifies the Units\n",
        "territorial supra-municipal on the national territory.\n",
        "\n",
        "**DEN_PROV**<br/>\n",
        "*denominazione provincia*<br/>\n",
        "name of the province\n",
        "\n",
        "**DEN_CM**<br/>\n",
        "*denominazione città metropolitana*<br/>\n",
        "name of the metropolitan city\n",
        "\n",
        "**DEN_UTS**<br/>\n",
        "*denominazione unità territoriale sovracomunale*<br/>\n",
        "Denomination of the supra-municipal territorial units.\n",
        "\n",
        "**SIGLA**<br/>\n",
        "*sigla*<br/>\n",
        "abbreviation\n",
        "\n",
        "**TIPO_UTS**<br/>\n",
        "*tipologia unità territoriale sovracomunale*<br/>\n",
        "kind of supra-municipal territorial units.\n",
        "\n"
      ]
    },
    {
      "cell_type": "markdown",
      "metadata": {
        "id": "k3c2DpbwXVwp"
      },
      "source": [
        "### filter it for an italian provice at your choice (eg. Trento)\n",
        "\n",
        "obtain the list of all the provincies"
      ]
    },
    {
      "cell_type": "code",
      "execution_count": 147,
      "metadata": {
        "colab": {
          "base_uri": "https://localhost:8080/"
        },
        "id": "nAivKuiMALan",
        "outputId": "386edd56-7407-419a-8b2c-1783f7639e56"
      },
      "outputs": [
        {
          "data": {
            "text/plain": [
              "array(['-', 'Vercelli', 'Novara', 'Cuneo', 'Asti', 'Alessandria', 'Aosta',\n",
              "       'Imperia', 'Savona', 'La Spezia', 'Varese', 'Como', 'Sondrio',\n",
              "       'Bergamo', 'Brescia', 'Pavia', 'Cremona', 'Mantova', 'Bolzano',\n",
              "       'Trento', 'Verona', 'Vicenza', 'Belluno', 'Treviso', 'Padova',\n",
              "       'Rovigo', 'Udine', 'Gorizia', 'Trieste', 'Piacenza', 'Parma',\n",
              "       \"Reggio nell'Emilia\", 'Modena', 'Ferrara', 'Ravenna',\n",
              "       \"Forli'-Cesena\", 'Pesaro e Urbino', 'Ancona', 'Macerata',\n",
              "       'Ascoli Piceno', 'Massa Carrara', 'Lucca', 'Pistoia', 'Livorno',\n",
              "       'Pisa', 'Arezzo', 'Siena', 'Grosseto', 'Perugia', 'Terni',\n",
              "       'Viterbo', 'Rieti', 'Latina', 'Frosinone', 'Caserta', 'Benevento',\n",
              "       'Avellino', 'Salerno', \"L'Aquila\", 'Teramo', 'Pescara', 'Chieti',\n",
              "       'Campobasso', 'Foggia', 'Taranto', 'Brindisi', 'Lecce', 'Potenza',\n",
              "       'Matera', 'Cosenza', 'Catanzaro', 'Trapani', 'Agrigento',\n",
              "       'Caltanissetta', 'Enna', 'Ragusa', 'Siracusa', 'Sassari', 'Nuoro',\n",
              "       'Pordenone', 'Isernia', 'Oristano', 'Biella', 'Lecco', 'Lodi',\n",
              "       'Rimini', 'Prato', 'Crotone', 'Vibo Valentia',\n",
              "       'Verbano-Cusio-Ossola', 'Monza e della Brianza', 'Fermo',\n",
              "       'Barletta-Andria-Trani', 'Sud Sardegna'], dtype=object)"
            ]
          },
          "execution_count": 147,
          "metadata": {},
          "output_type": "execute_result"
        }
      ],
      "source": [
        "provinces['DEN_PROV'].unique()"
      ]
    },
    {
      "cell_type": "markdown",
      "metadata": {
        "id": "3xadwHnaAnD1"
      },
      "source": [
        "obtain the list of all the metropolitan ciies"
      ]
    },
    {
      "cell_type": "code",
      "execution_count": 148,
      "metadata": {
        "colab": {
          "base_uri": "https://localhost:8080/"
        },
        "id": "T8nPq64OAtmJ",
        "outputId": "f3955e65-55f4-4daa-ebc6-c3e48f841aa7"
      },
      "outputs": [
        {
          "data": {
            "text/plain": [
              "array(['Torino', '-', 'Genova', 'Milano', 'Venezia', 'Bologna', 'Firenze',\n",
              "       'Roma', 'Napoli', 'Bari', 'Reggio di Calabria', 'Palermo',\n",
              "       'Messina', 'Catania', 'Cagliari'], dtype=object)"
            ]
          },
          "execution_count": 148,
          "metadata": {},
          "output_type": "execute_result"
        }
      ],
      "source": [
        "provinces.DEN_CM.unique()"
      ]
    },
    {
      "cell_type": "markdown",
      "metadata": {
        "id": "gdaz8GslA6Q8"
      },
      "source": [
        "choose the province of Trento"
      ]
    },
    {
      "cell_type": "code",
      "execution_count": 149,
      "metadata": {
        "id": "btDGt41ZIeGO"
      },
      "outputs": [],
      "source": [
        "province_of_trento = provinces[provinces['DEN_PROV']=='Trento']"
      ]
    },
    {
      "cell_type": "code",
      "execution_count": 150,
      "metadata": {
        "colab": {
          "base_uri": "https://localhost:8080/",
          "height": 89
        },
        "id": "krZReRm1Ihk0",
        "outputId": "ca3d8954-aecb-4669-e605-c318a24cc462"
      },
      "outputs": [
        {
          "data": {
            "text/html": [
              "<div>\n",
              "<style scoped>\n",
              "    .dataframe tbody tr th:only-of-type {\n",
              "        vertical-align: middle;\n",
              "    }\n",
              "\n",
              "    .dataframe tbody tr th {\n",
              "        vertical-align: top;\n",
              "    }\n",
              "\n",
              "    .dataframe thead th {\n",
              "        text-align: right;\n",
              "    }\n",
              "</style>\n",
              "<table border=\"1\" class=\"dataframe\">\n",
              "  <thead>\n",
              "    <tr style=\"text-align: right;\">\n",
              "      <th></th>\n",
              "      <th>COD_RIP</th>\n",
              "      <th>COD_REG</th>\n",
              "      <th>COD_PROV</th>\n",
              "      <th>COD_CM</th>\n",
              "      <th>COD_UTS</th>\n",
              "      <th>DEN_PROV</th>\n",
              "      <th>DEN_CM</th>\n",
              "      <th>DEN_UTS</th>\n",
              "      <th>SIGLA</th>\n",
              "      <th>TIPO_UTS</th>\n",
              "      <th>geometry</th>\n",
              "    </tr>\n",
              "  </thead>\n",
              "  <tbody>\n",
              "    <tr>\n",
              "      <th>21</th>\n",
              "      <td>2</td>\n",
              "      <td>4</td>\n",
              "      <td>22</td>\n",
              "      <td>0</td>\n",
              "      <td>22</td>\n",
              "      <td>Trento</td>\n",
              "      <td>-</td>\n",
              "      <td>Trento</td>\n",
              "      <td>TN</td>\n",
              "      <td>Provincia autonoma</td>\n",
              "      <td>MULTIPOLYGON (((716713.938 5155903.052, 716725...</td>\n",
              "    </tr>\n",
              "  </tbody>\n",
              "</table>\n",
              "</div>"
            ],
            "text/plain": [
              "    COD_RIP  COD_REG  COD_PROV  COD_CM  COD_UTS DEN_PROV DEN_CM DEN_UTS SIGLA  \\\n",
              "21        2        4        22       0       22   Trento      -  Trento    TN   \n",
              "\n",
              "              TIPO_UTS                                           geometry  \n",
              "21  Provincia autonoma  MULTIPOLYGON (((716713.938 5155903.052, 716725...  "
            ]
          },
          "execution_count": 150,
          "metadata": {},
          "output_type": "execute_result"
        }
      ],
      "source": [
        "province_of_trento"
      ]
    },
    {
      "cell_type": "markdown",
      "metadata": {
        "id": "8nQ0YPYvZ_2J"
      },
      "source": [
        "### plot it"
      ]
    },
    {
      "cell_type": "code",
      "execution_count": 151,
      "metadata": {
        "colab": {
          "base_uri": "https://localhost:8080/",
          "height": 845
        },
        "id": "J3KKa1HqIk99",
        "outputId": "96421926-1acd-403b-87f9-60997b88fe3e"
      },
      "outputs": [
        {
          "data": {
            "image/png": "[encoded data removed]",
            "text/plain": [
              "<Figure size 1000x1000 with 1 Axes>"
            ]
          },
          "metadata": {},
          "output_type": "display_data"
        }
      ],
      "source": [
        "province_of_trento.plot(figsize=(10,10))\n",
        "plt.show()"
      ]
    },
    {
      "cell_type": "markdown",
      "metadata": {
        "id": "sNuk2GFbaEe0"
      },
      "source": [
        "## 2. load the shapefile of ISTAT with the informations of the muncipalities\n",
        "### identify the municipalities of the province selected with the biggest and smallest area\n",
        "\n",
        "this means we need to use another layer / dataset"
      ]
    },
    {
      "cell_type": "code",
      "execution_count": 152,
      "metadata": {
        "id": "c6LWnGag-8je"
      },
      "outputs": [],
      "source": [
        "municipalities = gpd.read_file(url,layer=\"municipalities\")"
      ]
    },
    {
      "cell_type": "code",
      "execution_count": 153,
      "metadata": {
        "colab": {
          "base_uri": "https://localhost:8080/"
        },
        "id": "XlAUfmNwJojm",
        "outputId": "8ec886fc-1dc5-4b05-c197-959adf93d8d2"
      },
      "outputs": [
        {
          "data": {
            "text/plain": [
              "Index(['COD_RIP', 'COD_REG', 'COD_PROV', 'COD_CM', 'COD_UTS', 'PRO_COM',\n",
              "       'PRO_COM_T', 'COMUNE', 'COMUNE_A', 'CC_UTS', 'geometry'],\n",
              "      dtype='object')"
            ]
          },
          "execution_count": 153,
          "metadata": {},
          "output_type": "execute_result"
        }
      ],
      "source": [
        "municipalities.columns"
      ]
    },
    {
      "cell_type": "markdown",
      "metadata": {
        "id": "jX4dEbEt9Zgo"
      },
      "source": [
        "**COD_RIP**<br/>\n",
        "*codice ripartizione*<br/>\n",
        "numeric code of the macroregion of belonging\n",
        "\n",
        "**COD_REG**<br/>\n",
        "*codice regione*<br/>\n",
        "numeric code of the region of belonging\n",
        "\n",
        "**COD_PROV**<br/>\n",
        "*codice provincia*<br/>\n",
        "numeric code of the region of belonging\n",
        "\n",
        "**COD_CM**<br/>\n",
        "*codice comune*<br/>\n",
        "unique numeric identification code of the municipality within the province of belonging\n",
        "\n",
        "**COD_UTS**<br/>\n",
        "*codice unità territoriali sovracomunali*<br/>\n",
        "Numeric code that uniquely identifies the Units\n",
        "territorial supra-municipal on the national territory.\n",
        "\n",
        "**PRO_COM**<br/>\n",
        "*provincia comune**<br/>\n",
        "Numeric code that uniquely identifies the Municipality\n",
        "on the national territory. (= COD_PROV & COD_COM)\n",
        "\n",
        "**PRO_COM_T**<br/>\n",
        "*provincia comune territorio**<br/>\n",
        "Alphanumeric code that uniquely identifies the\n",
        "Municipality on the national territory.<br/>\n",
        "Like PRO_COM but definied in 6 fixed characters.\n",
        "\n",
        "**COMUNE**<br/>\n",
        "*comune*<br/>\n",
        "Name of the Municipality\n",
        "\n",
        "**COMUNE_A**<br/>\n",
        "*comune alternativa*<br/>\n",
        "Name of the Municipality in a language other than Italian\n",
        "\n",
        "**CC_UTS**<br/>\n",
        "*comune capoluogo*<br/>\n",
        "Provincial capital or metropolitan city<br/>\n",
        "1 => True<br/>\n",
        "2 => False\n",
        "\n"
      ]
    },
    {
      "cell_type": "markdown",
      "metadata": {
        "id": "4cRRhYVCakDq"
      },
      "source": [
        "the **COD_PROV** of the Province of Verona is **22**"
      ]
    },
    {
      "cell_type": "code",
      "execution_count": 154,
      "metadata": {
        "id": "UjYOlOPeJtZg"
      },
      "outputs": [],
      "source": [
        "# filter the province\n",
        "municipalities_province_trento= municipalities[municipalities.COD_PROV==22]"
      ]
    },
    {
      "cell_type": "code",
      "execution_count": 155,
      "metadata": {
        "colab": {
          "base_uri": "https://localhost:8080/",
          "height": 845
        },
        "id": "pgcYsr41JxXE",
        "outputId": "0b9c4a9c-b914-4f10-f3d8-d4ff0e6da3fb"
      },
      "outputs": [
        {
          "data": {
            "image/png": "[encoded data removed]",
            "text/plain": [
              "<Figure size 1000x1000 with 1 Axes>"
            ]
          },
          "metadata": {},
          "output_type": "display_data"
        }
      ],
      "source": [
        "# plot it\n",
        "municipalities_province_trento.plot(figsize=(10,10))\n",
        "plt.show()"
      ]
    },
    {
      "cell_type": "markdown",
      "metadata": {
        "id": "nG87m3Hna9ZB"
      },
      "source": [
        "### identify the cities of the province selected with the biggest and smallest area\n",
        "\n",
        "**CAUTION**:\n",
        "\n",
        "we are using generalized boundaries !!!"
      ]
    },
    {
      "cell_type": "markdown",
      "metadata": {
        "id": "CotX0EIMcrDU"
      },
      "source": [
        "finding the max area"
      ]
    },
    {
      "cell_type": "code",
      "execution_count": 156,
      "metadata": {
        "id": "ed1E9oyvJ0yu"
      },
      "outputs": [],
      "source": [
        "max_area = municipalities_province_trento.geometry.area.max()"
      ]
    },
    {
      "cell_type": "code",
      "execution_count": 157,
      "metadata": {
        "colab": {
          "base_uri": "https://localhost:8080/"
        },
        "id": "DHj8IQ0LFY3t",
        "outputId": "3ec90e81-4a68-435c-803e-f39df8a8ff8a"
      },
      "outputs": [
        {
          "data": {
            "text/plain": [
              "199034565.8416705"
            ]
          },
          "execution_count": 157,
          "metadata": {},
          "output_type": "execute_result"
        }
      ],
      "source": [
        "max_area"
      ]
    },
    {
      "cell_type": "markdown",
      "metadata": {
        "id": "6othNPYvcvoB"
      },
      "source": [
        "finding the min area"
      ]
    },
    {
      "cell_type": "code",
      "execution_count": 158,
      "metadata": {
        "id": "9G4hMiQCJ3Af"
      },
      "outputs": [],
      "source": [
        "min_area = municipalities_province_trento.geometry.area.min()"
      ]
    },
    {
      "cell_type": "code",
      "execution_count": 159,
      "metadata": {
        "colab": {
          "base_uri": "https://localhost:8080/"
        },
        "id": "7vnVp3RWFa2G",
        "outputId": "e6e0a8a7-0f23-419d-d3fe-8aecac2878b4"
      },
      "outputs": [
        {
          "data": {
            "text/plain": [
              "1739520.6445374773"
            ]
          },
          "execution_count": 159,
          "metadata": {},
          "output_type": "execute_result"
        }
      ],
      "source": [
        "min_area"
      ]
    },
    {
      "cell_type": "markdown",
      "metadata": {
        "id": "mIcFXpBdbb4G"
      },
      "source": [
        "... you can obtain the same in another way (combination of the requests)"
      ]
    },
    {
      "cell_type": "code",
      "execution_count": 160,
      "metadata": {
        "colab": {
          "base_uri": "https://localhost:8080/"
        },
        "id": "6LU7py1VbdXT",
        "outputId": "2b2d3ebc-31f4-4ad7-b539-bac9de881f6f"
      },
      "outputs": [
        {
          "data": {
            "text/plain": [
              "1739520.6445374773"
            ]
          },
          "execution_count": 160,
          "metadata": {},
          "output_type": "execute_result"
        }
      ],
      "source": [
        "municipalities[municipalities.COD_PROV==22].geometry.area.min()"
      ]
    },
    {
      "cell_type": "markdown",
      "metadata": {
        "id": "Jzy-S7i4cZdy"
      },
      "source": [
        "### identify the municipality with the biggest area\n",
        "\n",
        "\n"
      ]
    },
    {
      "cell_type": "code",
      "execution_count": 161,
      "metadata": {
        "id": "HnefpEIAJ50g"
      },
      "outputs": [],
      "source": [
        "maxarea_municipality_province_trento = municipalities_province_trento[municipalities_province_trento.geometry.area == max_area]"
      ]
    },
    {
      "cell_type": "code",
      "execution_count": 162,
      "metadata": {
        "colab": {
          "base_uri": "https://localhost:8080/",
          "height": 115
        },
        "id": "oLEC0CPXJ_FY",
        "outputId": "4632407f-3f3f-467c-cf46-ae9482f7c883"
      },
      "outputs": [
        {
          "data": {
            "text/plain": [
              "2759    022001\n",
              "2760    022002\n",
              "2761    022003\n",
              "2762    022005\n",
              "2763    022006\n",
              "         ...  \n",
              "2920    022250\n",
              "2921    022251\n",
              "2922    022252\n",
              "2923    022253\n",
              "2924    022254\n",
              "Name: PRO_COM_T, Length: 166, dtype: object"
            ]
          },
          "execution_count": 162,
          "metadata": {},
          "output_type": "execute_result"
        }
      ],
      "source": [
        "municipalities_province_trento.PRO_COM_T"
      ]
    },
    {
      "cell_type": "code",
      "execution_count": 163,
      "metadata": {
        "colab": {
          "base_uri": "https://localhost:8080/",
          "height": 115
        },
        "id": "zirOh3UpdWwe",
        "outputId": "af458515-dfdf-4905-8068-de62218b6127"
      },
      "outputs": [
        {
          "data": {
            "text/plain": [
              "2915    Primiero San Martino di Castrozza\n",
              "Name: COMUNE, dtype: object"
            ]
          },
          "execution_count": 163,
          "metadata": {},
          "output_type": "execute_result"
        }
      ],
      "source": [
        "maxarea_municipality_province_trento.COMUNE"
      ]
    },
    {
      "cell_type": "markdown",
      "metadata": {
        "id": "fbyYIwZ6dGdY"
      },
      "source": [
        "the municipality with the bigger area is **Trento** (023091)"
      ]
    },
    {
      "cell_type": "code",
      "execution_count": 164,
      "metadata": {
        "colab": {
          "base_uri": "https://localhost:8080/",
          "height": 845
        },
        "id": "EYgIAJx1_KTV",
        "outputId": "ec538e2a-3e63-4b03-c9fb-8806765d46db"
      },
      "outputs": [
        {
          "data": {
            "image/png": "[encoded data removed]",
            "text/plain": [
              "<Figure size 1000x1000 with 1 Axes>"
            ]
          },
          "metadata": {},
          "output_type": "display_data"
        }
      ],
      "source": [
        "maxarea_municipality_province_trento.plot(figsize=(10,10))\n",
        "plt.show()"
      ]
    },
    {
      "cell_type": "markdown",
      "metadata": {
        "id": "ShodskgCdegB"
      },
      "source": [
        "### identify the municipality with the smallest area\n"
      ]
    },
    {
      "cell_type": "code",
      "execution_count": 165,
      "metadata": {
        "id": "waSNAaUaJ8DM"
      },
      "outputs": [],
      "source": [
        "minarea_municipality_province_trento = municipalities_province_trento[municipalities_province_trento.geometry.area == min_area]"
      ]
    },
    {
      "cell_type": "code",
      "execution_count": 166,
      "metadata": {
        "colab": {
          "base_uri": "https://localhost:8080/",
          "height": 115
        },
        "id": "dTvZsDYWKCf1",
        "outputId": "fd6cb149-3601-413b-fcb0-f8477c682574"
      },
      "outputs": [
        {
          "data": {
            "text/plain": [
              "2786    Carzano\n",
              "Name: COMUNE, dtype: object"
            ]
          },
          "execution_count": 166,
          "metadata": {},
          "output_type": "execute_result"
        }
      ],
      "source": [
        "minarea_municipality_province_trento.COMUNE"
      ]
    },
    {
      "cell_type": "code",
      "execution_count": 167,
      "metadata": {
        "colab": {
          "base_uri": "https://localhost:8080/",
          "height": 115
        },
        "id": "BJoda9zhdtzD",
        "outputId": "dd5f741b-496b-4dac-c6c0-4d2b9c68ed9e"
      },
      "outputs": [
        {
          "data": {
            "text/plain": [
              "2786    022043\n",
              "Name: PRO_COM_T, dtype: object"
            ]
          },
          "execution_count": 167,
          "metadata": {},
          "output_type": "execute_result"
        }
      ],
      "source": [
        "minarea_municipality_province_trento.PRO_COM_T"
      ]
    },
    {
      "cell_type": "markdown",
      "metadata": {
        "id": "hk3wvA0_dzDW"
      },
      "source": [
        "the municipality with the smallest area is **Carzano** (022043)"
      ]
    },
    {
      "cell_type": "code",
      "execution_count": 168,
      "metadata": {
        "colab": {
          "base_uri": "https://localhost:8080/",
          "height": 845
        },
        "id": "Twce9Hy7NXAo",
        "outputId": "37e8d02a-db1f-499c-b666-3fba3040b156"
      },
      "outputs": [
        {
          "data": {
            "image/png": "[encoded data removed]",
            "text/plain": [
              "<Figure size 1000x1000 with 1 Axes>"
            ]
          },
          "metadata": {},
          "output_type": "display_data"
        }
      ],
      "source": [
        "minarea_municipality_province_trento.plot(figsize=(10,10))\n",
        "plt.show()"
      ]
    },
    {
      "cell_type": "markdown",
      "metadata": {
        "id": "Y-dS9DA5eE6U"
      },
      "source": [
        "### extract all the centroids of the areas expressed in WGS84"
      ]
    },
    {
      "cell_type": "code",
      "execution_count": 169,
      "metadata": {
        "colab": {
          "base_uri": "https://localhost:8080/",
          "height": 115
        },
        "id": "t_74bjyYN8ru",
        "outputId": "dfb723d0-3b10-4c90-b60e-f3a8f0e2a060"
      },
      "outputs": [
        {
          "data": {
            "text/plain": [
              "2915    POINT (11.82663 46.24214)\n",
              "dtype: geometry"
            ]
          },
          "execution_count": 169,
          "metadata": {},
          "output_type": "execute_result"
        }
      ],
      "source": [
        "maxarea_municipality_province_trento.geometry.centroid.to_crs(epsg=4326)"
      ]
    },
    {
      "cell_type": "code",
      "execution_count": 170,
      "metadata": {
        "colab": {
          "base_uri": "https://localhost:8080/",
          "height": 115
        },
        "id": "veFfPsumePIa",
        "outputId": "2337f11f-5665-493b-e7f2-924736e4826d"
      },
      "outputs": [
        {
          "data": {
            "text/plain": [
              "2915    POINT (11.82663 46.24214)\n",
              "dtype: geometry"
            ]
          },
          "execution_count": 170,
          "metadata": {},
          "output_type": "execute_result"
        }
      ],
      "source": [
        "maxarea_municipality_province_trento.geometry.centroid.to_crs(epsg=4326)"
      ]
    },
    {
      "cell_type": "markdown",
      "metadata": {
        "id": "-eJUm7csej5u"
      },
      "source": [
        "### extract a rappresenative point for the area of the smallest and bigger municipality in WGS84"
      ]
    },
    {
      "cell_type": "code",
      "execution_count": 171,
      "metadata": {
        "id": "WXJh0bs7KHMA"
      },
      "outputs": [],
      "source": [
        "representative_point_minarea_municipality = maxarea_municipality_province_trento.geometry.representative_point()"
      ]
    },
    {
      "cell_type": "code",
      "execution_count": 172,
      "metadata": {
        "id": "ThbYeGtdN1K6"
      },
      "outputs": [],
      "source": [
        "representative_point_maxarea_municipality = maxarea_municipality_province_trento.geometry.representative_point()"
      ]
    },
    {
      "cell_type": "code",
      "execution_count": 173,
      "metadata": {
        "colab": {
          "base_uri": "https://localhost:8080/",
          "height": 115
        },
        "id": "9oUgRfy_KKs8",
        "outputId": "d1ec70da-08a2-482b-b16e-3b9d6f206584"
      },
      "outputs": [
        {
          "data": {
            "text/plain": [
              "2915    POINT (11.83748 46.24786)\n",
              "dtype: geometry"
            ]
          },
          "execution_count": 173,
          "metadata": {},
          "output_type": "execute_result"
        }
      ],
      "source": [
        "representative_point_minarea_municipality.to_crs(epsg=4326)"
      ]
    },
    {
      "cell_type": "code",
      "execution_count": 174,
      "metadata": {
        "colab": {
          "base_uri": "https://localhost:8080/",
          "height": 115
        },
        "id": "mDE69_SpOBDu",
        "outputId": "1c7c3b8f-fa34-49be-aa6c-571bb20900d3"
      },
      "outputs": [
        {
          "data": {
            "text/html": [
              "<div>\n",
              "<style scoped>\n",
              "    .dataframe tbody tr th:only-of-type {\n",
              "        vertical-align: middle;\n",
              "    }\n",
              "\n",
              "    .dataframe tbody tr th {\n",
              "        vertical-align: top;\n",
              "    }\n",
              "\n",
              "    .dataframe thead th {\n",
              "        text-align: right;\n",
              "    }\n",
              "</style>\n",
              "<table border=\"1\" class=\"dataframe\">\n",
              "  <thead>\n",
              "    <tr style=\"text-align: right;\">\n",
              "      <th></th>\n",
              "      <th>COD_RIP</th>\n",
              "      <th>COD_REG</th>\n",
              "      <th>COD_PROV</th>\n",
              "      <th>COD_CM</th>\n",
              "      <th>COD_UTS</th>\n",
              "      <th>PRO_COM</th>\n",
              "      <th>PRO_COM_T</th>\n",
              "      <th>COMUNE</th>\n",
              "      <th>COMUNE_A</th>\n",
              "      <th>CC_UTS</th>\n",
              "      <th>geometry</th>\n",
              "    </tr>\n",
              "  </thead>\n",
              "  <tbody>\n",
              "    <tr>\n",
              "      <th>2915</th>\n",
              "      <td>2</td>\n",
              "      <td>4</td>\n",
              "      <td>22</td>\n",
              "      <td>0</td>\n",
              "      <td>22</td>\n",
              "      <td>22245</td>\n",
              "      <td>022245</td>\n",
              "      <td>Primiero San Martino di Castrozza</td>\n",
              "      <td>None</td>\n",
              "      <td>0</td>\n",
              "      <td>MULTIPOLYGON (((11.77438 46.35824, 11.77956 46...</td>\n",
              "    </tr>\n",
              "  </tbody>\n",
              "</table>\n",
              "</div>"
            ],
            "text/plain": [
              "      COD_RIP  COD_REG  COD_PROV  COD_CM  COD_UTS  PRO_COM PRO_COM_T  \\\n",
              "2915        2        4        22       0       22    22245    022245   \n",
              "\n",
              "                                 COMUNE COMUNE_A  CC_UTS  \\\n",
              "2915  Primiero San Martino di Castrozza     None       0   \n",
              "\n",
              "                                               geometry  \n",
              "2915  MULTIPOLYGON (((11.77438 46.35824, 11.77956 46...  "
            ]
          },
          "execution_count": 174,
          "metadata": {},
          "output_type": "execute_result"
        }
      ],
      "source": [
        "maxarea_municipality_province_trento.to_crs(epsg=4326)"
      ]
    },
    {
      "cell_type": "markdown",
      "metadata": {
        "id": "v6FK_NSsfJQu"
      },
      "source": [
        "### save the data in GeoJSON files\n",
        "\n",
        "we can save each point in geojson"
      ]
    },
    {
      "cell_type": "code",
      "execution_count": 175,
      "metadata": {
        "id": "vkvmlRvafZ9Z"
      },
      "outputs": [],
      "source": [
        "representative_point_maxarea_municipality.to_crs(epsg=4326).to_file(\"point.geojson\",driver=\"GeoJSON\")"
      ]
    },
    {
      "cell_type": "markdown",
      "metadata": {
        "id": "rHuNahrZftl5"
      },
      "source": [
        "... but we need to create an only one file with all the data in a geojson file"
      ]
    },
    {
      "cell_type": "code",
      "execution_count": 176,
      "metadata": {
        "id": "e7nlav9JfzTS"
      },
      "outputs": [],
      "source": [
        "points = pd.concat([representative_point_minarea_municipality, representative_point_maxarea_municipality], ignore_index=True)"
      ]
    },
    {
      "cell_type": "code",
      "execution_count": 177,
      "metadata": {
        "id": "1jMx1Tz9gUQb"
      },
      "outputs": [],
      "source": [
        "points.to_crs(epsg=4326).to_file(\"points.geojson\",driver=\"GeoJSON\")"
      ]
    },
    {
      "cell_type": "markdown",
      "metadata": {
        "id": "-r_dNGcDICJs"
      },
      "source": [
        "and we can do the same with the polygons"
      ]
    },
    {
      "cell_type": "code",
      "execution_count": 178,
      "metadata": {
        "id": "Kme3ZsgFHfHp"
      },
      "outputs": [],
      "source": [
        "polygons = pd.concat([maxarea_municipality_province_trento, minarea_municipality_province_trento], ignore_index=True)"
      ]
    },
    {
      "cell_type": "code",
      "execution_count": 179,
      "metadata": {
        "id": "iKnoxSaQL3gX"
      },
      "outputs": [],
      "source": [
        "polygons.to_crs(epsg=4326).to_file(\"polygons.geojson\",driver=\"GeoJSON\")"
      ]
    },
    {
      "cell_type": "markdown",
      "metadata": {
        "id": "5o7fd9t6Izpq"
      },
      "source": [
        "you can download the files and create a map with [umap](https://umap.openstretmap.fr) and create an [interactive map online with the data](https://umap.openstreetmap.fr/it/map/from-smallest-to-largest-trentino-municipalities_1305072)"
      ]
    },
    {
      "cell_type": "markdown",
      "metadata": {
        "id": "3M4cuG64hSBH"
      },
      "source": [
        "### calculate the distance on the geodentic between the municipality with the big area and smallest area by using the centroid\n"
      ]
    },
    {
      "cell_type": "code",
      "execution_count": 180,
      "metadata": {
        "id": "1wtbI-kf7Vh6"
      },
      "outputs": [],
      "source": [
        "to_point = minarea_municipality_province_trento.geometry.centroid.values[0]"
      ]
    },
    {
      "cell_type": "code",
      "execution_count": 181,
      "metadata": {
        "colab": {
          "base_uri": "https://localhost:8080/",
          "height": 115
        },
        "id": "E29lflS5fAph",
        "outputId": "cdb0e12c-f096-4039-a289-9bdd98141cf7"
      },
      "outputs": [
        {
          "data": {
            "text/plain": [
              "2915    31799.574205\n",
              "dtype: float64"
            ]
          },
          "execution_count": 181,
          "metadata": {},
          "output_type": "execute_result"
        }
      ],
      "source": [
        "maxarea_municipality_province_trento.centroid.distance(to_point)"
      ]
    },
    {
      "cell_type": "code",
      "execution_count": 182,
      "metadata": {
        "id": "KnkXEZOs7Vh7"
      },
      "outputs": [],
      "source": [
        "distance = maxarea_municipality_province_trento.geometry.centroid.distance(to_point).values[0]"
      ]
    },
    {
      "cell_type": "code",
      "execution_count": 183,
      "metadata": {
        "colab": {
          "base_uri": "https://localhost:8080/"
        },
        "id": "cl60MuiU7Vh7",
        "outputId": "91571615-3cba-4c10-e0ab-21ed8e8fc3ee"
      },
      "outputs": [
        {
          "data": {
            "text/plain": [
              "np.float64(31799.574205033638)"
            ]
          },
          "execution_count": 183,
          "metadata": {},
          "output_type": "execute_result"
        }
      ],
      "source": [
        "distance"
      ]
    },
    {
      "cell_type": "markdown",
      "metadata": {
        "id": "G3w4YSq7i_Of"
      },
      "source": [
        "the distance is in meters due the CRS used on the dataset"
      ]
    },
    {
      "cell_type": "code",
      "execution_count": 184,
      "metadata": {
        "id": "h3l6OLzR7Vh8"
      },
      "outputs": [],
      "source": [
        "to_city = minarea_municipality_province_trento.COMUNE.values[0]\n",
        "from_city = maxarea_municipality_province_trento.COMUNE.values[0]\n",
        "distance_km = distance/1000"
      ]
    },
    {
      "cell_type": "code",
      "execution_count": 185,
      "metadata": {
        "colab": {
          "base_uri": "https://localhost:8080/"
        },
        "id": "HuMjuhhJ7Vh8",
        "outputId": "eb358a71-b1f0-494e-d318-c501e560b549"
      },
      "outputs": [
        {
          "name": "stdout",
          "output_type": "stream",
          "text": [
            "the distance from Primiero San Martino di Castrozza to Carzano is 31.8 km\n"
          ]
        }
      ],
      "source": [
        "print(\"the distance from %s to %s is %.1f km\" % (from_city, to_city, round(distance_km,1)))"
      ]
    },
    {
      "cell_type": "markdown",
      "metadata": {
        "id": "_ZJxuinjPKA4"
      },
      "source": [
        "### Why a representative point?"
      ]
    },
    {
      "cell_type": "markdown",
      "metadata": {
        "id": "0ISDE0HGjzAi"
      },
      "source": [
        "Where is the centroid of Liguria?\n"
      ]
    },
    {
      "cell_type": "code",
      "execution_count": 186,
      "metadata": {
        "id": "5Hba-qxTmuQL"
      },
      "outputs": [],
      "source": [
        "regions = gpd.read_file(url,layer=\"regions\")"
      ]
    },
    {
      "cell_type": "code",
      "execution_count": 187,
      "metadata": {
        "colab": {
          "base_uri": "https://localhost:8080/"
        },
        "id": "91yTYhTBmm8U",
        "outputId": "ba17b1ba-a095-48ed-9bf3-f5bfffcfb2c9"
      },
      "outputs": [
        {
          "data": {
            "text/plain": [
              "array(['Piemonte', \"Valle d'Aosta\", 'Lombardia', 'Trentino-Alto Adige',\n",
              "       'Veneto', 'Friuli-Venezia Giulia', 'Liguria', 'Emilia-Romagna',\n",
              "       'Toscana', 'Umbria', 'Marche', 'Lazio', 'Abruzzo', 'Molise',\n",
              "       'Campania', 'Puglia', 'Basilicata', 'Calabria', 'Sicilia',\n",
              "       'Sardegna'], dtype=object)"
            ]
          },
          "execution_count": 187,
          "metadata": {},
          "output_type": "execute_result"
        }
      ],
      "source": [
        "regions.DEN_REG.unique()"
      ]
    },
    {
      "cell_type": "code",
      "execution_count": 188,
      "metadata": {
        "colab": {
          "base_uri": "https://localhost:8080/",
          "height": 447
        },
        "id": "xiziGEkiAHJf",
        "outputId": "3482b935-8725-405d-f1e9-a77b98e393a9"
      },
      "outputs": [
        {
          "data": {
            "image/png": "[encoded data removed]",
            "text/plain": [
              "<Figure size 1000x1000 with 1 Axes>"
            ]
          },
          "metadata": {},
          "output_type": "display_data"
        }
      ],
      "source": [
        "regions[regions.DEN_REG=='Liguria'].plot(figsize=(10,10))\n",
        "plt.show()"
      ]
    },
    {
      "cell_type": "code",
      "execution_count": 189,
      "metadata": {
        "id": "C3st5LyfnhNV"
      },
      "outputs": [],
      "source": [
        "regions[regions.DEN_REG=='Liguria'].to_crs(epsg=4326).to_file(\"liguria.geojson\",driver='GeoJSON')"
      ]
    },
    {
      "cell_type": "code",
      "execution_count": 190,
      "metadata": {
        "id": "XOvUmDfvAUDN"
      },
      "outputs": [],
      "source": [
        "regions[regions.DEN_REG=='Liguria'].centroid.to_crs(epsg=4326).to_file(\"liguria_centroid.geojson\",driver='GeoJSON')"
      ]
    },
    {
      "cell_type": "code",
      "execution_count": 191,
      "metadata": {
        "id": "gx8_YvuWoSWo"
      },
      "outputs": [],
      "source": [
        "regions[regions.DEN_REG=='Liguria'].representative_point().to_crs(epsg=4326).to_file(\"liguria_representative_point.geojson\",driver='GeoJSON')"
      ]
    },
    {
      "cell_type": "markdown",
      "metadata": {
        "id": "XMN9nFJDp5bL"
      },
      "source": [
        "you can upload all the geojson on [uMap](http://umap.openstreetmap.fr) to [see the result](http://umap.openstreetmap.fr/it/map/liguria_505528#8/44.058/9.075)"
      ]
    },
    {
      "cell_type": "markdown",
      "metadata": {
        "id": "hN57WvvIpy0i"
      },
      "source": [
        "![](https://raw.githubusercontent.com/napo/geospatial_course_unitn/master/images/umap_liguria.jpg)\n"
      ]
    },
    {
      "cell_type": "markdown",
      "metadata": {
        "id": "L7Z-v_fPQD3X"
      },
      "source": [
        "## download the shapefile of the [lakes and bodies of water of Trentino](https://github.com/napo/geospatialcourse2025/raw/refs/heads/main/data/lakes_bodies_of_water_trentino.zip) - projection Monte Mario zone 1\n",
        "    - convert in WGS84 and create a geojson"
      ]
    },
    {
      "cell_type": "code",
      "execution_count": 192,
      "metadata": {
        "id": "SjiVDTRrRSOH"
      },
      "outputs": [],
      "source": [
        "dataurl='https://github.com/napo/geospatialcourse2025/raw/refs/heads/main/data/lakes_bodies_of_water_trentino.zip'\n",
        "lakes_bodies_water = gpd.read_file(dataurl)"
      ]
    },
    {
      "cell_type": "markdown",
      "metadata": {
        "id": "bjJ9PeeoSVgP"
      },
      "source": [
        "###  plot the geometries "
      ]
    },
    {
      "cell_type": "code",
      "execution_count": 193,
      "metadata": {
        "colab": {
          "base_uri": "https://localhost:8080/",
          "height": 143
        },
        "id": "iSo1ONGQRsAJ",
        "outputId": "a4f633b7-aa95-4039-fb7c-45408e5b6553"
      },
      "outputs": [
        {
          "data": {
            "text/html": [
              "<div>\n",
              "<style scoped>\n",
              "    .dataframe tbody tr th:only-of-type {\n",
              "        vertical-align: middle;\n",
              "    }\n",
              "\n",
              "    .dataframe tbody tr th {\n",
              "        vertical-align: top;\n",
              "    }\n",
              "\n",
              "    .dataframe thead th {\n",
              "        text-align: right;\n",
              "    }\n",
              "</style>\n",
              "<table border=\"1\" class=\"dataframe\">\n",
              "  <thead>\n",
              "    <tr style=\"text-align: right;\">\n",
              "      <th></th>\n",
              "      <th>OBJECTID</th>\n",
              "      <th>NOMESPACQ</th>\n",
              "      <th>geometry</th>\n",
              "    </tr>\n",
              "  </thead>\n",
              "  <tbody>\n",
              "    <tr>\n",
              "      <th>0</th>\n",
              "      <td>29690.0</td>\n",
              "      <td>LAGO DI MOLVENO</td>\n",
              "      <td>POLYGON ((1652079.952 5111676.932, 1652079.586...</td>\n",
              "    </tr>\n",
              "    <tr>\n",
              "      <th>1</th>\n",
              "      <td>29743.0</td>\n",
              "      <td>LAGO BACINO S.I.T. - BACINO DI PONTARSO</td>\n",
              "      <td>POLYGON ((1692832.012 5109957.392, 1692832.114...</td>\n",
              "    </tr>\n",
              "    <tr>\n",
              "      <th>2</th>\n",
              "      <td>29723.0</td>\n",
              "      <td>LAGO DEL CARESER</td>\n",
              "      <td>POLYGON ((1630312.511 5142839.286, 1630311.588...</td>\n",
              "    </tr>\n",
              "  </tbody>\n",
              "</table>\n",
              "</div>"
            ],
            "text/plain": [
              "   OBJECTID                                NOMESPACQ  \\\n",
              "0   29690.0                          LAGO DI MOLVENO   \n",
              "1   29743.0  LAGO BACINO S.I.T. - BACINO DI PONTARSO   \n",
              "2   29723.0                         LAGO DEL CARESER   \n",
              "\n",
              "                                            geometry  \n",
              "0  POLYGON ((1652079.952 5111676.932, 1652079.586...  \n",
              "1  POLYGON ((1692832.012 5109957.392, 1692832.114...  \n",
              "2  POLYGON ((1630312.511 5142839.286, 1630311.588...  "
            ]
          },
          "execution_count": 193,
          "metadata": {},
          "output_type": "execute_result"
        }
      ],
      "source": [
        "lakes_bodies_water.head(3)"
      ]
    },
    {
      "cell_type": "code",
      "execution_count": 194,
      "metadata": {
        "colab": {
          "base_uri": "https://localhost:8080/"
        },
        "id": "aNWVouzySCtY",
        "outputId": "bd9142a7-1e9c-42c2-cbd2-d4f27bfe722b"
      },
      "outputs": [
        {
          "data": {
            "text/plain": [
              "Index(['OBJECTID', 'NOMESPACQ', 'geometry'], dtype='object')"
            ]
          },
          "execution_count": 194,
          "metadata": {},
          "output_type": "execute_result"
        }
      ],
      "source": [
        "lakes_bodies_water.columns"
      ]
    },
    {
      "cell_type": "markdown",
      "metadata": {
        "id": "4GlpGMitSH3f"
      },
      "source": [
        "convert in WGS84 and create a geojson"
      ]
    },
    {
      "cell_type": "code",
      "execution_count": 197,
      "metadata": {
        "id": "ObR6w1LxT_Wp"
      },
      "outputs": [
        {
          "ename": "ValueError",
          "evalue": "Cannot transform naive geometries.  Please set a crs on the object first.",
          "output_type": "error",
          "traceback": [
            "\u001b[0;31m---------------------------------------------------------------------------\u001b[0m",
            "\u001b[0;31mValueError\u001b[0m                                Traceback (most recent call last)",
            "Cell \u001b[0;32mIn[197], line 1\u001b[0m\n\u001b[0;32m----> 1\u001b[0m \u001b[43mlakes_bodies_water\u001b[49m\u001b[38;5;241;43m.\u001b[39;49m\u001b[43mto_crs\u001b[49m\u001b[43m(\u001b[49m\u001b[43mepsg\u001b[49m\u001b[38;5;241;43m=\u001b[39;49m\u001b[38;5;241;43m4326\u001b[39;49m\u001b[43m)\u001b[49m\u001b[38;5;241m.\u001b[39mto_file(\u001b[38;5;124m\"\u001b[39m\u001b[38;5;124mlakes_bodies_water_trentino.geojson\u001b[39m\u001b[38;5;124m\"\u001b[39m,driver\u001b[38;5;241m=\u001b[39m\u001b[38;5;124m'\u001b[39m\u001b[38;5;124mGeoJSON\u001b[39m\u001b[38;5;124m'\u001b[39m)\n",
            "File \u001b[0;32m~/.local/lib/python3.13/site-packages/geopandas/geodataframe.py:1861\u001b[0m, in \u001b[0;36mGeoDataFrame.to_crs\u001b[0;34m(self, crs, epsg, inplace)\u001b[0m\n\u001b[1;32m   1859\u001b[0m \u001b[38;5;28;01melse\u001b[39;00m:\n\u001b[1;32m   1860\u001b[0m     df \u001b[38;5;241m=\u001b[39m \u001b[38;5;28mself\u001b[39m\u001b[38;5;241m.\u001b[39mcopy()\n\u001b[0;32m-> 1861\u001b[0m geom \u001b[38;5;241m=\u001b[39m \u001b[43mdf\u001b[49m\u001b[38;5;241;43m.\u001b[39;49m\u001b[43mgeometry\u001b[49m\u001b[38;5;241;43m.\u001b[39;49m\u001b[43mto_crs\u001b[49m\u001b[43m(\u001b[49m\u001b[43mcrs\u001b[49m\u001b[38;5;241;43m=\u001b[39;49m\u001b[43mcrs\u001b[49m\u001b[43m,\u001b[49m\u001b[43m \u001b[49m\u001b[43mepsg\u001b[49m\u001b[38;5;241;43m=\u001b[39;49m\u001b[43mepsg\u001b[49m\u001b[43m)\u001b[49m\n\u001b[1;32m   1862\u001b[0m df\u001b[38;5;241m.\u001b[39mgeometry \u001b[38;5;241m=\u001b[39m geom\n\u001b[1;32m   1863\u001b[0m \u001b[38;5;28;01mif\u001b[39;00m \u001b[38;5;129;01mnot\u001b[39;00m inplace:\n",
            "File \u001b[0;32m~/.local/lib/python3.13/site-packages/geopandas/geoseries.py:1271\u001b[0m, in \u001b[0;36mGeoSeries.to_crs\u001b[0;34m(self, crs, epsg)\u001b[0m\n\u001b[1;32m   1194\u001b[0m \u001b[38;5;28;01mdef\u001b[39;00m \u001b[38;5;21mto_crs\u001b[39m(\u001b[38;5;28mself\u001b[39m, crs: Any \u001b[38;5;241m|\u001b[39m \u001b[38;5;28;01mNone\u001b[39;00m \u001b[38;5;241m=\u001b[39m \u001b[38;5;28;01mNone\u001b[39;00m, epsg: \u001b[38;5;28mint\u001b[39m \u001b[38;5;241m|\u001b[39m \u001b[38;5;28;01mNone\u001b[39;00m \u001b[38;5;241m=\u001b[39m \u001b[38;5;28;01mNone\u001b[39;00m) \u001b[38;5;241m-\u001b[39m\u001b[38;5;241m>\u001b[39m GeoSeries:\n\u001b[1;32m   1195\u001b[0m \u001b[38;5;250m    \u001b[39m\u001b[38;5;124;03m\"\"\"Returns a ``GeoSeries`` with all geometries transformed to a new\u001b[39;00m\n\u001b[1;32m   1196\u001b[0m \u001b[38;5;124;03m    coordinate reference system.\u001b[39;00m\n\u001b[1;32m   1197\u001b[0m \n\u001b[0;32m   (...)\u001b[0m\n\u001b[1;32m   1268\u001b[0m \n\u001b[1;32m   1269\u001b[0m \u001b[38;5;124;03m    \"\"\"\u001b[39;00m\n\u001b[1;32m   1270\u001b[0m     \u001b[38;5;28;01mreturn\u001b[39;00m GeoSeries(\n\u001b[0;32m-> 1271\u001b[0m         \u001b[38;5;28;43mself\u001b[39;49m\u001b[38;5;241;43m.\u001b[39;49m\u001b[43mvalues\u001b[49m\u001b[38;5;241;43m.\u001b[39;49m\u001b[43mto_crs\u001b[49m\u001b[43m(\u001b[49m\u001b[43mcrs\u001b[49m\u001b[38;5;241;43m=\u001b[39;49m\u001b[43mcrs\u001b[49m\u001b[43m,\u001b[49m\u001b[43m \u001b[49m\u001b[43mepsg\u001b[49m\u001b[38;5;241;43m=\u001b[39;49m\u001b[43mepsg\u001b[49m\u001b[43m)\u001b[49m, index\u001b[38;5;241m=\u001b[39m\u001b[38;5;28mself\u001b[39m\u001b[38;5;241m.\u001b[39mindex, name\u001b[38;5;241m=\u001b[39m\u001b[38;5;28mself\u001b[39m\u001b[38;5;241m.\u001b[39mname\n\u001b[1;32m   1272\u001b[0m     )\n",
            "File \u001b[0;32m~/.local/lib/python3.13/site-packages/geopandas/_compat.py:84\u001b[0m, in \u001b[0;36mrequires_pyproj.<locals>.wrapper\u001b[0;34m(*args, **kwargs)\u001b[0m\n\u001b[1;32m     78\u001b[0m \u001b[38;5;28;01mif\u001b[39;00m \u001b[38;5;129;01mnot\u001b[39;00m HAS_PYPROJ:\n\u001b[1;32m     79\u001b[0m     \u001b[38;5;28;01mraise\u001b[39;00m \u001b[38;5;167;01mImportError\u001b[39;00m(\n\u001b[1;32m     80\u001b[0m         \u001b[38;5;124mf\u001b[39m\u001b[38;5;124m\"\u001b[39m\u001b[38;5;124mThe \u001b[39m\u001b[38;5;124m'\u001b[39m\u001b[38;5;124mpyproj\u001b[39m\u001b[38;5;124m'\u001b[39m\u001b[38;5;124m package is required for \u001b[39m\u001b[38;5;132;01m{\u001b[39;00mfunc\u001b[38;5;241m.\u001b[39m\u001b[38;5;18m__name__\u001b[39m\u001b[38;5;132;01m}\u001b[39;00m\u001b[38;5;124m to work. \u001b[39m\u001b[38;5;124m\"\u001b[39m\n\u001b[1;32m     81\u001b[0m         \u001b[38;5;124m\"\u001b[39m\u001b[38;5;124mInstall it and initialize the object with a CRS before using it.\u001b[39m\u001b[38;5;124m\"\u001b[39m\n\u001b[1;32m     82\u001b[0m         \u001b[38;5;124mf\u001b[39m\u001b[38;5;124m\"\u001b[39m\u001b[38;5;130;01m\\n\u001b[39;00m\u001b[38;5;124mImporting pyproj resulted in: \u001b[39m\u001b[38;5;132;01m{\u001b[39;00mpyproj_import_error\u001b[38;5;132;01m}\u001b[39;00m\u001b[38;5;124m\"\u001b[39m\n\u001b[1;32m     83\u001b[0m     )\n\u001b[0;32m---> 84\u001b[0m \u001b[38;5;28;01mreturn\u001b[39;00m \u001b[43mfunc\u001b[49m\u001b[43m(\u001b[49m\u001b[38;5;241;43m*\u001b[39;49m\u001b[43margs\u001b[49m\u001b[43m,\u001b[49m\u001b[43m \u001b[49m\u001b[38;5;241;43m*\u001b[39;49m\u001b[38;5;241;43m*\u001b[39;49m\u001b[43mkwargs\u001b[49m\u001b[43m)\u001b[49m\n",
            "File \u001b[0;32m~/.local/lib/python3.13/site-packages/geopandas/array.py:1094\u001b[0m, in \u001b[0;36mGeometryArray.to_crs\u001b[0;34m(self, crs, epsg)\u001b[0m\n\u001b[1;32m   1091\u001b[0m \u001b[38;5;28;01mfrom\u001b[39;00m \u001b[38;5;21;01mpyproj\u001b[39;00m \u001b[38;5;28;01mimport\u001b[39;00m CRS\n\u001b[1;32m   1093\u001b[0m \u001b[38;5;28;01mif\u001b[39;00m \u001b[38;5;28mself\u001b[39m\u001b[38;5;241m.\u001b[39mcrs \u001b[38;5;129;01mis\u001b[39;00m \u001b[38;5;28;01mNone\u001b[39;00m:\n\u001b[0;32m-> 1094\u001b[0m     \u001b[38;5;28;01mraise\u001b[39;00m \u001b[38;5;167;01mValueError\u001b[39;00m(\n\u001b[1;32m   1095\u001b[0m         \u001b[38;5;124m\"\u001b[39m\u001b[38;5;124mCannot transform naive geometries.  \u001b[39m\u001b[38;5;124m\"\u001b[39m\n\u001b[1;32m   1096\u001b[0m         \u001b[38;5;124m\"\u001b[39m\u001b[38;5;124mPlease set a crs on the object first.\u001b[39m\u001b[38;5;124m\"\u001b[39m\n\u001b[1;32m   1097\u001b[0m     )\n\u001b[1;32m   1098\u001b[0m \u001b[38;5;28;01mif\u001b[39;00m crs \u001b[38;5;129;01mis\u001b[39;00m \u001b[38;5;129;01mnot\u001b[39;00m \u001b[38;5;28;01mNone\u001b[39;00m:\n\u001b[1;32m   1099\u001b[0m     crs \u001b[38;5;241m=\u001b[39m CRS\u001b[38;5;241m.\u001b[39mfrom_user_input(crs)\n",
            "\u001b[0;31mValueError\u001b[0m: Cannot transform naive geometries.  Please set a crs on the object first."
          ]
        }
      ],
      "source": [
        "lakes_bodies_water.to_crs(epsg=4326).to_file(\"lakes_bodies_water_trentino.geojson\",driver='GeoJSON')"
      ]
    },
    {
      "cell_type": "markdown",
      "metadata": {},
      "source": [
        "```\n",
        "ValueError: Cannot transform naive geometries.  Please set a crs on the object first.\n",
        "```\n"
      ]
    },
    {
      "cell_type": "markdown",
      "metadata": {},
      "source": [
        "investigation\n",
        "- download the file\n",
        "- read the content"
      ]
    },
    {
      "cell_type": "code",
      "execution_count": 198,
      "metadata": {},
      "outputs": [],
      "source": [
        "os.makedirs(\"lakes_bodies_of_water\", exist_ok=True)\n",
        "os.chdir(\"lakes_bodies_of_water\")"
      ]
    },
    {
      "cell_type": "code",
      "execution_count": 199,
      "metadata": {
        "colab": {
          "base_uri": "https://localhost:8080/"
        },
        "id": "QNYvC8IJSquN",
        "outputId": "8c22c756-3068-4699-de76-ca19aa63501e"
      },
      "outputs": [
        {
          "data": {
            "text/plain": [
              "('lakes_bodies_water_trentino.zip',\n",
              " <http.client.HTTPMessage at 0x758de40ee670>)"
            ]
          },
          "execution_count": 199,
          "metadata": {},
          "output_type": "execute_result"
        }
      ],
      "source": [
        "urllib.request.urlretrieve(dataurl ,\"lakes_bodies_water_trentino.zip\")\n"
      ]
    },
    {
      "cell_type": "code",
      "execution_count": 200,
      "metadata": {
        "id": "xrRNFV2USwUb"
      },
      "outputs": [],
      "source": [
        "import zipfile\n",
        "z = zipfile.ZipFile('lakes_bodies_water_trentino.zip')\n",
        "z.extractall()"
      ]
    },
    {
      "cell_type": "code",
      "execution_count": 209,
      "metadata": {
        "colab": {
          "base_uri": "https://localhost:8080/"
        },
        "id": "CiYcgvQhFzFj",
        "outputId": "117dcae7-18f4-42ff-cf41-66b8c1253263"
      },
      "outputs": [
        {
          "data": {
            "text/plain": [
              "['lakes_bodies_of_water_trentino.shx',\n",
              " 'lakes_bodies_of_water_trentino.shp',\n",
              " 'lakes_bodies_water_trentino.zip',\n",
              " '3003.prj',\n",
              " 'lakes_bodies_water_trentino.prj',\n",
              " 'lakes_bodies_of_water_trentino.dbf']"
            ]
          },
          "execution_count": 209,
          "metadata": {},
          "output_type": "execute_result"
        }
      ],
      "source": [
        "os.listdir()"
      ]
    },
    {
      "cell_type": "markdown",
      "metadata": {
        "id": "BKqPewWDTtX7"
      },
      "source": [
        "| filenname | description  | note |\n",
        "|---|---|---|\n",
        "| lakes_bodies_of_water_trentino.shp | the file with the shapes (geometries) | ok |\n",
        "|  lakes_bodies_of_water_trentino.dbf | the file with the attributes  | the name is the same of the .shp |\n",
        "| lakes_bodies_of_water_trentino.zip  | the zip archive | it's present because downloaded |\n",
        "| lakes_bodies_of_water_trentino.shx  | the file to associate the attributes to the geometries | the name is the the of the .shp |"
      ]
    },
    {
      "cell_type": "markdown",
      "metadata": {
        "id": "pZIsjO6jXuKf"
      },
      "source": [
        "MISS THE .prj file!!!"
      ]
    },
    {
      "cell_type": "markdown",
      "metadata": {
        "id": "6tniYjPVZ5xD"
      },
      "source": [
        "ERROR:\n",
        "*Cannot transform naive geometries.  Please set a crs on the object first.*\n",
        "\n",
        "The geodataframe is without the CRS\n",
        "\n",
        "If you check again all the files contained in the zip archive *the .prj file is not present!!!*\n",
        "\n",
        "You need to create it!\n",
        "\n",
        "The note says \"*Monte Mario Zone 1*\"\n",
        "\n",
        "This is enough to search the right epsg code on https://epsg.io with the query [\"Monte Marzio Zone 1\"](https://epsg.io/?q=Monte+Mario+Zone+1)\n",
        "\n",
        "\n",
        "where the EPSG code is 3003\n",
        "\n",
        "\n",
        "the solution can be possible in two ways:\n",
        "\n",
        "1 - assign the CRS to the geodataframe\n"
      ]
    },
    {
      "cell_type": "code",
      "execution_count": 202,
      "metadata": {
        "colab": {
          "base_uri": "https://localhost:8080/",
          "height": 147
        },
        "id": "eLyHanMcZxfZ",
        "outputId": "bfb907d7-c997-4923-f59c-55ad049bb056"
      },
      "outputs": [
        {
          "data": {
            "text/html": [
              "<div>\n",
              "<style scoped>\n",
              "    .dataframe tbody tr th:only-of-type {\n",
              "        vertical-align: middle;\n",
              "    }\n",
              "\n",
              "    .dataframe tbody tr th {\n",
              "        vertical-align: top;\n",
              "    }\n",
              "\n",
              "    .dataframe thead th {\n",
              "        text-align: right;\n",
              "    }\n",
              "</style>\n",
              "<table border=\"1\" class=\"dataframe\">\n",
              "  <thead>\n",
              "    <tr style=\"text-align: right;\">\n",
              "      <th></th>\n",
              "      <th>OBJECTID</th>\n",
              "      <th>NOMESPACQ</th>\n",
              "      <th>geometry</th>\n",
              "    </tr>\n",
              "  </thead>\n",
              "  <tbody>\n",
              "    <tr>\n",
              "      <th>0</th>\n",
              "      <td>29690.0</td>\n",
              "      <td>LAGO DI MOLVENO</td>\n",
              "      <td>POLYGON ((1652079.952 5111676.932, 1652079.586...</td>\n",
              "    </tr>\n",
              "    <tr>\n",
              "      <th>1</th>\n",
              "      <td>29743.0</td>\n",
              "      <td>LAGO BACINO S.I.T. - BACINO DI PONTARSO</td>\n",
              "      <td>POLYGON ((1692832.012 5109957.392, 1692832.114...</td>\n",
              "    </tr>\n",
              "    <tr>\n",
              "      <th>2</th>\n",
              "      <td>29723.0</td>\n",
              "      <td>LAGO DEL CARESER</td>\n",
              "      <td>POLYGON ((1630312.511 5142839.286, 1630311.588...</td>\n",
              "    </tr>\n",
              "    <tr>\n",
              "      <th>3</th>\n",
              "      <td>29758.0</td>\n",
              "      <td>LAGO DI PONTE PIA'</td>\n",
              "      <td>POLYGON ((1639625.165 5101837.438, 1639625.647...</td>\n",
              "    </tr>\n",
              "    <tr>\n",
              "      <th>4</th>\n",
              "      <td>29861.0</td>\n",
              "      <td>LAGO DI COSTABRUNELLA</td>\n",
              "      <td>POLYGON ((1699507.942 5112142.756, 1699508.257...</td>\n",
              "    </tr>\n",
              "    <tr>\n",
              "      <th>...</th>\n",
              "      <td>...</td>\n",
              "      <td>...</td>\n",
              "      <td>...</td>\n",
              "    </tr>\n",
              "    <tr>\n",
              "      <th>428</th>\n",
              "      <td>30056.0</td>\n",
              "      <td>LAGHETTO FORCELLA MAGNA</td>\n",
              "      <td>POLYGON ((1699068.452 5115580.032, 1699068.266...</td>\n",
              "    </tr>\n",
              "    <tr>\n",
              "      <th>429</th>\n",
              "      <td>29704.0</td>\n",
              "      <td>LAGHETTO CIMA LAVAZZE' INFERIORE</td>\n",
              "      <td>POLYGON ((1652459.004 5150317.11, 1652460.591 ...</td>\n",
              "    </tr>\n",
              "    <tr>\n",
              "      <th>430</th>\n",
              "      <td>29863.0</td>\n",
              "      <td>LAGO SPINALE</td>\n",
              "      <td>POLYGON ((1643923.976 5120272.352, 1643924.527...</td>\n",
              "    </tr>\n",
              "    <tr>\n",
              "      <th>431</th>\n",
              "      <td>29886.0</td>\n",
              "      <td>LAGHETTO DI PASSO PORDOI</td>\n",
              "      <td>POLYGON ((1714962.889 5151848.857, 1714965.166...</td>\n",
              "    </tr>\n",
              "    <tr>\n",
              "      <th>432</th>\n",
              "      <td>29732.0</td>\n",
              "      <td>LAGO DI MANNA</td>\n",
              "      <td>POLYGON ((1720770.867 5127973.132, 1720771.284...</td>\n",
              "    </tr>\n",
              "  </tbody>\n",
              "</table>\n",
              "<p>433 rows × 3 columns</p>\n",
              "</div>"
            ],
            "text/plain": [
              "     OBJECTID                                NOMESPACQ  \\\n",
              "0     29690.0                          LAGO DI MOLVENO   \n",
              "1     29743.0  LAGO BACINO S.I.T. - BACINO DI PONTARSO   \n",
              "2     29723.0                         LAGO DEL CARESER   \n",
              "3     29758.0                       LAGO DI PONTE PIA'   \n",
              "4     29861.0                    LAGO DI COSTABRUNELLA   \n",
              "..        ...                                      ...   \n",
              "428   30056.0                  LAGHETTO FORCELLA MAGNA   \n",
              "429   29704.0         LAGHETTO CIMA LAVAZZE' INFERIORE   \n",
              "430   29863.0                             LAGO SPINALE   \n",
              "431   29886.0                 LAGHETTO DI PASSO PORDOI   \n",
              "432   29732.0                            LAGO DI MANNA   \n",
              "\n",
              "                                              geometry  \n",
              "0    POLYGON ((1652079.952 5111676.932, 1652079.586...  \n",
              "1    POLYGON ((1692832.012 5109957.392, 1692832.114...  \n",
              "2    POLYGON ((1630312.511 5142839.286, 1630311.588...  \n",
              "3    POLYGON ((1639625.165 5101837.438, 1639625.647...  \n",
              "4    POLYGON ((1699507.942 5112142.756, 1699508.257...  \n",
              "..                                                 ...  \n",
              "428  POLYGON ((1699068.452 5115580.032, 1699068.266...  \n",
              "429  POLYGON ((1652459.004 5150317.11, 1652460.591 ...  \n",
              "430  POLYGON ((1643923.976 5120272.352, 1643924.527...  \n",
              "431  POLYGON ((1714962.889 5151848.857, 1714965.166...  \n",
              "432  POLYGON ((1720770.867 5127973.132, 1720771.284...  \n",
              "\n",
              "[433 rows x 3 columns]"
            ]
          },
          "execution_count": 202,
          "metadata": {},
          "output_type": "execute_result"
        }
      ],
      "source": [
        "lakes_bodies_water.set_crs(epsg=3003,inplace=True,allow_override=True)"
      ]
    },
    {
      "cell_type": "code",
      "execution_count": 203,
      "metadata": {
        "colab": {
          "base_uri": "https://localhost:8080/",
          "height": 147
        },
        "id": "dfDrTAqpdaV3",
        "outputId": "c4285afe-6c3f-4123-8df6-e61c247129b6"
      },
      "outputs": [
        {
          "data": {
            "text/html": [
              "<div>\n",
              "<style scoped>\n",
              "    .dataframe tbody tr th:only-of-type {\n",
              "        vertical-align: middle;\n",
              "    }\n",
              "\n",
              "    .dataframe tbody tr th {\n",
              "        vertical-align: top;\n",
              "    }\n",
              "\n",
              "    .dataframe thead th {\n",
              "        text-align: right;\n",
              "    }\n",
              "</style>\n",
              "<table border=\"1\" class=\"dataframe\">\n",
              "  <thead>\n",
              "    <tr style=\"text-align: right;\">\n",
              "      <th></th>\n",
              "      <th>OBJECTID</th>\n",
              "      <th>NOMESPACQ</th>\n",
              "      <th>geometry</th>\n",
              "    </tr>\n",
              "  </thead>\n",
              "  <tbody>\n",
              "    <tr>\n",
              "      <th>0</th>\n",
              "      <td>29690.0</td>\n",
              "      <td>LAGO DI MOLVENO</td>\n",
              "      <td>POLYGON ((10.96868 46.14153, 10.96867 46.14152...</td>\n",
              "    </tr>\n",
              "    <tr>\n",
              "      <th>1</th>\n",
              "      <td>29743.0</td>\n",
              "      <td>LAGO BACINO S.I.T. - BACINO DI PONTARSO</td>\n",
              "      <td>POLYGON ((11.49516 46.11577, 11.49516 46.11576...</td>\n",
              "    </tr>\n",
              "    <tr>\n",
              "      <th>2</th>\n",
              "      <td>29723.0</td>\n",
              "      <td>LAGO DEL CARESER</td>\n",
              "      <td>POLYGON ((10.69561 46.42636, 10.6956 46.42636,...</td>\n",
              "    </tr>\n",
              "    <tr>\n",
              "      <th>3</th>\n",
              "      <td>29758.0</td>\n",
              "      <td>LAGO DI PONTE PIA'</td>\n",
              "      <td>POLYGON ((10.80462 46.05568, 10.80462 46.05568...</td>\n",
              "    </tr>\n",
              "    <tr>\n",
              "      <th>4</th>\n",
              "      <td>29861.0</td>\n",
              "      <td>LAGO DI COSTABRUNELLA</td>\n",
              "      <td>POLYGON ((11.58239 46.1335, 11.58239 46.1335, ...</td>\n",
              "    </tr>\n",
              "    <tr>\n",
              "      <th>...</th>\n",
              "      <td>...</td>\n",
              "      <td>...</td>\n",
              "      <td>...</td>\n",
              "    </tr>\n",
              "    <tr>\n",
              "      <th>428</th>\n",
              "      <td>30056.0</td>\n",
              "      <td>LAGHETTO FORCELLA MAGNA</td>\n",
              "      <td>POLYGON ((11.57815 46.16453, 11.57814 46.16453...</td>\n",
              "    </tr>\n",
              "    <tr>\n",
              "      <th>429</th>\n",
              "      <td>29704.0</td>\n",
              "      <td>LAGHETTO CIMA LAVAZZE' INFERIORE</td>\n",
              "      <td>POLYGON ((10.98612 46.48898, 10.98614 46.48897...</td>\n",
              "    </tr>\n",
              "    <tr>\n",
              "      <th>430</th>\n",
              "      <td>29863.0</td>\n",
              "      <td>LAGO SPINALE</td>\n",
              "      <td>POLYGON ((10.86575 46.22061, 10.86576 46.22061...</td>\n",
              "    </tr>\n",
              "    <tr>\n",
              "      <th>431</th>\n",
              "      <td>29886.0</td>\n",
              "      <td>LAGHETTO DI PASSO PORDOI</td>\n",
              "      <td>POLYGON ((11.80038 46.48572, 11.80041 46.48567...</td>\n",
              "    </tr>\n",
              "    <tr>\n",
              "      <th>432</th>\n",
              "      <td>29732.0</td>\n",
              "      <td>LAGO DI MANNA</td>\n",
              "      <td>POLYGON ((11.86471 46.26924, 11.86471 46.26924...</td>\n",
              "    </tr>\n",
              "  </tbody>\n",
              "</table>\n",
              "<p>433 rows × 3 columns</p>\n",
              "</div>"
            ],
            "text/plain": [
              "     OBJECTID                                NOMESPACQ  \\\n",
              "0     29690.0                          LAGO DI MOLVENO   \n",
              "1     29743.0  LAGO BACINO S.I.T. - BACINO DI PONTARSO   \n",
              "2     29723.0                         LAGO DEL CARESER   \n",
              "3     29758.0                       LAGO DI PONTE PIA'   \n",
              "4     29861.0                    LAGO DI COSTABRUNELLA   \n",
              "..        ...                                      ...   \n",
              "428   30056.0                  LAGHETTO FORCELLA MAGNA   \n",
              "429   29704.0         LAGHETTO CIMA LAVAZZE' INFERIORE   \n",
              "430   29863.0                             LAGO SPINALE   \n",
              "431   29886.0                 LAGHETTO DI PASSO PORDOI   \n",
              "432   29732.0                            LAGO DI MANNA   \n",
              "\n",
              "                                              geometry  \n",
              "0    POLYGON ((10.96868 46.14153, 10.96867 46.14152...  \n",
              "1    POLYGON ((11.49516 46.11577, 11.49516 46.11576...  \n",
              "2    POLYGON ((10.69561 46.42636, 10.6956 46.42636,...  \n",
              "3    POLYGON ((10.80462 46.05568, 10.80462 46.05568...  \n",
              "4    POLYGON ((11.58239 46.1335, 11.58239 46.1335, ...  \n",
              "..                                                 ...  \n",
              "428  POLYGON ((11.57815 46.16453, 11.57814 46.16453...  \n",
              "429  POLYGON ((10.98612 46.48898, 10.98614 46.48897...  \n",
              "430  POLYGON ((10.86575 46.22061, 10.86576 46.22061...  \n",
              "431  POLYGON ((11.80038 46.48572, 11.80041 46.48567...  \n",
              "432  POLYGON ((11.86471 46.26924, 11.86471 46.26924...  \n",
              "\n",
              "[433 rows x 3 columns]"
            ]
          },
          "execution_count": 203,
          "metadata": {},
          "output_type": "execute_result"
        }
      ],
      "source": [
        "lakes_bodies_water.to_crs(epsg=4326)"
      ]
    },
    {
      "cell_type": "markdown",
      "metadata": {
        "id": "kviLMJYrduPV"
      },
      "source": [
        "this approach solves the problem but keeps the error in the data source.<br/>\n",
        "Keeping this approach, it is advisable to apply the assignment of the CRS to the initial geodataframe and, if necessary, to export the geodatrafame in ESRi Shapefile (or other format)"
      ]
    },
    {
      "cell_type": "markdown",
      "metadata": {
        "id": "3lHiWvN8dinh"
      },
      "source": [
        "2 - create a file with the name *lakes_bodies_of_water_trentino_use.prj* that contains the right string in WKT for the proj conversion.\n",
        "\n",
        "You can obtain the right file by simple download the right string from epsg.io in this way\n",
        "\n",
        "https://epsg.io/3003.wkt\n",
        "\n",
        "simple by adding .wkt to the url\n",
        "\n",
        "this is the answer\n",
        "\n",
        "``` javascript\n",
        "PROJCS[\"Monte Mario / Italy zone 1\",\n",
        "    GEOGCS[\"Monte Mario\",\n",
        "        DATUM[\"Monte_Mario\",\n",
        "            SPHEROID[\"International 1924\",6378388,297],\n",
        "            TOWGS84[-104.1,-49.1,-9.9,0.971,-2.917,0.714,-11.68]],\n",
        "        PRIMEM[\"Greenwich\",0,\n",
        "            AUTHORITY[\"EPSG\",\"8901\"]],\n",
        "        UNIT[\"degree\",0.0174532925199433,\n",
        "            AUTHORITY[\"EPSG\",\"9122\"]],\n",
        "        AUTHORITY[\"EPSG\",\"4265\"]],\n",
        "    PROJECTION[\"Transverse_Mercator\"],\n",
        "    PARAMETER[\"latitude_of_origin\",0],\n",
        "    PARAMETER[\"central_meridian\",9],\n",
        "    PARAMETER[\"scale_factor\",0.9996],\n",
        "    PARAMETER[\"false_easting\",1500000],\n",
        "    PARAMETER[\"false_northing\",0],\n",
        "    UNIT[\"metre\",1,\n",
        "        AUTHORITY[\"EPSG\",\"9001\"]],\n",
        "    AXIS[\"Easting\",EAST],\n",
        "    AXIS[\"Northing\",NORTH],\n",
        "    AUTHORITY[\"EPSG\",\"3003\"]]\n",
        "```"
      ]
    },
    {
      "cell_type": "code",
      "execution_count": 204,
      "metadata": {
        "id": "y28Nd8wogAs0"
      },
      "outputs": [],
      "source": [
        "url = \"https://epsg.io/3003.wkt\"\n",
        "opener = urllib.request.URLopener()\n",
        "opener.addheader('User-Agent', 'Geospatial Course Unitn')\n",
        "filename, headers = opener.retrieve(url, '3003.prj')"
      ]
    },
    {
      "cell_type": "markdown",
      "metadata": {
        "id": "6eFifaCblvP0"
      },
      "source": [
        ".. it's better create a copy also for the original .shp file"
      ]
    },
    {
      "cell_type": "code",
      "execution_count": 210,
      "metadata": {
        "colab": {
          "base_uri": "https://localhost:8080/",
          "height": 35
        },
        "id": "ELLCXhIjlzUi",
        "outputId": "b2a6609f-fb76-4c57-89ef-1300f0afb57d"
      },
      "outputs": [
        {
          "data": {
            "text/plain": [
              "'lakes_bodies_of_water_trentino.prj'"
            ]
          },
          "execution_count": 210,
          "metadata": {},
          "output_type": "execute_result"
        }
      ],
      "source": [
        "from shutil import copyfile\n",
        "\n",
        "\n",
        "copyfile(\"3003.prj\",\"lakes_bodies_of_water_trentino.prj\")"
      ]
    },
    {
      "cell_type": "markdown",
      "metadata": {
        "id": "HK6d-eWdl9mo"
      },
      "source": [
        ".. and now it's necessary to recreate the geodataframe and repeat the operations"
      ]
    },
    {
      "cell_type": "code",
      "execution_count": 212,
      "metadata": {
        "id": "HJSJ8V7rmKAe"
      },
      "outputs": [],
      "source": [
        "lakes_bodies_water_trentino = gpd.read_file(\"lakes_bodies_of_water_trentino.shp\")"
      ]
    },
    {
      "cell_type": "code",
      "execution_count": 213,
      "metadata": {
        "colab": {
          "base_uri": "https://localhost:8080/"
        },
        "id": "N-KckKK6mU8x",
        "outputId": "4a170140-9eb3-4b3d-f062-af80dd037126"
      },
      "outputs": [
        {
          "data": {
            "text/plain": [
              "<Projected CRS: EPSG:3003>\n",
              "Name: Monte Mario / Italy zone 1\n",
              "Axis Info [cartesian]:\n",
              "- X[east]: Easting (metre)\n",
              "- Y[north]: Northing (metre)\n",
              "Area of Use:\n",
              "- name: Italy - onshore and offshore - west of 12°E.\n",
              "- bounds: (5.93, 36.53, 12.0, 47.04)\n",
              "Coordinate Operation:\n",
              "- name: Italy zone 1\n",
              "- method: Transverse Mercator\n",
              "Datum: Monte Mario\n",
              "- Ellipsoid: International 1924\n",
              "- Prime Meridian: Greenwich"
            ]
          },
          "execution_count": 213,
          "metadata": {},
          "output_type": "execute_result"
        }
      ],
      "source": [
        "lakes_bodies_water_trentino.crs"
      ]
    },
    {
      "cell_type": "markdown",
      "metadata": {
        "id": "KZeS_7HsmZ9b"
      },
      "source": [
        "Now it's ok ;)"
      ]
    },
    {
      "cell_type": "markdown",
      "metadata": {
        "id": "KbImvB-gmsAn"
      },
      "source": [
        "... and create the geojson file in wgs84"
      ]
    },
    {
      "cell_type": "code",
      "execution_count": 214,
      "metadata": {
        "id": "YCWTzbfBmf9Y"
      },
      "outputs": [],
      "source": [
        "lakes_bodies_water_trentino.to_crs(epsg=4326).to_file(\"lakes_bodies_water_trentino.kml\",driver=\"KML\")"
      ]
    }
  ],
  "metadata": {
    "colab": {
      "collapsed_sections": [
        "9T1Sft2nHpK8"
      ],
      "provenance": []
    },
    "kernelspec": {
      "display_name": "Python 3",
      "language": "python",
      "name": "python3"
    },
    "language_info": {
      "codemirror_mode": {
        "name": "ipython",
        "version": 3
      },
      "file_extension": ".py",
      "mimetype": "text/x-python",
      "name": "python",
      "nbconvert_exporter": "python",
      "pygments_lexer": "ipython3",
      "version": "3.13.7"
    }
  },
  "nbformat": 4,
  "nbformat_minor": 0
}
